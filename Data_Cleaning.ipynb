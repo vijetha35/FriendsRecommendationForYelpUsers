{
 "cells": [
  {
   "cell_type": "code",
   "execution_count": 1,
   "metadata": {},
   "outputs": [],
   "source": [
    "import pandas as pd\n",
    "import numpy as np\n",
    "from sklearn.cluster import KMeans\n",
    "import matplotlib.pyplot as plt\n",
    "import seaborn as sns\n"
   ]
  },
  {
   "cell_type": "code",
   "execution_count": 3,
   "metadata": {},
   "outputs": [],
   "source": [
    "dataframe = pd.read_csv(\"arizona_all_details_users_49k_open_businesses.csv\")"
   ]
  },
  {
   "cell_type": "code",
   "execution_count": 1,
   "metadata": {},
   "outputs": [
    {
     "ename": "ImportError",
     "evalue": "No module named py4j.protocol",
     "output_type": "error",
     "traceback": [
      "\u001b[0;31m---------------------------------------------------------------------------\u001b[0m",
      "\u001b[0;31mImportError\u001b[0m                               Traceback (most recent call last)",
      "\u001b[0;32m<ipython-input-1-ca88d3b5a007>\u001b[0m in \u001b[0;36m<module>\u001b[0;34m()\u001b[0m\n\u001b[0;32m----> 1\u001b[0;31m \u001b[0;32mfrom\u001b[0m \u001b[0mpyspark\u001b[0m\u001b[0;34m.\u001b[0m\u001b[0msql\u001b[0m \u001b[0;32mimport\u001b[0m \u001b[0mSparkSession\u001b[0m\u001b[0;34m\u001b[0m\u001b[0m\n\u001b[0m\u001b[1;32m      2\u001b[0m \u001b[0msparksession\u001b[0m \u001b[0;34m=\u001b[0m \u001b[0mSparkSession\u001b[0m\u001b[0;34m.\u001b[0m\u001b[0mbuilder\u001b[0m\u001b[0;34m.\u001b[0m\u001b[0mmaster\u001b[0m\u001b[0;34m(\u001b[0m\u001b[0;34m\"local[*]\"\u001b[0m\u001b[0;34m)\u001b[0m\u001b[0;34m.\u001b[0m\u001b[0mappName\u001b[0m\u001b[0;34m(\u001b[0m\u001b[0;34m\"100 users\"\u001b[0m\u001b[0;34m)\u001b[0m\u001b[0;34m.\u001b[0m\u001b[0mgetOrCreate\u001b[0m\u001b[0;34m(\u001b[0m\u001b[0;34m)\u001b[0m\u001b[0;34m\u001b[0m\u001b[0m\n\u001b[1;32m      3\u001b[0m \u001b[0msc\u001b[0m \u001b[0;34m=\u001b[0m \u001b[0msparksession\u001b[0m\u001b[0;34m.\u001b[0m\u001b[0msparkContext\u001b[0m\u001b[0;34m\u001b[0m\u001b[0m\n",
      "\u001b[0;32m/Users/vijethapv/spark-2.3.1-bin-hadoop2.7/python/pyspark/__init__.py\u001b[0m in \u001b[0;36m<module>\u001b[0;34m()\u001b[0m\n\u001b[1;32m     44\u001b[0m \u001b[0;34m\u001b[0m\u001b[0m\n\u001b[1;32m     45\u001b[0m \u001b[0;32mfrom\u001b[0m \u001b[0mpyspark\u001b[0m\u001b[0;34m.\u001b[0m\u001b[0mconf\u001b[0m \u001b[0;32mimport\u001b[0m \u001b[0mSparkConf\u001b[0m\u001b[0;34m\u001b[0m\u001b[0m\n\u001b[0;32m---> 46\u001b[0;31m \u001b[0;32mfrom\u001b[0m \u001b[0mpyspark\u001b[0m\u001b[0;34m.\u001b[0m\u001b[0mcontext\u001b[0m \u001b[0;32mimport\u001b[0m \u001b[0mSparkContext\u001b[0m\u001b[0;34m\u001b[0m\u001b[0m\n\u001b[0m\u001b[1;32m     47\u001b[0m \u001b[0;32mfrom\u001b[0m \u001b[0mpyspark\u001b[0m\u001b[0;34m.\u001b[0m\u001b[0mrdd\u001b[0m \u001b[0;32mimport\u001b[0m \u001b[0mRDD\u001b[0m\u001b[0;34m\u001b[0m\u001b[0m\n\u001b[1;32m     48\u001b[0m \u001b[0;32mfrom\u001b[0m \u001b[0mpyspark\u001b[0m\u001b[0;34m.\u001b[0m\u001b[0mfiles\u001b[0m \u001b[0;32mimport\u001b[0m \u001b[0mSparkFiles\u001b[0m\u001b[0;34m\u001b[0m\u001b[0m\n",
      "\u001b[0;32m/Users/vijethapv/spark-2.3.1-bin-hadoop2.7/python/pyspark/context.py\u001b[0m in \u001b[0;36m<module>\u001b[0;34m()\u001b[0m\n\u001b[1;32m     27\u001b[0m \u001b[0;32mfrom\u001b[0m \u001b[0mtempfile\u001b[0m \u001b[0;32mimport\u001b[0m \u001b[0mNamedTemporaryFile\u001b[0m\u001b[0;34m\u001b[0m\u001b[0m\n\u001b[1;32m     28\u001b[0m \u001b[0;34m\u001b[0m\u001b[0m\n\u001b[0;32m---> 29\u001b[0;31m \u001b[0;32mfrom\u001b[0m \u001b[0mpy4j\u001b[0m\u001b[0;34m.\u001b[0m\u001b[0mprotocol\u001b[0m \u001b[0;32mimport\u001b[0m \u001b[0mPy4JError\u001b[0m\u001b[0;34m\u001b[0m\u001b[0m\n\u001b[0m\u001b[1;32m     30\u001b[0m \u001b[0;34m\u001b[0m\u001b[0m\n\u001b[1;32m     31\u001b[0m \u001b[0;32mfrom\u001b[0m \u001b[0mpyspark\u001b[0m \u001b[0;32mimport\u001b[0m \u001b[0maccumulators\u001b[0m\u001b[0;34m\u001b[0m\u001b[0m\n",
      "\u001b[0;31mImportError\u001b[0m: No module named py4j.protocol"
     ]
    }
   ],
   "source": [
    "from pyspark.sql import SparkSession\n",
    "sparksession = SparkSession.builder.master(\"local[*]\").appName(\"100 users\").getOrCreate()\n",
    "sc = sparksession.sparkContext"
   ]
  },
  {
   "cell_type": "code",
   "execution_count": 15,
   "metadata": {},
   "outputs": [
    {
     "data": {
      "text/plain": [
       "Index(['Unnamed: 0', 'user_id', 'business_reviewed_count', 'average_stars',\n",
       "       'compliment_cool', 'compliment_cute', 'compliment_funny',\n",
       "       'compliment_hot', 'compliment_list', 'compliment_more',\n",
       "       'compliment_note', 'compliment_photos', 'compliment_plain',\n",
       "       'compliment_profile', 'compliment_writer', 'cool', 'elite', 'fans',\n",
       "       'funny', 'name', 'review_count', 'useful', 'yelping_since',\n",
       "       'business_id', 'categories', 'city', 'latitude', 'longitude',\n",
       "       'business_name', 'postal_code', 'business_review_count',\n",
       "       'business_stars', 'reviews_cool', 'date', 'reviews_funny', 'review_id',\n",
       "       'reviews_star', 'reviews_useful'],\n",
       "      dtype='object')"
      ]
     },
     "execution_count": 15,
     "metadata": {},
     "output_type": "execute_result"
    }
   ],
   "source": [
    "dataframe.columns"
   ]
  },
  {
   "cell_type": "code",
   "execution_count": 6,
   "metadata": {
    "collapsed": true
   },
   "outputs": [],
   "source": [
    "unique_businesses = dataframe.business_id.unique()"
   ]
  },
  {
   "cell_type": "code",
   "execution_count": 26,
   "metadata": {},
   "outputs": [
    {
     "ename": "TypeError",
     "evalue": "'numpy.int64' object is not callable",
     "output_type": "error",
     "traceback": [
      "\u001b[0;31m---------------------------------------------------------------------------\u001b[0m",
      "\u001b[0;31mTypeError\u001b[0m                                 Traceback (most recent call last)",
      "\u001b[0;32m<ipython-input-26-0fa3524585b3>\u001b[0m in \u001b[0;36m<module>\u001b[0;34m()\u001b[0m\n\u001b[0;32m----> 1\u001b[0;31m \u001b[0muserdataframe\u001b[0m \u001b[0;34m=\u001b[0m \u001b[0mdataframe\u001b[0m\u001b[0;34m[\u001b[0m\u001b[0;34m[\u001b[0m\u001b[0;34m'user_id'\u001b[0m\u001b[0;34m,\u001b[0m\u001b[0;34m'business_reviewed_count'\u001b[0m\u001b[0;34m,\u001b[0m \u001b[0;34m'average_stars'\u001b[0m\u001b[0;34m,\u001b[0m \u001b[0;34m'compliment_cool'\u001b[0m \u001b[0;34m,\u001b[0m\u001b[0;34m'compliment_cute'\u001b[0m \u001b[0;34m,\u001b[0m \u001b[0;34m'compliment_funny'\u001b[0m\u001b[0;34m,\u001b[0m \u001b[0;34m'compliment_hot'\u001b[0m\u001b[0;34m,\u001b[0m \u001b[0;34m'compliment_list'\u001b[0m\u001b[0;34m,\u001b[0m\u001b[0;34m'compliment_more'\u001b[0m\u001b[0;34m,\u001b[0m\u001b[0;34m'compliment_note'\u001b[0m\u001b[0;34m,\u001b[0m\u001b[0;34m'compliment_photos'\u001b[0m\u001b[0;34m,\u001b[0m\u001b[0;34m'compliment_plain'\u001b[0m\u001b[0;34m,\u001b[0m\u001b[0;34m'compliment_profile'\u001b[0m\u001b[0;34m,\u001b[0m\u001b[0;34m'compliment_writer'\u001b[0m\u001b[0;34m]\u001b[0m\u001b[0;34m]\u001b[0m\u001b[0;34m.\u001b[0m\u001b[0msize\u001b[0m\u001b[0;34m(\u001b[0m\u001b[0;34m)\u001b[0m\u001b[0;34m.\u001b[0m\u001b[0mreset_index\u001b[0m\u001b[0;34m(\u001b[0m\u001b[0;34m)\u001b[0m\u001b[0;34m.\u001b[0m\u001b[0mrename\u001b[0m\u001b[0;34m(\u001b[0m\u001b[0mcolumns\u001b[0m\u001b[0;34m=\u001b[0m\u001b[0;34m{\u001b[0m\u001b[0;36m0\u001b[0m\u001b[0;34m:\u001b[0m\u001b[0;34m'count'\u001b[0m\u001b[0;34m}\u001b[0m\u001b[0;34m)\u001b[0m\u001b[0;34m\u001b[0m\u001b[0m\n\u001b[0m",
      "\u001b[0;31mTypeError\u001b[0m: 'numpy.int64' object is not callable"
     ]
    }
   ],
   "source": [
    "userdataframe = dataframe[['user_id','business_reviewed_count', 'average_stars', 'compliment_cool' ,'compliment_cute' , 'compliment_funny', 'compliment_hot', 'compliment_list','compliment_more','compliment_note','compliment_photos','compliment_plain','compliment_profile','compliment_writer']].size().reset_index().rename(columns={0:'count'})"
   ]
  },
  {
   "cell_type": "code",
   "execution_count": 9,
   "metadata": {},
   "outputs": [
    {
     "ename": "TypeError",
     "evalue": "'numpy.ndarray' object is not callable",
     "output_type": "error",
     "traceback": [
      "\u001b[0;31m---------------------------------------------------------------------------\u001b[0m",
      "\u001b[0;31mTypeError\u001b[0m                                 Traceback (most recent call last)",
      "\u001b[0;32m<ipython-input-9-286eddb8367a>\u001b[0m in \u001b[0;36m<module>\u001b[0;34m()\u001b[0m\n\u001b[0;32m----> 1\u001b[0;31m \u001b[0mpd\u001b[0m\u001b[0;34m.\u001b[0m\u001b[0munique\u001b[0m\u001b[0;34m(\u001b[0m\u001b[0mdataframe\u001b[0m\u001b[0;34m[\u001b[0m\u001b[0;34m[\u001b[0m\u001b[0;34m'business_id'\u001b[0m\u001b[0;34m,\u001b[0m\u001b[0;34m'categories'\u001b[0m\u001b[0;34m,\u001b[0m \u001b[0;34m'city'\u001b[0m\u001b[0;34m,\u001b[0m \u001b[0;34m'latitude'\u001b[0m \u001b[0;34m,\u001b[0m\u001b[0;34m'longitude'\u001b[0m \u001b[0;34m,\u001b[0m \u001b[0;34m'business_name'\u001b[0m\u001b[0;34m,\u001b[0m \u001b[0;34m'postal_code'\u001b[0m\u001b[0;34m,\u001b[0m \u001b[0;34m'business_review_count'\u001b[0m\u001b[0;34m,\u001b[0m\u001b[0;34m'business_stars'\u001b[0m\u001b[0;34m]\u001b[0m\u001b[0;34m]\u001b[0m\u001b[0;34m.\u001b[0m\u001b[0mvalues\u001b[0m\u001b[0;34m(\u001b[0m\u001b[0;34m)\u001b[0m\u001b[0;34m.\u001b[0m\u001b[0mreval\u001b[0m\u001b[0;34m(\u001b[0m\u001b[0;34m)\u001b[0m\u001b[0;34m)\u001b[0m\u001b[0;34m\u001b[0m\u001b[0m\n\u001b[0m",
      "\u001b[0;31mTypeError\u001b[0m: 'numpy.ndarray' object is not callable"
     ]
    }
   ],
   "source": [
    "pd.unique(dataframe[['business_id','categories', 'city', 'latitude' ,'longitude' , 'business_name', 'postal_code', 'business_review_count','business_stars']].values().reval())"
   ]
  },
  {
   "cell_type": "code",
   "execution_count": 17,
   "metadata": {
    "collapsed": true
   },
   "outputs": [],
   "source": [
    "business_in_arizona_df =dataframe.groupby(['business_id','categories', 'city', 'latitude' ,'longitude' , 'business_name', 'postal_code', 'business_review_count','business_stars']).size().reset_index().rename(columns={0:'count'})"
   ]
  },
  {
   "cell_type": "code",
   "execution_count": null,
   "metadata": {
    "collapsed": true
   },
   "outputs": [],
   "source": [
    "business_in_arizona_df =dataframe.groupby(['business_id','categories', 'city', 'latitude' ,'longitude' , 'business_name', 'postal_code', 'business_review_count','business_stars']).size().reset_index().rename(columns={0:'count'})"
   ]
  },
  {
   "cell_type": "code",
   "execution_count": null,
   "metadata": {
    "collapsed": true
   },
   "outputs": [],
   "source": []
  },
  {
   "cell_type": "code",
   "execution_count": 23,
   "metadata": {},
   "outputs": [
    {
     "data": {
      "text/plain": [
       "27971"
      ]
     },
     "execution_count": 23,
     "metadata": {},
     "output_type": "execute_result"
    }
   ],
   "source": [
    "len(business_in_arizona_df.categories.unique())"
   ]
  },
  {
   "cell_type": "code",
   "execution_count": 32,
   "metadata": {
    "collapsed": true
   },
   "outputs": [],
   "source": [
    "import collections\n",
    "import scipy.sparse as sp\n",
    "def taglist_to_matrix(taglist):\n",
    "    \"\"\"\n",
    "    This function\n",
    "    Args:\n",
    "        taglist: list of list of tags. For example, each element of the list is the list of tags of a business category:\n",
    "        [u'Doctors', u'Health & Medical']\n",
    "    Returns:\n",
    "        A sparse matrix num_docs x tags where element i, j has the counts of how many time tag j appear in document i\n",
    "    \"\"\"\n",
    "\n",
    "    all_tags = [w for doc in taglist for w in doc]\n",
    "    counter = collections.Counter(all_tags)\n",
    "    count_pairs = sorted(counter.items(), key=lambda x: -x[1])\n",
    "    words, _ = list(zip(*count_pairs))\n",
    "    word_to_id = dict(zip(words, range(len(words))))\n",
    "    # sparse matrix indices\n",
    "    i_indices = [doc_idx for doc_idx in range(len(taglist)) for _ in taglist[doc_idx]]\n",
    "    j_indices = [word_to_id[w] for doc_idx in range(len(taglist)) for w in taglist[doc_idx]]\n",
    "    data = [1]*len(all_tags)\n",
    "    m = sp.csc_matrix((data, (i_indices, j_indices)))\n",
    "    m.sum_duplicates()\n",
    "    return m\n"
   ]
  },
  {
   "cell_type": "code",
   "execution_count": 33,
   "metadata": {
    "collapsed": true
   },
   "outputs": [],
   "source": [
    "tags = business_in_arizona_df.categories.tolist()\n",
    "tag_countmatrix = taglist_to_matrix(tags)"
   ]
  },
  {
   "cell_type": "code",
   "execution_count": 35,
   "metadata": {
    "collapsed": true
   },
   "outputs": [],
   "source": [
    "business ={}"
   ]
  },
  {
   "cell_type": "code",
   "execution_count": 36,
   "metadata": {
    "collapsed": true
   },
   "outputs": [],
   "source": [
    "km = KMeans(n_clusters=3)\n",
    "km.fit(tag_countmatrix)\n",
    "business['cluster'] = km.predict(tag_countmatrix)"
   ]
  },
  {
   "cell_type": "code",
   "execution_count": 24,
   "metadata": {},
   "outputs": [
    {
     "data": {
      "image/png": "[encoded data removed]",
      "text/plain": [
       "<Figure size 864x288 with 1 Axes>"
      ]
     },
     "metadata": {},
     "output_type": "display_data"
    }
   ],
   "source": [
    "plt.figure(figsize=(12,4))\n",
    "ax = sns.countplot(business_in_arizona_df['business_stars'])\n",
    "plt.title('Distribution of rating');"
   ]
  },
  {
   "cell_type": "code",
   "execution_count": 43,
   "metadata": {},
   "outputs": [
    {
     "data": {
      "image/png": "[encoded data removed]",
      "text/plain": [
       "<Figure size 864x288 with 1 Axes>"
      ]
     },
     "metadata": {},
     "output_type": "display_data"
    }
   ],
   "source": [
    "plt.figure(figsize=(12,4))\n",
    "ax = sns.countplot(business_in_arizona_df['count'])\n",
    "plt.title('Distribution of reviews by business');"
   ]
  },
  {
   "cell_type": "code",
   "execution_count": null,
   "metadata": {
    "collapsed": true
   },
   "outputs": [],
   "source": [
    "plt.figure(figsize=(12,4))\n",
    "ax = sns.countplot(business_in_arizona_df['count'])\n",
    "plt.title('Distribution of reviews by business');"
   ]
  },
  {
   "cell_type": "raw",
   "metadata": {},
   "source": [
    "dataframe.plot(x=\"average_stars\", y=[ \"business_stars\"], kind=\"bar\")"
   ]
  },
  {
   "cell_type": "code",
   "execution_count": 4,
   "metadata": {},
   "outputs": [
    {
     "data": {
      "text/plain": [
       "<matplotlib.axes._subplots.AxesSubplot at 0x107f82668>"
      ]
     },
     "execution_count": 4,
     "metadata": {},
     "output_type": "execute_result"
    },
    {
     "data": {
      "image/png": "[encoded data removed]",
      "text/plain": [
       "<Figure size 432x288 with 1 Axes>"
      ]
     },
     "metadata": {},
     "output_type": "display_data"
    }
   ],
   "source": [
    "dataframe.plot(kind='scatter',x='average_stars',y='business_stars',color='red')"
   ]
  },
  {
   "cell_type": "code",
   "execution_count": 7,
   "metadata": {},
   "outputs": [
    {
     "data": {
      "text/plain": [
       "<matplotlib.axes._subplots.AxesSubplot at 0x107f38eb8>"
      ]
     },
     "execution_count": 7,
     "metadata": {},
     "output_type": "execute_result"
    },
    {
     "data": {
      "image/png": "[encoded data removed]",
      "text/plain": [
       "<Figure size 432x288 with 1 Axes>"
      ]
     },
     "metadata": {},
     "output_type": "display_data"
    }
   ],
   "source": [
    "dataframe.plot(kind='scatter',x='average_stars',y='useful',color='red')"
   ]
  },
  {
   "cell_type": "code",
   "execution_count": 9,
   "metadata": {},
   "outputs": [
    {
     "data": {
      "text/plain": [
       "<matplotlib.axes._subplots.AxesSubplot at 0x1a0e17b128>"
      ]
     },
     "execution_count": 9,
     "metadata": {},
     "output_type": "execute_result"
    },
    {
     "data": {
      "image/png": "[encoded data removed]",
      "text/plain": [
       "<Figure size 432x288 with 1 Axes>"
      ]
     },
     "metadata": {},
     "output_type": "display_data"
    }
   ],
   "source": [
    "dataframe.plot(kind='scatter',x='fans',y='useful',color='red')"
   ]
  },
  {
   "cell_type": "code",
   "execution_count": 13,
   "metadata": {},
   "outputs": [
    {
     "data": {
      "text/plain": [
       "<matplotlib.axes._subplots.AxesSubplot at 0x1a0f5eb198>"
      ]
     },
     "execution_count": 13,
     "metadata": {},
     "output_type": "execute_result"
    },
    {
     "data": {
      "image/png": "[encoded data removed]",
      "text/plain": [
       "<Figure size 432x288 with 1 Axes>"
      ]
     },
     "metadata": {},
     "output_type": "display_data"
    }
   ],
   "source": [
    "dataframe.plot(kind='scatter',x=['review_count','business_stars'],y=['latitude', 'longitude'],color='red')"
   ]
  },
  {
   "cell_type": "code",
   "execution_count": 7,
   "metadata": {},
   "outputs": [
    {
     "data": {
      "text/plain": [
       "<matplotlib.axes._subplots.AxesSubplot at 0x11634a630>"
      ]
     },
     "execution_count": 7,
     "metadata": {},
     "output_type": "execute_result"
    },
    {
     "data": {
      "image/png": "[encoded data removed]",
      "text/plain": [
       "<Figure size 432x288 with 1 Axes>"
      ]
     },
     "metadata": {},
     "output_type": "display_data"
    }
   ],
   "source": [
    "dataframe.reset_index().plot(kind='scatter',x='index',y='business_reviewed_count',color='red')\n",
    "\n"
   ]
  },
  {
   "cell_type": "code",
   "execution_count": 23,
   "metadata": {},
   "outputs": [],
   "source": [
    "unique_users=dataframe.user_id.unique()"
   ]
  },
  {
   "cell_type": "code",
   "execution_count": 38,
   "metadata": {},
   "outputs": [],
   "source": [
    "users_300= unique_users[0:300]"
   ]
  },
  {
   "cell_type": "code",
   "execution_count": 39,
   "metadata": {},
   "outputs": [],
   "source": [
    "userdf_300= dataframe.loc[dataframe['user_id'].isin(users_300)]"
   ]
  },
  {
   "cell_type": "code",
   "execution_count": 40,
   "metadata": {},
   "outputs": [
    {
     "data": {
      "text/plain": [
       "5041"
      ]
     },
     "execution_count": 40,
     "metadata": {},
     "output_type": "execute_result"
    }
   ],
   "source": [
    "len(userdf_300)"
   ]
  },
  {
   "cell_type": "code",
   "execution_count": 42,
   "metadata": {},
   "outputs": [
    {
     "data": {
      "text/plain": [
       "3611"
      ]
     },
     "execution_count": 42,
     "metadata": {},
     "output_type": "execute_result"
    }
   ],
   "source": [
    "len(userdf_300.business_id.unique())"
   ]
  },
  {
   "cell_type": "code",
   "execution_count": 56,
   "metadata": {},
   "outputs": [],
   "source": [
    "group_by_user  = dataframe.groupby(['user_id'])['business_id'].apply(set).to_frame().reset_index()"
   ]
  },
  {
   "cell_type": "code",
   "execution_count": 58,
   "metadata": {
    "collapsed": true
   },
   "outputs": [
    {
     "data": {
      "text/html": [
       "<div>\n",
       "<style scoped>\n",
       "    .dataframe tbody tr th:only-of-type {\n",
       "        vertical-align: middle;\n",
       "    }\n",
       "\n",
       "    .dataframe tbody tr th {\n",
       "        vertical-align: top;\n",
       "    }\n",
       "\n",
       "    .dataframe thead th {\n",
       "        text-align: right;\n",
       "    }\n",
       "</style>\n",
       "<table border=\"1\" class=\"dataframe\">\n",
       "  <thead>\n",
       "    <tr style=\"text-align: right;\">\n",
       "      <th></th>\n",
       "      <th>user_id</th>\n",
       "      <th>business_id</th>\n",
       "    </tr>\n",
       "  </thead>\n",
       "  <tbody>\n",
       "    <tr>\n",
       "      <th>0</th>\n",
       "      <td>--2HUmLkcNHZp0xw6AMBPg</td>\n",
       "      <td>{thLX_k20SPJ0KyusGTBIHw, Iq7NqQD-sESu3vr9iEGuT...</td>\n",
       "    </tr>\n",
       "    <tr>\n",
       "      <th>1</th>\n",
       "      <td>--3WaS23LcIXtxyFULJHTA</td>\n",
       "      <td>{uVRMYg3XGR9qo4sAeDFJSQ, bwZqlLj8oYaML3ndlybeD...</td>\n",
       "    </tr>\n",
       "    <tr>\n",
       "      <th>2</th>\n",
       "      <td>--Nnm_506G_p8MxAOQna5w</td>\n",
       "      <td>{3sOS8wKatd_Uoa9VEJHhrw, BQHbrLQVB6l1GqX93JIQ2...</td>\n",
       "    </tr>\n",
       "    <tr>\n",
       "      <th>3</th>\n",
       "      <td>--P-Qvza7AED8gnDrZkMgA</td>\n",
       "      <td>{k_SfP93Tmlpmx-5OL1JmTg, Fs7UxECjBPrLm8BEaz8sT...</td>\n",
       "    </tr>\n",
       "    <tr>\n",
       "      <th>4</th>\n",
       "      <td>--Rm-VyYWgHA7ZpljAMlvg</td>\n",
       "      <td>{iLLzOJLU4tPAN9UUHlyZiQ, hRuJImoZk7U4AnIeqZSQm...</td>\n",
       "    </tr>\n",
       "    <tr>\n",
       "      <th>5</th>\n",
       "      <td>--XpHLy__U2RF_dkWCmmjw</td>\n",
       "      <td>{HI56ArpYEbhEUeRx9Curpw, jyTtTFa169XYSD5KRMQsH...</td>\n",
       "    </tr>\n",
       "    <tr>\n",
       "      <th>6</th>\n",
       "      <td>--eQVss9nAx54FWsZHZgpA</td>\n",
       "      <td>{cI-LPhamF9LmrIn1pBnINA, FogTa-wmjhVnJCoTiaxvZ...</td>\n",
       "    </tr>\n",
       "    <tr>\n",
       "      <th>7</th>\n",
       "      <td>--fF_pQlaU9sME-HLCoHlQ</td>\n",
       "      <td>{qRHR2-EE0IhEResRyjjHYA, ysVpMJngZ22fJnKls7YQr...</td>\n",
       "    </tr>\n",
       "    <tr>\n",
       "      <th>8</th>\n",
       "      <td>--plKrUSHcgXBNwsD8ay1g</td>\n",
       "      <td>{93FNDjCBsdbKkUoh3UVS4g, JzOp695tclcNCNMuBl7ox...</td>\n",
       "    </tr>\n",
       "    <tr>\n",
       "      <th>9</th>\n",
       "      <td>--s9CO9UcNLd7yrVBjr97Q</td>\n",
       "      <td>{J07TDs6qnTIaxm48EL1cKQ, n2tiSHECXkFv47aIkxvSD...</td>\n",
       "    </tr>\n",
       "    <tr>\n",
       "      <th>10</th>\n",
       "      <td>--tNWiVft2ZV6BWaRkOpnw</td>\n",
       "      <td>{4M33cWbcJlPQBMzNqONjZw, 3tD3ifWp5x0ue4-Y8eUGo...</td>\n",
       "    </tr>\n",
       "    <tr>\n",
       "      <th>11</th>\n",
       "      <td>--ty7Z9fEt08E3dS3_qoSA</td>\n",
       "      <td>{zLC9OtK3SKAW_g6SXijr4w, ZOj56SAgGoFs6ymO-n672...</td>\n",
       "    </tr>\n",
       "    <tr>\n",
       "      <th>12</th>\n",
       "      <td>-00MbjbaOISrcuV7jOVRIg</td>\n",
       "      <td>{jqAdZf9PJo8lsRskc6T1Sw, aqONNC5onqX6EqHHUO1CJ...</td>\n",
       "    </tr>\n",
       "    <tr>\n",
       "      <th>13</th>\n",
       "      <td>-0IiMAZI2SsQ7VmyzJjokQ</td>\n",
       "      <td>{iq1kmNKO8_XIZg2mx9dSnw, xZtKQ6AFLh9P7rfmjvVjh...</td>\n",
       "    </tr>\n",
       "    <tr>\n",
       "      <th>14</th>\n",
       "      <td>-0K2ZWX8tDH1mrzNXNoiqg</td>\n",
       "      <td>{P00x4L4vTRNsKL-UA4EtCw, gqEW_dPfTzMCP8DdLupl-...</td>\n",
       "    </tr>\n",
       "    <tr>\n",
       "      <th>15</th>\n",
       "      <td>-0RvEViQvvPLqrXKwtIx7g</td>\n",
       "      <td>{3Nm15wEuq5k9iitPaEtqgw, 9p0jhBSwTPXyUbaZe_1bT...</td>\n",
       "    </tr>\n",
       "    <tr>\n",
       "      <th>16</th>\n",
       "      <td>-0aInSHjCWLfiNqfgmWnow</td>\n",
       "      <td>{u2q_84hHvKGl5hKnAE7zNw, UHPjDgiEHnTe7-MP-b2ky...</td>\n",
       "    </tr>\n",
       "    <tr>\n",
       "      <th>17</th>\n",
       "      <td>-0d7kiQQ1bKrd4DB9aNt9g</td>\n",
       "      <td>{qdyYXsF7UzmU6s8vszs0tQ, DgHXVoAZ4XzbcQMahuJCb...</td>\n",
       "    </tr>\n",
       "    <tr>\n",
       "      <th>18</th>\n",
       "      <td>-0g4b9oK3iptky6YY3vDyQ</td>\n",
       "      <td>{ArmAaGCdCVAlkhdtaT6RzQ, VKVDDHKtsdrnigeIf9S8R...</td>\n",
       "    </tr>\n",
       "    <tr>\n",
       "      <th>19</th>\n",
       "      <td>-0kiduTUToVYFqN_NEqMSw</td>\n",
       "      <td>{XNlUNm2dxhvaUu07b_Z_vQ, dNDAdeE8olF4eZaslNtBZ...</td>\n",
       "    </tr>\n",
       "    <tr>\n",
       "      <th>20</th>\n",
       "      <td>-0pk51AO1qQtkGukYaZ2rA</td>\n",
       "      <td>{FAgh943f9dir8IqSMhETFw, BpqggO7klU9Ky6WnVin1r...</td>\n",
       "    </tr>\n",
       "    <tr>\n",
       "      <th>21</th>\n",
       "      <td>-0udWcFQEt2M8kM3xcIofw</td>\n",
       "      <td>{ojGCRzEym2W3tSTo69fhxA, cUFBO-5Fgd7pR0JUakWXS...</td>\n",
       "    </tr>\n",
       "    <tr>\n",
       "      <th>22</th>\n",
       "      <td>-1-pTXLHph2vcqRCNeT4_Q</td>\n",
       "      <td>{h-Oq86DZfZad9kKXe8m7Lg, 8B1TIuaqhaZ7QMEhDUu-G...</td>\n",
       "    </tr>\n",
       "    <tr>\n",
       "      <th>23</th>\n",
       "      <td>-1A44e1S-j7c5_0MS8bcfA</td>\n",
       "      <td>{RU6E7WsAfsTRcjXxH1Lo5A, VtKYA6Fu1jTDrEhDHRlUv...</td>\n",
       "    </tr>\n",
       "    <tr>\n",
       "      <th>24</th>\n",
       "      <td>-1QntIRTVBABpiojwhEoyA</td>\n",
       "      <td>{G4X5w5vRQNEFUmrJo6JakA, aiX_WP7NKPTdF9CfI-M-w...</td>\n",
       "    </tr>\n",
       "    <tr>\n",
       "      <th>25</th>\n",
       "      <td>-1VvsQCtS4hW32hnalTlzw</td>\n",
       "      <td>{aIZQF2UCLv6ru-zsPK4H2Q, WrNuRG-tbOzcn3e8ECA43...</td>\n",
       "    </tr>\n",
       "    <tr>\n",
       "      <th>26</th>\n",
       "      <td>-1ZMRA0N01rqZL0TWk3fgA</td>\n",
       "      <td>{qU90yUXPYMyrzgZ702btOA, 52yWGkwnrQXIjvuMjYxsi...</td>\n",
       "    </tr>\n",
       "    <tr>\n",
       "      <th>27</th>\n",
       "      <td>-1_RJoRLeoDK3h_gNjf7UA</td>\n",
       "      <td>{W2CzAePJakvARgoQuohbOA, fE9SP84G6TZrv36FLbCy7...</td>\n",
       "    </tr>\n",
       "    <tr>\n",
       "      <th>28</th>\n",
       "      <td>-1goEXBA3oKAueF8idZsuw</td>\n",
       "      <td>{mnwRtuVQEsIUomBchu0gwg, sJNcipFYElitBrtiJx0ez...</td>\n",
       "    </tr>\n",
       "    <tr>\n",
       "      <th>29</th>\n",
       "      <td>-1muKmjC-hwf9pdRiWCvVw</td>\n",
       "      <td>{k1QpHAkzKTrFYfk6u--VgQ, mvHAJ7ZFJywx2v8dSOEm5...</td>\n",
       "    </tr>\n",
       "    <tr>\n",
       "      <th>...</th>\n",
       "      <td>...</td>\n",
       "      <td>...</td>\n",
       "    </tr>\n",
       "    <tr>\n",
       "      <th>49559</th>\n",
       "      <td>zx6gq8IslnAwCyCUztXn1A</td>\n",
       "      <td>{NPincL15kJtyVOmUCCQKVQ, R-Me-p4Rbb0q-2pjSzyDb...</td>\n",
       "    </tr>\n",
       "    <tr>\n",
       "      <th>49560</th>\n",
       "      <td>zxAe3P9I624jEE539UXqyg</td>\n",
       "      <td>{oGASRzKGpuiP12ilQH_nKg, ruSF2hHpQX5Ea9qW0Gyv2...</td>\n",
       "    </tr>\n",
       "    <tr>\n",
       "      <th>49561</th>\n",
       "      <td>zxCsPZ_eL3Vbbtm7FIvz8g</td>\n",
       "      <td>{mVomtOMgBxbGvdPSaF2HjQ, 3MdLnbpkvTcsKkMszUv_3...</td>\n",
       "    </tr>\n",
       "    <tr>\n",
       "      <th>49562</th>\n",
       "      <td>zxcZasBwUDW0fVfQ1ITHug</td>\n",
       "      <td>{MItBn_LArS9O_CvDnIHCVw, 5J541aaHaZequPMiQPVSh...</td>\n",
       "    </tr>\n",
       "    <tr>\n",
       "      <th>49563</th>\n",
       "      <td>zxeAtXApISV07T7dEFR9lA</td>\n",
       "      <td>{YPavuOh2XsnRbLfl0DH2lQ, V7ATQpOIZ2fkYLx83JvvX...</td>\n",
       "    </tr>\n",
       "    <tr>\n",
       "      <th>49564</th>\n",
       "      <td>zxkuVNHY4hO9MehTpfLxxQ</td>\n",
       "      <td>{BJW6rCMoWcn8fDFhbMVyEQ, aRngE8bFUhtHs3INz_QMm...</td>\n",
       "    </tr>\n",
       "    <tr>\n",
       "      <th>49565</th>\n",
       "      <td>zxljFO6vHNkeFGkDdXAV_w</td>\n",
       "      <td>{ZZQEBmDRoGOuco_uUv1GfQ, wUKzaS1MHg94RGM6z8u9m...</td>\n",
       "    </tr>\n",
       "    <tr>\n",
       "      <th>49566</th>\n",
       "      <td>zxqy-dkxEybQBFRSJ65bXA</td>\n",
       "      <td>{BxKxFHXG4B2h1MXK8ebHZQ, 407jyweZL39-WScJazVBM...</td>\n",
       "    </tr>\n",
       "    <tr>\n",
       "      <th>49567</th>\n",
       "      <td>zxsGLpHvzbVqNDm4svFQ5g</td>\n",
       "      <td>{W5l5_CmHd-n1CDTHdEkYTw, TulmRC5V0--dnXYd_GOSv...</td>\n",
       "    </tr>\n",
       "    <tr>\n",
       "      <th>49568</th>\n",
       "      <td>zxttTDkTvqbO6OYda_RnYw</td>\n",
       "      <td>{jFxE_1I3zOZZ8-nlwF4wvA, T58DswiV9QCYTkheGHvpX...</td>\n",
       "    </tr>\n",
       "    <tr>\n",
       "      <th>49569</th>\n",
       "      <td>zxwzmtvHh5Ltptb_96uGYQ</td>\n",
       "      <td>{Q8DwQAKYugHSm9os3AGS1g, CWlQcOcpSMRrHeaZkWoeJ...</td>\n",
       "    </tr>\n",
       "    <tr>\n",
       "      <th>49570</th>\n",
       "      <td>zy2ImADN9B0cvIRCC3d0Zg</td>\n",
       "      <td>{BncSpY3IPix5s-4SOHCtLQ, NlymcSxDnjtCLyGvmMoyF...</td>\n",
       "    </tr>\n",
       "    <tr>\n",
       "      <th>49571</th>\n",
       "      <td>zy2ZwrYjSAGv6AMF039iMw</td>\n",
       "      <td>{_Sn_SDJf4vHTYc1x0cbvYQ, 6Iu4YDjAPrDRRrPCt_E2z...</td>\n",
       "    </tr>\n",
       "    <tr>\n",
       "      <th>49572</th>\n",
       "      <td>zy4NqQpPWNRftutQEhVb1g</td>\n",
       "      <td>{rbywwnfMjFjJwLQkgpdIEw, eS29S_06lvsDW04wVrIVx...</td>\n",
       "    </tr>\n",
       "    <tr>\n",
       "      <th>49573</th>\n",
       "      <td>zy5rvDRgPG1JUNbixZxwUQ</td>\n",
       "      <td>{pjpUOlJLlkIxBZ5BquA2PA, p-8AMN9Q0qwym-3Pdle20...</td>\n",
       "    </tr>\n",
       "    <tr>\n",
       "      <th>49574</th>\n",
       "      <td>zy77eFBgwPTrsLFkikifzw</td>\n",
       "      <td>{w-q9UTLqk6njQWOJEWelwA, nxM6jNyKDgAOh7MAG-VJ_...</td>\n",
       "    </tr>\n",
       "    <tr>\n",
       "      <th>49575</th>\n",
       "      <td>zy7D8MZ8NwXO8uDraQby8g</td>\n",
       "      <td>{J3iWlSa27BmyvX2XwJt3Yw, JBrBsKpw0bbXK5nlrXVOY...</td>\n",
       "    </tr>\n",
       "    <tr>\n",
       "      <th>49576</th>\n",
       "      <td>zyNrXvJyYdC34tS6BcCykA</td>\n",
       "      <td>{tt9Jy2HBhkKpEG3KxFX0fQ, iNwd-OTTWHLaW1pPMXUq6w}</td>\n",
       "    </tr>\n",
       "    <tr>\n",
       "      <th>49577</th>\n",
       "      <td>zyebSPCZLUZHapi-dSHU5Q</td>\n",
       "      <td>{7yIHC8KsR5OaE_7MgEBVhw, gZcph0QQElMcXR47W6N13...</td>\n",
       "    </tr>\n",
       "    <tr>\n",
       "      <th>49578</th>\n",
       "      <td>zyh_AzbO1JNnhywem3hUPg</td>\n",
       "      <td>{Eji3z5yBhKxXfsK9AyT_Gg, ULKfOnFpNmm32JGEf2qT8...</td>\n",
       "    </tr>\n",
       "    <tr>\n",
       "      <th>49579</th>\n",
       "      <td>zykZxLo2_YW3yEQkcmMWdw</td>\n",
       "      <td>{n3kuSEwXUn3acFjmKiE16Q, M25h3w-rP_mwLCgKmIalw...</td>\n",
       "    </tr>\n",
       "    <tr>\n",
       "      <th>49580</th>\n",
       "      <td>zyu5jQ1ecaBVxqYRCrWPqA</td>\n",
       "      <td>{cwWQB8LyFbxxiOzgfZdWCg, swX3Vj3dQsz1YlCRmwNQE...</td>\n",
       "    </tr>\n",
       "    <tr>\n",
       "      <th>49581</th>\n",
       "      <td>zz8rQaQvsZFZfAu-rPhLNw</td>\n",
       "      <td>{jY2RWYyP42EhEtmhfQrnPQ, 4p6Wce7Ed707QS2-yQkvZ...</td>\n",
       "    </tr>\n",
       "    <tr>\n",
       "      <th>49582</th>\n",
       "      <td>zzF17hwmlFTuOa1Yagi-eg</td>\n",
       "      <td>{HD7Oa0lMygPeiJb70472TA, HpRj2Lv27EUQql0POE5sQ...</td>\n",
       "    </tr>\n",
       "    <tr>\n",
       "      <th>49583</th>\n",
       "      <td>zzO9aMo33jA3pPv8SoYskw</td>\n",
       "      <td>{BgYJ1Jdejkwchp8K24Pn_g, fxkqaZgPUVrs1Tgdnrec1...</td>\n",
       "    </tr>\n",
       "    <tr>\n",
       "      <th>49584</th>\n",
       "      <td>zzRq3Ykz8yfr2mcsPhYnEg</td>\n",
       "      <td>{wZukjLaf1V2dLRQap_Zriw, IWOQNyRqWrnqQA5K49eK5...</td>\n",
       "    </tr>\n",
       "    <tr>\n",
       "      <th>49585</th>\n",
       "      <td>zzaq5Fn1U2Feut3dGxidNg</td>\n",
       "      <td>{GTuAPBRsM5dVPqPy9oe14Q, b5ECorQloTnA9WLF7UCfx...</td>\n",
       "    </tr>\n",
       "    <tr>\n",
       "      <th>49586</th>\n",
       "      <td>zzjQuRnY_Kgr_zaw6A-ACQ</td>\n",
       "      <td>{Bv6-MOsh4jaL1bHOZpkKlg, HGNOaHmKpW1ajuAVCpA1y...</td>\n",
       "    </tr>\n",
       "    <tr>\n",
       "      <th>49587</th>\n",
       "      <td>zznZTSALzMXf3cjggfNdBQ</td>\n",
       "      <td>{cq6SQkWKVT3TH-6YzGFn4g, xAG04HVxelFsDrQY-Te0x...</td>\n",
       "    </tr>\n",
       "    <tr>\n",
       "      <th>49588</th>\n",
       "      <td>zzsmdXHUFBYuKUtPbXWjRA</td>\n",
       "      <td>{05BpxQYVbywxliQ9yA0CKw, iqm-ZDFRpVGYe0Ie-LdaW...</td>\n",
       "    </tr>\n",
       "  </tbody>\n",
       "</table>\n",
       "<p>49589 rows × 2 columns</p>\n",
       "</div>"
      ],
      "text/plain": [
       "                      user_id  \\\n",
       "0      --2HUmLkcNHZp0xw6AMBPg   \n",
       "1      --3WaS23LcIXtxyFULJHTA   \n",
       "2      --Nnm_506G_p8MxAOQna5w   \n",
       "3      --P-Qvza7AED8gnDrZkMgA   \n",
       "4      --Rm-VyYWgHA7ZpljAMlvg   \n",
       "5      --XpHLy__U2RF_dkWCmmjw   \n",
       "6      --eQVss9nAx54FWsZHZgpA   \n",
       "7      --fF_pQlaU9sME-HLCoHlQ   \n",
       "8      --plKrUSHcgXBNwsD8ay1g   \n",
       "9      --s9CO9UcNLd7yrVBjr97Q   \n",
       "10     --tNWiVft2ZV6BWaRkOpnw   \n",
       "11     --ty7Z9fEt08E3dS3_qoSA   \n",
       "12     -00MbjbaOISrcuV7jOVRIg   \n",
       "13     -0IiMAZI2SsQ7VmyzJjokQ   \n",
       "14     -0K2ZWX8tDH1mrzNXNoiqg   \n",
       "15     -0RvEViQvvPLqrXKwtIx7g   \n",
       "16     -0aInSHjCWLfiNqfgmWnow   \n",
       "17     -0d7kiQQ1bKrd4DB9aNt9g   \n",
       "18     -0g4b9oK3iptky6YY3vDyQ   \n",
       "19     -0kiduTUToVYFqN_NEqMSw   \n",
       "20     -0pk51AO1qQtkGukYaZ2rA   \n",
       "21     -0udWcFQEt2M8kM3xcIofw   \n",
       "22     -1-pTXLHph2vcqRCNeT4_Q   \n",
       "23     -1A44e1S-j7c5_0MS8bcfA   \n",
       "24     -1QntIRTVBABpiojwhEoyA   \n",
       "25     -1VvsQCtS4hW32hnalTlzw   \n",
       "26     -1ZMRA0N01rqZL0TWk3fgA   \n",
       "27     -1_RJoRLeoDK3h_gNjf7UA   \n",
       "28     -1goEXBA3oKAueF8idZsuw   \n",
       "29     -1muKmjC-hwf9pdRiWCvVw   \n",
       "...                       ...   \n",
       "49559  zx6gq8IslnAwCyCUztXn1A   \n",
       "49560  zxAe3P9I624jEE539UXqyg   \n",
       "49561  zxCsPZ_eL3Vbbtm7FIvz8g   \n",
       "49562  zxcZasBwUDW0fVfQ1ITHug   \n",
       "49563  zxeAtXApISV07T7dEFR9lA   \n",
       "49564  zxkuVNHY4hO9MehTpfLxxQ   \n",
       "49565  zxljFO6vHNkeFGkDdXAV_w   \n",
       "49566  zxqy-dkxEybQBFRSJ65bXA   \n",
       "49567  zxsGLpHvzbVqNDm4svFQ5g   \n",
       "49568  zxttTDkTvqbO6OYda_RnYw   \n",
       "49569  zxwzmtvHh5Ltptb_96uGYQ   \n",
       "49570  zy2ImADN9B0cvIRCC3d0Zg   \n",
       "49571  zy2ZwrYjSAGv6AMF039iMw   \n",
       "49572  zy4NqQpPWNRftutQEhVb1g   \n",
       "49573  zy5rvDRgPG1JUNbixZxwUQ   \n",
       "49574  zy77eFBgwPTrsLFkikifzw   \n",
       "49575  zy7D8MZ8NwXO8uDraQby8g   \n",
       "49576  zyNrXvJyYdC34tS6BcCykA   \n",
       "49577  zyebSPCZLUZHapi-dSHU5Q   \n",
       "49578  zyh_AzbO1JNnhywem3hUPg   \n",
       "49579  zykZxLo2_YW3yEQkcmMWdw   \n",
       "49580  zyu5jQ1ecaBVxqYRCrWPqA   \n",
       "49581  zz8rQaQvsZFZfAu-rPhLNw   \n",
       "49582  zzF17hwmlFTuOa1Yagi-eg   \n",
       "49583  zzO9aMo33jA3pPv8SoYskw   \n",
       "49584  zzRq3Ykz8yfr2mcsPhYnEg   \n",
       "49585  zzaq5Fn1U2Feut3dGxidNg   \n",
       "49586  zzjQuRnY_Kgr_zaw6A-ACQ   \n",
       "49587  zznZTSALzMXf3cjggfNdBQ   \n",
       "49588  zzsmdXHUFBYuKUtPbXWjRA   \n",
       "\n",
       "                                             business_id  \n",
       "0      {thLX_k20SPJ0KyusGTBIHw, Iq7NqQD-sESu3vr9iEGuT...  \n",
       "1      {uVRMYg3XGR9qo4sAeDFJSQ, bwZqlLj8oYaML3ndlybeD...  \n",
       "2      {3sOS8wKatd_Uoa9VEJHhrw, BQHbrLQVB6l1GqX93JIQ2...  \n",
       "3      {k_SfP93Tmlpmx-5OL1JmTg, Fs7UxECjBPrLm8BEaz8sT...  \n",
       "4      {iLLzOJLU4tPAN9UUHlyZiQ, hRuJImoZk7U4AnIeqZSQm...  \n",
       "5      {HI56ArpYEbhEUeRx9Curpw, jyTtTFa169XYSD5KRMQsH...  \n",
       "6      {cI-LPhamF9LmrIn1pBnINA, FogTa-wmjhVnJCoTiaxvZ...  \n",
       "7      {qRHR2-EE0IhEResRyjjHYA, ysVpMJngZ22fJnKls7YQr...  \n",
       "8      {93FNDjCBsdbKkUoh3UVS4g, JzOp695tclcNCNMuBl7ox...  \n",
       "9      {J07TDs6qnTIaxm48EL1cKQ, n2tiSHECXkFv47aIkxvSD...  \n",
       "10     {4M33cWbcJlPQBMzNqONjZw, 3tD3ifWp5x0ue4-Y8eUGo...  \n",
       "11     {zLC9OtK3SKAW_g6SXijr4w, ZOj56SAgGoFs6ymO-n672...  \n",
       "12     {jqAdZf9PJo8lsRskc6T1Sw, aqONNC5onqX6EqHHUO1CJ...  \n",
       "13     {iq1kmNKO8_XIZg2mx9dSnw, xZtKQ6AFLh9P7rfmjvVjh...  \n",
       "14     {P00x4L4vTRNsKL-UA4EtCw, gqEW_dPfTzMCP8DdLupl-...  \n",
       "15     {3Nm15wEuq5k9iitPaEtqgw, 9p0jhBSwTPXyUbaZe_1bT...  \n",
       "16     {u2q_84hHvKGl5hKnAE7zNw, UHPjDgiEHnTe7-MP-b2ky...  \n",
       "17     {qdyYXsF7UzmU6s8vszs0tQ, DgHXVoAZ4XzbcQMahuJCb...  \n",
       "18     {ArmAaGCdCVAlkhdtaT6RzQ, VKVDDHKtsdrnigeIf9S8R...  \n",
       "19     {XNlUNm2dxhvaUu07b_Z_vQ, dNDAdeE8olF4eZaslNtBZ...  \n",
       "20     {FAgh943f9dir8IqSMhETFw, BpqggO7klU9Ky6WnVin1r...  \n",
       "21     {ojGCRzEym2W3tSTo69fhxA, cUFBO-5Fgd7pR0JUakWXS...  \n",
       "22     {h-Oq86DZfZad9kKXe8m7Lg, 8B1TIuaqhaZ7QMEhDUu-G...  \n",
       "23     {RU6E7WsAfsTRcjXxH1Lo5A, VtKYA6Fu1jTDrEhDHRlUv...  \n",
       "24     {G4X5w5vRQNEFUmrJo6JakA, aiX_WP7NKPTdF9CfI-M-w...  \n",
       "25     {aIZQF2UCLv6ru-zsPK4H2Q, WrNuRG-tbOzcn3e8ECA43...  \n",
       "26     {qU90yUXPYMyrzgZ702btOA, 52yWGkwnrQXIjvuMjYxsi...  \n",
       "27     {W2CzAePJakvARgoQuohbOA, fE9SP84G6TZrv36FLbCy7...  \n",
       "28     {mnwRtuVQEsIUomBchu0gwg, sJNcipFYElitBrtiJx0ez...  \n",
       "29     {k1QpHAkzKTrFYfk6u--VgQ, mvHAJ7ZFJywx2v8dSOEm5...  \n",
       "...                                                  ...  \n",
       "49559  {NPincL15kJtyVOmUCCQKVQ, R-Me-p4Rbb0q-2pjSzyDb...  \n",
       "49560  {oGASRzKGpuiP12ilQH_nKg, ruSF2hHpQX5Ea9qW0Gyv2...  \n",
       "49561  {mVomtOMgBxbGvdPSaF2HjQ, 3MdLnbpkvTcsKkMszUv_3...  \n",
       "49562  {MItBn_LArS9O_CvDnIHCVw, 5J541aaHaZequPMiQPVSh...  \n",
       "49563  {YPavuOh2XsnRbLfl0DH2lQ, V7ATQpOIZ2fkYLx83JvvX...  \n",
       "49564  {BJW6rCMoWcn8fDFhbMVyEQ, aRngE8bFUhtHs3INz_QMm...  \n",
       "49565  {ZZQEBmDRoGOuco_uUv1GfQ, wUKzaS1MHg94RGM6z8u9m...  \n",
       "49566  {BxKxFHXG4B2h1MXK8ebHZQ, 407jyweZL39-WScJazVBM...  \n",
       "49567  {W5l5_CmHd-n1CDTHdEkYTw, TulmRC5V0--dnXYd_GOSv...  \n",
       "49568  {jFxE_1I3zOZZ8-nlwF4wvA, T58DswiV9QCYTkheGHvpX...  \n",
       "49569  {Q8DwQAKYugHSm9os3AGS1g, CWlQcOcpSMRrHeaZkWoeJ...  \n",
       "49570  {BncSpY3IPix5s-4SOHCtLQ, NlymcSxDnjtCLyGvmMoyF...  \n",
       "49571  {_Sn_SDJf4vHTYc1x0cbvYQ, 6Iu4YDjAPrDRRrPCt_E2z...  \n",
       "49572  {rbywwnfMjFjJwLQkgpdIEw, eS29S_06lvsDW04wVrIVx...  \n",
       "49573  {pjpUOlJLlkIxBZ5BquA2PA, p-8AMN9Q0qwym-3Pdle20...  \n",
       "49574  {w-q9UTLqk6njQWOJEWelwA, nxM6jNyKDgAOh7MAG-VJ_...  \n",
       "49575  {J3iWlSa27BmyvX2XwJt3Yw, JBrBsKpw0bbXK5nlrXVOY...  \n",
       "49576   {tt9Jy2HBhkKpEG3KxFX0fQ, iNwd-OTTWHLaW1pPMXUq6w}  \n",
       "49577  {7yIHC8KsR5OaE_7MgEBVhw, gZcph0QQElMcXR47W6N13...  \n",
       "49578  {Eji3z5yBhKxXfsK9AyT_Gg, ULKfOnFpNmm32JGEf2qT8...  \n",
       "49579  {n3kuSEwXUn3acFjmKiE16Q, M25h3w-rP_mwLCgKmIalw...  \n",
       "49580  {cwWQB8LyFbxxiOzgfZdWCg, swX3Vj3dQsz1YlCRmwNQE...  \n",
       "49581  {jY2RWYyP42EhEtmhfQrnPQ, 4p6Wce7Ed707QS2-yQkvZ...  \n",
       "49582  {HD7Oa0lMygPeiJb70472TA, HpRj2Lv27EUQql0POE5sQ...  \n",
       "49583  {BgYJ1Jdejkwchp8K24Pn_g, fxkqaZgPUVrs1Tgdnrec1...  \n",
       "49584  {wZukjLaf1V2dLRQap_Zriw, IWOQNyRqWrnqQA5K49eK5...  \n",
       "49585  {GTuAPBRsM5dVPqPy9oe14Q, b5ECorQloTnA9WLF7UCfx...  \n",
       "49586  {Bv6-MOsh4jaL1bHOZpkKlg, HGNOaHmKpW1ajuAVCpA1y...  \n",
       "49587  {cq6SQkWKVT3TH-6YzGFn4g, xAG04HVxelFsDrQY-Te0x...  \n",
       "49588  {05BpxQYVbywxliQ9yA0CKw, iqm-ZDFRpVGYe0Ie-LdaW...  \n",
       "\n",
       "[49589 rows x 2 columns]"
      ]
     },
     "execution_count": 58,
     "metadata": {},
     "output_type": "execute_result"
    }
   ],
   "source": [
    "group_by_user"
   ]
  },
  {
   "cell_type": "code",
   "execution_count": 65,
   "metadata": {},
   "outputs": [],
   "source": [
    "columns =['user1', 'user2' ,'jaccard']\n",
    "user1_user2_jaccard =pd.DataFrame(columns=columns)  "
   ]
  },
  {
   "cell_type": "code",
   "execution_count": 69,
   "metadata": {},
   "outputs": [
    {
     "ename": "KeyboardInterrupt",
     "evalue": "",
     "output_type": "error",
     "traceback": [
      "\u001b[0;31m---------------------------------------------------------------------------\u001b[0m",
      "\u001b[0;31mKeyboardInterrupt\u001b[0m                         Traceback (most recent call last)",
      "\u001b[0;32m<ipython-input-69-1a8c44bf1c19>\u001b[0m in \u001b[0;36m<module>\u001b[0;34m()\u001b[0m\n\u001b[1;32m      1\u001b[0m \u001b[0;32mfor\u001b[0m \u001b[0mid\u001b[0m\u001b[0;34m,\u001b[0m\u001b[0muser1\u001b[0m \u001b[0;32min\u001b[0m \u001b[0mgroup_by_user\u001b[0m\u001b[0;34m.\u001b[0m\u001b[0miterrows\u001b[0m\u001b[0;34m(\u001b[0m\u001b[0;34m)\u001b[0m\u001b[0;34m:\u001b[0m\u001b[0;34m\u001b[0m\u001b[0m\n\u001b[1;32m      2\u001b[0m     \u001b[0;32mfor\u001b[0m \u001b[0mid2\u001b[0m\u001b[0;34m,\u001b[0m\u001b[0muser2\u001b[0m \u001b[0;32min\u001b[0m \u001b[0mgroup_by_user\u001b[0m\u001b[0;34m.\u001b[0m\u001b[0miterrows\u001b[0m\u001b[0;34m(\u001b[0m\u001b[0;34m)\u001b[0m\u001b[0;34m:\u001b[0m\u001b[0;34m\u001b[0m\u001b[0m\n\u001b[0;32m----> 3\u001b[0;31m         \u001b[0;32mif\u001b[0m \u001b[0muser1\u001b[0m\u001b[0;34m.\u001b[0m\u001b[0muser_id\u001b[0m\u001b[0;34m==\u001b[0m\u001b[0muser2\u001b[0m\u001b[0;34m.\u001b[0m\u001b[0muser_id\u001b[0m\u001b[0;34m:\u001b[0m\u001b[0;34m\u001b[0m\u001b[0m\n\u001b[0m\u001b[1;32m      4\u001b[0m             \u001b[0;32mcontinue\u001b[0m\u001b[0;34m\u001b[0m\u001b[0m\n\u001b[1;32m      5\u001b[0m         \u001b[0mjaccard\u001b[0m \u001b[0;34m=\u001b[0m \u001b[0mlen\u001b[0m\u001b[0;34m(\u001b[0m\u001b[0muser1\u001b[0m\u001b[0;34m.\u001b[0m\u001b[0mbusiness_id\u001b[0m \u001b[0;34m&\u001b[0m \u001b[0muser2\u001b[0m\u001b[0;34m.\u001b[0m\u001b[0mbusiness_id\u001b[0m\u001b[0;34m)\u001b[0m\u001b[0;34m\u001b[0m\u001b[0m\n",
      "\u001b[0;32m~/anaconda3/envs/py36/lib/python3.6/site-packages/pandas/core/generic.py\u001b[0m in \u001b[0;36m__getattr__\u001b[0;34m(self, name)\u001b[0m\n\u001b[1;32m   4369\u001b[0m         \u001b[0;32melse\u001b[0m\u001b[0;34m:\u001b[0m\u001b[0;34m\u001b[0m\u001b[0m\n\u001b[1;32m   4370\u001b[0m             \u001b[0;32mif\u001b[0m \u001b[0mself\u001b[0m\u001b[0;34m.\u001b[0m\u001b[0m_info_axis\u001b[0m\u001b[0;34m.\u001b[0m\u001b[0m_can_hold_identifiers_and_holds_name\u001b[0m\u001b[0;34m(\u001b[0m\u001b[0mname\u001b[0m\u001b[0;34m)\u001b[0m\u001b[0;34m:\u001b[0m\u001b[0;34m\u001b[0m\u001b[0m\n\u001b[0;32m-> 4371\u001b[0;31m                 \u001b[0;32mreturn\u001b[0m \u001b[0mself\u001b[0m\u001b[0;34m[\u001b[0m\u001b[0mname\u001b[0m\u001b[0;34m]\u001b[0m\u001b[0;34m\u001b[0m\u001b[0m\n\u001b[0m\u001b[1;32m   4372\u001b[0m             \u001b[0;32mreturn\u001b[0m \u001b[0mobject\u001b[0m\u001b[0;34m.\u001b[0m\u001b[0m__getattribute__\u001b[0m\u001b[0;34m(\u001b[0m\u001b[0mself\u001b[0m\u001b[0;34m,\u001b[0m \u001b[0mname\u001b[0m\u001b[0;34m)\u001b[0m\u001b[0;34m\u001b[0m\u001b[0m\n\u001b[1;32m   4373\u001b[0m \u001b[0;34m\u001b[0m\u001b[0m\n",
      "\u001b[0;32m~/anaconda3/envs/py36/lib/python3.6/site-packages/pandas/core/series.py\u001b[0m in \u001b[0;36m__getitem__\u001b[0;34m(self, key)\u001b[0m\n\u001b[1;32m    764\u001b[0m         \u001b[0mkey\u001b[0m \u001b[0;34m=\u001b[0m \u001b[0mcom\u001b[0m\u001b[0;34m.\u001b[0m\u001b[0m_apply_if_callable\u001b[0m\u001b[0;34m(\u001b[0m\u001b[0mkey\u001b[0m\u001b[0;34m,\u001b[0m \u001b[0mself\u001b[0m\u001b[0;34m)\u001b[0m\u001b[0;34m\u001b[0m\u001b[0m\n\u001b[1;32m    765\u001b[0m         \u001b[0;32mtry\u001b[0m\u001b[0;34m:\u001b[0m\u001b[0;34m\u001b[0m\u001b[0m\n\u001b[0;32m--> 766\u001b[0;31m             \u001b[0mresult\u001b[0m \u001b[0;34m=\u001b[0m \u001b[0mself\u001b[0m\u001b[0;34m.\u001b[0m\u001b[0mindex\u001b[0m\u001b[0;34m.\u001b[0m\u001b[0mget_value\u001b[0m\u001b[0;34m(\u001b[0m\u001b[0mself\u001b[0m\u001b[0;34m,\u001b[0m \u001b[0mkey\u001b[0m\u001b[0;34m)\u001b[0m\u001b[0;34m\u001b[0m\u001b[0m\n\u001b[0m\u001b[1;32m    767\u001b[0m \u001b[0;34m\u001b[0m\u001b[0m\n\u001b[1;32m    768\u001b[0m             \u001b[0;32mif\u001b[0m \u001b[0;32mnot\u001b[0m \u001b[0mis_scalar\u001b[0m\u001b[0;34m(\u001b[0m\u001b[0mresult\u001b[0m\u001b[0;34m)\u001b[0m\u001b[0;34m:\u001b[0m\u001b[0;34m\u001b[0m\u001b[0m\n",
      "\u001b[0;32m~/anaconda3/envs/py36/lib/python3.6/site-packages/pandas/core/indexes/base.py\u001b[0m in \u001b[0;36mget_value\u001b[0;34m(self, series, key)\u001b[0m\n\u001b[1;32m   3101\u001b[0m         \u001b[0;32mtry\u001b[0m\u001b[0;34m:\u001b[0m\u001b[0;34m\u001b[0m\u001b[0m\n\u001b[1;32m   3102\u001b[0m             return self._engine.get_value(s, k,\n\u001b[0;32m-> 3103\u001b[0;31m                                           tz=getattr(series.dtype, 'tz', None))\n\u001b[0m\u001b[1;32m   3104\u001b[0m         \u001b[0;32mexcept\u001b[0m \u001b[0mKeyError\u001b[0m \u001b[0;32mas\u001b[0m \u001b[0me1\u001b[0m\u001b[0;34m:\u001b[0m\u001b[0;34m\u001b[0m\u001b[0m\n\u001b[1;32m   3105\u001b[0m             \u001b[0;32mif\u001b[0m \u001b[0mlen\u001b[0m\u001b[0;34m(\u001b[0m\u001b[0mself\u001b[0m\u001b[0;34m)\u001b[0m \u001b[0;34m>\u001b[0m \u001b[0;36m0\u001b[0m \u001b[0;32mand\u001b[0m \u001b[0mself\u001b[0m\u001b[0;34m.\u001b[0m\u001b[0minferred_type\u001b[0m \u001b[0;32min\u001b[0m \u001b[0;34m[\u001b[0m\u001b[0;34m'integer'\u001b[0m\u001b[0;34m,\u001b[0m \u001b[0;34m'boolean'\u001b[0m\u001b[0;34m]\u001b[0m\u001b[0;34m:\u001b[0m\u001b[0;34m\u001b[0m\u001b[0m\n",
      "\u001b[0;31mKeyboardInterrupt\u001b[0m: "
     ]
    }
   ],
   "source": [
    "for id,user1 in group_by_user.iterrows():\n",
    "    for id2,user2 in group_by_user.iterrows():\n",
    "        if user1.user_id==user2.user_id:\n",
    "            continue\n",
    "        jaccard = len(user1.business_id & user2.business_id)\n",
    "        jaccard/= len(user1.business_id | user2.business_id)\n",
    "        user1_user2_jaccard = user1_user2_jaccard.append({'user1': user1.user_id, 'user2' :user2.user_id, 'jaccard' :jaccard}, ignore_index=True)\n",
    "        \n",
    "        \n",
    "        "
   ]
  },
  {
   "cell_type": "code",
   "execution_count": null,
   "metadata": {},
   "outputs": [],
   "source": [
    "user1_user2_jaccard"
   ]
  },
  {
   "cell_type": "code",
   "execution_count": null,
   "metadata": {},
   "outputs": [],
   "source": []
  }
 ],
 "metadata": {
  "kernelspec": {
   "display_name": "Python 2",
   "language": "python",
   "name": "python2"
  },
  "language_info": {
   "codemirror_mode": {
    "name": "ipython",
    "version": 2
   },
   "file_extension": ".py",
   "mimetype": "text/x-python",
   "name": "python",
   "nbconvert_exporter": "python",
   "pygments_lexer": "ipython2",
   "version": "2.7.15"
  }
 },
 "nbformat": 4,
 "nbformat_minor": 2
}
