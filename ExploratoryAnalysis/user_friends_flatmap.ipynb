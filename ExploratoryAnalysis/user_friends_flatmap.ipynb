{
 "cells": [
  {
   "cell_type": "code",
   "execution_count": 1,
   "metadata": {},
   "outputs": [],
   "source": [
    "import pyspark\n",
    "from pyspark.sql import SQLContext\n",
    "from pyspark.sql.functions import col, split\n",
    "\n",
    "sc = pyspark.SparkContext('local[*]')\n"
   ]
  },
  {
   "cell_type": "code",
   "execution_count": 2,
   "metadata": {},
   "outputs": [
    {
     "data": {
      "text/plain": [
       "13969027"
      ]
     },
     "execution_count": 2,
     "metadata": {},
     "output_type": "execute_result"
    }
   ],
   "source": [
    "sqlContext = SQLContext(sc)\n",
    "df = sqlContext.read.format('com.databricks.spark.csv').options(header='true', inferschema='true').load('users_from_arizona.csv')\n",
    "newDf = df.select(col(\"user_id\"), split(col(\"friends\"), \",\\s*\").alias(\"friends\"))\n",
    "\n",
    "\n",
    "def addToSet(x):\n",
    "    user_friends_set = []\n",
    "    for each in x.friends:\n",
    "        if(x.user_id < each):\n",
    "            user_friends_set.append((x.user_id,each))\n",
    "        else:\n",
    "            user_friends_set.append((each,x.user_id))\n",
    "    return user_friends_set\n",
    "\n",
    "rdd = newDf.rdd.flatMap(addToSet)\n",
    "rdd.distinct().count()"
   ]
  },
  {
   "cell_type": "code",
   "execution_count": 4,
   "metadata": {},
   "outputs": [],
   "source": [
    "from pyspark.sql import SparkSession\n",
    "spark = SparkSession(sc)\n",
    "final_df = rdd.distinct().toDF()\n",
    "final_df.write.format('com.databricks.spark.csv').save('user_friends_flatmap_2lkh_record.csv')"
   ]
  },
  {
   "cell_type": "code",
   "execution_count": 6,
   "metadata": {},
   "outputs": [
    {
     "name": "stdout",
     "output_type": "stream",
     "text": [
      "Without using distinct\n"
     ]
    },
    {
     "data": {
      "text/plain": [
       "14831855"
      ]
     },
     "execution_count": 6,
     "metadata": {},
     "output_type": "execute_result"
    }
   ],
   "source": [
    "print \"Without using distinct\"\n",
    "rdd.count()"
   ]
  },
  {
   "cell_type": "code",
   "execution_count": null,
   "metadata": {},
   "outputs": [],
   "source": []
  }
 ],
 "metadata": {
  "kernelspec": {
   "display_name": "Python 2",
   "language": "python",
   "name": "python2"
  },
  "language_info": {
   "codemirror_mode": {
    "name": "ipython",
    "version": 2
   },
   "file_extension": ".py",
   "mimetype": "text/x-python",
   "name": "python",
   "nbconvert_exporter": "python",
   "pygments_lexer": "ipython2",
   "version": "2.7.15"
  }
 },
 "nbformat": 4,
 "nbformat_minor": 2
}
