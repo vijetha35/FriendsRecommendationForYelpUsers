{
 "cells": [
  {
   "cell_type": "code",
   "execution_count": 1,
   "metadata": {},
   "outputs": [],
   "source": [
    "import pyspark\n",
    "from pyspark.sql import SQLContext\n",
    "from pyspark.sql.functions import col, split\n",
    "\n",
    "sc = pyspark.SparkContext('local[*]')\n",
    "\n",
    "sqlContext = SQLContext(sc)\n",
    "users_df = sqlContext.read.format('com.databricks.spark.csv').options(header='true', inferschema='true').load('/Users/monisha/Desktop/USC/ThirdSemester/CSCI541-DataMining/Project/allusers_2000.csv')\n"
   ]
  },
  {
   "cell_type": "code",
   "execution_count": 2,
   "metadata": {},
   "outputs": [],
   "source": [
    "users_toPandas = users_df.toPandas()"
   ]
  },
  {
   "cell_type": "code",
   "execution_count": 7,
   "metadata": {},
   "outputs": [
    {
     "name": "stdout",
     "output_type": "stream",
     "text": [
      "<type 'numpy.ndarray'>\n",
      "<type 'numpy.ndarray'>\n",
      "Num Features: 1\n",
      "['review_count', 'average_stars', 'fans', 'yelping_since_year', 'friends_count']\n",
      "Selected Features: [False False False False False  True]\n",
      "Feature Ranking: [6 2 4 3 5 1]\n"
     ]
    }
   ],
   "source": [
    "#Recursive feature eliminations\n",
    "from sklearn import datasets\n",
    "from sklearn.feature_selection import RFE\n",
    "from sklearn.linear_model import LogisticRegression\n",
    "from pandas import read_csv\n",
    "url = \"/Users/monisha/Desktop/USC/ThirdSemester/CSCI541-DataMining/Project/allusers_2000.csv\"\n",
    "names = ['user_id','review_count','average_stars','fans','yelping_since_year','friends_count','elite_count','group']\n",
    "dataframe = read_csv(url,header = 0)\n",
    "array = dataframe.values\n",
    "X = array[:,1:7]\n",
    "print type(X)\n",
    "Y = array[:,7]\n",
    "Y = Y.astype('int')\n",
    "print type(Y)\n",
    "model = LogisticRegression()\n",
    "# create the RFE model and select 3 attributes\n",
    "\n",
    "rfe = RFE(model, 1)\n",
    "rfe = rfe.fit(X, Y)\n",
    "# summarize the selection of the attributes\n",
    "print(\"Num Features: %d\") % rfe.n_features_\n",
    "print names[1:-2]\n",
    "print(\"Selected Features: %s\") % rfe.support_\n",
    "print(\"Feature Ranking: %s\") % rfe.ranking_"
   ]
  },
  {
   "cell_type": "code",
   "execution_count": 8,
   "metadata": {},
   "outputs": [
    {
     "name": "stdout",
     "output_type": "stream",
     "text": [
      "['review_count', 'average_stars', 'fans', 'yelping_since_year', 'friends_count']\n",
      "[0.2474862  0.24352676 0.06357316 0.11480511 0.32114538 0.00946339]\n"
     ]
    }
   ],
   "source": [
    "#Feature Importance - EXTRATREESCLASSIFIER\n",
    "from sklearn import datasets\n",
    "from sklearn import metrics\n",
    "from sklearn.ensemble import ExtraTreesClassifier\n",
    "# load the iris datasets\n",
    "#dataset = datasets.load_iris()\n",
    "# fit an Extra Trees model to the data\n",
    "model = ExtraTreesClassifier()\n",
    "model.fit(X, Y)\n",
    "# display the relative importance of each attribute\n",
    "print names[1:-2]\n",
    "print(model.feature_importances_)"
   ]
  },
  {
   "cell_type": "code",
   "execution_count": null,
   "metadata": {},
   "outputs": [],
   "source": []
  }
 ],
 "metadata": {
  "kernelspec": {
   "display_name": "Python 2",
   "language": "python",
   "name": "python2"
  },
  "language_info": {
   "codemirror_mode": {
    "name": "ipython",
    "version": 2
   },
   "file_extension": ".py",
   "mimetype": "text/x-python",
   "name": "python",
   "nbconvert_exporter": "python",
   "pygments_lexer": "ipython2",
   "version": "2.7.15"
  }
 },
 "nbformat": 4,
 "nbformat_minor": 2
}
