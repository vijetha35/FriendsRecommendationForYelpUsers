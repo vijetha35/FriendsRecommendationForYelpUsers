{
 "cells": [
  {
   "cell_type": "code",
   "execution_count": 67,
   "metadata": {},
   "outputs": [
    {
     "ename": "ValueError",
     "evalue": "Cannot run multiple SparkContexts at once; existing SparkContext(app=pyspark-shell, master=local[*]) created by __init__ at <ipython-input-1-f4c2851cfeba>:5 ",
     "output_type": "error",
     "traceback": [
      "\u001b[0;31m---------------------------------------------------------------------------\u001b[0m",
      "\u001b[0;31mValueError\u001b[0m                                Traceback (most recent call last)",
      "\u001b[0;32m<ipython-input-67-f4c2851cfeba>\u001b[0m in \u001b[0;36m<module>\u001b[0;34m()\u001b[0m\n\u001b[1;32m      3\u001b[0m \u001b[0;32mfrom\u001b[0m \u001b[0mpyspark\u001b[0m\u001b[0;34m.\u001b[0m\u001b[0msql\u001b[0m\u001b[0;34m.\u001b[0m\u001b[0mfunctions\u001b[0m \u001b[0;32mimport\u001b[0m \u001b[0mcol\u001b[0m\u001b[0;34m,\u001b[0m \u001b[0msplit\u001b[0m\u001b[0;34m\u001b[0m\u001b[0m\n\u001b[1;32m      4\u001b[0m \u001b[0;34m\u001b[0m\u001b[0m\n\u001b[0;32m----> 5\u001b[0;31m \u001b[0msc\u001b[0m \u001b[0;34m=\u001b[0m \u001b[0mpyspark\u001b[0m\u001b[0;34m.\u001b[0m\u001b[0mSparkContext\u001b[0m\u001b[0;34m(\u001b[0m\u001b[0;34m'local[*]'\u001b[0m\u001b[0;34m)\u001b[0m\u001b[0;34m\u001b[0m\u001b[0m\n\u001b[0m\u001b[1;32m      6\u001b[0m \u001b[0;34m\u001b[0m\u001b[0m\n\u001b[1;32m      7\u001b[0m \u001b[0msqlContext\u001b[0m \u001b[0;34m=\u001b[0m \u001b[0mSQLContext\u001b[0m\u001b[0;34m(\u001b[0m\u001b[0msc\u001b[0m\u001b[0;34m)\u001b[0m\u001b[0;34m\u001b[0m\u001b[0m\n",
      "\u001b[0;32m/Users/shravya/data_mining/assignment/hw1/spark-2.3.1-bin-hadoop2.7/python/pyspark/context.pyc\u001b[0m in \u001b[0;36m__init__\u001b[0;34m(self, master, appName, sparkHome, pyFiles, environment, batchSize, serializer, conf, gateway, jsc, profiler_cls)\u001b[0m\n\u001b[1;32m    113\u001b[0m         \"\"\"\n\u001b[1;32m    114\u001b[0m         \u001b[0mself\u001b[0m\u001b[0;34m.\u001b[0m\u001b[0m_callsite\u001b[0m \u001b[0;34m=\u001b[0m \u001b[0mfirst_spark_call\u001b[0m\u001b[0;34m(\u001b[0m\u001b[0;34m)\u001b[0m \u001b[0;32mor\u001b[0m \u001b[0mCallSite\u001b[0m\u001b[0;34m(\u001b[0m\u001b[0mNone\u001b[0m\u001b[0;34m,\u001b[0m \u001b[0mNone\u001b[0m\u001b[0;34m,\u001b[0m \u001b[0mNone\u001b[0m\u001b[0;34m)\u001b[0m\u001b[0;34m\u001b[0m\u001b[0m\n\u001b[0;32m--> 115\u001b[0;31m         \u001b[0mSparkContext\u001b[0m\u001b[0;34m.\u001b[0m\u001b[0m_ensure_initialized\u001b[0m\u001b[0;34m(\u001b[0m\u001b[0mself\u001b[0m\u001b[0;34m,\u001b[0m \u001b[0mgateway\u001b[0m\u001b[0;34m=\u001b[0m\u001b[0mgateway\u001b[0m\u001b[0;34m,\u001b[0m \u001b[0mconf\u001b[0m\u001b[0;34m=\u001b[0m\u001b[0mconf\u001b[0m\u001b[0;34m)\u001b[0m\u001b[0;34m\u001b[0m\u001b[0m\n\u001b[0m\u001b[1;32m    116\u001b[0m         \u001b[0;32mtry\u001b[0m\u001b[0;34m:\u001b[0m\u001b[0;34m\u001b[0m\u001b[0m\n\u001b[1;32m    117\u001b[0m             self._do_init(master, appName, sparkHome, pyFiles, environment, batchSize, serializer,\n",
      "\u001b[0;32m/Users/shravya/data_mining/assignment/hw1/spark-2.3.1-bin-hadoop2.7/python/pyspark/context.pyc\u001b[0m in \u001b[0;36m_ensure_initialized\u001b[0;34m(cls, instance, gateway, conf)\u001b[0m\n\u001b[1;32m    306\u001b[0m                         \u001b[0;34m\" created by %s at %s:%s \"\u001b[0m\u001b[0;34m\u001b[0m\u001b[0m\n\u001b[1;32m    307\u001b[0m                         % (currentAppName, currentMaster,\n\u001b[0;32m--> 308\u001b[0;31m                             callsite.function, callsite.file, callsite.linenum))\n\u001b[0m\u001b[1;32m    309\u001b[0m                 \u001b[0;32melse\u001b[0m\u001b[0;34m:\u001b[0m\u001b[0;34m\u001b[0m\u001b[0m\n\u001b[1;32m    310\u001b[0m                     \u001b[0mSparkContext\u001b[0m\u001b[0;34m.\u001b[0m\u001b[0m_active_spark_context\u001b[0m \u001b[0;34m=\u001b[0m \u001b[0minstance\u001b[0m\u001b[0;34m\u001b[0m\u001b[0m\n",
      "\u001b[0;31mValueError\u001b[0m: Cannot run multiple SparkContexts at once; existing SparkContext(app=pyspark-shell, master=local[*]) created by __init__ at <ipython-input-1-f4c2851cfeba>:5 "
     ]
    }
   ],
   "source": [
    "import pyspark\n",
    "from pyspark.sql import SQLContext\n",
    "from pyspark.sql.functions import col, split\n",
    "\n",
    "sc = pyspark.SparkContext('local[*]')\n",
    "\n",
    "sqlContext = SQLContext(sc)\n",
    "df = sqlContext.read.format('com.databricks.spark.csv').options(header='true', inferschema='true').load('users_from_arizona.csv')\n"
   ]
  },
  {
   "cell_type": "code",
   "execution_count": 102,
   "metadata": {},
   "outputs": [
    {
     "name": "stdout",
     "output_type": "stream",
     "text": [
      "StructType(List(StructField(business_id,StringType,true),StructField(cool,LongType,true),StructField(date,StringType,true),StructField(funny,LongType,true),StructField(review_id,StringType,true),StructField(stars,LongType,true),StructField(text,StringType,true),StructField(useful,LongType,true),StructField(user_id,StringType,true)))\n"
     ]
    }
   ],
   "source": [
    "from pyspark.sql import SparkSession\n",
    "spark = SparkSession.builder.appName(\"Tip\").getOrCreate()\n",
    "\n",
    "#tip_df = spark.read.json('/Users/shravya/data_mining/project/yelp_dataset/yelp_academic_dataset_tip.json')\n",
    "reviews_df =spark.read.json('/Users/shravya/data_mining/project/yelp_dataset/yelp_academic_dataset_review.json')\n",
    "#business_df =spark.read.json('/Users/shravya/data_mining/project/yelp_dataset/yelp_academic_dataset_business.json')\n",
    "users_df =spark.read.json('/Users/shravya/data_mining/project/yelp_dataset/yelp_academic_dataset_user.json')\n",
    "#checkin_df =spark.read.json('/Users/shravya/data_mining/project/yelp_dataset/yelp_academic_dataset_checkin.json')\n",
    "\n",
    "print reviews_df.schema"
   ]
  },
  {
   "cell_type": "code",
   "execution_count": 69,
   "metadata": {},
   "outputs": [
    {
     "data": {
      "text/plain": [
       "[Row(stars=2, text_count=449, useful=0),\n",
       " Row(stars=5, text_count=317, useful=0),\n",
       " Row(stars=1, text_count=156, useful=3),\n",
       " Row(stars=2, text_count=901, useful=2),\n",
       " Row(stars=5, text_count=165, useful=0)]"
      ]
     },
     "execution_count": 69,
     "metadata": {},
     "output_type": "execute_result"
    }
   ],
   "source": [
    "from pyspark.sql.types import IntegerType\n",
    "from pyspark.sql.functions import udf\n",
    "\n",
    "size_ = udf(lambda xs: len(xs), IntegerType())\n",
    "newDf = reviews_df.select(col(\"stars\"), size_(col(\"text\")).alias(\"text_count\"), col(\"useful\"))\n",
    "newDf.head(5)\n"
   ]
  },
  {
   "cell_type": "code",
   "execution_count": 104,
   "metadata": {},
   "outputs": [
    {
     "data": {
      "text/plain": [
       "[Row(average_stars=3.89, compliment_cool=0, compliment_cute=0, compliment_funny=0, compliment_hot=0, compliment_list=0, compliment_more=0, compliment_note=0, compliment_photos=0, compliment_plain=0, compliment_profile=0, compliment_writer=0, cool=0, elite=u'None', fans=0, friends=u'YwaKGmRNnSa3R3N4Hf9jLw, NDjDKV7IWeqS_kvdlNS9zw, eArNPOynylyfcXxQqXag-g, 7NAKCkRMw8Qwke3BWOgE8A, syA7uYoDjohc7gWBWaEZmw, bvOicnFbku4B1mK12fIP6Q, wGcbKPOJYpnAB-Oi86_AtQ, ysvphNWLP0ZkXPOLrXw7Tg, gPnezUoB9AcxE_qeBR_Dsw, edJEj384w4_09sivk6VblA, rS91MRNTRGikL4_acEfdNQ, bMSePKFYwjslP18fFmeHnA, EOIrXIWKMFcdn_7CPBacDQ, SZTscGkXeemMSGz1hN369Q, 1H1Cn5utCE5jxI5BXfpxgw, qqx5YwBV8OlHlpU2yPFPnA, ZxYgNB6Nuj6R50gXewLw5w, OcpxS8U7evLWyfw1K2pwng, 3Ua7O424qU24smW7QcmFbw, sa4wUK8fbCLqiUq4rC0h9A, 4F0BijndBJDS0hQEmqfm_A, 44IPobgBDnZuFJoGD3LrUQ, ismGKdAF86dKAqMnrA9ehw, alUUlKTAKiNh-32E7k22eQ, RYkinABdGJ2t0zIEvyMtkg, Y9oNrUa4jWjAVVgDeEf43w, 9clBVewke08oNI85nZWqEg, R47JPwtASV1o6OOAkeyNPw, KcwRRhds7XQxYeWxVp4Azw, F4oZPZacaqhlXUDQl4xBHQ, Uwt1-D5elADZQcrMc1vrUw, y11itP1bR1vOPQO_AWtDdg, vpqgTC91x4LdXWtwlkMNXA, L4uxvvEuc146Qo8wRipp6Q, shYLM4g_3C5LU4Jb7KW0eQ, PmTaA51J5EItUIST-PGCgA, EEwZgv8HU54yu-uFQ8RLEw, 5DuZbOCtUECYoWX7HPfMoA, NsuHPkhUQDht1_JBBu1gtQ, lUTdfcu2YMGuYuvBv1aoNw, JKONHsq59h7haSOafAw8Pw, cf5MBGjn-oNlvDIE7lC7wA, 6BLQWXu_1Ab5MyHpIBdPXw, XdLQep9R3V7EHwW2fjgK-g, 9XQZ3rBx7IgsUZkvY-6X-w, 8knws-sivtjAnrdbXSy5Jg, 686rS4I2WN3fLIeO31CwdQ, BsOHtPtVWsPj3cfJJJShtA, p3OjUSV9ueh33BkZHhVlhQ, ZgtZoGSo9JqS0a5C8xrl2A, mFe__wm3YmrUKmBTDHqE7A, LOZTPW1E6bb2iyATrEP7hw, U50S7xOcJ3R007HnLme2oA, 2wu9uDIDJxrz4RuKo99KDw, EX0-svXSfdwDyWCDuH-2yA, itWMQYbL5UVccVHgTrMloQ, lRHKneipYlS2D87Qz-16aA, yP6Ubn-tRtmJWnyxOfyCbQ, QZleAB0LVYrim9kT8liFLg, crFFYb94H7LHwl75VQMqhw, l1BRmIVQqvzHS7G0Txo01A, yGii2g8t_Ozznr-Qzh2kHw, VIEmJc9r5bGg3OOJiZTZiw, jG0JWOmHLTdEg65TvqtrqQ, 2JDxKJRvkeePPOMy4k8q3g, oRB5MHOl3Elh7DZqm4_htQ, SQVq_HoU4C4FNwDoU2HEqw, J9GsaMkJ0IPnqmDM1iBlVA, p9P8B1cDy4svagBPuXsjUA, y8lWDU5yJetM4-4tObZY-w, RKxrUwZsW2Tm_4BiACvQUw, bzUGParP-Ni0R4jaCgtLmg, pTFH0iIHOtytKGlAxUlm3A, LTmt7jG8_LI5BHUnmAfl2w, hUNHMxt_5B5x8vN7TwXVDw, TnObNPw4-Yj_9vJ6LyiUog, sFrEFoAMUg4IaCqDxFCtCg, n4TZSTUWKfKNsFHMxpAtOQ, 9pbzuhA56lf7waTdh7Yyeg, _CoXUxu-hyx18k6COX-TkQ, LGiWb-5i-Sy138BovnBuFA, ddw3f2HvJpBfJXtYWNIGsg, bvTHByyhpmH3Vp4Nrk1sNw, --iNdHx-d8k8GXYTFxPvKg, kKyx3G4I2ejhLFcXKVZaUw, ZF-1QU2jweLa59a5gYQptA, UZd_TFUcSgO0gRzLPZ8eIg, 0MHru-F6FwqHsZKsuZ90xA, wlVV8Nv2fKtUJzPqrKHmKg, Q8gGSIRekib09y_tmxiKvw, 2EZWKjv9Jj9wpGHD-1XXcA, qRVhPlSg2IpgA49_U-UK5g, bh8Tji4pyXx-kgL5Xl0Tfw, FbaJ4QOm6pJH_8mfemnxcw, zm-s_qmf9frZ1BRBhjIzSA, 2jeUyneKVMVeuMCQfLwQfg, ABnWrv303wCbVQMM0IbsrA', funny=0, name=u'Yolie', review_count=8, useful=6, user_id=u'B3xwUPXMlCb7_5IEDlq4Uw', yelping_since=u'2012-01-02')]"
      ]
     },
     "execution_count": 104,
     "metadata": {},
     "output_type": "execute_result"
    }
   ],
   "source": [
    "users_df = users_df.filter(col('friends') != 'None')\n",
    "users_df.head(1)"
   ]
  },
  {
   "cell_type": "code",
   "execution_count": 72,
   "metadata": {},
   "outputs": [
    {
     "name": "stdout",
     "output_type": "stream",
     "text": [
      "StructType(List(StructField(stars,LongType,true),StructField(text_count,IntegerType,true),StructField(useful,LongType,true)))\n"
     ]
    },
    {
     "data": {
      "text/plain": [
       "-0.19298746326688193"
      ]
     },
     "execution_count": 72,
     "metadata": {},
     "output_type": "execute_result"
    }
   ],
   "source": [
    "print newDf.schema\n",
    "newDf.stat.corr(str('text_count'),str('stars'))"
   ]
  },
  {
   "cell_type": "code",
   "execution_count": 73,
   "metadata": {},
   "outputs": [
    {
     "data": {
      "text/plain": [
       "0.557153081527723"
      ]
     },
     "execution_count": 73,
     "metadata": {},
     "output_type": "execute_result"
    }
   ],
   "source": [
    "users_df.stat.corr(str('review_count'), str('fans'))"
   ]
  },
  {
   "cell_type": "code",
   "execution_count": 74,
   "metadata": {},
   "outputs": [
    {
     "data": {
      "text/plain": [
       "-0.002956915413456407"
      ]
     },
     "execution_count": 74,
     "metadata": {},
     "output_type": "execute_result"
    }
   ],
   "source": [
    "users_df.stat.corr(str('review_count'), str('average_stars'))"
   ]
  },
  {
   "cell_type": "code",
   "execution_count": 75,
   "metadata": {},
   "outputs": [
    {
     "data": {
      "text/plain": [
       "0.00588757734076139"
      ]
     },
     "execution_count": 75,
     "metadata": {},
     "output_type": "execute_result"
    }
   ],
   "source": [
    "users_df.stat.corr(str('average_stars'), str('fans'))"
   ]
  },
  {
   "cell_type": "code",
   "execution_count": 105,
   "metadata": {},
   "outputs": [],
   "source": [
    "users_df = users_df.withColumn(\"year\", split(col('yelping_since'),\"-\")[0])\n",
    "#users_df.head(5)"
   ]
  },
  {
   "cell_type": "code",
   "execution_count": 106,
   "metadata": {},
   "outputs": [],
   "source": [
    "from pyspark.sql.types import *\n",
    "import pyspark.sql.functions as funcs\n",
    "import datetime\n",
    "\n",
    "users_df = users_df.withColumn('yelping_since_year', (2018 - funcs.col(\"year\")))\n",
    "# users_df.head(1)"
   ]
  },
  {
   "cell_type": "code",
   "execution_count": null,
   "metadata": {},
   "outputs": [],
   "source": []
  },
  {
   "cell_type": "code",
   "execution_count": 108,
   "metadata": {},
   "outputs": [
    {
     "data": {
      "text/plain": [
       "[Row(average_stars=3.89, compliment_cool=0, compliment_cute=0, compliment_funny=0, compliment_hot=0, compliment_list=0, compliment_more=0, compliment_note=0, compliment_photos=0, compliment_plain=0, compliment_profile=0, compliment_writer=0, cool=0, elite=u'None', fans=0, friends=u'YwaKGmRNnSa3R3N4Hf9jLw, NDjDKV7IWeqS_kvdlNS9zw, eArNPOynylyfcXxQqXag-g, 7NAKCkRMw8Qwke3BWOgE8A, syA7uYoDjohc7gWBWaEZmw, bvOicnFbku4B1mK12fIP6Q, wGcbKPOJYpnAB-Oi86_AtQ, ysvphNWLP0ZkXPOLrXw7Tg, gPnezUoB9AcxE_qeBR_Dsw, edJEj384w4_09sivk6VblA, rS91MRNTRGikL4_acEfdNQ, bMSePKFYwjslP18fFmeHnA, EOIrXIWKMFcdn_7CPBacDQ, SZTscGkXeemMSGz1hN369Q, 1H1Cn5utCE5jxI5BXfpxgw, qqx5YwBV8OlHlpU2yPFPnA, ZxYgNB6Nuj6R50gXewLw5w, OcpxS8U7evLWyfw1K2pwng, 3Ua7O424qU24smW7QcmFbw, sa4wUK8fbCLqiUq4rC0h9A, 4F0BijndBJDS0hQEmqfm_A, 44IPobgBDnZuFJoGD3LrUQ, ismGKdAF86dKAqMnrA9ehw, alUUlKTAKiNh-32E7k22eQ, RYkinABdGJ2t0zIEvyMtkg, Y9oNrUa4jWjAVVgDeEf43w, 9clBVewke08oNI85nZWqEg, R47JPwtASV1o6OOAkeyNPw, KcwRRhds7XQxYeWxVp4Azw, F4oZPZacaqhlXUDQl4xBHQ, Uwt1-D5elADZQcrMc1vrUw, y11itP1bR1vOPQO_AWtDdg, vpqgTC91x4LdXWtwlkMNXA, L4uxvvEuc146Qo8wRipp6Q, shYLM4g_3C5LU4Jb7KW0eQ, PmTaA51J5EItUIST-PGCgA, EEwZgv8HU54yu-uFQ8RLEw, 5DuZbOCtUECYoWX7HPfMoA, NsuHPkhUQDht1_JBBu1gtQ, lUTdfcu2YMGuYuvBv1aoNw, JKONHsq59h7haSOafAw8Pw, cf5MBGjn-oNlvDIE7lC7wA, 6BLQWXu_1Ab5MyHpIBdPXw, XdLQep9R3V7EHwW2fjgK-g, 9XQZ3rBx7IgsUZkvY-6X-w, 8knws-sivtjAnrdbXSy5Jg, 686rS4I2WN3fLIeO31CwdQ, BsOHtPtVWsPj3cfJJJShtA, p3OjUSV9ueh33BkZHhVlhQ, ZgtZoGSo9JqS0a5C8xrl2A, mFe__wm3YmrUKmBTDHqE7A, LOZTPW1E6bb2iyATrEP7hw, U50S7xOcJ3R007HnLme2oA, 2wu9uDIDJxrz4RuKo99KDw, EX0-svXSfdwDyWCDuH-2yA, itWMQYbL5UVccVHgTrMloQ, lRHKneipYlS2D87Qz-16aA, yP6Ubn-tRtmJWnyxOfyCbQ, QZleAB0LVYrim9kT8liFLg, crFFYb94H7LHwl75VQMqhw, l1BRmIVQqvzHS7G0Txo01A, yGii2g8t_Ozznr-Qzh2kHw, VIEmJc9r5bGg3OOJiZTZiw, jG0JWOmHLTdEg65TvqtrqQ, 2JDxKJRvkeePPOMy4k8q3g, oRB5MHOl3Elh7DZqm4_htQ, SQVq_HoU4C4FNwDoU2HEqw, J9GsaMkJ0IPnqmDM1iBlVA, p9P8B1cDy4svagBPuXsjUA, y8lWDU5yJetM4-4tObZY-w, RKxrUwZsW2Tm_4BiACvQUw, bzUGParP-Ni0R4jaCgtLmg, pTFH0iIHOtytKGlAxUlm3A, LTmt7jG8_LI5BHUnmAfl2w, hUNHMxt_5B5x8vN7TwXVDw, TnObNPw4-Yj_9vJ6LyiUog, sFrEFoAMUg4IaCqDxFCtCg, n4TZSTUWKfKNsFHMxpAtOQ, 9pbzuhA56lf7waTdh7Yyeg, _CoXUxu-hyx18k6COX-TkQ, LGiWb-5i-Sy138BovnBuFA, ddw3f2HvJpBfJXtYWNIGsg, bvTHByyhpmH3Vp4Nrk1sNw, --iNdHx-d8k8GXYTFxPvKg, kKyx3G4I2ejhLFcXKVZaUw, ZF-1QU2jweLa59a5gYQptA, UZd_TFUcSgO0gRzLPZ8eIg, 0MHru-F6FwqHsZKsuZ90xA, wlVV8Nv2fKtUJzPqrKHmKg, Q8gGSIRekib09y_tmxiKvw, 2EZWKjv9Jj9wpGHD-1XXcA, qRVhPlSg2IpgA49_U-UK5g, bh8Tji4pyXx-kgL5Xl0Tfw, FbaJ4QOm6pJH_8mfemnxcw, zm-s_qmf9frZ1BRBhjIzSA, 2jeUyneKVMVeuMCQfLwQfg, ABnWrv303wCbVQMM0IbsrA', funny=0, name=u'Yolie', review_count=8, useful=6, user_id=u'B3xwUPXMlCb7_5IEDlq4Uw', yelping_since=u'2012-01-02', year=u'2012', yelping_since_year=6.0, friends_count=97, elite_count=0)]"
      ]
     },
     "execution_count": 108,
     "metadata": {},
     "output_type": "execute_result"
    }
   ],
   "source": [
    "#users_df = users_df.withColumn(split(col(\"friends\"), \",\\s*\").alias(\"friends\"))\n",
    "users_df = users_df.withColumn(\"friends_count\",size(split(col(\"friends\"), \",\\s*\")))\n",
    "users_df = users_df.withColumn(\"elite_count\", funcs.when(col(\"elite\") == 'None',0).otherwise(size(split(col(\"elite\"), \",\\s*\"))))\n",
    "users_df.head(1)"
   ]
  },
  {
   "cell_type": "code",
   "execution_count": 109,
   "metadata": {},
   "outputs": [
    {
     "data": {
      "text/plain": [
       "[Row(review_count=8, average_stars=3.89, fans=0, yelping_since_year=6.0, friends_count=97, elite_count=0)]"
      ]
     },
     "execution_count": 109,
     "metadata": {},
     "output_type": "execute_result"
    }
   ],
   "source": [
    "\n",
    "from pyspark.sql.functions import size\n",
    "\n",
    "users_df = users_df.select(col('review_count'),col('average_stars'),col('fans'),\n",
    "                              col('yelping_since_year'), col('friends_count'), col('elite_count'))\n",
    "users_df.head(1)"
   ]
  },
  {
   "cell_type": "code",
   "execution_count": 119,
   "metadata": {},
   "outputs": [],
   "source": [
    "users_df = users_df.filter(col('friends') != 'None')"
   ]
  },
  {
   "cell_type": "code",
   "execution_count": 124,
   "metadata": {},
   "outputs": [
    {
     "name": "stdout",
     "output_type": "stream",
     "text": [
      "+-------+-----------------+------------------+------------------+-------------------+\n",
      "|summary|     review_count|              fans|     friends_count|        elite_count|\n",
      "+-------+-----------------+------------------+------------------+-------------------+\n",
      "|  count|           879891|            879891|            879891|             879891|\n",
      "|   mean|33.91969005251787|2.4390793859693987| 73.74427968918877|0.25225397236703184|\n",
      "| stddev|99.60719680255816|19.857147295939647|169.03110351867116| 1.0599948070725687|\n",
      "|    min|                0|                 0|                 1|                  0|\n",
      "|    max|            12723|              8665|             14995|                 14|\n",
      "+-------+-----------------+------------------+------------------+-------------------+\n",
      "\n"
     ]
    }
   ],
   "source": [
    "aggExpr = []\n",
    "aggStd = []\n",
    "users_df[['review_count','fans','friends_count','elite_count']].describe().show()\n",
    "#         aggExpr.append(mean(users_df[column]).alias(column))\n",
    "#         aggStd.append(stddev(users_df[column]).alias(column + '_stddev'))\n",
    "# averages = users_df.agg(*aggExpr).collect()[0]\n",
    "# std_devs = users_df.agg(*aggStd).collect()[0]"
   ]
  },
  {
   "cell_type": "code",
   "execution_count": 127,
   "metadata": {},
   "outputs": [],
   "source": [
    "users_df.head(1)\n",
    "users_rdd = users_df.rdd.map(lambda x: (((x[0] - 33.92)/99.6),x[1], ((x[2] - 2.43)/19.86),x[3], ((x[4] - 73.74)/169), x[5]))"
   ]
  },
  {
   "cell_type": "code",
   "execution_count": 138,
   "metadata": {},
   "outputs": [],
   "source": [
    "users_df = users_rdd.toDF(['review_count','average_stars','fans','yelping_since_year','friends-count','elite_count'])"
   ]
  },
  {
   "cell_type": "code",
   "execution_count": 139,
   "metadata": {},
   "outputs": [
    {
     "data": {
      "text/plain": [
       "[Row(review_count=-0.2602409638554217, average_stars=3.89, fans=-0.12235649546827795, yelping_since_year=6.0, friends-count=0.1376331360946746, elite_count=0)]"
      ]
     },
     "execution_count": 139,
     "metadata": {},
     "output_type": "execute_result"
    }
   ],
   "source": [
    "users_df.head(1)"
   ]
  },
  {
   "cell_type": "code",
   "execution_count": 140,
   "metadata": {},
   "outputs": [],
   "source": [
    "pandas_df = users_df.toPandas()"
   ]
  },
  {
   "cell_type": "code",
   "execution_count": 141,
   "metadata": {},
   "outputs": [
    {
     "data": {
      "text/html": [
       "<div>\n",
       "<style scoped>\n",
       "    .dataframe tbody tr th:only-of-type {\n",
       "        vertical-align: middle;\n",
       "    }\n",
       "\n",
       "    .dataframe tbody tr th {\n",
       "        vertical-align: top;\n",
       "    }\n",
       "\n",
       "    .dataframe thead th {\n",
       "        text-align: right;\n",
       "    }\n",
       "</style>\n",
       "<table border=\"1\" class=\"dataframe\">\n",
       "  <thead>\n",
       "    <tr style=\"text-align: right;\">\n",
       "      <th></th>\n",
       "      <th>Attribute Pair</th>\n",
       "      <th>Correlation</th>\n",
       "    </tr>\n",
       "  </thead>\n",
       "  <tbody>\n",
       "    <tr>\n",
       "      <th>13</th>\n",
       "      <td>(elite_count, review_count)</td>\n",
       "      <td>0.705419</td>\n",
       "    </tr>\n",
       "    <tr>\n",
       "      <th>14</th>\n",
       "      <td>(fans, friends-count)</td>\n",
       "      <td>0.566364</td>\n",
       "    </tr>\n",
       "    <tr>\n",
       "      <th>2</th>\n",
       "      <td>(fans, review_count)</td>\n",
       "      <td>0.557153</td>\n",
       "    </tr>\n",
       "    <tr>\n",
       "      <th>3</th>\n",
       "      <td>(elite_count, fans)</td>\n",
       "      <td>0.419026</td>\n",
       "    </tr>\n",
       "    <tr>\n",
       "      <th>7</th>\n",
       "      <td>(friends-count, review_count)</td>\n",
       "      <td>0.417656</td>\n",
       "    </tr>\n",
       "    <tr>\n",
       "      <th>5</th>\n",
       "      <td>(elite_count, friends-count)</td>\n",
       "      <td>0.344970</td>\n",
       "    </tr>\n",
       "    <tr>\n",
       "      <th>10</th>\n",
       "      <td>(review_count, yelping_since_year)</td>\n",
       "      <td>0.270493</td>\n",
       "    </tr>\n",
       "    <tr>\n",
       "      <th>12</th>\n",
       "      <td>(elite_count, yelping_since_year)</td>\n",
       "      <td>0.220149</td>\n",
       "    </tr>\n",
       "    <tr>\n",
       "      <th>0</th>\n",
       "      <td>(fans, yelping_since_year)</td>\n",
       "      <td>0.123627</td>\n",
       "    </tr>\n",
       "    <tr>\n",
       "      <th>9</th>\n",
       "      <td>(friends-count, yelping_since_year)</td>\n",
       "      <td>0.045802</td>\n",
       "    </tr>\n",
       "    <tr>\n",
       "      <th>11</th>\n",
       "      <td>(average_stars, friends-count)</td>\n",
       "      <td>0.037934</td>\n",
       "    </tr>\n",
       "    <tr>\n",
       "      <th>4</th>\n",
       "      <td>(average_stars, elite_count)</td>\n",
       "      <td>0.010028</td>\n",
       "    </tr>\n",
       "    <tr>\n",
       "      <th>8</th>\n",
       "      <td>(average_stars, fans)</td>\n",
       "      <td>0.005888</td>\n",
       "    </tr>\n",
       "    <tr>\n",
       "      <th>1</th>\n",
       "      <td>(average_stars, yelping_since_year)</td>\n",
       "      <td>-0.003250</td>\n",
       "    </tr>\n",
       "    <tr>\n",
       "      <th>6</th>\n",
       "      <td>(average_stars, review_count)</td>\n",
       "      <td>-0.002957</td>\n",
       "    </tr>\n",
       "  </tbody>\n",
       "</table>\n",
       "</div>"
      ],
      "text/plain": [
       "                         Attribute Pair  Correlation\n",
       "13          (elite_count, review_count)     0.705419\n",
       "14                (fans, friends-count)     0.566364\n",
       "2                  (fans, review_count)     0.557153\n",
       "3                   (elite_count, fans)     0.419026\n",
       "7         (friends-count, review_count)     0.417656\n",
       "5          (elite_count, friends-count)     0.344970\n",
       "10   (review_count, yelping_since_year)     0.270493\n",
       "12    (elite_count, yelping_since_year)     0.220149\n",
       "0            (fans, yelping_since_year)     0.123627\n",
       "9   (friends-count, yelping_since_year)     0.045802\n",
       "11       (average_stars, friends-count)     0.037934\n",
       "4          (average_stars, elite_count)     0.010028\n",
       "8                 (average_stars, fans)     0.005888\n",
       "1   (average_stars, yelping_since_year)    -0.003250\n",
       "6         (average_stars, review_count)    -0.002957"
      ]
     },
     "execution_count": 141,
     "metadata": {},
     "output_type": "execute_result"
    }
   ],
   "source": [
    "correlations=pandas_df.corr()\n",
    "attrs = correlations.iloc[:,:] # all except target\n",
    "\n",
    "threshold = 0.0\n",
    "important_corrs = (attrs[abs(attrs) > threshold][attrs != 1.0]) \\\n",
    "    .unstack().dropna().to_dict()\n",
    "\n",
    "unique_important_corrs = pd.DataFrame(\n",
    "    list(set([(tuple(sorted(key)), important_corrs[key]) \\\n",
    "    for key in important_corrs])), \n",
    "        columns=['Attribute Pair', 'Correlation'])\n",
    "\n",
    "    # sorted by absolute value\n",
    "unique_important_corrs = unique_important_corrs.ix[\n",
    "    abs(unique_important_corrs['Correlation']).argsort()[::-1]]\n",
    "\n",
    "unique_important_corrs"
   ]
  },
  {
   "cell_type": "code",
   "execution_count": 142,
   "metadata": {},
   "outputs": [
    {
     "data": {
      "text/plain": [
       "<matplotlib.axes._subplots.AxesSubplot at 0x1c320ce4d0>"
      ]
     },
     "execution_count": 142,
     "metadata": {},
     "output_type": "execute_result"
    },
    {
     "data": {
      "image/png": "[encoded data removed]",
      "text/plain": [
       "<Figure size 720x432 with 2 Axes>"
      ]
     },
     "metadata": {},
     "output_type": "display_data"
    }
   ],
   "source": [
    "import pandas as pd\n",
    "import matplotlib.pyplot as plt\n",
    "import seaborn as sns\n",
    "import numpy as np\n",
    "\n",
    "corrmat = pandas_df.corr()\n",
    "f,ax = plt.subplots(figsize = (10,6))\n",
    "sns.heatmap(corrmat,vmax = 0.9, square = True)"
   ]
  },
  {
   "cell_type": "code",
   "execution_count": null,
   "metadata": {},
   "outputs": [],
   "source": []
  }
 ],
 "metadata": {
  "kernelspec": {
   "display_name": "Python 2",
   "language": "python",
   "name": "python2"
  },
  "language_info": {
   "codemirror_mode": {
    "name": "ipython",
    "version": 2
   },
   "file_extension": ".py",
   "mimetype": "text/x-python",
   "name": "python",
   "nbconvert_exporter": "python",
   "pygments_lexer": "ipython2",
   "version": "2.7.15"
  }
 },
 "nbformat": 4,
 "nbformat_minor": 2
}
