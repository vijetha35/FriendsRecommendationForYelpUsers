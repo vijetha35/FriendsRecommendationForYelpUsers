{
 "cells": [
  {
   "cell_type": "code",
   "execution_count": 3,
   "metadata": {},
   "outputs": [],
   "source": [
    "import pandas as pd\n",
    "import numpy as np\n",
    "import networkx as nx\n",
    "%matplotlib inline\n",
    "import matplotlib.pyplot as plt\n",
    "\n"
   ]
  },
  {
   "cell_type": "code",
   "execution_count": null,
   "metadata": {},
   "outputs": [],
   "source": []
  },
  {
   "cell_type": "code",
   "execution_count": 4,
   "metadata": {},
   "outputs": [],
   "source": [
    "user_data=pd.read_csv('/Users/apple/Desktop/DataMining/project/users_from_arizona.csv')\n"
   ]
  },
  {
   "cell_type": "code",
   "execution_count": 5,
   "metadata": {},
   "outputs": [
    {
     "data": {
      "text/html": [
       "<div>\n",
       "<style scoped>\n",
       "    .dataframe tbody tr th:only-of-type {\n",
       "        vertical-align: middle;\n",
       "    }\n",
       "\n",
       "    .dataframe tbody tr th {\n",
       "        vertical-align: top;\n",
       "    }\n",
       "\n",
       "    .dataframe thead th {\n",
       "        text-align: right;\n",
       "    }\n",
       "</style>\n",
       "<table border=\"1\" class=\"dataframe\">\n",
       "  <thead>\n",
       "    <tr style=\"text-align: right;\">\n",
       "      <th></th>\n",
       "      <th>Unnamed: 0</th>\n",
       "      <th>user_id</th>\n",
       "      <th>average_stars</th>\n",
       "      <th>compliment_cool</th>\n",
       "      <th>compliment_cute</th>\n",
       "      <th>compliment_funny</th>\n",
       "      <th>compliment_hot</th>\n",
       "      <th>compliment_list</th>\n",
       "      <th>compliment_more</th>\n",
       "      <th>compliment_note</th>\n",
       "      <th>...</th>\n",
       "      <th>compliment_writer</th>\n",
       "      <th>cool</th>\n",
       "      <th>elite</th>\n",
       "      <th>fans</th>\n",
       "      <th>friends</th>\n",
       "      <th>funny</th>\n",
       "      <th>name</th>\n",
       "      <th>review_count</th>\n",
       "      <th>useful</th>\n",
       "      <th>yelping_since</th>\n",
       "    </tr>\n",
       "  </thead>\n",
       "  <tbody>\n",
       "    <tr>\n",
       "      <th>0</th>\n",
       "      <td>0</td>\n",
       "      <td>-3i9bhfvrM3F1wsC9XIB8g</td>\n",
       "      <td>4.07</td>\n",
       "      <td>813</td>\n",
       "      <td>92</td>\n",
       "      <td>813</td>\n",
       "      <td>590</td>\n",
       "      <td>15</td>\n",
       "      <td>38</td>\n",
       "      <td>128</td>\n",
       "      <td>...</td>\n",
       "      <td>235</td>\n",
       "      <td>3052</td>\n",
       "      <td>2010, 2016, 2008, 2015, 2007, 2011, 2014, 2013...</td>\n",
       "      <td>94</td>\n",
       "      <td>CLKGEdkqwQT6oVJG_deC7g, sfow6eRRLPTQa4MEHmKbaQ...</td>\n",
       "      <td>2762</td>\n",
       "      <td>Linda</td>\n",
       "      <td>635</td>\n",
       "      <td>3215</td>\n",
       "      <td>2005-08-07</td>\n",
       "    </tr>\n",
       "    <tr>\n",
       "      <th>1</th>\n",
       "      <td>1</td>\n",
       "      <td>-55DgUo52I3zW9RxkZ-EAQ</td>\n",
       "      <td>4.56</td>\n",
       "      <td>0</td>\n",
       "      <td>0</td>\n",
       "      <td>0</td>\n",
       "      <td>0</td>\n",
       "      <td>0</td>\n",
       "      <td>0</td>\n",
       "      <td>0</td>\n",
       "      <td>...</td>\n",
       "      <td>0</td>\n",
       "      <td>9</td>\n",
       "      <td>None</td>\n",
       "      <td>0</td>\n",
       "      <td>vFhxmJcNdrnGNfN5w5LcVA, ffnUCiqR_yCC7uilc1b62Q...</td>\n",
       "      <td>1</td>\n",
       "      <td>John</td>\n",
       "      <td>45</td>\n",
       "      <td>19</td>\n",
       "      <td>2013-04-11</td>\n",
       "    </tr>\n",
       "    <tr>\n",
       "      <th>2</th>\n",
       "      <td>2</td>\n",
       "      <td>-7fIoUgPboApCfkG0U7W4g</td>\n",
       "      <td>3.25</td>\n",
       "      <td>0</td>\n",
       "      <td>0</td>\n",
       "      <td>0</td>\n",
       "      <td>0</td>\n",
       "      <td>0</td>\n",
       "      <td>0</td>\n",
       "      <td>0</td>\n",
       "      <td>...</td>\n",
       "      <td>0</td>\n",
       "      <td>0</td>\n",
       "      <td>None</td>\n",
       "      <td>0</td>\n",
       "      <td>a0vrgccRm7_z3uORfuhCgw, Qv-DsqeJqgg-qvN08cwzkQ...</td>\n",
       "      <td>0</td>\n",
       "      <td>Ashley</td>\n",
       "      <td>4</td>\n",
       "      <td>0</td>\n",
       "      <td>2015-08-10</td>\n",
       "    </tr>\n",
       "    <tr>\n",
       "      <th>3</th>\n",
       "      <td>3</td>\n",
       "      <td>-9da1xk7zgnnfO1uTVYGkA</td>\n",
       "      <td>4.10</td>\n",
       "      <td>5456</td>\n",
       "      <td>43</td>\n",
       "      <td>5456</td>\n",
       "      <td>3075</td>\n",
       "      <td>5</td>\n",
       "      <td>79</td>\n",
       "      <td>844</td>\n",
       "      <td>...</td>\n",
       "      <td>890</td>\n",
       "      <td>15512</td>\n",
       "      <td>2012, 2017, 2018, 2013, 2014, 2016, 2015</td>\n",
       "      <td>174</td>\n",
       "      <td>_owMBYfzT9dO7FXGXXzXqA, dYEHTYJeDJ4v8AUiExaVsw...</td>\n",
       "      <td>13579</td>\n",
       "      <td>Fran</td>\n",
       "      <td>1021</td>\n",
       "      <td>16172</td>\n",
       "      <td>2012-04-05</td>\n",
       "    </tr>\n",
       "    <tr>\n",
       "      <th>4</th>\n",
       "      <td>4</td>\n",
       "      <td>-D8Zi00T-ivGzQNc-ZAN3Q</td>\n",
       "      <td>1.80</td>\n",
       "      <td>0</td>\n",
       "      <td>0</td>\n",
       "      <td>0</td>\n",
       "      <td>0</td>\n",
       "      <td>0</td>\n",
       "      <td>0</td>\n",
       "      <td>1</td>\n",
       "      <td>...</td>\n",
       "      <td>0</td>\n",
       "      <td>0</td>\n",
       "      <td>None</td>\n",
       "      <td>0</td>\n",
       "      <td>PB97isgyCVqTx0Z6EtJ-Ig, z2HZod8BhRJ11W7_neSEwg...</td>\n",
       "      <td>0</td>\n",
       "      <td>Brittany</td>\n",
       "      <td>4</td>\n",
       "      <td>2</td>\n",
       "      <td>2012-04-17</td>\n",
       "    </tr>\n",
       "    <tr>\n",
       "      <th>5</th>\n",
       "      <td>5</td>\n",
       "      <td>-Ef8EdRF7yDxrCXIE2mE0A</td>\n",
       "      <td>3.00</td>\n",
       "      <td>0</td>\n",
       "      <td>0</td>\n",
       "      <td>0</td>\n",
       "      <td>0</td>\n",
       "      <td>0</td>\n",
       "      <td>0</td>\n",
       "      <td>0</td>\n",
       "      <td>...</td>\n",
       "      <td>0</td>\n",
       "      <td>0</td>\n",
       "      <td>None</td>\n",
       "      <td>0</td>\n",
       "      <td>OL2XOeg3CEoPtfpONVJ2Zg, zDUsbgkhH7DPCuBvXkCJdw...</td>\n",
       "      <td>0</td>\n",
       "      <td>Margaret</td>\n",
       "      <td>2</td>\n",
       "      <td>0</td>\n",
       "      <td>2014-12-24</td>\n",
       "    </tr>\n",
       "    <tr>\n",
       "      <th>6</th>\n",
       "      <td>6</td>\n",
       "      <td>-GKEFg_92pp0q842clS_Jw</td>\n",
       "      <td>3.90</td>\n",
       "      <td>8</td>\n",
       "      <td>0</td>\n",
       "      <td>8</td>\n",
       "      <td>4</td>\n",
       "      <td>0</td>\n",
       "      <td>3</td>\n",
       "      <td>5</td>\n",
       "      <td>...</td>\n",
       "      <td>7</td>\n",
       "      <td>7</td>\n",
       "      <td>2012, 2013, 2014, 2015</td>\n",
       "      <td>18</td>\n",
       "      <td>2qW-VO3UxZSU6HSHQ7fh7Q, RBZ_kMjowV0t6_nv2UKaDQ...</td>\n",
       "      <td>30</td>\n",
       "      <td>Jeff</td>\n",
       "      <td>313</td>\n",
       "      <td>40</td>\n",
       "      <td>2011-07-18</td>\n",
       "    </tr>\n",
       "    <tr>\n",
       "      <th>7</th>\n",
       "      <td>7</td>\n",
       "      <td>-JJo0A9pk6-l6nryr-IKVg</td>\n",
       "      <td>2.00</td>\n",
       "      <td>0</td>\n",
       "      <td>0</td>\n",
       "      <td>0</td>\n",
       "      <td>0</td>\n",
       "      <td>0</td>\n",
       "      <td>0</td>\n",
       "      <td>1</td>\n",
       "      <td>...</td>\n",
       "      <td>0</td>\n",
       "      <td>1</td>\n",
       "      <td>None</td>\n",
       "      <td>0</td>\n",
       "      <td>JxG1ReJSc8o_tUGoVsQV4w, 01xaFS_KPpYP46GW6dzlAg...</td>\n",
       "      <td>7</td>\n",
       "      <td>Linda</td>\n",
       "      <td>2</td>\n",
       "      <td>36</td>\n",
       "      <td>2016-01-25</td>\n",
       "    </tr>\n",
       "    <tr>\n",
       "      <th>8</th>\n",
       "      <td>8</td>\n",
       "      <td>-KPZpkZEuKaMYQXHWSTw2g</td>\n",
       "      <td>4.43</td>\n",
       "      <td>1</td>\n",
       "      <td>0</td>\n",
       "      <td>1</td>\n",
       "      <td>0</td>\n",
       "      <td>0</td>\n",
       "      <td>1</td>\n",
       "      <td>0</td>\n",
       "      <td>...</td>\n",
       "      <td>0</td>\n",
       "      <td>0</td>\n",
       "      <td>None</td>\n",
       "      <td>0</td>\n",
       "      <td>019qV3UwSBa4Q5R_1LkMkQ, 1W1in7aa6chaQAP9gjWHVQ...</td>\n",
       "      <td>0</td>\n",
       "      <td>Chad</td>\n",
       "      <td>7</td>\n",
       "      <td>0</td>\n",
       "      <td>2011-02-21</td>\n",
       "    </tr>\n",
       "    <tr>\n",
       "      <th>9</th>\n",
       "      <td>9</td>\n",
       "      <td>-d5jZCMlYOEa-jQDUqghOA</td>\n",
       "      <td>5.00</td>\n",
       "      <td>0</td>\n",
       "      <td>0</td>\n",
       "      <td>0</td>\n",
       "      <td>0</td>\n",
       "      <td>0</td>\n",
       "      <td>0</td>\n",
       "      <td>0</td>\n",
       "      <td>...</td>\n",
       "      <td>0</td>\n",
       "      <td>4</td>\n",
       "      <td>None</td>\n",
       "      <td>0</td>\n",
       "      <td>Em6IpTLzeU8V5D78dINZog, wONYuL_vLRWSXGjqRuTevw...</td>\n",
       "      <td>0</td>\n",
       "      <td>Tami</td>\n",
       "      <td>2</td>\n",
       "      <td>0</td>\n",
       "      <td>2013-02-23</td>\n",
       "    </tr>\n",
       "  </tbody>\n",
       "</table>\n",
       "<p>10 rows × 23 columns</p>\n",
       "</div>"
      ],
      "text/plain": [
       "   Unnamed: 0                 user_id  average_stars  compliment_cool  \\\n",
       "0           0  -3i9bhfvrM3F1wsC9XIB8g           4.07              813   \n",
       "1           1  -55DgUo52I3zW9RxkZ-EAQ           4.56                0   \n",
       "2           2  -7fIoUgPboApCfkG0U7W4g           3.25                0   \n",
       "3           3  -9da1xk7zgnnfO1uTVYGkA           4.10             5456   \n",
       "4           4  -D8Zi00T-ivGzQNc-ZAN3Q           1.80                0   \n",
       "5           5  -Ef8EdRF7yDxrCXIE2mE0A           3.00                0   \n",
       "6           6  -GKEFg_92pp0q842clS_Jw           3.90                8   \n",
       "7           7  -JJo0A9pk6-l6nryr-IKVg           2.00                0   \n",
       "8           8  -KPZpkZEuKaMYQXHWSTw2g           4.43                1   \n",
       "9           9  -d5jZCMlYOEa-jQDUqghOA           5.00                0   \n",
       "\n",
       "   compliment_cute  compliment_funny  compliment_hot  compliment_list  \\\n",
       "0               92               813             590               15   \n",
       "1                0                 0               0                0   \n",
       "2                0                 0               0                0   \n",
       "3               43              5456            3075                5   \n",
       "4                0                 0               0                0   \n",
       "5                0                 0               0                0   \n",
       "6                0                 8               4                0   \n",
       "7                0                 0               0                0   \n",
       "8                0                 1               0                0   \n",
       "9                0                 0               0                0   \n",
       "\n",
       "   compliment_more  compliment_note      ...       compliment_writer   cool  \\\n",
       "0               38              128      ...                     235   3052   \n",
       "1                0                0      ...                       0      9   \n",
       "2                0                0      ...                       0      0   \n",
       "3               79              844      ...                     890  15512   \n",
       "4                0                1      ...                       0      0   \n",
       "5                0                0      ...                       0      0   \n",
       "6                3                5      ...                       7      7   \n",
       "7                0                1      ...                       0      1   \n",
       "8                1                0      ...                       0      0   \n",
       "9                0                0      ...                       0      4   \n",
       "\n",
       "                                               elite  fans  \\\n",
       "0  2010, 2016, 2008, 2015, 2007, 2011, 2014, 2013...    94   \n",
       "1                                               None     0   \n",
       "2                                               None     0   \n",
       "3           2012, 2017, 2018, 2013, 2014, 2016, 2015   174   \n",
       "4                                               None     0   \n",
       "5                                               None     0   \n",
       "6                             2012, 2013, 2014, 2015    18   \n",
       "7                                               None     0   \n",
       "8                                               None     0   \n",
       "9                                               None     0   \n",
       "\n",
       "                                             friends  funny      name  \\\n",
       "0  CLKGEdkqwQT6oVJG_deC7g, sfow6eRRLPTQa4MEHmKbaQ...   2762     Linda   \n",
       "1  vFhxmJcNdrnGNfN5w5LcVA, ffnUCiqR_yCC7uilc1b62Q...      1      John   \n",
       "2  a0vrgccRm7_z3uORfuhCgw, Qv-DsqeJqgg-qvN08cwzkQ...      0    Ashley   \n",
       "3  _owMBYfzT9dO7FXGXXzXqA, dYEHTYJeDJ4v8AUiExaVsw...  13579      Fran   \n",
       "4  PB97isgyCVqTx0Z6EtJ-Ig, z2HZod8BhRJ11W7_neSEwg...      0  Brittany   \n",
       "5  OL2XOeg3CEoPtfpONVJ2Zg, zDUsbgkhH7DPCuBvXkCJdw...      0  Margaret   \n",
       "6  2qW-VO3UxZSU6HSHQ7fh7Q, RBZ_kMjowV0t6_nv2UKaDQ...     30      Jeff   \n",
       "7  JxG1ReJSc8o_tUGoVsQV4w, 01xaFS_KPpYP46GW6dzlAg...      7     Linda   \n",
       "8  019qV3UwSBa4Q5R_1LkMkQ, 1W1in7aa6chaQAP9gjWHVQ...      0      Chad   \n",
       "9  Em6IpTLzeU8V5D78dINZog, wONYuL_vLRWSXGjqRuTevw...      0      Tami   \n",
       "\n",
       "  review_count  useful yelping_since  \n",
       "0          635    3215    2005-08-07  \n",
       "1           45      19    2013-04-11  \n",
       "2            4       0    2015-08-10  \n",
       "3         1021   16172    2012-04-05  \n",
       "4            4       2    2012-04-17  \n",
       "5            2       0    2014-12-24  \n",
       "6          313      40    2011-07-18  \n",
       "7            2      36    2016-01-25  \n",
       "8            7       0    2011-02-21  \n",
       "9            2       0    2013-02-23  \n",
       "\n",
       "[10 rows x 23 columns]"
      ]
     },
     "execution_count": 5,
     "metadata": {},
     "output_type": "execute_result"
    }
   ],
   "source": [
    "user_data.head(10)"
   ]
  },
  {
   "cell_type": "code",
   "execution_count": 6,
   "metadata": {},
   "outputs": [],
   "source": [
    "user_df=user_data.filter(['user_id', 'friends'], axis=1)"
   ]
  },
  {
   "cell_type": "code",
   "execution_count": 7,
   "metadata": {},
   "outputs": [
    {
     "data": {
      "text/html": [
       "<div>\n",
       "<style scoped>\n",
       "    .dataframe tbody tr th:only-of-type {\n",
       "        vertical-align: middle;\n",
       "    }\n",
       "\n",
       "    .dataframe tbody tr th {\n",
       "        vertical-align: top;\n",
       "    }\n",
       "\n",
       "    .dataframe thead th {\n",
       "        text-align: right;\n",
       "    }\n",
       "</style>\n",
       "<table border=\"1\" class=\"dataframe\">\n",
       "  <thead>\n",
       "    <tr style=\"text-align: right;\">\n",
       "      <th></th>\n",
       "      <th>user_id</th>\n",
       "      <th>friends</th>\n",
       "    </tr>\n",
       "  </thead>\n",
       "  <tbody>\n",
       "    <tr>\n",
       "      <th>0</th>\n",
       "      <td>-3i9bhfvrM3F1wsC9XIB8g</td>\n",
       "      <td>CLKGEdkqwQT6oVJG_deC7g, sfow6eRRLPTQa4MEHmKbaQ...</td>\n",
       "    </tr>\n",
       "    <tr>\n",
       "      <th>1</th>\n",
       "      <td>-55DgUo52I3zW9RxkZ-EAQ</td>\n",
       "      <td>vFhxmJcNdrnGNfN5w5LcVA, ffnUCiqR_yCC7uilc1b62Q...</td>\n",
       "    </tr>\n",
       "    <tr>\n",
       "      <th>2</th>\n",
       "      <td>-7fIoUgPboApCfkG0U7W4g</td>\n",
       "      <td>a0vrgccRm7_z3uORfuhCgw, Qv-DsqeJqgg-qvN08cwzkQ...</td>\n",
       "    </tr>\n",
       "    <tr>\n",
       "      <th>3</th>\n",
       "      <td>-9da1xk7zgnnfO1uTVYGkA</td>\n",
       "      <td>_owMBYfzT9dO7FXGXXzXqA, dYEHTYJeDJ4v8AUiExaVsw...</td>\n",
       "    </tr>\n",
       "    <tr>\n",
       "      <th>4</th>\n",
       "      <td>-D8Zi00T-ivGzQNc-ZAN3Q</td>\n",
       "      <td>PB97isgyCVqTx0Z6EtJ-Ig, z2HZod8BhRJ11W7_neSEwg...</td>\n",
       "    </tr>\n",
       "    <tr>\n",
       "      <th>5</th>\n",
       "      <td>-Ef8EdRF7yDxrCXIE2mE0A</td>\n",
       "      <td>OL2XOeg3CEoPtfpONVJ2Zg, zDUsbgkhH7DPCuBvXkCJdw...</td>\n",
       "    </tr>\n",
       "    <tr>\n",
       "      <th>6</th>\n",
       "      <td>-GKEFg_92pp0q842clS_Jw</td>\n",
       "      <td>2qW-VO3UxZSU6HSHQ7fh7Q, RBZ_kMjowV0t6_nv2UKaDQ...</td>\n",
       "    </tr>\n",
       "    <tr>\n",
       "      <th>7</th>\n",
       "      <td>-JJo0A9pk6-l6nryr-IKVg</td>\n",
       "      <td>JxG1ReJSc8o_tUGoVsQV4w, 01xaFS_KPpYP46GW6dzlAg...</td>\n",
       "    </tr>\n",
       "    <tr>\n",
       "      <th>8</th>\n",
       "      <td>-KPZpkZEuKaMYQXHWSTw2g</td>\n",
       "      <td>019qV3UwSBa4Q5R_1LkMkQ, 1W1in7aa6chaQAP9gjWHVQ...</td>\n",
       "    </tr>\n",
       "    <tr>\n",
       "      <th>9</th>\n",
       "      <td>-d5jZCMlYOEa-jQDUqghOA</td>\n",
       "      <td>Em6IpTLzeU8V5D78dINZog, wONYuL_vLRWSXGjqRuTevw...</td>\n",
       "    </tr>\n",
       "  </tbody>\n",
       "</table>\n",
       "</div>"
      ],
      "text/plain": [
       "                  user_id                                            friends\n",
       "0  -3i9bhfvrM3F1wsC9XIB8g  CLKGEdkqwQT6oVJG_deC7g, sfow6eRRLPTQa4MEHmKbaQ...\n",
       "1  -55DgUo52I3zW9RxkZ-EAQ  vFhxmJcNdrnGNfN5w5LcVA, ffnUCiqR_yCC7uilc1b62Q...\n",
       "2  -7fIoUgPboApCfkG0U7W4g  a0vrgccRm7_z3uORfuhCgw, Qv-DsqeJqgg-qvN08cwzkQ...\n",
       "3  -9da1xk7zgnnfO1uTVYGkA  _owMBYfzT9dO7FXGXXzXqA, dYEHTYJeDJ4v8AUiExaVsw...\n",
       "4  -D8Zi00T-ivGzQNc-ZAN3Q  PB97isgyCVqTx0Z6EtJ-Ig, z2HZod8BhRJ11W7_neSEwg...\n",
       "5  -Ef8EdRF7yDxrCXIE2mE0A  OL2XOeg3CEoPtfpONVJ2Zg, zDUsbgkhH7DPCuBvXkCJdw...\n",
       "6  -GKEFg_92pp0q842clS_Jw  2qW-VO3UxZSU6HSHQ7fh7Q, RBZ_kMjowV0t6_nv2UKaDQ...\n",
       "7  -JJo0A9pk6-l6nryr-IKVg  JxG1ReJSc8o_tUGoVsQV4w, 01xaFS_KPpYP46GW6dzlAg...\n",
       "8  -KPZpkZEuKaMYQXHWSTw2g  019qV3UwSBa4Q5R_1LkMkQ, 1W1in7aa6chaQAP9gjWHVQ...\n",
       "9  -d5jZCMlYOEa-jQDUqghOA  Em6IpTLzeU8V5D78dINZog, wONYuL_vLRWSXGjqRuTevw..."
      ]
     },
     "execution_count": 7,
     "metadata": {},
     "output_type": "execute_result"
    }
   ],
   "source": [
    "user_df.head(10)"
   ]
  },
  {
   "cell_type": "code",
   "execution_count": 10,
   "metadata": {},
   "outputs": [],
   "source": [
    "user_data_split=pd.concat([Series(row['user_id'], row['friends'].split(','))\n",
    "           for _, row in user_df.iterrows()]).reset_index()"
   ]
  },
  {
   "cell_type": "code",
   "execution_count": 9,
   "metadata": {},
   "outputs": [],
   "source": [
    "from pandas import Series"
   ]
  },
  {
   "cell_type": "code",
   "execution_count": 11,
   "metadata": {},
   "outputs": [
    {
     "data": {
      "text/html": [
       "<div>\n",
       "<style scoped>\n",
       "    .dataframe tbody tr th:only-of-type {\n",
       "        vertical-align: middle;\n",
       "    }\n",
       "\n",
       "    .dataframe tbody tr th {\n",
       "        vertical-align: top;\n",
       "    }\n",
       "\n",
       "    .dataframe thead th {\n",
       "        text-align: right;\n",
       "    }\n",
       "</style>\n",
       "<table border=\"1\" class=\"dataframe\">\n",
       "  <thead>\n",
       "    <tr style=\"text-align: right;\">\n",
       "      <th></th>\n",
       "      <th>index</th>\n",
       "      <th>0</th>\n",
       "    </tr>\n",
       "  </thead>\n",
       "  <tbody>\n",
       "    <tr>\n",
       "      <th>0</th>\n",
       "      <td>CLKGEdkqwQT6oVJG_deC7g</td>\n",
       "      <td>-3i9bhfvrM3F1wsC9XIB8g</td>\n",
       "    </tr>\n",
       "    <tr>\n",
       "      <th>1</th>\n",
       "      <td>sfow6eRRLPTQa4MEHmKbaQ</td>\n",
       "      <td>-3i9bhfvrM3F1wsC9XIB8g</td>\n",
       "    </tr>\n",
       "    <tr>\n",
       "      <th>2</th>\n",
       "      <td>m6OZG66JPXVIZRkqm6reDg</td>\n",
       "      <td>-3i9bhfvrM3F1wsC9XIB8g</td>\n",
       "    </tr>\n",
       "    <tr>\n",
       "      <th>3</th>\n",
       "      <td>8mrc4DVb1EMGmJen_qWqVg</td>\n",
       "      <td>-3i9bhfvrM3F1wsC9XIB8g</td>\n",
       "    </tr>\n",
       "    <tr>\n",
       "      <th>4</th>\n",
       "      <td>dtsE27TVc0CklFMHRw5WFA</td>\n",
       "      <td>-3i9bhfvrM3F1wsC9XIB8g</td>\n",
       "    </tr>\n",
       "    <tr>\n",
       "      <th>5</th>\n",
       "      <td>wYgJJpTFC9wVBZc6rgLiHA</td>\n",
       "      <td>-3i9bhfvrM3F1wsC9XIB8g</td>\n",
       "    </tr>\n",
       "    <tr>\n",
       "      <th>6</th>\n",
       "      <td>Fd6yfocEW6sHqfDthh-a3A</td>\n",
       "      <td>-3i9bhfvrM3F1wsC9XIB8g</td>\n",
       "    </tr>\n",
       "    <tr>\n",
       "      <th>7</th>\n",
       "      <td>sMgs1e2yxylzaTmb4t1nMg</td>\n",
       "      <td>-3i9bhfvrM3F1wsC9XIB8g</td>\n",
       "    </tr>\n",
       "    <tr>\n",
       "      <th>8</th>\n",
       "      <td>n6l2ZservpTfGzaQfUMNZQ</td>\n",
       "      <td>-3i9bhfvrM3F1wsC9XIB8g</td>\n",
       "    </tr>\n",
       "    <tr>\n",
       "      <th>9</th>\n",
       "      <td>ggm-3JvV9yj4Z78bgpfb2g</td>\n",
       "      <td>-3i9bhfvrM3F1wsC9XIB8g</td>\n",
       "    </tr>\n",
       "    <tr>\n",
       "      <th>10</th>\n",
       "      <td>RVPTygXr-mB4AYNZPjcBUw</td>\n",
       "      <td>-3i9bhfvrM3F1wsC9XIB8g</td>\n",
       "    </tr>\n",
       "    <tr>\n",
       "      <th>11</th>\n",
       "      <td>ChNbDcW57eg9WEOUCE69JQ</td>\n",
       "      <td>-3i9bhfvrM3F1wsC9XIB8g</td>\n",
       "    </tr>\n",
       "    <tr>\n",
       "      <th>12</th>\n",
       "      <td>7qY2KOV-9OsvlT2qB6NgDA</td>\n",
       "      <td>-3i9bhfvrM3F1wsC9XIB8g</td>\n",
       "    </tr>\n",
       "    <tr>\n",
       "      <th>13</th>\n",
       "      <td>i-v8v-Ns-NgjsEwTHrNIAA</td>\n",
       "      <td>-3i9bhfvrM3F1wsC9XIB8g</td>\n",
       "    </tr>\n",
       "    <tr>\n",
       "      <th>14</th>\n",
       "      <td>t7E0chL0rY4NNKtkHs7kaQ</td>\n",
       "      <td>-3i9bhfvrM3F1wsC9XIB8g</td>\n",
       "    </tr>\n",
       "    <tr>\n",
       "      <th>15</th>\n",
       "      <td>G50Zb4u_qhIDTm5ZHBlkmg</td>\n",
       "      <td>-3i9bhfvrM3F1wsC9XIB8g</td>\n",
       "    </tr>\n",
       "    <tr>\n",
       "      <th>16</th>\n",
       "      <td>saDYN_zBEoNheolWPh5RcA</td>\n",
       "      <td>-3i9bhfvrM3F1wsC9XIB8g</td>\n",
       "    </tr>\n",
       "    <tr>\n",
       "      <th>17</th>\n",
       "      <td>PgMrRvP8nB6sbiU1aAiXrg</td>\n",
       "      <td>-3i9bhfvrM3F1wsC9XIB8g</td>\n",
       "    </tr>\n",
       "    <tr>\n",
       "      <th>18</th>\n",
       "      <td>yFLNHDlCriteboCVKjtpbA</td>\n",
       "      <td>-3i9bhfvrM3F1wsC9XIB8g</td>\n",
       "    </tr>\n",
       "    <tr>\n",
       "      <th>19</th>\n",
       "      <td>tl9hko_3HzMt8Z1qQeQi5Q</td>\n",
       "      <td>-3i9bhfvrM3F1wsC9XIB8g</td>\n",
       "    </tr>\n",
       "  </tbody>\n",
       "</table>\n",
       "</div>"
      ],
      "text/plain": [
       "                      index                       0\n",
       "0    CLKGEdkqwQT6oVJG_deC7g  -3i9bhfvrM3F1wsC9XIB8g\n",
       "1    sfow6eRRLPTQa4MEHmKbaQ  -3i9bhfvrM3F1wsC9XIB8g\n",
       "2    m6OZG66JPXVIZRkqm6reDg  -3i9bhfvrM3F1wsC9XIB8g\n",
       "3    8mrc4DVb1EMGmJen_qWqVg  -3i9bhfvrM3F1wsC9XIB8g\n",
       "4    dtsE27TVc0CklFMHRw5WFA  -3i9bhfvrM3F1wsC9XIB8g\n",
       "5    wYgJJpTFC9wVBZc6rgLiHA  -3i9bhfvrM3F1wsC9XIB8g\n",
       "6    Fd6yfocEW6sHqfDthh-a3A  -3i9bhfvrM3F1wsC9XIB8g\n",
       "7    sMgs1e2yxylzaTmb4t1nMg  -3i9bhfvrM3F1wsC9XIB8g\n",
       "8    n6l2ZservpTfGzaQfUMNZQ  -3i9bhfvrM3F1wsC9XIB8g\n",
       "9    ggm-3JvV9yj4Z78bgpfb2g  -3i9bhfvrM3F1wsC9XIB8g\n",
       "10   RVPTygXr-mB4AYNZPjcBUw  -3i9bhfvrM3F1wsC9XIB8g\n",
       "11   ChNbDcW57eg9WEOUCE69JQ  -3i9bhfvrM3F1wsC9XIB8g\n",
       "12   7qY2KOV-9OsvlT2qB6NgDA  -3i9bhfvrM3F1wsC9XIB8g\n",
       "13   i-v8v-Ns-NgjsEwTHrNIAA  -3i9bhfvrM3F1wsC9XIB8g\n",
       "14   t7E0chL0rY4NNKtkHs7kaQ  -3i9bhfvrM3F1wsC9XIB8g\n",
       "15   G50Zb4u_qhIDTm5ZHBlkmg  -3i9bhfvrM3F1wsC9XIB8g\n",
       "16   saDYN_zBEoNheolWPh5RcA  -3i9bhfvrM3F1wsC9XIB8g\n",
       "17   PgMrRvP8nB6sbiU1aAiXrg  -3i9bhfvrM3F1wsC9XIB8g\n",
       "18   yFLNHDlCriteboCVKjtpbA  -3i9bhfvrM3F1wsC9XIB8g\n",
       "19   tl9hko_3HzMt8Z1qQeQi5Q  -3i9bhfvrM3F1wsC9XIB8g"
      ]
     },
     "execution_count": 11,
     "metadata": {},
     "output_type": "execute_result"
    }
   ],
   "source": [
    "user_data_split.head(20)\n",
    "#column1-friends , column2-user \n",
    "#1:1 dataframe"
   ]
  },
  {
   "cell_type": "code",
   "execution_count": 33,
   "metadata": {},
   "outputs": [
    {
     "ename": "KeyError",
     "evalue": "('0', 'occurred at index 0')",
     "output_type": "error",
     "traceback": [
      "\u001b[0;31m---------------------------------------------------------------------------\u001b[0m",
      "\u001b[0;31mTypeError\u001b[0m                                 Traceback (most recent call last)",
      "\u001b[0;32m~/anaconda3/lib/python3.7/site-packages/pandas/core/indexes/base.py\u001b[0m in \u001b[0;36mget_value\u001b[0;34m(self, series, key)\u001b[0m\n\u001b[1;32m   3123\u001b[0m             \u001b[0;32mtry\u001b[0m\u001b[0;34m:\u001b[0m\u001b[0;34m\u001b[0m\u001b[0m\n\u001b[0;32m-> 3124\u001b[0;31m                 \u001b[0;32mreturn\u001b[0m \u001b[0mlibindex\u001b[0m\u001b[0;34m.\u001b[0m\u001b[0mget_value_box\u001b[0m\u001b[0;34m(\u001b[0m\u001b[0ms\u001b[0m\u001b[0;34m,\u001b[0m \u001b[0mkey\u001b[0m\u001b[0;34m)\u001b[0m\u001b[0;34m\u001b[0m\u001b[0m\n\u001b[0m\u001b[1;32m   3125\u001b[0m             \u001b[0;32mexcept\u001b[0m \u001b[0mIndexError\u001b[0m\u001b[0;34m:\u001b[0m\u001b[0;34m\u001b[0m\u001b[0m\n",
      "\u001b[0;32mpandas/_libs/index.pyx\u001b[0m in \u001b[0;36mpandas._libs.index.get_value_box\u001b[0;34m()\u001b[0m\n",
      "\u001b[0;32mpandas/_libs/index.pyx\u001b[0m in \u001b[0;36mpandas._libs.index.get_value_box\u001b[0;34m()\u001b[0m\n",
      "\u001b[0;31mTypeError\u001b[0m: 'str' object cannot be interpreted as an integer",
      "\nDuring handling of the above exception, another exception occurred:\n",
      "\u001b[0;31mKeyError\u001b[0m                                  Traceback (most recent call last)",
      "\u001b[0;32m<ipython-input-33-f193f2affdfb>\u001b[0m in \u001b[0;36m<module>\u001b[0;34m()\u001b[0m\n\u001b[0;32m----> 1\u001b[0;31m \u001b[0muser_data_split\u001b[0m\u001b[0;34m[\u001b[0m\u001b[0;34m'check_string'\u001b[0m\u001b[0;34m]\u001b[0m \u001b[0;34m=\u001b[0m \u001b[0muser_data_split\u001b[0m\u001b[0;34m.\u001b[0m\u001b[0mapply\u001b[0m\u001b[0;34m(\u001b[0m\u001b[0;32mlambda\u001b[0m \u001b[0mrow\u001b[0m\u001b[0;34m:\u001b[0m \u001b[0;34m''\u001b[0m\u001b[0;34m.\u001b[0m\u001b[0mjoin\u001b[0m\u001b[0;34m(\u001b[0m\u001b[0msorted\u001b[0m\u001b[0;34m(\u001b[0m\u001b[0;34m[\u001b[0m   \u001b[0mstr\u001b[0m\u001b[0;34m(\u001b[0m\u001b[0mrow\u001b[0m\u001b[0;34m[\u001b[0m\u001b[0;34m'index'\u001b[0m\u001b[0;34m]\u001b[0m\u001b[0;34m)\u001b[0m \u001b[0;34m,\u001b[0m \u001b[0mstr\u001b[0m\u001b[0;34m(\u001b[0m\u001b[0mrow\u001b[0m\u001b[0;34m[\u001b[0m\u001b[0;34m'0'\u001b[0m\u001b[0;34m]\u001b[0m\u001b[0;34m)\u001b[0m    \u001b[0;34m]\u001b[0m\u001b[0;34m)\u001b[0m\u001b[0;34m)\u001b[0m\u001b[0;34m,\u001b[0m \u001b[0maxis\u001b[0m\u001b[0;34m=\u001b[0m\u001b[0;36m1\u001b[0m\u001b[0;34m)\u001b[0m\u001b[0;34m\u001b[0m\u001b[0m\n\u001b[0m",
      "\u001b[0;32m~/anaconda3/lib/python3.7/site-packages/pandas/core/frame.py\u001b[0m in \u001b[0;36mapply\u001b[0;34m(self, func, axis, broadcast, raw, reduce, result_type, args, **kwds)\u001b[0m\n\u001b[1;32m   6012\u001b[0m                          \u001b[0margs\u001b[0m\u001b[0;34m=\u001b[0m\u001b[0margs\u001b[0m\u001b[0;34m,\u001b[0m\u001b[0;34m\u001b[0m\u001b[0m\n\u001b[1;32m   6013\u001b[0m                          kwds=kwds)\n\u001b[0;32m-> 6014\u001b[0;31m         \u001b[0;32mreturn\u001b[0m \u001b[0mop\u001b[0m\u001b[0;34m.\u001b[0m\u001b[0mget_result\u001b[0m\u001b[0;34m(\u001b[0m\u001b[0;34m)\u001b[0m\u001b[0;34m\u001b[0m\u001b[0m\n\u001b[0m\u001b[1;32m   6015\u001b[0m \u001b[0;34m\u001b[0m\u001b[0m\n\u001b[1;32m   6016\u001b[0m     \u001b[0;32mdef\u001b[0m \u001b[0mapplymap\u001b[0m\u001b[0;34m(\u001b[0m\u001b[0mself\u001b[0m\u001b[0;34m,\u001b[0m \u001b[0mfunc\u001b[0m\u001b[0;34m)\u001b[0m\u001b[0;34m:\u001b[0m\u001b[0;34m\u001b[0m\u001b[0m\n",
      "\u001b[0;32m~/anaconda3/lib/python3.7/site-packages/pandas/core/apply.py\u001b[0m in \u001b[0;36mget_result\u001b[0;34m(self)\u001b[0m\n\u001b[1;32m    140\u001b[0m             \u001b[0;32mreturn\u001b[0m \u001b[0mself\u001b[0m\u001b[0;34m.\u001b[0m\u001b[0mapply_raw\u001b[0m\u001b[0;34m(\u001b[0m\u001b[0;34m)\u001b[0m\u001b[0;34m\u001b[0m\u001b[0m\n\u001b[1;32m    141\u001b[0m \u001b[0;34m\u001b[0m\u001b[0m\n\u001b[0;32m--> 142\u001b[0;31m         \u001b[0;32mreturn\u001b[0m \u001b[0mself\u001b[0m\u001b[0;34m.\u001b[0m\u001b[0mapply_standard\u001b[0m\u001b[0;34m(\u001b[0m\u001b[0;34m)\u001b[0m\u001b[0;34m\u001b[0m\u001b[0m\n\u001b[0m\u001b[1;32m    143\u001b[0m \u001b[0;34m\u001b[0m\u001b[0m\n\u001b[1;32m    144\u001b[0m     \u001b[0;32mdef\u001b[0m \u001b[0mapply_empty_result\u001b[0m\u001b[0;34m(\u001b[0m\u001b[0mself\u001b[0m\u001b[0;34m)\u001b[0m\u001b[0;34m:\u001b[0m\u001b[0;34m\u001b[0m\u001b[0m\n",
      "\u001b[0;32m~/anaconda3/lib/python3.7/site-packages/pandas/core/apply.py\u001b[0m in \u001b[0;36mapply_standard\u001b[0;34m(self)\u001b[0m\n\u001b[1;32m    246\u001b[0m \u001b[0;34m\u001b[0m\u001b[0m\n\u001b[1;32m    247\u001b[0m         \u001b[0;31m# compute the result using the series generator\u001b[0m\u001b[0;34m\u001b[0m\u001b[0;34m\u001b[0m\u001b[0m\n\u001b[0;32m--> 248\u001b[0;31m         \u001b[0mself\u001b[0m\u001b[0;34m.\u001b[0m\u001b[0mapply_series_generator\u001b[0m\u001b[0;34m(\u001b[0m\u001b[0;34m)\u001b[0m\u001b[0;34m\u001b[0m\u001b[0m\n\u001b[0m\u001b[1;32m    249\u001b[0m \u001b[0;34m\u001b[0m\u001b[0m\n\u001b[1;32m    250\u001b[0m         \u001b[0;31m# wrap results\u001b[0m\u001b[0;34m\u001b[0m\u001b[0;34m\u001b[0m\u001b[0m\n",
      "\u001b[0;32m~/anaconda3/lib/python3.7/site-packages/pandas/core/apply.py\u001b[0m in \u001b[0;36mapply_series_generator\u001b[0;34m(self)\u001b[0m\n\u001b[1;32m    275\u001b[0m             \u001b[0;32mtry\u001b[0m\u001b[0;34m:\u001b[0m\u001b[0;34m\u001b[0m\u001b[0m\n\u001b[1;32m    276\u001b[0m                 \u001b[0;32mfor\u001b[0m \u001b[0mi\u001b[0m\u001b[0;34m,\u001b[0m \u001b[0mv\u001b[0m \u001b[0;32min\u001b[0m \u001b[0menumerate\u001b[0m\u001b[0;34m(\u001b[0m\u001b[0mseries_gen\u001b[0m\u001b[0;34m)\u001b[0m\u001b[0;34m:\u001b[0m\u001b[0;34m\u001b[0m\u001b[0m\n\u001b[0;32m--> 277\u001b[0;31m                     \u001b[0mresults\u001b[0m\u001b[0;34m[\u001b[0m\u001b[0mi\u001b[0m\u001b[0;34m]\u001b[0m \u001b[0;34m=\u001b[0m \u001b[0mself\u001b[0m\u001b[0;34m.\u001b[0m\u001b[0mf\u001b[0m\u001b[0;34m(\u001b[0m\u001b[0mv\u001b[0m\u001b[0;34m)\u001b[0m\u001b[0;34m\u001b[0m\u001b[0m\n\u001b[0m\u001b[1;32m    278\u001b[0m                     \u001b[0mkeys\u001b[0m\u001b[0;34m.\u001b[0m\u001b[0mappend\u001b[0m\u001b[0;34m(\u001b[0m\u001b[0mv\u001b[0m\u001b[0;34m.\u001b[0m\u001b[0mname\u001b[0m\u001b[0;34m)\u001b[0m\u001b[0;34m\u001b[0m\u001b[0m\n\u001b[1;32m    279\u001b[0m             \u001b[0;32mexcept\u001b[0m \u001b[0mException\u001b[0m \u001b[0;32mas\u001b[0m \u001b[0me\u001b[0m\u001b[0;34m:\u001b[0m\u001b[0;34m\u001b[0m\u001b[0m\n",
      "\u001b[0;32m<ipython-input-33-f193f2affdfb>\u001b[0m in \u001b[0;36m<lambda>\u001b[0;34m(row)\u001b[0m\n\u001b[0;32m----> 1\u001b[0;31m \u001b[0muser_data_split\u001b[0m\u001b[0;34m[\u001b[0m\u001b[0;34m'check_string'\u001b[0m\u001b[0;34m]\u001b[0m \u001b[0;34m=\u001b[0m \u001b[0muser_data_split\u001b[0m\u001b[0;34m.\u001b[0m\u001b[0mapply\u001b[0m\u001b[0;34m(\u001b[0m\u001b[0;32mlambda\u001b[0m \u001b[0mrow\u001b[0m\u001b[0;34m:\u001b[0m \u001b[0;34m''\u001b[0m\u001b[0;34m.\u001b[0m\u001b[0mjoin\u001b[0m\u001b[0;34m(\u001b[0m\u001b[0msorted\u001b[0m\u001b[0;34m(\u001b[0m\u001b[0;34m[\u001b[0m   \u001b[0mstr\u001b[0m\u001b[0;34m(\u001b[0m\u001b[0mrow\u001b[0m\u001b[0;34m[\u001b[0m\u001b[0;34m'index'\u001b[0m\u001b[0;34m]\u001b[0m\u001b[0;34m)\u001b[0m \u001b[0;34m,\u001b[0m \u001b[0mstr\u001b[0m\u001b[0;34m(\u001b[0m\u001b[0mrow\u001b[0m\u001b[0;34m[\u001b[0m\u001b[0;34m'0'\u001b[0m\u001b[0;34m]\u001b[0m\u001b[0;34m)\u001b[0m    \u001b[0;34m]\u001b[0m\u001b[0;34m)\u001b[0m\u001b[0;34m)\u001b[0m\u001b[0;34m,\u001b[0m \u001b[0maxis\u001b[0m\u001b[0;34m=\u001b[0m\u001b[0;36m1\u001b[0m\u001b[0;34m)\u001b[0m\u001b[0;34m\u001b[0m\u001b[0m\n\u001b[0m",
      "\u001b[0;32m~/anaconda3/lib/python3.7/site-packages/pandas/core/series.py\u001b[0m in \u001b[0;36m__getitem__\u001b[0;34m(self, key)\u001b[0m\n\u001b[1;32m    765\u001b[0m         \u001b[0mkey\u001b[0m \u001b[0;34m=\u001b[0m \u001b[0mcom\u001b[0m\u001b[0;34m.\u001b[0m\u001b[0m_apply_if_callable\u001b[0m\u001b[0;34m(\u001b[0m\u001b[0mkey\u001b[0m\u001b[0;34m,\u001b[0m \u001b[0mself\u001b[0m\u001b[0;34m)\u001b[0m\u001b[0;34m\u001b[0m\u001b[0m\n\u001b[1;32m    766\u001b[0m         \u001b[0;32mtry\u001b[0m\u001b[0;34m:\u001b[0m\u001b[0;34m\u001b[0m\u001b[0m\n\u001b[0;32m--> 767\u001b[0;31m             \u001b[0mresult\u001b[0m \u001b[0;34m=\u001b[0m \u001b[0mself\u001b[0m\u001b[0;34m.\u001b[0m\u001b[0mindex\u001b[0m\u001b[0;34m.\u001b[0m\u001b[0mget_value\u001b[0m\u001b[0;34m(\u001b[0m\u001b[0mself\u001b[0m\u001b[0;34m,\u001b[0m \u001b[0mkey\u001b[0m\u001b[0;34m)\u001b[0m\u001b[0;34m\u001b[0m\u001b[0m\n\u001b[0m\u001b[1;32m    768\u001b[0m \u001b[0;34m\u001b[0m\u001b[0m\n\u001b[1;32m    769\u001b[0m             \u001b[0;32mif\u001b[0m \u001b[0;32mnot\u001b[0m \u001b[0mis_scalar\u001b[0m\u001b[0;34m(\u001b[0m\u001b[0mresult\u001b[0m\u001b[0;34m)\u001b[0m\u001b[0;34m:\u001b[0m\u001b[0;34m\u001b[0m\u001b[0m\n",
      "\u001b[0;32m~/anaconda3/lib/python3.7/site-packages/pandas/core/indexes/base.py\u001b[0m in \u001b[0;36mget_value\u001b[0;34m(self, series, key)\u001b[0m\n\u001b[1;32m   3130\u001b[0m                     \u001b[0;32mraise\u001b[0m \u001b[0mInvalidIndexError\u001b[0m\u001b[0;34m(\u001b[0m\u001b[0mkey\u001b[0m\u001b[0;34m)\u001b[0m\u001b[0;34m\u001b[0m\u001b[0m\n\u001b[1;32m   3131\u001b[0m                 \u001b[0;32melse\u001b[0m\u001b[0;34m:\u001b[0m\u001b[0;34m\u001b[0m\u001b[0m\n\u001b[0;32m-> 3132\u001b[0;31m                     \u001b[0;32mraise\u001b[0m \u001b[0me1\u001b[0m\u001b[0;34m\u001b[0m\u001b[0m\n\u001b[0m\u001b[1;32m   3133\u001b[0m             \u001b[0;32mexcept\u001b[0m \u001b[0mException\u001b[0m\u001b[0;34m:\u001b[0m  \u001b[0;31m# pragma: no cover\u001b[0m\u001b[0;34m\u001b[0m\u001b[0m\n\u001b[1;32m   3134\u001b[0m                 \u001b[0;32mraise\u001b[0m \u001b[0me1\u001b[0m\u001b[0;34m\u001b[0m\u001b[0m\n",
      "\u001b[0;32m~/anaconda3/lib/python3.7/site-packages/pandas/core/indexes/base.py\u001b[0m in \u001b[0;36mget_value\u001b[0;34m(self, series, key)\u001b[0m\n\u001b[1;32m   3116\u001b[0m         \u001b[0;32mtry\u001b[0m\u001b[0;34m:\u001b[0m\u001b[0;34m\u001b[0m\u001b[0m\n\u001b[1;32m   3117\u001b[0m             return self._engine.get_value(s, k,\n\u001b[0;32m-> 3118\u001b[0;31m                                           tz=getattr(series.dtype, 'tz', None))\n\u001b[0m\u001b[1;32m   3119\u001b[0m         \u001b[0;32mexcept\u001b[0m \u001b[0mKeyError\u001b[0m \u001b[0;32mas\u001b[0m \u001b[0me1\u001b[0m\u001b[0;34m:\u001b[0m\u001b[0;34m\u001b[0m\u001b[0m\n\u001b[1;32m   3120\u001b[0m             \u001b[0;32mif\u001b[0m \u001b[0mlen\u001b[0m\u001b[0;34m(\u001b[0m\u001b[0mself\u001b[0m\u001b[0;34m)\u001b[0m \u001b[0;34m>\u001b[0m \u001b[0;36m0\u001b[0m \u001b[0;32mand\u001b[0m \u001b[0mself\u001b[0m\u001b[0;34m.\u001b[0m\u001b[0minferred_type\u001b[0m \u001b[0;32min\u001b[0m \u001b[0;34m[\u001b[0m\u001b[0;34m'integer'\u001b[0m\u001b[0;34m,\u001b[0m \u001b[0;34m'boolean'\u001b[0m\u001b[0;34m]\u001b[0m\u001b[0;34m:\u001b[0m\u001b[0;34m\u001b[0m\u001b[0m\n",
      "\u001b[0;32mpandas/_libs/index.pyx\u001b[0m in \u001b[0;36mpandas._libs.index.IndexEngine.get_value\u001b[0;34m()\u001b[0m\n",
      "\u001b[0;32mpandas/_libs/index.pyx\u001b[0m in \u001b[0;36mpandas._libs.index.IndexEngine.get_value\u001b[0;34m()\u001b[0m\n",
      "\u001b[0;32mpandas/_libs/index.pyx\u001b[0m in \u001b[0;36mpandas._libs.index.IndexEngine.get_loc\u001b[0;34m()\u001b[0m\n",
      "\u001b[0;32mpandas/_libs/hashtable_class_helper.pxi\u001b[0m in \u001b[0;36mpandas._libs.hashtable.PyObjectHashTable.get_item\u001b[0;34m()\u001b[0m\n",
      "\u001b[0;32mpandas/_libs/hashtable_class_helper.pxi\u001b[0m in \u001b[0;36mpandas._libs.hashtable.PyObjectHashTable.get_item\u001b[0;34m()\u001b[0m\n",
      "\u001b[0;31mKeyError\u001b[0m: ('0', 'occurred at index 0')"
     ]
    }
   ],
   "source": [
    " #to remove redundant connections as it is suppposed to be a undirected graph.\n",
    "    user_data_split['check_string'] = user_data_split.apply(lambda row: ''.join(sorted([   str(row['index']) , str(row['0'])    ])), axis=1)"
   ]
  },
  {
   "cell_type": "code",
   "execution_count": 34,
   "metadata": {},
   "outputs": [
    {
     "ename": "AttributeError",
     "evalue": "module 'networkx' has no attribute 'from_pandas_dataframe'",
     "output_type": "error",
     "traceback": [
      "\u001b[0;31m---------------------------------------------------------------------------\u001b[0m",
      "\u001b[0;31mAttributeError\u001b[0m                            Traceback (most recent call last)",
      "\u001b[0;32m<ipython-input-34-b8c8a15b02d2>\u001b[0m in \u001b[0;36m<module>\u001b[0;34m()\u001b[0m\n\u001b[0;32m----> 1\u001b[0;31m \u001b[0mG\u001b[0m\u001b[0;34m=\u001b[0m\u001b[0mnx\u001b[0m\u001b[0;34m.\u001b[0m\u001b[0mfrom_pandas_dataframe\u001b[0m\u001b[0;34m(\u001b[0m\u001b[0muser_data_split\u001b[0m\u001b[0;34m,\u001b[0m \u001b[0;36m0\u001b[0m\u001b[0;34m,\u001b[0m \u001b[0mindex\u001b[0m\u001b[0;34m)\u001b[0m\u001b[0;34m\u001b[0m\u001b[0m\n\u001b[0m",
      "\u001b[0;31mAttributeError\u001b[0m: module 'networkx' has no attribute 'from_pandas_dataframe'"
     ]
    }
   ],
   "source": [
    "G=nx.from_pandas_dataframe(user_data_split, 0, index)"
   ]
  },
  {
   "cell_type": "code",
   "execution_count": null,
   "metadata": {},
   "outputs": [],
   "source": [
    "G = nx.from_pandas_edgelist(user_data_split, source=0, target='index')"
   ]
  },
  {
   "cell_type": "code",
   "execution_count": null,
   "metadata": {},
   "outputs": [],
   "source": [
    "print(user_data_split.count())"
   ]
  },
  {
   "cell_type": "code",
   "execution_count": null,
   "metadata": {},
   "outputs": [],
   "source": [
    "#based on the count, take a small subset, build graph and check GN ALgo\n"
   ]
  },
  {
   "cell_type": "code",
   "execution_count": 12,
   "metadata": {},
   "outputs": [
    {
     "data": {
      "text/plain": [
       "index    14831855\n",
       "0        14831855\n",
       "dtype: int64"
      ]
     },
     "execution_count": 12,
     "metadata": {},
     "output_type": "execute_result"
    }
   ],
   "source": [
    "user_data_split.count()"
   ]
  },
  {
   "cell_type": "code",
   "execution_count": 57,
   "metadata": {},
   "outputs": [],
   "source": [
    "subset=user_data_split[:1000]"
   ]
  },
  {
   "cell_type": "code",
   "execution_count": 39,
   "metadata": {},
   "outputs": [],
   "source": [
    "sub=user_data_split[600:1000]\n"
   ]
  },
  {
   "cell_type": "code",
   "execution_count": 1,
   "metadata": {},
   "outputs": [
    {
     "name": "stdout",
     "output_type": "stream",
     "text": [
      "hey\n"
     ]
    }
   ],
   "source": [
    "print(\"hey\")"
   ]
  },
  {
   "cell_type": "code",
   "execution_count": 23,
   "metadata": {},
   "outputs": [
    {
     "data": {
      "text/html": [
       "<div>\n",
       "<style scoped>\n",
       "    .dataframe tbody tr th:only-of-type {\n",
       "        vertical-align: middle;\n",
       "    }\n",
       "\n",
       "    .dataframe tbody tr th {\n",
       "        vertical-align: top;\n",
       "    }\n",
       "\n",
       "    .dataframe thead th {\n",
       "        text-align: right;\n",
       "    }\n",
       "</style>\n",
       "<table border=\"1\" class=\"dataframe\">\n",
       "  <thead>\n",
       "    <tr style=\"text-align: right;\">\n",
       "      <th></th>\n",
       "      <th>index</th>\n",
       "      <th>0</th>\n",
       "    </tr>\n",
       "  </thead>\n",
       "  <tbody>\n",
       "    <tr>\n",
       "      <th>0</th>\n",
       "      <td>CLKGEdkqwQT6oVJG_deC7g</td>\n",
       "      <td>-3i9bhfvrM3F1wsC9XIB8g</td>\n",
       "    </tr>\n",
       "    <tr>\n",
       "      <th>1</th>\n",
       "      <td>sfow6eRRLPTQa4MEHmKbaQ</td>\n",
       "      <td>-3i9bhfvrM3F1wsC9XIB8g</td>\n",
       "    </tr>\n",
       "    <tr>\n",
       "      <th>2</th>\n",
       "      <td>m6OZG66JPXVIZRkqm6reDg</td>\n",
       "      <td>-3i9bhfvrM3F1wsC9XIB8g</td>\n",
       "    </tr>\n",
       "    <tr>\n",
       "      <th>3</th>\n",
       "      <td>8mrc4DVb1EMGmJen_qWqVg</td>\n",
       "      <td>-3i9bhfvrM3F1wsC9XIB8g</td>\n",
       "    </tr>\n",
       "    <tr>\n",
       "      <th>4</th>\n",
       "      <td>dtsE27TVc0CklFMHRw5WFA</td>\n",
       "      <td>-3i9bhfvrM3F1wsC9XIB8g</td>\n",
       "    </tr>\n",
       "    <tr>\n",
       "      <th>5</th>\n",
       "      <td>wYgJJpTFC9wVBZc6rgLiHA</td>\n",
       "      <td>-3i9bhfvrM3F1wsC9XIB8g</td>\n",
       "    </tr>\n",
       "    <tr>\n",
       "      <th>6</th>\n",
       "      <td>Fd6yfocEW6sHqfDthh-a3A</td>\n",
       "      <td>-3i9bhfvrM3F1wsC9XIB8g</td>\n",
       "    </tr>\n",
       "    <tr>\n",
       "      <th>7</th>\n",
       "      <td>sMgs1e2yxylzaTmb4t1nMg</td>\n",
       "      <td>-3i9bhfvrM3F1wsC9XIB8g</td>\n",
       "    </tr>\n",
       "    <tr>\n",
       "      <th>8</th>\n",
       "      <td>n6l2ZservpTfGzaQfUMNZQ</td>\n",
       "      <td>-3i9bhfvrM3F1wsC9XIB8g</td>\n",
       "    </tr>\n",
       "    <tr>\n",
       "      <th>9</th>\n",
       "      <td>ggm-3JvV9yj4Z78bgpfb2g</td>\n",
       "      <td>-3i9bhfvrM3F1wsC9XIB8g</td>\n",
       "    </tr>\n",
       "    <tr>\n",
       "      <th>10</th>\n",
       "      <td>RVPTygXr-mB4AYNZPjcBUw</td>\n",
       "      <td>-3i9bhfvrM3F1wsC9XIB8g</td>\n",
       "    </tr>\n",
       "    <tr>\n",
       "      <th>11</th>\n",
       "      <td>ChNbDcW57eg9WEOUCE69JQ</td>\n",
       "      <td>-3i9bhfvrM3F1wsC9XIB8g</td>\n",
       "    </tr>\n",
       "    <tr>\n",
       "      <th>12</th>\n",
       "      <td>7qY2KOV-9OsvlT2qB6NgDA</td>\n",
       "      <td>-3i9bhfvrM3F1wsC9XIB8g</td>\n",
       "    </tr>\n",
       "    <tr>\n",
       "      <th>13</th>\n",
       "      <td>i-v8v-Ns-NgjsEwTHrNIAA</td>\n",
       "      <td>-3i9bhfvrM3F1wsC9XIB8g</td>\n",
       "    </tr>\n",
       "    <tr>\n",
       "      <th>14</th>\n",
       "      <td>t7E0chL0rY4NNKtkHs7kaQ</td>\n",
       "      <td>-3i9bhfvrM3F1wsC9XIB8g</td>\n",
       "    </tr>\n",
       "    <tr>\n",
       "      <th>15</th>\n",
       "      <td>G50Zb4u_qhIDTm5ZHBlkmg</td>\n",
       "      <td>-3i9bhfvrM3F1wsC9XIB8g</td>\n",
       "    </tr>\n",
       "    <tr>\n",
       "      <th>16</th>\n",
       "      <td>saDYN_zBEoNheolWPh5RcA</td>\n",
       "      <td>-3i9bhfvrM3F1wsC9XIB8g</td>\n",
       "    </tr>\n",
       "    <tr>\n",
       "      <th>17</th>\n",
       "      <td>PgMrRvP8nB6sbiU1aAiXrg</td>\n",
       "      <td>-3i9bhfvrM3F1wsC9XIB8g</td>\n",
       "    </tr>\n",
       "    <tr>\n",
       "      <th>18</th>\n",
       "      <td>yFLNHDlCriteboCVKjtpbA</td>\n",
       "      <td>-3i9bhfvrM3F1wsC9XIB8g</td>\n",
       "    </tr>\n",
       "    <tr>\n",
       "      <th>19</th>\n",
       "      <td>tl9hko_3HzMt8Z1qQeQi5Q</td>\n",
       "      <td>-3i9bhfvrM3F1wsC9XIB8g</td>\n",
       "    </tr>\n",
       "  </tbody>\n",
       "</table>\n",
       "</div>"
      ],
      "text/plain": [
       "                      index                       0\n",
       "0    CLKGEdkqwQT6oVJG_deC7g  -3i9bhfvrM3F1wsC9XIB8g\n",
       "1    sfow6eRRLPTQa4MEHmKbaQ  -3i9bhfvrM3F1wsC9XIB8g\n",
       "2    m6OZG66JPXVIZRkqm6reDg  -3i9bhfvrM3F1wsC9XIB8g\n",
       "3    8mrc4DVb1EMGmJen_qWqVg  -3i9bhfvrM3F1wsC9XIB8g\n",
       "4    dtsE27TVc0CklFMHRw5WFA  -3i9bhfvrM3F1wsC9XIB8g\n",
       "5    wYgJJpTFC9wVBZc6rgLiHA  -3i9bhfvrM3F1wsC9XIB8g\n",
       "6    Fd6yfocEW6sHqfDthh-a3A  -3i9bhfvrM3F1wsC9XIB8g\n",
       "7    sMgs1e2yxylzaTmb4t1nMg  -3i9bhfvrM3F1wsC9XIB8g\n",
       "8    n6l2ZservpTfGzaQfUMNZQ  -3i9bhfvrM3F1wsC9XIB8g\n",
       "9    ggm-3JvV9yj4Z78bgpfb2g  -3i9bhfvrM3F1wsC9XIB8g\n",
       "10   RVPTygXr-mB4AYNZPjcBUw  -3i9bhfvrM3F1wsC9XIB8g\n",
       "11   ChNbDcW57eg9WEOUCE69JQ  -3i9bhfvrM3F1wsC9XIB8g\n",
       "12   7qY2KOV-9OsvlT2qB6NgDA  -3i9bhfvrM3F1wsC9XIB8g\n",
       "13   i-v8v-Ns-NgjsEwTHrNIAA  -3i9bhfvrM3F1wsC9XIB8g\n",
       "14   t7E0chL0rY4NNKtkHs7kaQ  -3i9bhfvrM3F1wsC9XIB8g\n",
       "15   G50Zb4u_qhIDTm5ZHBlkmg  -3i9bhfvrM3F1wsC9XIB8g\n",
       "16   saDYN_zBEoNheolWPh5RcA  -3i9bhfvrM3F1wsC9XIB8g\n",
       "17   PgMrRvP8nB6sbiU1aAiXrg  -3i9bhfvrM3F1wsC9XIB8g\n",
       "18   yFLNHDlCriteboCVKjtpbA  -3i9bhfvrM3F1wsC9XIB8g\n",
       "19   tl9hko_3HzMt8Z1qQeQi5Q  -3i9bhfvrM3F1wsC9XIB8g"
      ]
     },
     "execution_count": 23,
     "metadata": {},
     "output_type": "execute_result"
    }
   ],
   "source": [
    "sub.head(20)"
   ]
  },
  {
   "cell_type": "code",
   "execution_count": 61,
   "metadata": {},
   "outputs": [],
   "source": [
    "G = nx.from_pandas_edgelist(subset, source=0, target='index')"
   ]
  },
  {
   "cell_type": "code",
   "execution_count": 62,
   "metadata": {},
   "outputs": [
    {
     "data": {
      "image/png": "[encoded data removed]",
      "text/plain": [
       "<Figure size 432x288 with 1 Axes>"
      ]
     },
     "metadata": {},
     "output_type": "display_data"
    }
   ],
   "source": [
    "nx.draw(G)"
   ]
  },
  {
   "cell_type": "code",
   "execution_count": 63,
   "metadata": {},
   "outputs": [],
   "source": [
    "comp = nx.algorithms.community.centrality.girvan_newman(G)"
   ]
  },
  {
   "cell_type": "code",
   "execution_count": 64,
   "metadata": {},
   "outputs": [
    {
     "data": {
      "text/plain": [
       "<generator object girvan_newman at 0xa2e7f5750>"
      ]
     },
     "execution_count": 64,
     "metadata": {},
     "output_type": "execute_result"
    }
   ],
   "source": [
    "comp\n"
   ]
  },
  {
   "cell_type": "code",
   "execution_count": 65,
   "metadata": {},
   "outputs": [
    {
     "name": "stdout",
     "output_type": "stream",
     "text": [
      "{' ujn1jZzzYPa3IuHp165roA', ' VpdTuUd1PoWFCLRkZd1E2Q', ' yBZKyXBlcCeSdAcJMOm9og', ' 8hepj9Z88QSRi-0m7uZzuA', ' sq4CRvKQXrsS8oqw7SXYAg', ' 4JY_lk685XG8twC02tXevw', ' 1bkWllakFKLwFaRGopEd7g', ' KUrCncbXE7Y8veFyk4RkOQ', ' TaSuA4rH7DZguBszlFYJ4w', ' FC5QQfkfMRZ6pLULQdPNcA', ' c8553pGUN0UEdOqtu5FsTg', ' UPHanOqH_I4xo6OXPy0HpA', ' rlOUbQzvpMShr0y4OfsQFA', ' 58nZ8eD-y8Z-5JiV5ELKcQ', ' cdBP3CZJGFt7KxGtC9djgA', ' Aqdl28uo0qXG6NkpOy3EVQ', ' iQHAgcX_whpJFDTF52BtuQ', ' fcy5WjmZuxO_xGUbt2lExw', ' urKmVRS2LtuZlrQwSV6JpA', ' azE1XMwcy6AUi8Nr2HA3sw', ' xU_ZliVBalla9ELsERINuA', ' SR6U4O9T1veUPukbR99t1w', ' PwfT4dszJChtjaPD7u-_zw', ' qcTTfZizkSdzXtDkEZaiTQ', ' kaBRqQLNmWIKzJ4MGjthLA', ' 5pg1SgG5AHjiideluTyONQ', ' slJeoUVDtvfxV8_1IVvHmQ', ' iAMjupMDnLmtFtcJrUrXKQ', ' g99RpzE6pchIKzwJ_kBjww', 'a0vrgccRm7_z3uORfuhCgw', ' W4AN3nCb9PU6BtVKvrOQ9Q', ' wFUrqFVCeyPhuGE7VH8BZw', ' _I7jKwz0zEYLSQtmvQkNnQ', ' 62VOtzAAvF3_-dhzpW_OZQ', ' 3UfbEE7L-TM6mLhPTQOaYg', ' mbAZ57Am9kTKDHfuMzMdug', ' ZIMy5dZ9pfM9rte-q71E3g', ' _6rpsEcddtic4oFlJ9sXZQ', ' KDn_ALXdl_IEYst8_DlLLQ', ' -t4FDKVNnZaw7zBn45I_YQ', ' BD3KjUFbYM7zlMR5LBQiuw', '-7fIoUgPboApCfkG0U7W4g', ' JY57gtcQ4wm5IHtTL1lEpQ', ' 8RPX0VE3M5JGm2HRf1NaLw', ' J6nXKZMKD5oDsQQk1ac-8g', ' QnfhahmbuNs43-O39TQipA', ' 6FrniVnDsuVqDLw9gI_nGw', ' eSwFcgCF_ENjqSq7NZGx2w', ' TNplgDo3D0-wn9HX42dGqQ', ' sFrdRAe2s4SEsBet_LFblQ', ' 9Jpq9Rtg6xx3nisN-FgGFg', ' NYbTnFNBNDzvc_oF-3IRKg', ' vBi3HmkuC7VVbdr3X2PxZQ', ' M9D7S20FeAj2HZgeYyHBrg', ' skrdsR_uRjY90XBZwafAww', ' 2YIxQ4qNBVhZM67f6V3RWA', ' srAj9nExRSYLQDXYyJJz7A', ' Mq95swpr6DsMAJMsLgIEeQ', ' 6wzFyMSR6aMLvZXVobegPg', ' y-wBnp2vLku0vcywyFV4Xw', ' jsqk5wh07Uo_6dHbP3IxIg', ' ipbUG7ueABwul_PAaQGIkg', ' 6gQP9un9ahtOp9bEx8buSQ', ' egpXFgWVJ_WH2mW7MueL2A', ' q_fEavaQnr3zWJ8ajy6u_w', ' B1CgV1zpRu1SYi_UZ4LXRg', ' kP4MMLY2u-e-v6Nr-BfX4A', ' MCAtTqCmS8a6ry3yvOVBIw', ' sYMaqiVxE2lxiAkAobDWiA', ' XhAsMGbnh-rT92DNuKoQNw', ' DxILLH2QOO4DLDA2xO-_xQ', ' lztAp-TEGLjaVmXVfF7G4w', ' LUAx8ppv68pMb6-VlmK6gg', ' MESb31LzZ8Ev6SJ0tRd2hw', ' GgTQRVx-g3lgGeQJX9jm3w', ' rn5HVeONhE4P_QURv-LcWw', ' Jax0ZuDw3HZNBkkmPjPj5w', ' EzFWX4hu_3uO3pRl7ZGg_w', ' N9eWVA--S0cPZ_QFa4AZAA', ' CxS-kgQux1NwaD_pJpJ7DA', ' VwOOoed7aUcET-OWa1TxUQ', ' 91ZNJSJ-MzlrsVpp9CHEDQ', ' dwvDINFyxPYUssUj_wp1Jw', ' eMpiUQOC0j-vTFewbxQSCA', ' Gv_7Nrc4vJwEkASjiuo8kQ', ' Qv-DsqeJqgg-qvN08cwzkQ', ' ZyezVq_WfVT9nc-TdvAKcA', ' j1El-Jzsica6OcgnGuKOxg', ' vn0K1NZMxjgxHTkrGuPDBQ', ' OSwEzvHjSLTSUnmdY3yixA', ' 3hfokXoz7ZJzUAR4nQjU8A', ' dg1Y25kgCo9gsflFFM316w', ' V-sXpzFjYFP0kPuD08GoZQ', ' HQhjQNEWPgOuaC_RTkf6Ew', ' _9gqTlso4ThyZxJG6ATEBA', ' S6tIGhQX79qiZbz6R8ghNA', ' AxTFGa85DyWu8VSY-4s-NA', ' w905IyodAjEX1rrIfsdZKQ', ' _f5hkzGh7QBi4QZLZFuXyg', ' Oah-V27Vr5Ye20V6phy7ig', ' P2YaWFerd2ZVkYQg8SqtvQ', ' ZbTDSa7LeO2nUnYNh89oeQ', ' 95g31a7GTibN5UCbdp3Npw', ' oxOrM5LS_uD2YO4eLX_E5g', ' m_6oIGzpbbqOfxqV64WSHA', ' L4ULifwOMN8ldc1s5ke8MA', ' CHkeYVVq7ZjafZjt17ADVg', ' Hr1bA19M17I6Vr2PBn5UxQ', ' UXz2MVCqXyQzpdJgXBXgrQ', ' XDyiXa8SXVKzXEAoI7-nPg', ' AUQT2Op-efXkTDA824uLYQ', ' KFgHqDWKLigqOOdQ1o3J0A', ' _Xn-QFNcWvbvckRNKmtmiQ'}\n",
      "{' F3jGTvBG-XeNMfw8oKqD_g', ' SCDNQ0uVcehFH9NjEZHtDw', ' b0_av9MofCZZdr-0qx5LGQ', ' ayHlDMDiPWgoyBifSBD2Ew', ' iZNs250Zzjga4wSOU1AYcA', ' w9xY5eN9ACv81OaGBWc1kQ', ' ovjXdroVoOy2ZEdtAVB0iw', ' AkHSzaxtBoZwNbQk6eonLg', ' gTxYMqvQsHRKL66xdsZMog', ' sJbUpjmlnpa8k98kdsVNwg', ' L2g6vS1GDfqLEpiDOFfCkA', ' 5hAak4ZkABk3sEgfdMPXLA', ' 4VbB9qS2Xvk-bjAI1bNlGw', ' yFLNHDlCriteboCVKjtpbA', ' PLfB-URwJCDZkENJnsMOMg', ' Syt_iQqW_c9T2_lrvsddqQ', ' kofiqkPOeo1loQHsVbxQXg', ' QWh26nFhbwDT3uL97mMuAg', ' HBLBvHfpPnM5I41Mi5KFcg', ' 0ltmHwUQuQde4me8DII0sw', ' F5esNi9Gt9fT82dex0pxxg', ' t7E0chL0rY4NNKtkHs7kaQ', ' 7qY2KOV-9OsvlT2qB6NgDA', ' VMs2E9Y-zSsDaP-TZlVrAA', ' bozvcy7kl2kJ2mBdKVxyUg', ' DNz_Lab5hRj1AqaBcm_uOQ', ' pC1jwUrTuD2H5XJyE-JFoQ', ' jW24T6R4_lSFUXQZEe2Jzg', ' HFECrzYDpgbS5EmTBtj2zQ', ' 6xl9EVLg1MTwq4gw21e4Nw', ' fa_9j21MqPDeVFzdpgWR9g', ' 1zfdRlzvd3SpuFEDoqKUWg', ' 0CxX5_Rt-R_dMp6dd8A7Zw', ' ksonr4xKjpmznXtf_rB2jg', ' A-Bnc4o-OzOWRkcdleH-JA', ' vBA7KQP9CcXVVxJl_Db6RA', ' Mnq9FsRtNmWsF_E2TlmGVQ', ' YFROpDLjxpC2_ZODh-7VhA', ' hxl75_mb4CUxYUCm9CjLcw', ' IBInNFNZeIj87zFN-wn56g', ' yv9jvt_58q9ZQzl9i8xUmw', ' WBUjaoa6w_kMWvpTtVZBaA', ' skhONr9TP6F7XjPiJsgCWA', ' RLb7qN8x7OII6zSTFTiNWQ', ' UaEPiHV5Cm6fDwuY6N4pyQ', ' qmLkwZ910y5Px0yCljJOjQ', ' VHx_sO7IxZvY3Hnf3-xq9Q', ' 0kSXMbNFo7mdwTPj4iQv9A', ' bBRPy8zUvNc0NGbGmkjrZg', ' 8mrc4DVb1EMGmJen_qWqVg', ' hcGgZ4PbKcM3K1clw7tEGA', ' YHgAV6UMu_vLAxeSxXLM1A', ' BezhDxsCVPvGkxGhyrS6YQ', ' nDyEOdSPkDboIcyBEYgHkA', ' TLzwLBhPoO33w85VOXz97g', ' G8RpowvR9LodKj4_BCPMaQ', ' YbZg36FoMgkKcTEPae5siA', ' ydDDDagUbPDVvEcyqXhr-w', ' eR-Ybec0jZhhqcN431o3Uw', ' G_n7LyQt4-YPVLIut6mmYw', ' XMiW_9gvDp0Y9lsHmAyFXg', ' AE8nHSRPFlB4nh7CP8PlGQ', ' xprIjMBOZVbhKLDWGqXJrw', ' tDnoTB0sQQ72sBHdMJ-05A', ' mQ2QfkQ334E9hd1ph8MzsQ', ' 2cq6UlZzpjeXAF9jxa-neA', ' lX7rbGwbnm5V5tqx_vrI6g', ' YDIMfpwkxzZa1UHKdj87Lw', ' m6OZG66JPXVIZRkqm6reDg', ' 5I6-yegWr4p1mtUMwNkVtg', ' TCSlQLSx8dyCDggC4kIaVg', ' Fd6yfocEW6sHqfDthh-a3A', ' 3GwL6BzciRp2nxWXgMlCyw', ' gV5jHHJhxWKlQ37Llmbzuw', ' YEYDeXvUcKWBCeET6McRaA', ' dOifvPKhzVHaDgiB_Mc-7Q', ' BCBcOmkNnVZbucDzK0cinQ', ' xIUDGOgsgRxU8tLpuxXuSg', ' ra0Op_5h3YU44cmu0j_gng', ' n6l2ZservpTfGzaQfUMNZQ', ' raudNBGhqOd5F2N9YU8PMA', ' l-C8hPeB_X3Zf6pSFIReeQ', ' GVT0wfGJtdECYH98I_HvOA', ' LfmIHXP9BLuEPrclar77ug', ' VD8Ox-akHloK3-QV3FxY-g', ' YH3KoMQdDfdQgI4UQQPtXg', ' UOMSN12IGpju4sKwIJQE_Q', ' mR28gOekBWx8X7V-YIKBmw', ' dsytfsQ0WnDs6WCzscwypg', ' Cwqto4UK8q7rdHmG707q2Q', ' 4Ezgx61j-UuU_KDceqC5FQ', ' wr4-JL9RmopZ3KFaTccrPQ', ' CxcAAIvR_6XtwZ1IRx_mBw', ' veZYygPQQwreDknTjLsYSQ', ' diDXW06J_Llz_Q8gY2bfZw', ' HKooPGsHiZV_0vTn45fG_w', ' 09TEJZWZXDq14ZJa-N1rZQ', ' f7b0J3O-5mYCFwH51saMmQ', ' zJxcmVynIMx-wCxOMiLT5Q', ' lgfnkPmSEwqbax9ZhM1JTA', ' XmElOb8V73xkDQypksDloA', ' ZeiM3Uspn6CUThUBt03JSw', ' Z8G1Xvs8hnrpkxVDpoZfnw', ' 1z5LVnZhXrWgsQgMDpIIzw', ' 8_RaZYWxH_8STwlfEIDYLA', ' PgMrRvP8nB6sbiU1aAiXrg', ' 9YLROKnskYk3OVZosiwC7A', ' p8RS_rLHaNwA5vF6C98nBw', ' diqtdszf-prUjhR6MNzLwg', ' r0652dmNw5YthTZfMsZW_w', ' JVKk_NbM6NjTiA9aKs2bUQ', ' rGdW50y9qjzvx2Zboyl9Mw', ' b6Xjb4mY1SHMaM69LBrvTA', ' SSLNngNCSHd-1sGg7OrLlQ', ' 9Xy3ilHAB7kUAfPxfwia4g', ' Z_TADPO3SHnkfR-dM9jxDA', ' RTBhPPspzKWeVTQQ0S2Seg', ' kZOiwf44brbn-2CtOktBEg', ' sfow6eRRLPTQa4MEHmKbaQ', ' BBdRlIK_eeFhdl4EL1pLAw', ' 0XXIv9a0LWiaCjAkurjMMQ', ' OvoBB3Jm7apMc_7s1kUuAw', ' udjIUpEIygQXgypWmnIeHg', ' L9SS5lvM8Htie24x5HCc1A', ' BFkS9UThjr0BjgjMtZu1HA', ' viq0fSUGBQ4GdBU1UKCjuw', ' Wc2ttGieazrNB2fRsRHFKw', ' IeGJAGat7pQhy_DMpDOI8A', ' T5Zyivi6u1Bu04nrpbBNKg', ' b82tctb2RM67YRwKOzfPNQ', ' A-HI7Mcr_-SL60T3WvSjiQ', ' FRSoGLPQI16pus03avyaSA', ' GcyXEqN6h0vzPWOf3VGnOA', ' Gt1YJK3Vd4we88RHQ79F4A', ' K0GJ9tXBLohPy3IzWAQprQ', ' 08Dhk90xsB7X_0CmMfYMCg', ' nJ2_v-YZL7bO-3FuVo8h3w', ' 5MQ97sAIhgbPqnQanXSP1w', ' 8hvXl0oJmU61l17LG9aDag', ' saDYN_zBEoNheolWPh5RcA', ' ySZPIR5Z3OUU4scUCFYtAA', ' 1dQiuUvvK8427TBmqj_4Vg', ' tgk-5I5oeBXH-dRzDha7Xg', ' sFHdcSccwmvnaXhPEN0gXA', ' I-02Mz45H7siHsjjgVxPgQ', ' BuRIFmd4Tt1dCm1RomG12w', ' TqEOK7uxaXj7SbJZKEktxw', ' M6n5Nz-qvksROZLkVrbloA', ' pUe2AHZ2Z1h8DeZlLj5mDg', ' q4GQSkX8TfrUNqug8LOH-g', ' Y6O3zlMKBPwYlxVmBQCEew', ' gHXt2VWPoIji8WFY16HddA', ' 878EhF9iAMlGfGE49QdE3w', ' r9Wii37p0kEDIUt2e2_LqQ', ' Z4spGyaB7A1RQYDRpCMkTg', ' GSzAW6qZQPkcVwkTAYHbTA', ' wJ7HE2Is8UyFAgBIcHgqqQ', ' UBWo8HPB7AeUMDeLv9OoRQ', ' pypZb3V5TXHOnlTj-qLSrw', ' xnlDnxT4YaGnVgbMusak_A', ' Imx61z1uz5Luti90gDjLKQ', ' K9ejqgRQsGQOuM43hKtN8Q', ' G50Zb4u_qhIDTm5ZHBlkmg', ' z3lOC2W8A1O_YalA7ohwVw', ' xBt5_2rrBR5f1mSZadS5ZA', ' TyUa-VJm0BHvQoY8Kq3CLA', ' rrvH0RUN5wYc5I0_5ObT1g', ' ugxck8saCnLS2GwLeSReEQ', ' a21yEFhTXEJImb9hGl0JyQ', ' GGWjA8v479feCo6OPTLQOg', ' GmQhqhbaWcpTj_8vFDXCZQ', ' SpcXt3YxSJhJcYLMsL0swA', ' xf_vN-BJHNccH8iUhPu4yg', ' JYcdKMv1-cMb7OF18NCx4g', ' ZTkm3qgbv6lVmbFBa54g_A', ' 1Idc35tGsgkB3G2ntig0LA', ' Db80SCez0BdYaHdC0xmzoQ', ' UYZaM86Jfj9Zdmnad_aJ8A', ' iM65_UObxBvexo50FiSYhg', ' ssIQipMBoMA7HMXWCpRS8g', ' aD-rsDe2S0e7jTkYD6ULaQ', ' Wj0tIFlWz_1Uam1VDWYG5g', ' axwHzCBIS0fW4P8WP5JuAQ', ' Hnu5s_myOZZIS2eny7liVA', ' 8Nvvqnb60aFlZutylZd-Aw', ' B1IQ5YmKz4WSSQXvqzZqNQ', ' z2hlcDtmEKSHgqH2SrUk5A', ' 5mG2ENw2PylIWElqHSMGqg', ' 2fyDdHqfZUxA2eGHaWn_rA', ' hN2yDV75um9F1LiJnkvWJQ', ' G5LXEaxhQMF_BVjNHkVr7g', ' cvzKVWaGFysF1iZ1RUvsBg', ' i423FPgGET7G3M284yiWvw', ' T8VQZLppxMjReyYEo6NB7w', ' TvylADrmusk9zo5tylDd1A', ' eR9pvZaGcfip946-re2-5g', ' D_3VAkLy8tfJHzEdlXkg8g', ' 6DC0wklyCCirKpglOOCyow', ' 8vFeWumwP9Q8UnUpVQh5FQ', ' 9h1nRWISb6tdpzMwSDYMDg', ' hNIBq7eRAoEEN0_hQvG-hw', ' 8drMKNHWavs2g6uf0pLtvg', ' bXeaHUTMKhTnWlABP2nv1w', ' 4BXqlLKW8oP0RBCW1FvaIg', ' 65vu9Z1fAqiRsYqEQtPQZA', ' CtwBkTDEZaXa9MF1eAPyUg', ' IiMDsxiFisO6_4xSB_lIiw', ' jzqLpVkB1rg9AssLKm7lvw', ' htlskhshX5r3bQcKSY6flg', ' zpb17M4OG4Agjn3dK32CEw', ' xFECcWQwmJ1MVxfC7tkREg', ' 2Sf58ceaNru-RFabRtUvvA', ' As7WyhkzXOO88wlVNeNRHg', ' GCuDiPUKYxhgFHP5LqJa2Q', ' stv5AjlNgP3HCogz3Ku8pg', ' j_P1wbNmK0uBo7LBv_Teag', ' 9bxdPvAhP6cuipD5s2UnCg', ' 1E7aMe1Vsofj_4HLN2TgJg', ' VlUYIg4fx7bclU-liIXpTg', ' 5ZsumqlAUtKqBGAhGD2Gdg', ' P006Tkm3ef0DFCf4bnpl7w', ' jYowMfO4Gzh_kuwgFS_oyA', ' MiPXymylXRi9qxFM5mryrw', ' IBZMvu2dTKy-j23qCJgVWQ', ' ad8cXN5pYhs8EtSUat5WpA', ' dYxFOPCe6mX3gg1x1FNsVw', ' 9V1_PAQVG5gNAJ5eCgFzxA', ' kOq5MpMF1glOVh1IK2WqTA', ' KGF2St98DN-DB6hMXtYV9A', ' CYh28K894OCC1ISkVEF5Hw', ' IwASQZvrnLAo3oL152SdYg', ' 9_J8_j-rozLuHQsZlOQd2A', ' G464qTxQv6frrUD-38ANaA', ' fDny65qdxn3EJH0PZbCxIw', ' 3GXXeevx7uEdFMrVYekFyQ', ' 1gWH-efzKp2fOUed2YVLkQ', ' vD7BXIUP6yzBPazdWwgVCw', ' 2sVdJp360sdA7rPBEgnPqw', ' 8eexFIJNOCbVv8JK3gVXqw', ' jrpY-aiBoUJcmGCEOGXX0A', ' shux03KqDQumOn_lzTwHeQ', ' Ys6_WFaJEnSJUChUYc6kXw', ' BNOTTfMr96Y4JEjHxBhjKg', ' 4P8EDoVkcSLJs2XP5DJIPg', ' dUjWYjb8F-bWeKsS_lMfBg', ' 8Q0xnxT-KrvCl2pQF1qsFQ', ' sYTJK8YWc8LY-spVLjUoHw', ' Isb9ZKTK4L5nkOpyXypDPQ', ' QDIJWzfv_dv9InlFvQ9JhA', ' nlLAhGoqVoOGjm2mdMYstA', ' l9BVZqg2hp1oyFgXpRtWlw', ' xxMg8OyUtXFNJ2QXDXF4dQ', ' BhwaJuqrwt_Stlf4XndzzQ', ' 8TdJ4bTZazpvZXkjWCpxOA', ' fX9PFhNdT-5BNx7MbvZ4xg', ' JKADJTswQG0xMoNRyVkIWA', ' tQRw0aZcyns3i2V7PxygKw', ' ikdLkEDRE1vV5oQVPC2f2Q', ' PauNerg-kHRpoqLwB6F5CQ', ' R-i4F_rOYAMipGlvlP7A-Q', ' edlkxS5cnazN3iQVAaI5IQ', ' qNkA5clgV3JDLHQJeUZk8Q', ' tnUGWGquYVVIQmbZz80XWw', ' wZ13br0UIvwn_txbZ1vRvg', ' 3g_wpTHUbtGbvBEzDOh8ow', ' wYgJJpTFC9wVBZc6rgLiHA', ' 8N1rkiMQ0X1yaBh1TSjslg', ' 1OocYCAZixwbAXueW75FMw', ' tHtNJVCveRt9IvFKmcC2GQ', ' 1kpMAKRZuAz3OzxBav3XTg', ' A7Prv_pNSoE3EP31sXacuQ', ' vDsfDOBiuD8vZmkeUCbp8A', ' 7A5lajj4qvHSDM97Kg-x4g', ' dw7t_K0eNnGklF-Fqahf5Q', ' enQQMC0gI942FaPe9Gz9qA', ' MizlaDrXhL99TrWWXXkO5Q', ' sMgs1e2yxylzaTmb4t1nMg', ' -yGb8SsPHuY7r8kmGRc3aw', ' UUFaHGWvlrM8THo-EFsa1Q', ' j1O5OqEvlwLp7VrkiAJRMg', ' RFTVBFlgM0cqvl1daywfjQ', ' --_lEViC3Cg6dUfG65M6Vg', ' 5Gyj9vJ5zHq2udDovEnGOQ', ' z-ElbRef0nw-QLwzfEZENw', ' JSfl22sslPLAgcdli-X8Sw', ' oBzcnbpWF4dNLP8r0F99qQ', ' atdrQ4gGpxlW2UNq1XNDpg', ' EM6VabmAsSc4U5f5jyvUgw', ' ukfZEKae8SLavXHDDwdKBQ', ' C5Z9aF7RAudlQysOINRZrw', ' m7mQf4FbNRZ6u1wrHEmonQ', ' FdQZxULvI4GT0-1meVap7w', ' bpNI5D5-om3PnKhDLzppXA', ' ajefnOP2YLGRdIokcgLszA', ' hvOlTjSeucPuK_LJC7fU8w', ' 7cHyMqBEe18uWDnS0-ItHA', ' CiYRhDyFbsDbWR45uv822w', ' 8T380oA3PwnHeRKGQSsZFw', ' KPE5jVbQkDhNezUCie978A', ' GSCe91iPcWka0pcj7egjkw', ' jeryHBRFG8IT6LlVBiG2oA', ' Q2tKmm3TJDQMkecuShhAtw', ' CX9dw0OCXUaQt2GyedoW1w', ' 0nwGxhxTX_1l0zchn5PBJw', ' ChNbDcW57eg9WEOUCE69JQ', ' lWJXYN7J7jMpF12izhGJmQ', ' PVE4y5ylY0XS5ih-5baX-Q', ' ne_t-8vibPvJK0wxLk1bCw', ' sjXC5pTebfGMZzP-9fpxTw', ' 9FL0KByXOUIPWJerbjlMOQ', ' 6CQl5-bLbxp5NjM9I6QZpA', ' KVehpTNCERwMGAx-h9MR-A', ' i0_uZAHoLVFxNvIsy8uduA', ' 9GildLUYQRFJvK-ENn7Z_A', ' 6b-xMDKuXglIDVRf08eKJg', ' TA5f9rpPGllhrjhIor8jNA', ' E-t7PM7q0phCFuqTzahyHg', ' GgpUb0DEOdbmkFJEfT1vgw', ' DHzZ015h_baWKJy7g7DlrA', ' aOiK7GOO11pMc8GbV_hhuA', ' PBkUgCtHyauuaOr5FSSyTg', ' 0z7CYyBIh4emkv6_-DtC6g', ' m2XKqIaqB2P5GGm7cqZr2A', ' tovDQLmW7cb_4oPprWsxWA', ' UVxY0iyPaqY7s4BSFtt-xA', ' Qs0jYBAmolqn6fblDr4xGA', ' h9unlpk_s18jhml22Jt6aQ', ' azkCelWmq3F9Bcs4NHoJhw', ' Xgg9fGrqWhhLXR66g4iEew', ' dexn2UVHzkPITS1SYBjH_A', ' qwC8U9nxCaQ8fUiqZQByEw', ' PEkp7T-uOgUq5AIQ5obt2A', ' pqr24EaG7KCfuWmRFc8kdQ', ' c3ft84wrrVCxLh8PLsdFNg', ' EEslA8XEw0IMDoRGZlu7lQ', ' RfDGx52UbQHbJf4a-ERWEw', ' nbTvBIMmqk6ssgHlDkK3NQ', ' gsEuGEhXxGMlHlE8vLkgUA', ' 4Y81J2Tdq5XAnkeYmCZ2ow', ' AgTkBCxuinzStHNRKyVRiw', ' XaMwHlRaUfsSjBewVAbiQw', ' 7lIAYRJTNRBe6nZxP0WjSw', ' wl8KAodiqph6KHRlu3qkBQ', ' IQ1c1pePjdru5pc8hdsdVQ', ' y3HFVx8nbNmomSc-PWOy-g', ' Wphq2ZRlC4XHzETQvjDjmQ', ' bgOjO-HX-7wzUlXeXJJ2pA', ' Gg51S9WY0vmTSHWrMorc5Q', ' 5aCEquYmXUIsWmpUp1gqxA', ' woZhhAj9QrzMYBJ8M7uJFA', ' QA4v0Is4Gs5KB-F3iSeHaA', ' SRnOg-4Ya4g4dUQ1x0Tdkg', ' 0ObIfSgndeeR_kGlo1S7Ww', ' lCB2P0vuS1M7rdhRSI2Cyw', ' 2YU8JiUk4gj-WBHNGDA2Rg', ' qVCGzJCDnjwut1dnHef2Og', ' Lr-B-r-KF80yFy-2u336bw', ' eXrGimFOiy3KQCokTCZWeg', ' v0JtfrbTDNPvSp3rXv8IRg', ' ZG0s85Ti-22f5rPLWba3EA', ' OtbooagsCGPM00ZbDOyPgw', ' QsJ3KhIeFW6cUEBrD7CaZA', ' ggm-3JvV9yj4Z78bgpfb2g', ' 84EopsfQPrmekSBQcQtasQ', ' gRpajYhaHjvp458L5mViaQ', ' pILrj__DvsPCm7w3bsjIsQ', ' EaNRAdd-3gDzZBRdg1pN_A', ' c8YOUQ1Lz645fopLMNEAnw', ' R5QmeesF5XYUsvP1XJqDYQ', ' RKpKgh6V30CMAR6SB3_wBw', ' _dUoUo3aie-9N1VgUocMag', ' 0bQIbFSdy0Rcdj5-Le4C9Q', ' BHDBfx4mWOdtT-ug0CPc3w', ' kiNuLT0QBYXRaH1DSXykFA', ' mTgn-dLusErHqGIbNCCFPg', ' RAtxWwSoLaLTphkNeqLNIw', ' YwbzhZXbXjiBnE8aISusFw', ' GFkOkEpTGcXxHd0-mnNVdw', ' LdWIjNvjdaAoAfpQhT6F9w', ' 8uPxHxvun2mo32jZwhDZXA', ' P1iJG2NTrkgHeLeXzsCvAw', ' RT-zQ4lKNgSWp2fc1-HLsQ', ' u91pJr7w-aSCEcOZlLzDaQ', ' AT6NwNkLKxgW2fsQGNs-gA', ' wEE-YMx5pmSuagLtNxMPKA', ' tz76vDOqji6RFaAO_suTvg', ' RA06kBAol_rEK5wxRwMxXg', ' _S5tB9stFX3YKLBPVoEjqA', ' hX9JjmjSFFT_-2rpUlN_Gw', ' zo1oKzLCh1KmprpI6fqs5g', ' TEtzbpgA2BFBrC0y0sCbfw', ' q93QOAUrLL-qWiEIEw5aZg', 'CLKGEdkqwQT6oVJG_deC7g', ' CIJcnwH8WcjdO4s4ESPXNg', ' cf-J2rZQyklNDFuTEeCIMw', ' IucvvxdQXXhjQ4z6Or6Nrw', ' TGdnpYdQgPnKAd7JoC37pQ', ' D-kSRm052PNexjJX8sNLBg', ' dtpI3xtc7HSyFJxDoPyqrA', ' XCW5pJCDhvlW76XTSUEkIg', ' vAf-wTXExE3MBTQDgqTMYw', '-3i9bhfvrM3F1wsC9XIB8g', ' iYa3acf6LzDIaZ378ICUGA', ' dDsW34QJbBOHNQFyheGqXg', ' Vf7XcgaZlAJYy5BJFt_QZg', ' tl9hko_3HzMt8Z1qQeQi5Q', ' LAwptwS7nJwPkV5Niy9jkg', ' HuBgs7uHyUz7DzcaScZqjg', ' Sd7gSBnfoSU16FVXLgNNHQ', ' Yr5vjxfoD6VTuv50npiHnw', ' jkiinjUy8RUZKzW5gBpXNg', ' E0aTaNnoWmAfOCWbcY4L9w', ' xMKpXNaicvI-BgSA69yp9A', ' qu8CAL1egblZ38yPBkfD_A', ' u6h6xb9_F8zWxQZfH14cKA', ' BXIKnrmyL67A4C5nN2FbNg', ' _EZGweEGDKyu5c_kjKeyIw', ' KJXtd4CnD6trhlVRTJW4RA', ' NvXEm-xjurWn1RtEn_8JtA', ' Ycgsj_d-OBsK40UqCEDO4A', ' lgg9CDUOfl5G5vFUHskVXg', ' iQKc5Vl0bXUlVRmkPmy9vA', ' ayOonsrlo_007GfTydNMoA', ' dtsE27TVc0CklFMHRw5WFA', ' _apCOddyBZBImQgGu3Hm7A', ' Uurxz2utWrvCSkK3XEuDpw', ' 7eYqKDAl-a7a-xSyYz9AwQ', ' hE34xpG35WugHznWf79HfQ', ' xzVb_3M-pS43VipEoQCPMA', ' VHdY6oG2JPVNjihWhOooAQ', ' 5UDpc2CMOgbf3GePS6SGVA', ' P6OBUNnwvMqRr3dFwjDHTQ', ' hSNq8DXrFxt0qf9NpxdSWQ', ' k9V3mBA8LDNeFQAwVXScCg', ' i-v8v-Ns-NgjsEwTHrNIAA', ' MiYeTvs-4o3hUqVM0O3T7w', ' MKF01gMy2qMPyG7y8MIdxA', ' EGz1NDtgVbndCJ5R3F-stw', ' 6Vsy1GPnJGiZO-1cjv8Eqw', ' -l9rpVi9OxBu4WlgCD2HGQ', ' zPYsanqEeO3p03LcEYwDpQ', ' ayXg6cR2_xCF-YZi6VJWQA', ' 0SlOxBVxEYNQZw04FpCPoA', ' TYRmBtQs7DCHFPr6jGfsxg', ' XNp5lvZOgGm05GNf5fGnNg', ' STF3wCq2y6_dTgWlkOIvmQ', ' dzLrgsox-F0yMOdRq12n4A', ' WKyGTk29DBJhL02EymtZbA', ' jUFzf2v0XY0O2bJ1vuNnfA', ' HPJY5cQ7Za6Hi07eB3gvZA', ' qBfM8VJbQVALuNks--MXnQ', ' FQP16KOZRgGaNE_hS-rbug', ' i-r6ZtPubJPg9oBd7GtuIw', ' tuTq-QxVr3hguP0lzKMbVw', ' RVPTygXr-mB4AYNZPjcBUw', ' JAFgOs6sMkZEE_nmwHXejw', ' p5Pg5yC0tXrTE-mE-rwiKA', ' 7cL0wq8QwMGlUQnG2ruLSA', ' RlXfOTtpgTfcisRmukrGbw', ' r9VkVP_4d2_KMHA9ZN2c6w', ' bOzsdIkTveA6glHOOMPpkg', ' l20MTXXZq6ydgig4cPBK3A', ' iKCUNwOtSHshhXKYiGOm4Q', ' gfR80SvOyWL45S8vPMZxNw', ' sQa6c_-VN19ivgRHcvAucg', ' 5X-oZmluK1w6dc57b2JSxA', ' _Xz9DT1p1Q0kvap1tnBb4Q', ' yRRx3nAqYd8x254Odlg7QA', ' ld8zmnde6xst1av_RC7l5A', ' U2I4GBXRi9xYeiC0cXM1JQ', ' lrp5aQP31ar3JDlbwccfHQ', ' QJI9OSEn6ujRCtrX06vs1w', ' iovWFbA1UtMGDJ4C8hbhYA', ' pnfVIB7UhvCQ7X2K0Q2XIw', ' GHFU3rZnYLF0MdJPYhMweA', ' A9YafXoiWB3zRnktYf2DEQ', ' BsRhkiDWVVdRbaJcbbb47g', ' biey89DPbXAQCVdc4iR3pA', ' EJKh9ddLCqqdYSUJczphEw', ' _vk88Fk8e7_HkXSMb9M9AQ', ' miY7B32VgfHsdRoVP9Nl-A', ' Y_kQUQm1lczDNvBVrk5BTA'}\n",
      "{' uzt4eSVdLFLlcW3turmgvA', '-55DgUo52I3zW9RxkZ-EAQ', ' f6OfpCnJs9dpdj6d9yHvlw', ' oMBvOKD80_LoGUk1l5He7w', ' g53FBgpwWrBBM8yLvfEBng', ' LTNlAPNiDUgLEd4PZEooOg', ' NGk-NNwtb-7rH9k5AflzoQ', ' Grh1dV3VpSLtHlFDy5JCvw', ' WpjbaRj-DdNQhB2lv2q7nQ', ' 3CA-Fc5mLUdtkMBTpA7OzA', ' jk7b9jS--sHaR1-XRT36wA', ' _G153fwI3GPvCapHmLT9LQ', ' n05WmzLzkC0MJLYzawqAnA', ' si2-AeM-BaIbYBh8klNLig', ' 2tDLVN1Gtqd5Z8whIpe3ow', ' 9Q5jOG7zs-WZyPmgxjj6_w', ' gGyZCZ4L_KK0Hp9BDy1HZA', ' mETeNDIue9DTvnyf83m8ug', ' Dv5tR6aFFSSRbLD8m1nVWQ', ' g7mGtFY251aoJ9KwyF-6Dg', ' DJi8gAviU8QnFMMK4cywzQ', ' XDp-yQpv2QjuMbDv-SqKCA', ' PgG3uWj7jV41PFViLwE6FA', ' uYPQGReSzzBP7UCLBpPfSA', ' JBhyktnLUR9XP9ERVTZaaQ', ' jzi3R6Kft_MR5fQuV7u20Q', ' n2MxY0DJVLjbBBzv4G6LTg', ' qbHxfHCaNVZOrrseNfdVnw', ' wsLKFYR7q69aT4nCESy6OA', ' trjuiSotmlI191nJc1QD_A', ' RV_NWdT-JMmDKIhq6rRinA', ' 5VX4bMGq4yzc2zqckMBP_Q', ' 0F5mNRC2v5agd6_A4sMh-Q', ' 5f-XW6KCaE23KrYCwgehAA', ' _ujuHSf1mI0ISRy3lHnpaQ', ' cjotrRQK6t_OXlmROh8qXQ', ' SCOqI-9qTjrDY0yP86KrCQ', ' AcvUQOJmWpCDdeIMdzMZfw', ' id-9kcZlG6wgliX9I5ejXQ', ' mBUrnSt5guwethLEGKsa0g', ' 7ieeIi3jbIUuGnf4P1epZg', ' p7dugzk_YdZDRONwn9lxJQ', ' gl2QnH1SKB4mJNBgC76hKg', ' LR6Z-QpRRsBjXs4U4qkYJQ', ' JxZuRNrxVYD0Y0sXkN28Qw', ' OLh4HNBIj1it0qPcQgNWjg', ' 2mQ8zh4BDsyB4Hzr5xdr1Q', ' MZsNbC_JAYeqtxnagqh5TA', ' 3_ar6VpmY5QW_vKtHBoA2g', ' IwnpXWUQCcqhrOK4exydxQ', ' _z1gzSI0bxfiqM5mQKTdxw', ' 5y9ncdu585eJl-QcOIrdDA', ' SPdN031iJdii04bFuKKdIA', ' SMo95o-Ogye5yte_qLIaBg', ' GP_WHWgUZ8n4K2a2m5j10g', ' TP5nwfeDcQlw71Nmv3uB4Q', ' 72ozHq6PiPCnPReZqQmyng', ' tDnIvs_HCR0N3mkT2Ccd6w', ' 39dy8H8J9FUVbGczogWX4w', ' eBTx3V40TeAQ5pmdw9y6uQ', ' KG9qHAwW_kVELzCZSHmqEA', ' jagEx-Ug81h89VchOUlLGw', ' 1aP0d2DmZX7XV-U03LWWBg', ' cgfYsyJcQQXmgDxdtaxL6A', ' jD5vF3QhBSo43fkCYonp-A', ' xtaBo6USTlOFEe_mwiMeAA', ' fyOauuGs7ml5aurUY3F5pw', ' msI83aUzmoHOQoPD-XnB0A', ' n5NAbCFqrSUnBVkz-YLo_Q', ' 7Hor8EliwPEJ8V5RJ0bThA', ' Q7jokNj4So5QTydfUshvnw', ' xcBjlo4c7KE4jcqYswBI2A', ' LZ-dU_13mEQZBHW1AkKOOA', ' 71S2DIxRbErIA-SLFI6xeA', ' kL2pzSJyzCxjO0FL6DSgog', ' H2T4i9e9IYcH3O-0vtYNvg', ' ffnUCiqR_yCC7uilc1b62Q', ' jD0pSELHS1ACiq2vDIKXqw', ' 5xNosF6N9l4xXvQLBhOMzA', ' _nSDc5hZsBWNYErWJsbYGg', ' yIEQwDprWvjlW98KiH1P3A', ' aYITdGTrBxRyGsIDB83otQ', ' mwR7o1WfbKU12GDSTd6PMQ', ' 5f4butJ5_-__MpncTVXHTg', ' ly4XAav9mrawBs0oTXu0Ag', ' PIqoeGuvQr7eKEWcoX_I7g', ' 11TYml2cOTVQaVqTK21SkQ', ' -1sH0zIxGLJVaU8lOMeIfA', ' jXp4ts_uSj_PEMQUKvwIrw', ' -q7dhNGWkNFkAziiYqwqiQ', ' IIuizRTeZ_BxrJv61eo6yg', ' igfUoT7aiOjAa2_c4EPpNg', ' VYRfXPYERz3DS7zj-1Z5cA', ' oxc9ybNHzqBT2xEzIcJiew', ' WE4vQL8RokkSXjinyiUl7A', ' C8XunPK8dqrQYxueTFJatg', ' OdJICiEOHhj2RNrYuHWQdQ', ' P35wSdMyrduZnQhvcgygZw', 'vFhxmJcNdrnGNfN5w5LcVA', ' JzoWvA6LfZON2iltSiqP7Q', ' nTJO-rW0PYdvyui4hlT-cw', ' knCdLS-rIUH0XOQFFAbPrA', ' xY8R8Ds50sNJGu0xQQT9_g', ' efEtLjUoEhoQJbdojonFXg', ' rD8JVk0kPua5lx3CyjujIQ', ' w_3KiC7ce7srBIp7VuDpSg', ' PonvzvPupP_irRpcy37SzQ', ' cPHq3H0RzLP7xcT4bd_XVg', ' 7jD1yDVSVSQhQz5AaCW0hw', ' T_PqTEmoW4x1v5DzWP3xOw', ' FbK4Tqny7EesG2cJoBSxKQ', ' yLvUyh_WNoG_P2NMc31DaA'}\n",
      "{' MU9JJftqY3PRnL2xWGsv9Q', ' P-igY1E5RsvcugbXjDQphA', ' nLmiIk6EyO6pFTCb-Ly3Rg', ' ngqlPTbonAwDZy5W-uUnxQ', ' Ggx8iUdJ7lsQSqXRuclXtg', ' jWr8J3rbmsQZUgNbrAIIqw', ' zsmd8Gg3FX2l17vovbvBBQ', ' 7oZrWl_B5c0zCvg_FwMrCw', ' ZMocFA2lNMJeiKjguUKu7g', ' KPnQzB5wsW1lBpU9h7auXA', ' 4veZ-U50uVle6vA-MLmR0g', ' AkTQtc7Dmp2oBpxMyyICGA', ' t8Ua8nt1mW6byWUZyE4cHQ', ' 2esyx8s04Vrde3Pn8GMNsQ', ' 8aR4aqDuDFOfM3rZkhT1Cw', ' 1snscCfFZOtDIRxw30qTOA', ' lsSiIjAKVl-QRxKjRErBeg', ' 90g1ELbOuObpN9D92GWnoA', ' CDvhiRiczAq0M5pktyiyog', ' fgwI3rYHOv1ipfVfCSx7pg', ' uT2_nAFYO_jbHchr1SuYIw', ' kgX2G-FKHtxShuRZxpd0nw', ' QlzCRfJbsaggG6FGrIAoTQ', ' P284CFD8Z1MZruMQyjEJnw', ' zhj6U5160PVghIesb0jumA', ' FpB44ccQnPntnZQmWTTKDA', ' itNrmwmb2Tm-LKkh2kbBAg', ' P14bqC_Ynbp8O3tLePRKSw', ' SSnLeRGWh6snuwZN2ew4Cw', ' PJzTHJtaYWLrnztLxPLddg', ' uAH8v4rb_pziOYPcF-hk3A', ' zIsn5G5jbJEGXzrkbKQrrA', ' frhvnmgj7Xp9jDFdrCWDdA', ' 1maoJPTlgljLxbKFJb0qIg', ' vRjVhl3ONG2GfWY4NXJZbQ', ' Rtp9gqBX29fXIE436cOKbA', ' gXDHXIpt1fJEk2v7qpkT8w', ' qnHoWwp8WdLy0ZsgHqdbMA', ' ZBqNEplLbVYFkI2OzPMhgw', ' GmzLCoXbNy1Ddde1WiatWw', ' Zg9051S1dPRhbVGvgbNurQ', ' 2rjQF0c94lb_39vZLRdtJw', ' cf1ctpqhP98pqYFbzCgrKw', ' PGeiszoVusiv0wTHVdWklA', ' 8CSd-C5PgFTVv2SZtrujPw', ' pckV9s8-pavfi4WUmV8HbA', ' GiTZ9fLPzVJDZ59y7hjGtw', ' oNv22da6dEEq2w2gStsGug', ' 2_S3zEIA8N5sU61jsBxF5A', ' thi-jmMx-himXfCw_EuDSw', ' Kw4lH6C5wSrYVxaDP68pfA', ' sdpIz4-s15T239CZ4Bd6Ag', ' -ihXYvH4P_OwaFeRxIfqqQ', ' N--OQqLEjW24WHZrDfI_JQ', ' H5hQMKeIdWMmcrfbtjTWgw', ' vhDuFs7uHR7q6PiGCuu3pA', ' g7a1ThDGHEZvk-t9HKUUPQ', ' ZNwmZJg4nSXaFfoH25zl2Q', ' XpJVDTgMze3FaEFi0bCMHw', ' -yW3pUBbawubAqytMFY3jA', ' AbMjnKOwg736fcIu8apuyQ', ' Ad8lg8eD5VseGw5o-xaJCw', ' 2V9Z5fxBJ9rJA4wR6ZzcaQ', ' --2vR0DIsmQ6WfcSzKWigw', ' h_sgp9gKuLUNMNBDuyFRdA', ' eVR_w02XKhv0Y2mCfOk5sg', ' PEcGavmITjSlE4kv5T38UA', ' MeDuKsZcnI3IU2g7OlV-hQ', ' W07tMmUOSCayVsufincglg', ' 6LmdYq-mhsaOXHjGh0lvQg', ' y7Am8heDh-JRSTYYAdr0Ag', ' DIXZt5-hbGfNsCwX8qv5ZA', ' RAdP9qdLwOKQdEZ9Gevzjg', ' oaCvzHQBNlSAdIuUjG6afA', ' F5rPOOrJQBKuEA7RtuLnWg', ' Ib5nhZmLXtVIpQLcq_I1nw', ' H58nmfUs-Nz_wwcYfWN3Dg', ' UdLF-N75d3Xn9KiEFjBkjw', ' s2mkmBCKuVmCr42alNQgHg', ' c-Dja5bexzEWBufNsHfRrQ', ' zs3AeFr0cntCbQxG-KnSbA', ' voi2KK5M-e5pdkpb3jiLuw', ' PTVOuLIY6Ot09ITOhoIl0w', ' BLMWjL_QNcEvLLbSkm2_Tg', ' DZaKmGqgDITCAX4HVFXUuw', ' ujNqx9pVg61xiCFcG35RAg', ' STUPGjsieRyh4B5jmB6GWQ', ' sICr3-csqXQhFmMY6bki6g', ' VZNWqQD2V5jukp0sPcD2lw', ' eZPJOa85vkca38E_s7NRBA', ' jlF9t7UR5eyA22QsDWxt9A', ' wq9XOkV5HQcrPR8iJu5jvA', ' 8bE-gKKRx1T2nkm7WUvPMA', ' a-WRMq0yAdh1DGK5yJvXzA', ' o7HyAEDW7c3jw0Q3mrZNMg', ' 8wKZ9gJYJtTdSVWgW7Or6Q', ' kkTOV5bnE9hHb5V_zd9b9g', ' ba7LtS1YpVbI1d6MyyiJ2Q', ' eSHszsL88Su6TKtrfuGqtQ', ' ANDR9JXUbTj05HHrPzF7aQ', ' Z3MAR7LBRhV4rc8JXr7hgg', ' w4i3hP1GcK-_KS9Mqgw1rA', ' HN-lfnGhNeh8M8_xz2PKDQ', ' F0M2e02YZOhb4E9JTaKO_A', ' YZqzFWkbYmzwO0Imc3QFxg', ' Blh5dkdcPRvPT9D8fMpl1A', ' I8emIbgD6ee3MLW0AeyfhA', ' nPznieBh5GbJV1PWJbm1aw', ' EpikjwGkAGdSBgTb9ITlCQ', ' s12_QdIgF9g9ZLcjb3PjYg', ' B_taR9fTDA1quy6Lqpt6AA', ' CWfH__TAgpDnyoopcLJsaw', '-9da1xk7zgnnfO1uTVYGkA', ' hqyj9p4NvX3LeMNC4rk34A', ' RiRU6eNIk5TZa2g3c8E_1g', ' 7xo_XNqxa2AZhfv_ghUpgw', ' WNZfkL4DBspueoGSUOMAqA', ' HH7iiWvBqV-20lA7JlSRWQ', ' D9R3Fc79RxMVwICT7q3cSA', ' 90juaZY9RAmF4cyOL1xvlA', ' 5UiQh98mNZc4zSmqiW0cMw', ' WHiDOQ-yEbV27LaIt0Jsng', ' UIXGqSKEo3if5g5OVd7-wQ', ' VmQdv7xMWiyejzxJz0iVsQ', ' 1lUgmwcjDJwxSZoPPkYZ9w', ' APra1VCxVfVnOQFlPUmJ5A', ' 8WxNOgWaeUvRvMpq_EFeRA', ' mdSWWNNDWDn83aV5InL_OQ', ' f5K81kHTFniTSJAVewcuDg', ' NwVyki35xOcaxhMzHNtHDQ', ' 69AYX2GC_LNtlKG9RPmmtg', ' lMY8NBPyzlPbbu-KBYfD9A', ' 1Wcqf1fwZDde5ZVgM2k1NA', ' 6XiCADvcyqZkfsXZhKoyEw', ' Fjvb81ol2C6Ge2nvQtJrgA', ' 3Em1PEy8xEVthqvDXqhzFA', ' mQcwaW6ztdSRuh5BWEYQog', ' ItSKQOJQv8BnA3xPCD5O_A', ' UsnL2js6Kwnb_iM-Sf16RQ', ' n_oUFrWFTj52COjOOuv60A', ' a4LEFiPAuahAvKmUOWvBdw', ' YDwDpHvA0Zwfs2_LcG2uFA', ' ho9u2dNlehvcP05mbFPQbw', ' nkouoFtWKyq1a4OekQ9V5A', ' u_wqt9RshdZsoj8ikLqoEQ', ' VspYKWl6zVM4zQL9DWLqxA', ' nT-sNbcZDDo_9cWBPQSMQA', ' h52pEecm4zkcYynYMqTs9g', ' to5QXyxyI84QCR9JJMXrSw', ' X0hdVx3ei2MHtdB6mQlIQw', ' TjybJdSPJD97bQMiJ5OTzw', ' I_4cXopXxFr5B7adXZ1ruQ', ' GPIck83rAASqP6HW6x3sJQ', ' BBel1uYoIcRXhxgzPeg2BA', ' HaoPeg2ySVEbQKN3gySxHQ', ' jxfJeRQgwKXBruboOASpkQ', ' Y0nXlvDrp5u1lIPfobN2Dg', ' 9iTEAvSGJ-dOOqdVlTCkww', ' QhYJx2jQdPuSq3fGe3aGcA', ' MuKK7Kiv_zUZ0EdHjH9ypQ', ' Amd84fkZnegoMjATo0mIrQ', ' lcfg9oHApeXGaAaHhSAbfw', ' 8m2azHMrtZZMigyaBnowSw', ' DD9mKlrhix_m1a3wiY703g', ' Gv1fArbJPbf0hF-Aj837Mg', ' N0JCKpXPspnCTwhMLdKZ4w', ' BusepfJ85fh-gX30uQpatw', ' GU7wPnwxDMWp8-Rk50uxLQ', ' 0USWjAdsgvdJZrstJF5fBw', ' JAFhGINVFvsC4QwFAAJ07g', ' EyoFgOYT-xuI3B5xPkNO-w', ' vNqJm3mlYnqxFrLBi_NViQ', ' NfEbDeOHOkTg7ltl7eaKyQ', ' 1Vv-Dw6WIjshJsu-m30WBg', ' nIR8O_v_Jell3wMVQ5xjJA', ' E0RdD6s7el9tc-GM9AG5ew', ' X6NxB3s8tfw2AZI5iHW13w', ' GTjuAp0WZjzPo3qdPNe2vQ', ' 3FMK2LpNHcUyuY09_4bGFw', ' yLM2n4mazF0RkM4r138Avw', ' OnMSdElNtboMIx1fXo82fg', ' 8Ywq24WJ9BbgmMgwUZtMYQ', ' Tt2pwER-wi9er545Tk-YhA', ' 2-xKD2HFb1BhybUlBwjFTg', ' icAfIgXpLL1HdUBNESEd5g', ' kIFja02Dxs7KdUHj_rY0nQ', ' SUpVy9nVfq8MFI1OJaCO_w', ' S1i86PnFEiKwZXhJQ0aciA', ' 2jBo5YXj6eflYJH-Rle0fw', ' NxJstWbLYLct-k5xVQUlSw', '_owMBYfzT9dO7FXGXXzXqA', ' 6z_8lwOdPC8sQ6k8H0geEA', ' z4Kb7zyBTP6yrr-6HDzWKw', ' VsaHBJfSpmLtIIRXuNK_Vg', ' jrYryChjqsRe7yNPBuwWkw', ' waErUqU8UicsjxG7WR2bbA', ' MiQHYcGVSDkLo1dcj4qj_Q', ' oazuTtSyKV6zrhbsgbdbUQ', ' uaB2gDpaM_QfmtmyG21w-g', ' g63mA2KsBKSMASZI4PesNA', ' w5ZlLW1X_6KQjs5x0YhYHA', ' yLW8OrR8Ns4X1oXJmkKYgg', ' tK1XsoUodz_hSfVTDQjzGA', ' swobJ5rJuEGRKqHBf8EutA', ' DVHeHJWyDetbsfVKre886A', ' -Zf5spw84LDMr59FqxlFMQ', ' t2q9B_RzVciVeDYiKwV-hg', ' o98V8aG1HFv_t7jTqgh6Kg', ' Ksk4gixS8T9N_M16AlblHA', ' WJHGAIcKnKxI8XCR5-9i_w', ' IonT3bbNlDJXaFYV7Ph3Qg', ' 0zDHiDbj79uBOy3OAcE25A', ' ecyiv6zAAocMc5BhVfCSMg', ' tOTplIk838ZR1w1huTdX_Q', ' HVHXfEtYcfY4vZ558mMpQA', ' 29XxHvrJAyvuRaPXu_h-QA', ' PQXRXzT3HOO6Z_inardXzA', ' X2KhygAF6fgT79-1J1ED1g', ' 1sOjfqaoh47PgQnUHZWYPQ', ' KjMwcQWSU4kg-JjAqc9qUw', ' emxjycKThTSsrCNykKjDvg', ' PPLWliNfjclzDBUpwa3GvQ', ' b4icxY2z4TrtFJnROBM05Q', ' 97t-A1tQPQfr3OE1OGreRg', ' dfq4fEUzlDJztA99Yqx6Xg', ' 7Uw_HoXXi6pi1pTsVK4yfQ', ' UUqGHQFu2tQDGv5r3yJWPA', ' n3uxWnOdRaQGLo5RSHEj2A', ' Pt1yV4SQUR_4LYmkynCGww', ' F1-6wo7j7tpf6sZq4t3HZQ', ' 0o5k_Y9wuWZ29whpRIdW7g', ' YttDgOC9AlM4HcAlDsbB2A', ' -ekI2PAaTMlb_Q8qqjrz9w', ' TP84hS-tDZGv0vEDSowrxQ', ' HpuhfXJu094bKAmzAQJrIg', ' xU5pikwu5BBosAOfZDLJvA', ' uQ2BoGcE05neRr2w7u94rQ', ' Ya2RP2D6d-RkNq2HkW_SUw', ' dYEHTYJeDJ4v8AUiExaVsw', ' y5t37ISz5mYJ2JCMQw0rjA', ' cW7cD0n5EwDK_kyfIKV3-g', ' 5iOId572Hr76oucpP1TNCg', ' hkO94fU62gwwZvKFpoG1KA', ' 6tbXpUIU6upoeqWNDo9k_A', ' WYLkyYXOXtQoblF941gTng', ' f91fjenKHFaoR4fhAH8dsA', ' 4crMjqoR13k5RptfbmuM_A', ' N_prpo6aj6ZADOUZplnHcw', ' P_oZNTMT2sILQuCUogP2mg', ' zIPDNcRNS6AjyO7NQ6yEig', ' AE8--PLpyoceAjNHveMC0A', ' XFPRN-Zi0Cmgl_1m8tlsvQ', ' 03xdguIx4hF62vkJKWqLFA', ' na4Dxar9tM4HNnGKiyAWhA', ' -venl9JPwMqhIkP78J6MBA', ' bknZGgwEO8xDzi35Y7fEGA', ' hE9FCBh0BPd2hEhTMNFp3A', ' RebcFk7_1qmniMClGWMlNw', ' MVadyk_-QF3gcM-PMx1csg', ' 5JdcwBPHhDKwN5b__pU-Pw', ' vXNzru5lZorWCx-58JEeyw', ' U5vnrSTvaoFLdaFoe5r1Yg', ' OinqOWJshxD1Oqmvlo467A', ' X6qxCjfpVplM14sLNQmAuA', ' 1lHy5dvAgfKqparkl7i2DQ', ' NmdnVsvhhaN3YTizcJbnLw', ' zRH0dtz9PdEVLZzaq-8mNg', ' mSwvSsYO2ZSKdHlRSQ5EbQ', ' p6dvd1_hV3GUwDjxNquEFA', ' LxerRZjq9FPbc39H8sWBTw', ' lYjEapT8fWfqHVwN2N47QA', ' XJYQDrZec4yAxEPzeVyIyg', ' 2bvRtqgKx3qDBzfzs30P5A', ' U3e1HKeCUp6wdN7EQ4Me3Q', ' gMGeguI98O6XZDv2jhkDRA', ' CjhTdmN6qWEKC7Zo6qadow', ' G0a1-AYfjtiNxwmVEcr8_A', ' bKjZs5w8_2pxK31bhLy4VA', ' wg_vXFdoR0jsFE69L-SEjA', ' 2yZghjSHZ03n8rD7pZ8fvA', ' Iu5isy8VNf1d81o7zDSxSQ', ' yJ3uWI5Vkiv9D28vRuwfng', ' gXZufb_dEl-Mbm2a2MkiGw', ' rof9DyrMxiWY1NyQHtjeDA', ' 52mGXvokAGNcPV7aqk05uA', ' B2Et5K4FwTTAMPshj2ml3A', ' vUthM37V1IkWqy2laAzuhw', ' e-sQ7oGQElAaaE5OH6b55g', ' wPfO0bhqtn-20K79nUICTA', ' NllVguH_-7TkNwSUZZqRYA', ' bH3Uc0YNlnKubj8cT4nQ0w', ' fWJok1wljTdXP7VyIDBYoA', ' 9BCJfX-WlIryzYAkFLVClA', ' fHqt_c3oDQ4ZWFzeOo4ezA', ' 48bOMGMa1hc4rHDe16Fzrg', ' XTNKSZJ79M8iqFHMjabCSA'}\n"
     ]
    }
   ],
   "source": [
    "for c in next(comp):\n",
    "    print(c)"
   ]
  },
  {
   "cell_type": "code",
   "execution_count": 60,
   "metadata": {},
   "outputs": [
    {
     "data": {
      "text/plain": [
       "array(['-7fIoUgPboApCfkG0U7W4g', '-3i9bhfvrM3F1wsC9XIB8g',\n",
       "       '-55DgUo52I3zW9RxkZ-EAQ', '-9da1xk7zgnnfO1uTVYGkA'], dtype=object)"
      ]
     },
     "execution_count": 60,
     "metadata": {},
     "output_type": "execute_result"
    }
   ],
   "source": [
    "subset[0].unique()\n"
   ]
  },
  {
   "cell_type": "code",
   "execution_count": 58,
   "metadata": {},
   "outputs": [],
   "source": [
    "subset = subset.sample(frac=1).reset_index(drop=True)\n",
    "#random shuffling"
   ]
  },
  {
   "cell_type": "code",
   "execution_count": 59,
   "metadata": {},
   "outputs": [
    {
     "data": {
      "text/html": [
       "<div>\n",
       "<style scoped>\n",
       "    .dataframe tbody tr th:only-of-type {\n",
       "        vertical-align: middle;\n",
       "    }\n",
       "\n",
       "    .dataframe tbody tr th {\n",
       "        vertical-align: top;\n",
       "    }\n",
       "\n",
       "    .dataframe thead th {\n",
       "        text-align: right;\n",
       "    }\n",
       "</style>\n",
       "<table border=\"1\" class=\"dataframe\">\n",
       "  <thead>\n",
       "    <tr style=\"text-align: right;\">\n",
       "      <th></th>\n",
       "      <th>index</th>\n",
       "      <th>0</th>\n",
       "    </tr>\n",
       "  </thead>\n",
       "  <tbody>\n",
       "    <tr>\n",
       "      <th>0</th>\n",
       "      <td>KDn_ALXdl_IEYst8_DlLLQ</td>\n",
       "      <td>-7fIoUgPboApCfkG0U7W4g</td>\n",
       "    </tr>\n",
       "    <tr>\n",
       "      <th>1</th>\n",
       "      <td>ad8cXN5pYhs8EtSUat5WpA</td>\n",
       "      <td>-3i9bhfvrM3F1wsC9XIB8g</td>\n",
       "    </tr>\n",
       "    <tr>\n",
       "      <th>2</th>\n",
       "      <td>cPHq3H0RzLP7xcT4bd_XVg</td>\n",
       "      <td>-55DgUo52I3zW9RxkZ-EAQ</td>\n",
       "    </tr>\n",
       "    <tr>\n",
       "      <th>3</th>\n",
       "      <td>vhDuFs7uHR7q6PiGCuu3pA</td>\n",
       "      <td>-9da1xk7zgnnfO1uTVYGkA</td>\n",
       "    </tr>\n",
       "    <tr>\n",
       "      <th>4</th>\n",
       "      <td>tDnoTB0sQQ72sBHdMJ-05A</td>\n",
       "      <td>-3i9bhfvrM3F1wsC9XIB8g</td>\n",
       "    </tr>\n",
       "    <tr>\n",
       "      <th>5</th>\n",
       "      <td>QA4v0Is4Gs5KB-F3iSeHaA</td>\n",
       "      <td>-3i9bhfvrM3F1wsC9XIB8g</td>\n",
       "    </tr>\n",
       "    <tr>\n",
       "      <th>6</th>\n",
       "      <td>FQP16KOZRgGaNE_hS-rbug</td>\n",
       "      <td>-3i9bhfvrM3F1wsC9XIB8g</td>\n",
       "    </tr>\n",
       "    <tr>\n",
       "      <th>7</th>\n",
       "      <td>S6tIGhQX79qiZbz6R8ghNA</td>\n",
       "      <td>-7fIoUgPboApCfkG0U7W4g</td>\n",
       "    </tr>\n",
       "    <tr>\n",
       "      <th>8</th>\n",
       "      <td>8CSd-C5PgFTVv2SZtrujPw</td>\n",
       "      <td>-9da1xk7zgnnfO1uTVYGkA</td>\n",
       "    </tr>\n",
       "    <tr>\n",
       "      <th>9</th>\n",
       "      <td>HpuhfXJu094bKAmzAQJrIg</td>\n",
       "      <td>-9da1xk7zgnnfO1uTVYGkA</td>\n",
       "    </tr>\n",
       "    <tr>\n",
       "      <th>10</th>\n",
       "      <td>yLW8OrR8Ns4X1oXJmkKYgg</td>\n",
       "      <td>-9da1xk7zgnnfO1uTVYGkA</td>\n",
       "    </tr>\n",
       "    <tr>\n",
       "      <th>11</th>\n",
       "      <td>0z7CYyBIh4emkv6_-DtC6g</td>\n",
       "      <td>-3i9bhfvrM3F1wsC9XIB8g</td>\n",
       "    </tr>\n",
       "    <tr>\n",
       "      <th>12</th>\n",
       "      <td>jD5vF3QhBSo43fkCYonp-A</td>\n",
       "      <td>-55DgUo52I3zW9RxkZ-EAQ</td>\n",
       "    </tr>\n",
       "    <tr>\n",
       "      <th>13</th>\n",
       "      <td>sFHdcSccwmvnaXhPEN0gXA</td>\n",
       "      <td>-3i9bhfvrM3F1wsC9XIB8g</td>\n",
       "    </tr>\n",
       "    <tr>\n",
       "      <th>14</th>\n",
       "      <td>9_J8_j-rozLuHQsZlOQd2A</td>\n",
       "      <td>-3i9bhfvrM3F1wsC9XIB8g</td>\n",
       "    </tr>\n",
       "    <tr>\n",
       "      <th>15</th>\n",
       "      <td>rn5HVeONhE4P_QURv-LcWw</td>\n",
       "      <td>-7fIoUgPboApCfkG0U7W4g</td>\n",
       "    </tr>\n",
       "    <tr>\n",
       "      <th>16</th>\n",
       "      <td>2fyDdHqfZUxA2eGHaWn_rA</td>\n",
       "      <td>-3i9bhfvrM3F1wsC9XIB8g</td>\n",
       "    </tr>\n",
       "    <tr>\n",
       "      <th>17</th>\n",
       "      <td>TyUa-VJm0BHvQoY8Kq3CLA</td>\n",
       "      <td>-3i9bhfvrM3F1wsC9XIB8g</td>\n",
       "    </tr>\n",
       "    <tr>\n",
       "      <th>18</th>\n",
       "      <td>9BCJfX-WlIryzYAkFLVClA</td>\n",
       "      <td>-9da1xk7zgnnfO1uTVYGkA</td>\n",
       "    </tr>\n",
       "    <tr>\n",
       "      <th>19</th>\n",
       "      <td>u_wqt9RshdZsoj8ikLqoEQ</td>\n",
       "      <td>-9da1xk7zgnnfO1uTVYGkA</td>\n",
       "    </tr>\n",
       "  </tbody>\n",
       "</table>\n",
       "</div>"
      ],
      "text/plain": [
       "                      index                       0\n",
       "0    KDn_ALXdl_IEYst8_DlLLQ  -7fIoUgPboApCfkG0U7W4g\n",
       "1    ad8cXN5pYhs8EtSUat5WpA  -3i9bhfvrM3F1wsC9XIB8g\n",
       "2    cPHq3H0RzLP7xcT4bd_XVg  -55DgUo52I3zW9RxkZ-EAQ\n",
       "3    vhDuFs7uHR7q6PiGCuu3pA  -9da1xk7zgnnfO1uTVYGkA\n",
       "4    tDnoTB0sQQ72sBHdMJ-05A  -3i9bhfvrM3F1wsC9XIB8g\n",
       "5    QA4v0Is4Gs5KB-F3iSeHaA  -3i9bhfvrM3F1wsC9XIB8g\n",
       "6    FQP16KOZRgGaNE_hS-rbug  -3i9bhfvrM3F1wsC9XIB8g\n",
       "7    S6tIGhQX79qiZbz6R8ghNA  -7fIoUgPboApCfkG0U7W4g\n",
       "8    8CSd-C5PgFTVv2SZtrujPw  -9da1xk7zgnnfO1uTVYGkA\n",
       "9    HpuhfXJu094bKAmzAQJrIg  -9da1xk7zgnnfO1uTVYGkA\n",
       "10   yLW8OrR8Ns4X1oXJmkKYgg  -9da1xk7zgnnfO1uTVYGkA\n",
       "11   0z7CYyBIh4emkv6_-DtC6g  -3i9bhfvrM3F1wsC9XIB8g\n",
       "12   jD5vF3QhBSo43fkCYonp-A  -55DgUo52I3zW9RxkZ-EAQ\n",
       "13   sFHdcSccwmvnaXhPEN0gXA  -3i9bhfvrM3F1wsC9XIB8g\n",
       "14   9_J8_j-rozLuHQsZlOQd2A  -3i9bhfvrM3F1wsC9XIB8g\n",
       "15   rn5HVeONhE4P_QURv-LcWw  -7fIoUgPboApCfkG0U7W4g\n",
       "16   2fyDdHqfZUxA2eGHaWn_rA  -3i9bhfvrM3F1wsC9XIB8g\n",
       "17   TyUa-VJm0BHvQoY8Kq3CLA  -3i9bhfvrM3F1wsC9XIB8g\n",
       "18   9BCJfX-WlIryzYAkFLVClA  -9da1xk7zgnnfO1uTVYGkA\n",
       "19   u_wqt9RshdZsoj8ikLqoEQ  -9da1xk7zgnnfO1uTVYGkA"
      ]
     },
     "execution_count": 59,
     "metadata": {},
     "output_type": "execute_result"
    }
   ],
   "source": [
    "subset.head(20)"
   ]
  },
  {
   "cell_type": "code",
   "execution_count": 76,
   "metadata": {},
   "outputs": [],
   "source": [
    "\n",
    "sub_user_df=user_data[:1000]"
   ]
  },
  {
   "cell_type": "code",
   "execution_count": 77,
   "metadata": {},
   "outputs": [],
   "source": [
    "sub_user_df = sub_user_df.sample(frac=1).reset_index(drop=True)"
   ]
  },
  {
   "cell_type": "code",
   "execution_count": 78,
   "metadata": {},
   "outputs": [],
   "source": [
    "from pandas import Series"
   ]
  },
  {
   "cell_type": "code",
   "execution_count": 83,
   "metadata": {},
   "outputs": [
    {
     "ename": "AttributeError",
     "evalue": "'str' object has no attribute 'dtype'",
     "output_type": "error",
     "traceback": [
      "\u001b[0;31m---------------------------------------------------------------------------\u001b[0m",
      "\u001b[0;31mAttributeError\u001b[0m                            Traceback (most recent call last)",
      "\u001b[0;32m<ipython-input-83-787a4e80d0b7>\u001b[0m in \u001b[0;36m<module>\u001b[0;34m()\u001b[0m\n\u001b[1;32m      1\u001b[0m temp=pd.concat([Series(row['user_id'],str(row['fans']),str(row['review_count'] ),str(row['average_stars']),str(row['useful']) ,row['friends'].split(',') )\n\u001b[0;32m----> 2\u001b[0;31m            for _, row in sub_user_df.iterrows()])\n\u001b[0m",
      "\u001b[0;32m<ipython-input-83-787a4e80d0b7>\u001b[0m in \u001b[0;36m<listcomp>\u001b[0;34m(.0)\u001b[0m\n\u001b[1;32m      1\u001b[0m temp=pd.concat([Series(row['user_id'],str(row['fans']),str(row['review_count'] ),str(row['average_stars']),str(row['useful']) ,row['friends'].split(',') )\n\u001b[0;32m----> 2\u001b[0;31m            for _, row in sub_user_df.iterrows()])\n\u001b[0m",
      "\u001b[0;32m~/anaconda3/lib/python3.7/site-packages/pandas/core/series.py\u001b[0m in \u001b[0;36m__init__\u001b[0;34m(self, data, index, dtype, name, copy, fastpath)\u001b[0m\n\u001b[1;32m    172\u001b[0m             \u001b[0;31m# data is an ndarray, index is defined\u001b[0m\u001b[0;34m\u001b[0m\u001b[0;34m\u001b[0m\u001b[0m\n\u001b[1;32m    173\u001b[0m             \u001b[0;32mif\u001b[0m \u001b[0;32mnot\u001b[0m \u001b[0misinstance\u001b[0m\u001b[0;34m(\u001b[0m\u001b[0mdata\u001b[0m\u001b[0;34m,\u001b[0m \u001b[0mSingleBlockManager\u001b[0m\u001b[0;34m)\u001b[0m\u001b[0;34m:\u001b[0m\u001b[0;34m\u001b[0m\u001b[0m\n\u001b[0;32m--> 174\u001b[0;31m                 \u001b[0mdata\u001b[0m \u001b[0;34m=\u001b[0m \u001b[0mSingleBlockManager\u001b[0m\u001b[0;34m(\u001b[0m\u001b[0mdata\u001b[0m\u001b[0;34m,\u001b[0m \u001b[0mindex\u001b[0m\u001b[0;34m,\u001b[0m \u001b[0mfastpath\u001b[0m\u001b[0;34m=\u001b[0m\u001b[0;32mTrue\u001b[0m\u001b[0;34m)\u001b[0m\u001b[0;34m\u001b[0m\u001b[0m\n\u001b[0m\u001b[1;32m    175\u001b[0m             \u001b[0;32mif\u001b[0m \u001b[0mcopy\u001b[0m\u001b[0;34m:\u001b[0m\u001b[0;34m\u001b[0m\u001b[0m\n\u001b[1;32m    176\u001b[0m                 \u001b[0mdata\u001b[0m \u001b[0;34m=\u001b[0m \u001b[0mdata\u001b[0m\u001b[0;34m.\u001b[0m\u001b[0mcopy\u001b[0m\u001b[0;34m(\u001b[0m\u001b[0;34m)\u001b[0m\u001b[0;34m\u001b[0m\u001b[0m\n",
      "\u001b[0;32m~/anaconda3/lib/python3.7/site-packages/pandas/core/internals.py\u001b[0m in \u001b[0;36m__init__\u001b[0;34m(self, block, axis, do_integrity_check, fastpath)\u001b[0m\n\u001b[1;32m   4675\u001b[0m \u001b[0;34m\u001b[0m\u001b[0m\n\u001b[1;32m   4676\u001b[0m         \u001b[0;32mif\u001b[0m \u001b[0;32mnot\u001b[0m \u001b[0misinstance\u001b[0m\u001b[0;34m(\u001b[0m\u001b[0mblock\u001b[0m\u001b[0;34m,\u001b[0m \u001b[0mBlock\u001b[0m\u001b[0;34m)\u001b[0m\u001b[0;34m:\u001b[0m\u001b[0;34m\u001b[0m\u001b[0m\n\u001b[0;32m-> 4677\u001b[0;31m             \u001b[0mblock\u001b[0m \u001b[0;34m=\u001b[0m \u001b[0mmake_block\u001b[0m\u001b[0;34m(\u001b[0m\u001b[0mblock\u001b[0m\u001b[0;34m,\u001b[0m \u001b[0mplacement\u001b[0m\u001b[0;34m=\u001b[0m\u001b[0mslice\u001b[0m\u001b[0;34m(\u001b[0m\u001b[0;36m0\u001b[0m\u001b[0;34m,\u001b[0m \u001b[0mlen\u001b[0m\u001b[0;34m(\u001b[0m\u001b[0maxis\u001b[0m\u001b[0;34m)\u001b[0m\u001b[0;34m)\u001b[0m\u001b[0;34m,\u001b[0m \u001b[0mndim\u001b[0m\u001b[0;34m=\u001b[0m\u001b[0;36m1\u001b[0m\u001b[0;34m)\u001b[0m\u001b[0;34m\u001b[0m\u001b[0m\n\u001b[0m\u001b[1;32m   4678\u001b[0m \u001b[0;34m\u001b[0m\u001b[0m\n\u001b[1;32m   4679\u001b[0m         \u001b[0mself\u001b[0m\u001b[0;34m.\u001b[0m\u001b[0mblocks\u001b[0m \u001b[0;34m=\u001b[0m \u001b[0;34m[\u001b[0m\u001b[0mblock\u001b[0m\u001b[0;34m]\u001b[0m\u001b[0;34m\u001b[0m\u001b[0m\n",
      "\u001b[0;32m~/anaconda3/lib/python3.7/site-packages/pandas/core/internals.py\u001b[0m in \u001b[0;36mmake_block\u001b[0;34m(values, placement, klass, ndim, dtype, fastpath)\u001b[0m\n\u001b[1;32m   3196\u001b[0m                       \"in a future release.\", DeprecationWarning)\n\u001b[1;32m   3197\u001b[0m     \u001b[0;32mif\u001b[0m \u001b[0mklass\u001b[0m \u001b[0;32mis\u001b[0m \u001b[0;32mNone\u001b[0m\u001b[0;34m:\u001b[0m\u001b[0;34m\u001b[0m\u001b[0m\n\u001b[0;32m-> 3198\u001b[0;31m         \u001b[0mdtype\u001b[0m \u001b[0;34m=\u001b[0m \u001b[0mdtype\u001b[0m \u001b[0;32mor\u001b[0m \u001b[0mvalues\u001b[0m\u001b[0;34m.\u001b[0m\u001b[0mdtype\u001b[0m\u001b[0;34m\u001b[0m\u001b[0m\n\u001b[0m\u001b[1;32m   3199\u001b[0m         \u001b[0mklass\u001b[0m \u001b[0;34m=\u001b[0m \u001b[0mget_block_type\u001b[0m\u001b[0;34m(\u001b[0m\u001b[0mvalues\u001b[0m\u001b[0;34m,\u001b[0m \u001b[0mdtype\u001b[0m\u001b[0;34m)\u001b[0m\u001b[0;34m\u001b[0m\u001b[0m\n\u001b[1;32m   3200\u001b[0m \u001b[0;34m\u001b[0m\u001b[0m\n",
      "\u001b[0;31mAttributeError\u001b[0m: 'str' object has no attribute 'dtype'"
     ]
    }
   ],
   "source": [
    "temp=pd.concat([Series(row['user_id'],str(row['fans']),str(row['review_count'] ),str(row['average_stars']),str(row['useful']) ,row['friends'].split(',') )\n",
    "           for _, row in sub_user_df.iterrows()])"
   ]
  },
  {
   "cell_type": "code",
   "execution_count": 79,
   "metadata": {},
   "outputs": [
    {
     "data": {
      "text/html": [
       "<div>\n",
       "<style scoped>\n",
       "    .dataframe tbody tr th:only-of-type {\n",
       "        vertical-align: middle;\n",
       "    }\n",
       "\n",
       "    .dataframe tbody tr th {\n",
       "        vertical-align: top;\n",
       "    }\n",
       "\n",
       "    .dataframe thead th {\n",
       "        text-align: right;\n",
       "    }\n",
       "</style>\n",
       "<table border=\"1\" class=\"dataframe\">\n",
       "  <thead>\n",
       "    <tr style=\"text-align: right;\">\n",
       "      <th></th>\n",
       "      <th>Unnamed: 0</th>\n",
       "      <th>user_id</th>\n",
       "      <th>average_stars</th>\n",
       "      <th>compliment_cool</th>\n",
       "      <th>compliment_cute</th>\n",
       "      <th>compliment_funny</th>\n",
       "      <th>compliment_hot</th>\n",
       "      <th>compliment_list</th>\n",
       "      <th>compliment_more</th>\n",
       "      <th>compliment_note</th>\n",
       "      <th>...</th>\n",
       "      <th>compliment_writer</th>\n",
       "      <th>cool</th>\n",
       "      <th>elite</th>\n",
       "      <th>fans</th>\n",
       "      <th>friends</th>\n",
       "      <th>funny</th>\n",
       "      <th>name</th>\n",
       "      <th>review_count</th>\n",
       "      <th>useful</th>\n",
       "      <th>yelping_since</th>\n",
       "    </tr>\n",
       "  </thead>\n",
       "  <tbody>\n",
       "    <tr>\n",
       "      <th>0</th>\n",
       "      <td>894</td>\n",
       "      <td>gZeB24yyyq8q9_ncZ9XymA</td>\n",
       "      <td>3.63</td>\n",
       "      <td>0</td>\n",
       "      <td>0</td>\n",
       "      <td>0</td>\n",
       "      <td>0</td>\n",
       "      <td>0</td>\n",
       "      <td>0</td>\n",
       "      <td>2</td>\n",
       "      <td>...</td>\n",
       "      <td>0</td>\n",
       "      <td>2</td>\n",
       "      <td>None</td>\n",
       "      <td>3</td>\n",
       "      <td>M8fGyBwzv27sg3LV08CSiw, Mjk2mbyuVWGTgCK5Sprluw...</td>\n",
       "      <td>8</td>\n",
       "      <td>Angelique</td>\n",
       "      <td>53</td>\n",
       "      <td>14</td>\n",
       "      <td>2011-03-22</td>\n",
       "    </tr>\n",
       "    <tr>\n",
       "      <th>1</th>\n",
       "      <td>103</td>\n",
       "      <td>4IIK9gPE6JUFhJ931QQjCQ</td>\n",
       "      <td>5.00</td>\n",
       "      <td>0</td>\n",
       "      <td>0</td>\n",
       "      <td>0</td>\n",
       "      <td>0</td>\n",
       "      <td>0</td>\n",
       "      <td>0</td>\n",
       "      <td>0</td>\n",
       "      <td>...</td>\n",
       "      <td>0</td>\n",
       "      <td>0</td>\n",
       "      <td>None</td>\n",
       "      <td>0</td>\n",
       "      <td>eAT5vE2eddk3zh6t65AZuw, BkKI9tF5xWI6exSDxSgRkA...</td>\n",
       "      <td>0</td>\n",
       "      <td>Matt</td>\n",
       "      <td>1</td>\n",
       "      <td>0</td>\n",
       "      <td>2016-05-16</td>\n",
       "    </tr>\n",
       "    <tr>\n",
       "      <th>2</th>\n",
       "      <td>57</td>\n",
       "      <td>2H_rKyCaPh8MZEmzrwPtAA</td>\n",
       "      <td>5.00</td>\n",
       "      <td>0</td>\n",
       "      <td>0</td>\n",
       "      <td>0</td>\n",
       "      <td>0</td>\n",
       "      <td>0</td>\n",
       "      <td>0</td>\n",
       "      <td>0</td>\n",
       "      <td>...</td>\n",
       "      <td>0</td>\n",
       "      <td>0</td>\n",
       "      <td>None</td>\n",
       "      <td>0</td>\n",
       "      <td>FLx1GUKq8S18l8oXzNDjbg, zDoRoctLB2hb5pirvs6XZw...</td>\n",
       "      <td>0</td>\n",
       "      <td>Miriam</td>\n",
       "      <td>4</td>\n",
       "      <td>0</td>\n",
       "      <td>2015-12-31</td>\n",
       "    </tr>\n",
       "    <tr>\n",
       "      <th>3</th>\n",
       "      <td>465</td>\n",
       "      <td>Lz3ZQQiIsgiIkP9iqHcNdQ</td>\n",
       "      <td>3.86</td>\n",
       "      <td>0</td>\n",
       "      <td>0</td>\n",
       "      <td>0</td>\n",
       "      <td>0</td>\n",
       "      <td>0</td>\n",
       "      <td>0</td>\n",
       "      <td>0</td>\n",
       "      <td>...</td>\n",
       "      <td>0</td>\n",
       "      <td>0</td>\n",
       "      <td>None</td>\n",
       "      <td>0</td>\n",
       "      <td>JkNvc-ik6Gqr_78BopVxfw, JgUpg63kx2hHvSJ7E5VwXA...</td>\n",
       "      <td>0</td>\n",
       "      <td>Kim</td>\n",
       "      <td>14</td>\n",
       "      <td>0</td>\n",
       "      <td>2009-01-25</td>\n",
       "    </tr>\n",
       "    <tr>\n",
       "      <th>4</th>\n",
       "      <td>629</td>\n",
       "      <td>T_etKtH1yVi-jjPCspYeAg</td>\n",
       "      <td>5.00</td>\n",
       "      <td>0</td>\n",
       "      <td>0</td>\n",
       "      <td>0</td>\n",
       "      <td>0</td>\n",
       "      <td>0</td>\n",
       "      <td>0</td>\n",
       "      <td>0</td>\n",
       "      <td>...</td>\n",
       "      <td>0</td>\n",
       "      <td>0</td>\n",
       "      <td>None</td>\n",
       "      <td>0</td>\n",
       "      <td>RnC18UV30XBEtmTlY4S1KA</td>\n",
       "      <td>0</td>\n",
       "      <td>Tater</td>\n",
       "      <td>3</td>\n",
       "      <td>0</td>\n",
       "      <td>2013-06-30</td>\n",
       "    </tr>\n",
       "    <tr>\n",
       "      <th>5</th>\n",
       "      <td>280</td>\n",
       "      <td>DKTjP1CNpR1AHTwprLpc5w</td>\n",
       "      <td>3.96</td>\n",
       "      <td>0</td>\n",
       "      <td>0</td>\n",
       "      <td>0</td>\n",
       "      <td>0</td>\n",
       "      <td>0</td>\n",
       "      <td>0</td>\n",
       "      <td>1</td>\n",
       "      <td>...</td>\n",
       "      <td>0</td>\n",
       "      <td>0</td>\n",
       "      <td>None</td>\n",
       "      <td>0</td>\n",
       "      <td>dyhZLZXiHTqTAkKko72l6A, g3L1W_rHBWvVYu0s63m0CA</td>\n",
       "      <td>0</td>\n",
       "      <td>Brian</td>\n",
       "      <td>24</td>\n",
       "      <td>0</td>\n",
       "      <td>2013-09-06</td>\n",
       "    </tr>\n",
       "    <tr>\n",
       "      <th>6</th>\n",
       "      <td>183</td>\n",
       "      <td>8tGAZyMx0XOqZbdVxcANmA</td>\n",
       "      <td>4.17</td>\n",
       "      <td>0</td>\n",
       "      <td>0</td>\n",
       "      <td>0</td>\n",
       "      <td>0</td>\n",
       "      <td>0</td>\n",
       "      <td>0</td>\n",
       "      <td>0</td>\n",
       "      <td>...</td>\n",
       "      <td>0</td>\n",
       "      <td>0</td>\n",
       "      <td>None</td>\n",
       "      <td>0</td>\n",
       "      <td>sGQn8c9JwtKjc0xJ_piEzA, 9b26w-a65zBD16NnszZkmw...</td>\n",
       "      <td>0</td>\n",
       "      <td>Kevin</td>\n",
       "      <td>12</td>\n",
       "      <td>1</td>\n",
       "      <td>2012-04-14</td>\n",
       "    </tr>\n",
       "    <tr>\n",
       "      <th>7</th>\n",
       "      <td>250</td>\n",
       "      <td>BykD76Ndd2QokKzYhNR6QA</td>\n",
       "      <td>3.60</td>\n",
       "      <td>0</td>\n",
       "      <td>0</td>\n",
       "      <td>0</td>\n",
       "      <td>0</td>\n",
       "      <td>0</td>\n",
       "      <td>0</td>\n",
       "      <td>0</td>\n",
       "      <td>...</td>\n",
       "      <td>0</td>\n",
       "      <td>0</td>\n",
       "      <td>None</td>\n",
       "      <td>0</td>\n",
       "      <td>2qES44EhZq0XQaUTBRv8nQ, _gghVdV01JSKm0furxbg4g...</td>\n",
       "      <td>0</td>\n",
       "      <td>Marianne</td>\n",
       "      <td>8</td>\n",
       "      <td>0</td>\n",
       "      <td>2016-09-17</td>\n",
       "    </tr>\n",
       "    <tr>\n",
       "      <th>8</th>\n",
       "      <td>648</td>\n",
       "      <td>Ub5-bY15xdqd0t5UqjN7mg</td>\n",
       "      <td>4.00</td>\n",
       "      <td>0</td>\n",
       "      <td>0</td>\n",
       "      <td>0</td>\n",
       "      <td>0</td>\n",
       "      <td>0</td>\n",
       "      <td>0</td>\n",
       "      <td>0</td>\n",
       "      <td>...</td>\n",
       "      <td>0</td>\n",
       "      <td>0</td>\n",
       "      <td>None</td>\n",
       "      <td>0</td>\n",
       "      <td>TX6RpteSMUZnGFInu7qpWw, _EjA6IuZk47Ax9iapWjE3A...</td>\n",
       "      <td>0</td>\n",
       "      <td>Ken</td>\n",
       "      <td>4</td>\n",
       "      <td>0</td>\n",
       "      <td>2013-10-31</td>\n",
       "    </tr>\n",
       "    <tr>\n",
       "      <th>9</th>\n",
       "      <td>725</td>\n",
       "      <td>ZAAxb_lpDo4gwcfOd_UB2Q</td>\n",
       "      <td>2.80</td>\n",
       "      <td>0</td>\n",
       "      <td>0</td>\n",
       "      <td>0</td>\n",
       "      <td>0</td>\n",
       "      <td>0</td>\n",
       "      <td>0</td>\n",
       "      <td>0</td>\n",
       "      <td>...</td>\n",
       "      <td>0</td>\n",
       "      <td>0</td>\n",
       "      <td>None</td>\n",
       "      <td>0</td>\n",
       "      <td>NkZ2i311qCz1kn6K7Wk8KQ, iK4V223QaB1TzCfiPqQfaQ...</td>\n",
       "      <td>0</td>\n",
       "      <td>Landa</td>\n",
       "      <td>5</td>\n",
       "      <td>2</td>\n",
       "      <td>2016-07-19</td>\n",
       "    </tr>\n",
       "  </tbody>\n",
       "</table>\n",
       "<p>10 rows × 23 columns</p>\n",
       "</div>"
      ],
      "text/plain": [
       "   Unnamed: 0                 user_id  average_stars  compliment_cool  \\\n",
       "0         894  gZeB24yyyq8q9_ncZ9XymA           3.63                0   \n",
       "1         103  4IIK9gPE6JUFhJ931QQjCQ           5.00                0   \n",
       "2          57  2H_rKyCaPh8MZEmzrwPtAA           5.00                0   \n",
       "3         465  Lz3ZQQiIsgiIkP9iqHcNdQ           3.86                0   \n",
       "4         629  T_etKtH1yVi-jjPCspYeAg           5.00                0   \n",
       "5         280  DKTjP1CNpR1AHTwprLpc5w           3.96                0   \n",
       "6         183  8tGAZyMx0XOqZbdVxcANmA           4.17                0   \n",
       "7         250  BykD76Ndd2QokKzYhNR6QA           3.60                0   \n",
       "8         648  Ub5-bY15xdqd0t5UqjN7mg           4.00                0   \n",
       "9         725  ZAAxb_lpDo4gwcfOd_UB2Q           2.80                0   \n",
       "\n",
       "   compliment_cute  compliment_funny  compliment_hot  compliment_list  \\\n",
       "0                0                 0               0                0   \n",
       "1                0                 0               0                0   \n",
       "2                0                 0               0                0   \n",
       "3                0                 0               0                0   \n",
       "4                0                 0               0                0   \n",
       "5                0                 0               0                0   \n",
       "6                0                 0               0                0   \n",
       "7                0                 0               0                0   \n",
       "8                0                 0               0                0   \n",
       "9                0                 0               0                0   \n",
       "\n",
       "   compliment_more  compliment_note      ...       compliment_writer  cool  \\\n",
       "0                0                2      ...                       0     2   \n",
       "1                0                0      ...                       0     0   \n",
       "2                0                0      ...                       0     0   \n",
       "3                0                0      ...                       0     0   \n",
       "4                0                0      ...                       0     0   \n",
       "5                0                1      ...                       0     0   \n",
       "6                0                0      ...                       0     0   \n",
       "7                0                0      ...                       0     0   \n",
       "8                0                0      ...                       0     0   \n",
       "9                0                0      ...                       0     0   \n",
       "\n",
       "   elite  fans                                            friends funny  \\\n",
       "0   None     3  M8fGyBwzv27sg3LV08CSiw, Mjk2mbyuVWGTgCK5Sprluw...     8   \n",
       "1   None     0  eAT5vE2eddk3zh6t65AZuw, BkKI9tF5xWI6exSDxSgRkA...     0   \n",
       "2   None     0  FLx1GUKq8S18l8oXzNDjbg, zDoRoctLB2hb5pirvs6XZw...     0   \n",
       "3   None     0  JkNvc-ik6Gqr_78BopVxfw, JgUpg63kx2hHvSJ7E5VwXA...     0   \n",
       "4   None     0                             RnC18UV30XBEtmTlY4S1KA     0   \n",
       "5   None     0     dyhZLZXiHTqTAkKko72l6A, g3L1W_rHBWvVYu0s63m0CA     0   \n",
       "6   None     0  sGQn8c9JwtKjc0xJ_piEzA, 9b26w-a65zBD16NnszZkmw...     0   \n",
       "7   None     0  2qES44EhZq0XQaUTBRv8nQ, _gghVdV01JSKm0furxbg4g...     0   \n",
       "8   None     0  TX6RpteSMUZnGFInu7qpWw, _EjA6IuZk47Ax9iapWjE3A...     0   \n",
       "9   None     0  NkZ2i311qCz1kn6K7Wk8KQ, iK4V223QaB1TzCfiPqQfaQ...     0   \n",
       "\n",
       "        name review_count  useful yelping_since  \n",
       "0  Angelique           53      14    2011-03-22  \n",
       "1       Matt            1       0    2016-05-16  \n",
       "2     Miriam            4       0    2015-12-31  \n",
       "3        Kim           14       0    2009-01-25  \n",
       "4      Tater            3       0    2013-06-30  \n",
       "5      Brian           24       0    2013-09-06  \n",
       "6      Kevin           12       1    2012-04-14  \n",
       "7   Marianne            8       0    2016-09-17  \n",
       "8        Ken            4       0    2013-10-31  \n",
       "9      Landa            5       2    2016-07-19  \n",
       "\n",
       "[10 rows x 23 columns]"
      ]
     },
     "execution_count": 79,
     "metadata": {},
     "output_type": "execute_result"
    }
   ],
   "source": [
    "sub_user_df.head(10)"
   ]
  },
  {
   "cell_type": "code",
   "execution_count": 3,
   "metadata": {},
   "outputs": [],
   "source": [
    "import networkx as nx\n",
    "from networkx import edge_betweenness_centrality as betweenness"
   ]
  },
  {
   "cell_type": "code",
   "execution_count": 4,
   "metadata": {},
   "outputs": [],
   "source": [
    "G = nx.path_graph(10)"
   ]
  },
  {
   "cell_type": "code",
   "execution_count": 6,
   "metadata": {},
   "outputs": [],
   "source": [
    "import pandas as pd\n",
    "import numpy as np\n",
    "r = np.random.RandomState(seed=5)\n",
    "ints = r.randint(1, 10, size=(3,2))\n",
    "a = ['A', 'B', 'C']\n",
    "b = ['D', 'A', 'E']\n",
    "df = pd.DataFrame(ints, columns=['weight', 'cost'])\n",
    "df[0] = a\n",
    "df['b'] = b"
   ]
  },
  {
   "cell_type": "code",
   "execution_count": 32,
   "metadata": {},
   "outputs": [
    {
     "data": {
      "text/html": [
       "<div>\n",
       "<style scoped>\n",
       "    .dataframe tbody tr th:only-of-type {\n",
       "        vertical-align: middle;\n",
       "    }\n",
       "\n",
       "    .dataframe tbody tr th {\n",
       "        vertical-align: top;\n",
       "    }\n",
       "\n",
       "    .dataframe thead th {\n",
       "        text-align: right;\n",
       "    }\n",
       "</style>\n",
       "<table border=\"1\" class=\"dataframe\">\n",
       "  <thead>\n",
       "    <tr style=\"text-align: right;\">\n",
       "      <th></th>\n",
       "      <th>weight</th>\n",
       "      <th>0</th>\n",
       "      <th>b</th>\n",
       "    </tr>\n",
       "  </thead>\n",
       "  <tbody>\n",
       "    <tr>\n",
       "      <th>0</th>\n",
       "      <td>7</td>\n",
       "      <td>A</td>\n",
       "      <td>B</td>\n",
       "    </tr>\n",
       "    <tr>\n",
       "      <th>1</th>\n",
       "      <td>4</td>\n",
       "      <td>A</td>\n",
       "      <td>C</td>\n",
       "    </tr>\n",
       "    <tr>\n",
       "      <th>2</th>\n",
       "      <td>3</td>\n",
       "      <td>B</td>\n",
       "      <td>C</td>\n",
       "    </tr>\n",
       "    <tr>\n",
       "      <th>3</th>\n",
       "      <td>15</td>\n",
       "      <td>B</td>\n",
       "      <td>D</td>\n",
       "    </tr>\n",
       "    <tr>\n",
       "      <th>4</th>\n",
       "      <td>2</td>\n",
       "      <td>C</td>\n",
       "      <td>D</td>\n",
       "    </tr>\n",
       "    <tr>\n",
       "      <th>5</th>\n",
       "      <td>10</td>\n",
       "      <td>D</td>\n",
       "      <td>E</td>\n",
       "    </tr>\n",
       "    <tr>\n",
       "      <th>6</th>\n",
       "      <td>1</td>\n",
       "      <td>D</td>\n",
       "      <td>F</td>\n",
       "    </tr>\n",
       "    <tr>\n",
       "      <th>7</th>\n",
       "      <td>3</td>\n",
       "      <td>E</td>\n",
       "      <td>F</td>\n",
       "    </tr>\n",
       "  </tbody>\n",
       "</table>\n",
       "</div>"
      ],
      "text/plain": [
       "   weight  0  b\n",
       "0       7  A  B\n",
       "1       4  A  C\n",
       "2       3  B  C\n",
       "3      15  B  D\n",
       "4       2  C  D\n",
       "5      10  D  E\n",
       "6       1  D  F\n",
       "7       3  E  F"
      ]
     },
     "execution_count": 32,
     "metadata": {},
     "output_type": "execute_result"
    }
   ],
   "source": [
    " df"
   ]
  },
  {
   "cell_type": "code",
   "execution_count": 16,
   "metadata": {},
   "outputs": [],
   "source": [
    "\n",
    "\n",
    "df = df.drop(0, axis=0)"
   ]
  },
  {
   "cell_type": "code",
   "execution_count": 21,
   "metadata": {},
   "outputs": [],
   "source": [
    "df=df.append({'weight':7 ,0:'A' ,'b':'B' },ignore_index=True )"
   ]
  },
  {
   "cell_type": "code",
   "execution_count": 31,
   "metadata": {},
   "outputs": [],
   "source": [
    "df=df.append({'weight':3 ,0:'E' ,'b':'F' },ignore_index=True )"
   ]
  },
  {
   "cell_type": "code",
   "execution_count": 35,
   "metadata": {},
   "outputs": [],
   "source": [
    "G = nx.from_pandas_edgelist(df, 0, 'b', ['weight'])"
   ]
  },
  {
   "cell_type": "code",
   "execution_count": 36,
   "metadata": {},
   "outputs": [],
   "source": [
    "nx.draw(G)"
   ]
  },
  {
   "cell_type": "code",
   "execution_count": 37,
   "metadata": {},
   "outputs": [
    {
     "data": {
      "text/plain": [
       "<networkx.classes.graph.Graph at 0xa24a1ddd0>"
      ]
     },
     "execution_count": 37,
     "metadata": {},
     "output_type": "execute_result"
    }
   ],
   "source": [
    "G"
   ]
  },
  {
   "cell_type": "code",
   "execution_count": 39,
   "metadata": {},
   "outputs": [
    {
     "data": {
      "image/png": "[encoded data removed]",
      "text/plain": [
       "<Figure size 432x288 with 1 Axes>"
      ]
     },
     "metadata": {},
     "output_type": "display_data"
    }
   ],
   "source": [
    "\n",
    "\n",
    "import matplotlib.pyplot as plt\n",
    "nx.draw(G)\n",
    "plt.show()\n"
   ]
  },
  {
   "cell_type": "code",
   "execution_count": 40,
   "metadata": {},
   "outputs": [],
   "source": [
    "comp = nx.algorithms.community.centrality.girvan_newman(G)"
   ]
  },
  {
   "cell_type": "code",
   "execution_count": 41,
   "metadata": {},
   "outputs": [
    {
     "name": "stdout",
     "output_type": "stream",
     "text": [
      "set(['A', 'C', 'B'])\n",
      "set(['E', 'D', 'F'])\n"
     ]
    }
   ],
   "source": [
    "for c in next(comp):\n",
    "    print(c)"
   ]
  },
  {
   "cell_type": "code",
   "execution_count": 42,
   "metadata": {},
   "outputs": [
    {
     "name": "stdout",
     "output_type": "stream",
     "text": [
      "327.40991497\n"
     ]
    }
   ],
   "source": [
    "import time\n",
    "s=time.time()\n",
    "a=0\n",
    "for i in xrange(49589):\n",
    "    for j in range(i+1,49589):\n",
    "        a=a+1\n",
    "print(time.time()-s)        \n",
    "    "
   ]
  },
  {
   "cell_type": "code",
   "execution_count": null,
   "metadata": {},
   "outputs": [],
   "source": [
    "import pandas as pd\n",
    "import matplotlib.pyplot as plt\n",
    "import networkx as nx\n",
    "from networkx import edge_betweenness_centrality as betweenness\n",
    "#data = pd.read_csv(\"/Users/apple/Desktop/DataMining/project/////////////////////////////////////////////////////////////////////////////////////////////////////////////////////////////////////////////////////////////////////////////////////////////////////////////////////////////////////////////////////////////////////////////////////////////////////////////////////////////////////////////////////////////////////////////////////////////////////////////////////////////////////////////////////////////////////////////////////////////////////////////////////////////////////////////////////////////////////////////////////////////////////////////////////////////////////////////////////////////////////////////////////////////////////////////////////////////////////////////////////////////////////////\",names = [\"user1\", \"user2\", \"pearson_similarity\"]) \n",
    "data = pd.read_csv(\"/Users/apple/Desktop/DataMining/project/user_user_pearson_30kusersonly.csv\",names = [\"user1\", \"user2\", \"pearson_similarity\"]) \n",
    "\n",
    "\n",
    "#data = pd.read_csv(\"user_user_sim.csv\",names = [\"user1\", \"user2\", \"pearson_similarity\"]) \n",
    "\n",
    "#pearson value ranges from -1 to +1 , so take user-user sim >0.5\n",
    "data = data[data.pearson_similarity > 0]\n",
    "\n",
    "\n",
    "G = nx.from_pandas_edgelist(data, \"user1\", \"user2\", [\"pearson_similarity\"])\n",
    "nx.draw(G)\n",
    "plt.show()\n",
    "#apply GN algorithm\n",
    "comp = nx.algorithms.community.centrality.girvan_newman(G)\n",
    "#to view the community\n",
    "for c in next(comp):\n",
    "    print(c)"
   ]
  },
  {
   "cell_type": "code",
   "execution_count": 43,
   "metadata": {},
   "outputs": [],
   "source": [
    "import pandas as pd\n",
    "import matplotlib.pyplot as plt\n",
    "import networkx as nx\n",
    "from networkx import edge_betweenness_centrality as betweenness"
   ]
  },
  {
   "cell_type": "code",
   "execution_count": 46,
   "metadata": {},
   "outputs": [],
   "source": [
    "data = pd.read_csv(\"/Users/apple/Desktop/DataMining/project/user_user_pearson_30kusersonly.csv\", sep='\\s+' , names = [\"user1\", \"user2\", \"pearson_similarity\"]) \n",
    "\n"
   ]
  },
  {
   "cell_type": "code",
   "execution_count": 47,
   "metadata": {},
   "outputs": [
    {
     "data": {
      "text/html": [
       "<div>\n",
       "<style scoped>\n",
       "    .dataframe tbody tr th:only-of-type {\n",
       "        vertical-align: middle;\n",
       "    }\n",
       "\n",
       "    .dataframe tbody tr th {\n",
       "        vertical-align: top;\n",
       "    }\n",
       "\n",
       "    .dataframe thead th {\n",
       "        text-align: right;\n",
       "    }\n",
       "</style>\n",
       "<table border=\"1\" class=\"dataframe\">\n",
       "  <thead>\n",
       "    <tr style=\"text-align: right;\">\n",
       "      <th></th>\n",
       "      <th>user1</th>\n",
       "      <th>user2</th>\n",
       "      <th>pearson_similarity</th>\n",
       "    </tr>\n",
       "  </thead>\n",
       "  <tbody>\n",
       "    <tr>\n",
       "      <th>0</th>\n",
       "      <td>user1</td>\n",
       "      <td>user2</td>\n",
       "      <td>0.000000e+00</td>\n",
       "    </tr>\n",
       "    <tr>\n",
       "      <th>1</th>\n",
       "      <td>_-COrcfb061akiNl9uCxzA</td>\n",
       "      <td>ijIgdh2bRkBNJa_puVpBoQ</td>\n",
       "      <td>-7.071068e-01</td>\n",
       "    </tr>\n",
       "    <tr>\n",
       "      <th>2</th>\n",
       "      <td>VKEy2rsHMS9w0dx7zgp1sg</td>\n",
       "      <td>fPRMjWUHLnNeL4xjrMV9CQ</td>\n",
       "      <td>-7.071068e-01</td>\n",
       "    </tr>\n",
       "    <tr>\n",
       "      <th>3</th>\n",
       "      <td>VKEy2rsHMS9w0dx7zgp1sg</td>\n",
       "      <td>N5B7OBTyNGgwU_Y2fwNcyw</td>\n",
       "      <td>-8.164966e-01</td>\n",
       "    </tr>\n",
       "    <tr>\n",
       "      <th>4</th>\n",
       "      <td>VKEy2rsHMS9w0dx7zgp1sg</td>\n",
       "      <td>CLwwfGV6SJ50fl3ZCK6C3g</td>\n",
       "      <td>-3.162278e-01</td>\n",
       "    </tr>\n",
       "    <tr>\n",
       "      <th>5</th>\n",
       "      <td>VKEy2rsHMS9w0dx7zgp1sg</td>\n",
       "      <td>Y1-nbySEHec051ix7beSGw</td>\n",
       "      <td>4.264014e-01</td>\n",
       "    </tr>\n",
       "    <tr>\n",
       "      <th>6</th>\n",
       "      <td>VKEy2rsHMS9w0dx7zgp1sg</td>\n",
       "      <td>cPEo3-TmIqCwHLFGKZgwGg</td>\n",
       "      <td>-1.000000e+00</td>\n",
       "    </tr>\n",
       "    <tr>\n",
       "      <th>7</th>\n",
       "      <td>VKEy2rsHMS9w0dx7zgp1sg</td>\n",
       "      <td>YgVC9NdMji-VV05w7-E1DQ</td>\n",
       "      <td>-2.943923e-16</td>\n",
       "    </tr>\n",
       "    <tr>\n",
       "      <th>8</th>\n",
       "      <td>VKEy2rsHMS9w0dx7zgp1sg</td>\n",
       "      <td>11PZaYWrnnWIzrQmnmGfiQ</td>\n",
       "      <td>4.029115e-01</td>\n",
       "    </tr>\n",
       "    <tr>\n",
       "      <th>9</th>\n",
       "      <td>VKEy2rsHMS9w0dx7zgp1sg</td>\n",
       "      <td>Q78B1wsKHEA7Rq7KGWFSTg</td>\n",
       "      <td>1.000000e+00</td>\n",
       "    </tr>\n",
       "  </tbody>\n",
       "</table>\n",
       "</div>"
      ],
      "text/plain": [
       "                    user1                   user2  pearson_similarity\n",
       "0                   user1                   user2        0.000000e+00\n",
       "1  _-COrcfb061akiNl9uCxzA  ijIgdh2bRkBNJa_puVpBoQ       -7.071068e-01\n",
       "2  VKEy2rsHMS9w0dx7zgp1sg  fPRMjWUHLnNeL4xjrMV9CQ       -7.071068e-01\n",
       "3  VKEy2rsHMS9w0dx7zgp1sg  N5B7OBTyNGgwU_Y2fwNcyw       -8.164966e-01\n",
       "4  VKEy2rsHMS9w0dx7zgp1sg  CLwwfGV6SJ50fl3ZCK6C3g       -3.162278e-01\n",
       "5  VKEy2rsHMS9w0dx7zgp1sg  Y1-nbySEHec051ix7beSGw        4.264014e-01\n",
       "6  VKEy2rsHMS9w0dx7zgp1sg  cPEo3-TmIqCwHLFGKZgwGg       -1.000000e+00\n",
       "7  VKEy2rsHMS9w0dx7zgp1sg  YgVC9NdMji-VV05w7-E1DQ       -2.943923e-16\n",
       "8  VKEy2rsHMS9w0dx7zgp1sg  11PZaYWrnnWIzrQmnmGfiQ        4.029115e-01\n",
       "9  VKEy2rsHMS9w0dx7zgp1sg  Q78B1wsKHEA7Rq7KGWFSTg        1.000000e+00"
      ]
     },
     "execution_count": 47,
     "metadata": {},
     "output_type": "execute_result"
    }
   ],
   "source": [
    "data.head(10)\n"
   ]
  },
  {
   "cell_type": "code",
   "execution_count": 48,
   "metadata": {},
   "outputs": [],
   "source": [
    "data = data.drop(0, axis=0)"
   ]
  },
  {
   "cell_type": "code",
   "execution_count": 49,
   "metadata": {},
   "outputs": [
    {
     "data": {
      "text/html": [
       "<div>\n",
       "<style scoped>\n",
       "    .dataframe tbody tr th:only-of-type {\n",
       "        vertical-align: middle;\n",
       "    }\n",
       "\n",
       "    .dataframe tbody tr th {\n",
       "        vertical-align: top;\n",
       "    }\n",
       "\n",
       "    .dataframe thead th {\n",
       "        text-align: right;\n",
       "    }\n",
       "</style>\n",
       "<table border=\"1\" class=\"dataframe\">\n",
       "  <thead>\n",
       "    <tr style=\"text-align: right;\">\n",
       "      <th></th>\n",
       "      <th>user1</th>\n",
       "      <th>user2</th>\n",
       "      <th>pearson_similarity</th>\n",
       "    </tr>\n",
       "  </thead>\n",
       "  <tbody>\n",
       "    <tr>\n",
       "      <th>1</th>\n",
       "      <td>_-COrcfb061akiNl9uCxzA</td>\n",
       "      <td>ijIgdh2bRkBNJa_puVpBoQ</td>\n",
       "      <td>-7.071068e-01</td>\n",
       "    </tr>\n",
       "    <tr>\n",
       "      <th>2</th>\n",
       "      <td>VKEy2rsHMS9w0dx7zgp1sg</td>\n",
       "      <td>fPRMjWUHLnNeL4xjrMV9CQ</td>\n",
       "      <td>-7.071068e-01</td>\n",
       "    </tr>\n",
       "    <tr>\n",
       "      <th>3</th>\n",
       "      <td>VKEy2rsHMS9w0dx7zgp1sg</td>\n",
       "      <td>N5B7OBTyNGgwU_Y2fwNcyw</td>\n",
       "      <td>-8.164966e-01</td>\n",
       "    </tr>\n",
       "    <tr>\n",
       "      <th>4</th>\n",
       "      <td>VKEy2rsHMS9w0dx7zgp1sg</td>\n",
       "      <td>CLwwfGV6SJ50fl3ZCK6C3g</td>\n",
       "      <td>-3.162278e-01</td>\n",
       "    </tr>\n",
       "    <tr>\n",
       "      <th>5</th>\n",
       "      <td>VKEy2rsHMS9w0dx7zgp1sg</td>\n",
       "      <td>Y1-nbySEHec051ix7beSGw</td>\n",
       "      <td>4.264014e-01</td>\n",
       "    </tr>\n",
       "    <tr>\n",
       "      <th>6</th>\n",
       "      <td>VKEy2rsHMS9w0dx7zgp1sg</td>\n",
       "      <td>cPEo3-TmIqCwHLFGKZgwGg</td>\n",
       "      <td>-1.000000e+00</td>\n",
       "    </tr>\n",
       "    <tr>\n",
       "      <th>7</th>\n",
       "      <td>VKEy2rsHMS9w0dx7zgp1sg</td>\n",
       "      <td>YgVC9NdMji-VV05w7-E1DQ</td>\n",
       "      <td>-2.943923e-16</td>\n",
       "    </tr>\n",
       "    <tr>\n",
       "      <th>8</th>\n",
       "      <td>VKEy2rsHMS9w0dx7zgp1sg</td>\n",
       "      <td>11PZaYWrnnWIzrQmnmGfiQ</td>\n",
       "      <td>4.029115e-01</td>\n",
       "    </tr>\n",
       "    <tr>\n",
       "      <th>9</th>\n",
       "      <td>VKEy2rsHMS9w0dx7zgp1sg</td>\n",
       "      <td>Q78B1wsKHEA7Rq7KGWFSTg</td>\n",
       "      <td>1.000000e+00</td>\n",
       "    </tr>\n",
       "    <tr>\n",
       "      <th>10</th>\n",
       "      <td>VKEy2rsHMS9w0dx7zgp1sg</td>\n",
       "      <td>c7lAaz-pW58i1h1rSlyqcw</td>\n",
       "      <td>1.000000e+00</td>\n",
       "    </tr>\n",
       "  </tbody>\n",
       "</table>\n",
       "</div>"
      ],
      "text/plain": [
       "                     user1                   user2  pearson_similarity\n",
       "1   _-COrcfb061akiNl9uCxzA  ijIgdh2bRkBNJa_puVpBoQ       -7.071068e-01\n",
       "2   VKEy2rsHMS9w0dx7zgp1sg  fPRMjWUHLnNeL4xjrMV9CQ       -7.071068e-01\n",
       "3   VKEy2rsHMS9w0dx7zgp1sg  N5B7OBTyNGgwU_Y2fwNcyw       -8.164966e-01\n",
       "4   VKEy2rsHMS9w0dx7zgp1sg  CLwwfGV6SJ50fl3ZCK6C3g       -3.162278e-01\n",
       "5   VKEy2rsHMS9w0dx7zgp1sg  Y1-nbySEHec051ix7beSGw        4.264014e-01\n",
       "6   VKEy2rsHMS9w0dx7zgp1sg  cPEo3-TmIqCwHLFGKZgwGg       -1.000000e+00\n",
       "7   VKEy2rsHMS9w0dx7zgp1sg  YgVC9NdMji-VV05w7-E1DQ       -2.943923e-16\n",
       "8   VKEy2rsHMS9w0dx7zgp1sg  11PZaYWrnnWIzrQmnmGfiQ        4.029115e-01\n",
       "9   VKEy2rsHMS9w0dx7zgp1sg  Q78B1wsKHEA7Rq7KGWFSTg        1.000000e+00\n",
       "10  VKEy2rsHMS9w0dx7zgp1sg  c7lAaz-pW58i1h1rSlyqcw        1.000000e+00"
      ]
     },
     "execution_count": 49,
     "metadata": {},
     "output_type": "execute_result"
    }
   ],
   "source": [
    "data.head(10)"
   ]
  },
  {
   "cell_type": "code",
   "execution_count": 50,
   "metadata": {},
   "outputs": [
    {
     "data": {
      "text/plain": [
       "user1                 5108\n",
       "user2                 5108\n",
       "pearson_similarity    5108\n",
       "dtype: int64"
      ]
     },
     "execution_count": 50,
     "metadata": {},
     "output_type": "execute_result"
    }
   ],
   "source": [
    "data.count()"
   ]
  },
  {
   "cell_type": "code",
   "execution_count": 52,
   "metadata": {},
   "outputs": [
    {
     "data": {
      "text/plain": [
       "1      -7.071068e-01\n",
       "2      -7.071068e-01\n",
       "3      -8.164966e-01\n",
       "4      -3.162278e-01\n",
       "5       4.264014e-01\n",
       "6      -1.000000e+00\n",
       "7      -2.943923e-16\n",
       "8       4.029115e-01\n",
       "9       1.000000e+00\n",
       "10      1.000000e+00\n",
       "11     -5.773503e-01\n",
       "12     -1.000000e+00\n",
       "13     -2.425356e-01\n",
       "14      8.944272e-01\n",
       "15      4.472136e-01\n",
       "16      8.944272e-01\n",
       "17     -4.472136e-01\n",
       "18     -4.472136e-01\n",
       "19      1.091089e-01\n",
       "20      7.071068e-01\n",
       "21      7.071068e-01\n",
       "22      2.956562e-01\n",
       "23      8.944272e-01\n",
       "24      7.071068e-01\n",
       "25     -7.071068e-01\n",
       "26      9.183979e-01\n",
       "27     -8.944272e-01\n",
       "28      6.324555e-01\n",
       "29      8.164966e-01\n",
       "30      4.082483e-01\n",
       "            ...     \n",
       "5079   -4.417261e-01\n",
       "5080   -8.944272e-01\n",
       "5081    4.472136e-01\n",
       "5082    1.000000e+00\n",
       "5083   -4.210760e-01\n",
       "5084    4.140073e-01\n",
       "5085    2.956562e-01\n",
       "5086   -3.638034e-01\n",
       "5087    2.312585e-01\n",
       "5088   -1.299444e-01\n",
       "5089   -1.000000e+00\n",
       "5090    4.082483e-01\n",
       "5091   -1.000000e+00\n",
       "5092    1.961161e-01\n",
       "5093    2.425356e-01\n",
       "5094   -8.944272e-01\n",
       "5095    5.303301e-01\n",
       "5096    7.071068e-01\n",
       "5097    2.706660e-02\n",
       "5098    3.333333e-01\n",
       "5099    8.017837e-01\n",
       "5100    7.784989e-02\n",
       "5101   -8.944272e-01\n",
       "5102   -1.000000e+00\n",
       "5103   -3.162278e-01\n",
       "5104   -1.543033e-01\n",
       "5105   -1.781742e-01\n",
       "5106   -1.290994e-01\n",
       "5107    3.162278e-01\n",
       "5108    4.472136e-01\n",
       "Name: pearson_similarity, Length: 5108, dtype: float64"
      ]
     },
     "execution_count": 52,
     "metadata": {},
     "output_type": "execute_result"
    }
   ],
   "source": [
    "data[\"pearson_similarity\"]"
   ]
  },
  {
   "cell_type": "code",
   "execution_count": 53,
   "metadata": {},
   "outputs": [
    {
     "data": {
      "image/png": "[encoded data removed]",
      "text/plain": [
       "<Figure size 432x288 with 1 Axes>"
      ]
     },
     "metadata": {
      "needs_background": "light"
     },
     "output_type": "display_data"
    }
   ],
   "source": [
    "import pandas as pd\n",
    "import matplotlib.pyplot as plt\n",
    "\n",
    "#a = [\"male\",\"female\", \"female\", \"empty\",\"male\",\"female\"]\n",
    "df = pd.DataFrame(data, columns= [\"pearson_similarity\"])\n",
    "\n",
    "df[\"pearson_similarity\"].value_counts().plot.bar()\n",
    "\n",
    "plt.show()"
   ]
  },
  {
   "cell_type": "code",
   "execution_count": 54,
   "metadata": {},
   "outputs": [
    {
     "data": {
      "image/png": "[encoded data removed]",
      "text/plain": [
       "<Figure size 432x288 with 1 Axes>"
      ]
     },
     "metadata": {},
     "output_type": "display_data"
    }
   ],
   "source": [
    "df[\"pearson_similarity\"].value_counts().plot.pie()\n",
    "plt.gca().set_aspect(\"equal\")"
   ]
  },
  {
   "cell_type": "code",
   "execution_count": 55,
   "metadata": {},
   "outputs": [
    {
     "data": {
      "text/html": [
       "<div>\n",
       "<style scoped>\n",
       "    .dataframe tbody tr th:only-of-type {\n",
       "        vertical-align: middle;\n",
       "    }\n",
       "\n",
       "    .dataframe tbody tr th {\n",
       "        vertical-align: top;\n",
       "    }\n",
       "\n",
       "    .dataframe thead th {\n",
       "        text-align: right;\n",
       "    }\n",
       "</style>\n",
       "<table border=\"1\" class=\"dataframe\">\n",
       "  <thead>\n",
       "    <tr style=\"text-align: right;\">\n",
       "      <th></th>\n",
       "      <th>pearson_similarity</th>\n",
       "    </tr>\n",
       "  </thead>\n",
       "  <tbody>\n",
       "    <tr>\n",
       "      <th>count</th>\n",
       "      <td>5108.000000</td>\n",
       "    </tr>\n",
       "    <tr>\n",
       "      <th>mean</th>\n",
       "      <td>0.097610</td>\n",
       "    </tr>\n",
       "    <tr>\n",
       "      <th>std</th>\n",
       "      <td>0.631340</td>\n",
       "    </tr>\n",
       "    <tr>\n",
       "      <th>min</th>\n",
       "      <td>-1.000000</td>\n",
       "    </tr>\n",
       "    <tr>\n",
       "      <th>25%</th>\n",
       "      <td>-0.447214</td>\n",
       "    </tr>\n",
       "    <tr>\n",
       "      <th>50%</th>\n",
       "      <td>0.170941</td>\n",
       "    </tr>\n",
       "    <tr>\n",
       "      <th>75%</th>\n",
       "      <td>0.693375</td>\n",
       "    </tr>\n",
       "    <tr>\n",
       "      <th>max</th>\n",
       "      <td>1.000000</td>\n",
       "    </tr>\n",
       "  </tbody>\n",
       "</table>\n",
       "</div>"
      ],
      "text/plain": [
       "       pearson_similarity\n",
       "count         5108.000000\n",
       "mean             0.097610\n",
       "std              0.631340\n",
       "min             -1.000000\n",
       "25%             -0.447214\n",
       "50%              0.170941\n",
       "75%              0.693375\n",
       "max              1.000000"
      ]
     },
     "execution_count": 55,
     "metadata": {},
     "output_type": "execute_result"
    }
   ],
   "source": [
    "df.describe()\n",
    "\n"
   ]
  },
  {
   "cell_type": "code",
   "execution_count": 65,
   "metadata": {},
   "outputs": [],
   "source": [
    "data = data[data.pearson_similarity > 0.5]\n"
   ]
  },
  {
   "cell_type": "code",
   "execution_count": 66,
   "metadata": {},
   "outputs": [
    {
     "data": {
      "text/html": [
       "<div>\n",
       "<style scoped>\n",
       "    .dataframe tbody tr th:only-of-type {\n",
       "        vertical-align: middle;\n",
       "    }\n",
       "\n",
       "    .dataframe tbody tr th {\n",
       "        vertical-align: top;\n",
       "    }\n",
       "\n",
       "    .dataframe thead th {\n",
       "        text-align: right;\n",
       "    }\n",
       "</style>\n",
       "<table border=\"1\" class=\"dataframe\">\n",
       "  <thead>\n",
       "    <tr style=\"text-align: right;\">\n",
       "      <th></th>\n",
       "      <th>user1</th>\n",
       "      <th>user2</th>\n",
       "      <th>pearson_similarity</th>\n",
       "    </tr>\n",
       "  </thead>\n",
       "  <tbody>\n",
       "    <tr>\n",
       "      <th>9</th>\n",
       "      <td>VKEy2rsHMS9w0dx7zgp1sg</td>\n",
       "      <td>Q78B1wsKHEA7Rq7KGWFSTg</td>\n",
       "      <td>1.000000</td>\n",
       "    </tr>\n",
       "    <tr>\n",
       "      <th>10</th>\n",
       "      <td>VKEy2rsHMS9w0dx7zgp1sg</td>\n",
       "      <td>c7lAaz-pW58i1h1rSlyqcw</td>\n",
       "      <td>1.000000</td>\n",
       "    </tr>\n",
       "    <tr>\n",
       "      <th>14</th>\n",
       "      <td>UjIuMBv7yQXwKAYLFUxWqw</td>\n",
       "      <td>c7lAaz-pW58i1h1rSlyqcw</td>\n",
       "      <td>0.894427</td>\n",
       "    </tr>\n",
       "    <tr>\n",
       "      <th>16</th>\n",
       "      <td>Vlssq9KlNYZEr1YxL6VFFw</td>\n",
       "      <td>TIMCeRsXpIPAy4qPWjuzqA</td>\n",
       "      <td>0.894427</td>\n",
       "    </tr>\n",
       "    <tr>\n",
       "      <th>20</th>\n",
       "      <td>Vlssq9KlNYZEr1YxL6VFFw</td>\n",
       "      <td>prFx0Kg92PfPkoU8OY4KxA</td>\n",
       "      <td>0.707107</td>\n",
       "    </tr>\n",
       "    <tr>\n",
       "      <th>21</th>\n",
       "      <td>Vlssq9KlNYZEr1YxL6VFFw</td>\n",
       "      <td>ArmAaGCdCVAlkhdtaT6RzQ</td>\n",
       "      <td>0.707107</td>\n",
       "    </tr>\n",
       "    <tr>\n",
       "      <th>23</th>\n",
       "      <td>Vlssq9KlNYZEr1YxL6VFFw</td>\n",
       "      <td>o53qYN7co-1hu5LgZmsP4w</td>\n",
       "      <td>0.894427</td>\n",
       "    </tr>\n",
       "    <tr>\n",
       "      <th>24</th>\n",
       "      <td>Vlssq9KlNYZEr1YxL6VFFw</td>\n",
       "      <td>cHdJXLlKNWixBXpDwEGb_A</td>\n",
       "      <td>0.707107</td>\n",
       "    </tr>\n",
       "    <tr>\n",
       "      <th>26</th>\n",
       "      <td>JSG_FhQyK1Psg0nDtklt7A</td>\n",
       "      <td>tWiFat101ID5w_wgAPMXhA</td>\n",
       "      <td>0.918398</td>\n",
       "    </tr>\n",
       "    <tr>\n",
       "      <th>28</th>\n",
       "      <td>JSG_FhQyK1Psg0nDtklt7A</td>\n",
       "      <td>oUJXPurI_LFTZhRCZcRNcg</td>\n",
       "      <td>0.632456</td>\n",
       "    </tr>\n",
       "  </tbody>\n",
       "</table>\n",
       "</div>"
      ],
      "text/plain": [
       "                     user1                   user2  pearson_similarity\n",
       "9   VKEy2rsHMS9w0dx7zgp1sg  Q78B1wsKHEA7Rq7KGWFSTg            1.000000\n",
       "10  VKEy2rsHMS9w0dx7zgp1sg  c7lAaz-pW58i1h1rSlyqcw            1.000000\n",
       "14  UjIuMBv7yQXwKAYLFUxWqw  c7lAaz-pW58i1h1rSlyqcw            0.894427\n",
       "16  Vlssq9KlNYZEr1YxL6VFFw  TIMCeRsXpIPAy4qPWjuzqA            0.894427\n",
       "20  Vlssq9KlNYZEr1YxL6VFFw  prFx0Kg92PfPkoU8OY4KxA            0.707107\n",
       "21  Vlssq9KlNYZEr1YxL6VFFw  ArmAaGCdCVAlkhdtaT6RzQ            0.707107\n",
       "23  Vlssq9KlNYZEr1YxL6VFFw  o53qYN7co-1hu5LgZmsP4w            0.894427\n",
       "24  Vlssq9KlNYZEr1YxL6VFFw  cHdJXLlKNWixBXpDwEGb_A            0.707107\n",
       "26  JSG_FhQyK1Psg0nDtklt7A  tWiFat101ID5w_wgAPMXhA            0.918398\n",
       "28  JSG_FhQyK1Psg0nDtklt7A  oUJXPurI_LFTZhRCZcRNcg            0.632456"
      ]
     },
     "execution_count": 66,
     "metadata": {},
     "output_type": "execute_result"
    }
   ],
   "source": [
    "data.head(10)\n"
   ]
  },
  {
   "cell_type": "code",
   "execution_count": 67,
   "metadata": {},
   "outputs": [
    {
     "data": {
      "text/plain": [
       "user1                 1562\n",
       "user2                 1562\n",
       "pearson_similarity    1562\n",
       "dtype: int64"
      ]
     },
     "execution_count": 67,
     "metadata": {},
     "output_type": "execute_result"
    }
   ],
   "source": [
    "data.count()"
   ]
  },
  {
   "cell_type": "code",
   "execution_count": 68,
   "metadata": {},
   "outputs": [],
   "source": [
    "G = nx.from_pandas_edgelist(data, \"user1\", \"user2\", [\"pearson_similarity\"])"
   ]
  },
  {
   "cell_type": "code",
   "execution_count": 69,
   "metadata": {},
   "outputs": [
    {
     "data": {
      "image/png": "[encoded data removed]",
      "text/plain": [
       "<Figure size 432x288 with 1 Axes>"
      ]
     },
     "metadata": {},
     "output_type": "display_data"
    }
   ],
   "source": [
    "nx.draw(G)\n",
    "plt.show()"
   ]
  },
  {
   "cell_type": "code",
   "execution_count": 61,
   "metadata": {},
   "outputs": [
    {
     "name": "stdout",
     "output_type": "stream",
     "text": [
      "set(['YlwJYpBWa-oL0byTVPNKRQ', '-fbAw0L839b8dnzcdoDHSQ', '1HejAI1OQDkw69qu7PcKfw', 'TqPiJAXEJGUjsLRIMIt-8g', 'ZF8WWJhdLw6OIzxeK8zNRw', '-55DgUo52I3zW9RxkZ-EAQ', 'QpQC0XO3pJ_VR5_PRRbMyg', 'HGNOaHmKpW1ajuAVCpA1yg', 'h6neYN7OZVt9_ok2bAx6BA', 'hDDh3dtuFZyty5KOUN0JmA', 'ltIe_eGArzU8b48rKM6yQQ', 'ACb637NG7EnswRs8U_BX_w', 'iyR5YwpMnOCmbfvk4KKczA', 'vHKhKD9PuM99k94rR88juA', 'tuYk6HQgY3eYliiOUgNFqg', 'f3-K3HwJEg2YPAh9OJSm4A', 'OwZM33ZI8LZVknaLICWIhw', 'EDcZRvERC22Cvw1yi4-VKg', 'dIA4aUlrRHthZDH5oqwuvg', 'ZYVEOShiBoWP_DjpK90ESw', 'EygKx4lr2NiK_pCUUHGXvw', 'er3oGeRMf1op9yHEGK-3yQ', 'ubZk0FCJArDL4do33Vn6Nw', '6lt_T2BvUw7ehxqYN6KALw', 'eiiR_DjRvDg2yIC2YetB7g', 'CcKiT1zOIrClWeWIldkyVA', 'LKzr5dBVVlwvsgP1pP1g-w', 'BEc3HRXw8xSEL2C6e47jRQ', 'pCWg4B0R5gauQR4SJ9VDmw', 'zdXJFWeoB0zT0jK2a4jsdA', '8Zq11pzOup3-iwOjdMMwDQ', 'LnzkE5ubITLbKYJF59VB5Q', 'MpXgjw2I0PSiLYpVh4JQhg', 'EBZ69m0uyL7jqntKu91u9Q', 'ljfwf_DkzQgTZz1cwhL4dg', 'UY13CTgUqriT-fMxT2APLw', 'v9u0NgjA4iQeKGevFnYSCA', 'dgtPNnetOQ1C-VSXAn3s0w', 'CX86HjLm-fK8ix0xe5LwiA', 'ffLK5rktOFlH26-vZU5xqQ', 'aucQ1hlDHM_8xfnwD0R47g', 'urkODQ1jX0qQzgbqsQjWVQ', 'CyngPjFjekfpnpEUGl1ctQ', 'xiaJ1lug7dz3EjwF03FlrA', 'iNwd-OTTWHLaW1pPMXUq6w', 'veDn86jYofali-Hj4wCfjw', '7-GGvE6ySiPIpb_yR4ezEg', '-PYUz45y1-ZDKPK1ympILQ', 'ZE67Ck4gWtJBAN95AKMyZg', 'MW7xk8WhYuGh4lA64RDjRQ', '9LacWr3iWIVXBoA8Ui_dqA', 'Xs2iTWxbczvfEapAFH3cyw', 'thlAnPN1ApoNxSnok_fcvA', 'sOZfGLRjhcEjAKBLZKcJGg', 'CxGtYp9l48hW4_5Sp1yN-A', 'XCa7e_A8vO8ExVxByUuFiw', 'P3B7FfBpXERa-KdxwIGkHA', 'Dwu8XmcutT11bCUdPodozQ', '-cBQKodqi77Q0vk-9iDvQA', 'BncSpY3IPix5s-4SOHCtLQ', 'pjpUOlJLlkIxBZ5BquA2PA', 'P0IY-8h2q--Uiw6vKIJ3QQ', '0QiNtqYfFCFK9WxBKsAgZg', 'e880MGw6C6PJL-n3EJoY_g', '7PMK3cLjRXqv_D45znSqmQ', 'Z6WD4uMWjx93wo4EzJZDQA', 'aow8T0EAFdYDXmVAUO5aFg', 'I02fZsl5otCPP1XRu0y40Q', '8ofznDNjZ6tdINXfWF3vTA', '-FrgepJj0h-OWU1CupUrOQ', 'Wcop1t30dOpVdfBWkPTIOA', 'ZjaNE5PtYk8j2K1kOpr2Ig', 'EYR6AI-BH__55ADdlkd9Uw', 'SmvpVTRKtUyN6LbVmVHk6w', 'lBpkWZFoTxQ2ScXE2Ahgrw', 'w68ZwDWJmyDs0ecmP67Y8w', 'GEc9Xb7YpF4YgN8KfSUAGw', 't9HhRQ4dp5glLeggRWp2rw', 'AhPmh0NaRDbEYyhd9egzLA', '030ukt7grEZBLd6KTtLAdQ', 'lwjJbwb27Q65fWl60Bscog', 'A_svXt74HBdBRME6t-mN_g', 'Qtn2pEjhGlYjUkJFHz6b6w', 'TEaBolNAkOdRm2gvIYz4OQ', 'utIA0LyQmwP-9DRyxUe6qQ', 'LAiBt7LobYM_0_EQrSvK4A', 'YrmdXrtMDK2Y9DDtgOpYhw', 'qrK73viBBJY_hx3bgRQw7w', 'Yxz2eFJ_2257rMyrx4r0xg', 'N0bE0kokCS-rPHOXS-PrWg', 'as9kh0CBsg1i1JuTIqTqFg', 'at6kTMfjaX5mEbIcWHQt2Q', 'L9nMax4J-1kufJAeWRxASw', 'PC_bg7yJTuRQbR5K8W5S5Q', 'XqgHaJB8W6RSXPSsXsd2XA', '8XLpfj__WAby4YXh0mKm7Q', 'SNuyBZuaCkhEjqAEhjuOrg', 'Y50kArMlDzCvLv6CnWN8Ww', 'c3A65uxYtYYbUp0rB-GOjA', 'Vu641FmSuZcUBI8PymYRIg', '-tQ3UVVdNBZBR_HOVFROzw', 'Hxy2JinkHvPDEB12tXJ-qw', 'xA3Q0VVk2C2nPFN4i-INoQ', 'AhHwgPIydZTUmPswHrNaiA', 'k1QpHAkzKTrFYfk6u--VgQ', 'efGF8_ccYKGjT1jTqjfzwA', 'uiqXGuolJ_B1x70QjGa8JA', 'ksZfCKQHYdCu0e8KbMuBDg', 'DpZGtpjLZWryMcd9mkjw0A', 'ok6LBdS26uetqlTHyrOm7A', 'fIp-KwHG_EaYAHZbwNvRzQ', '39ha-sc8hpUiaAdxrHEYrA', 'xBGvPMnX8Kf1w1qpz_A4qA', 'Edq3REDbBfss0WQu2Ta93w', '9OX_55wAPyuKKI6Zdp7qag', 'CvonRhKDJaH155xhtpz_iw', 'laEOq0egnG2F_6hxtBMYSA', 'JmI9nslLD7KZqRr__Bg6NQ', 'C1zlvNlxlGZB8g0162QslQ', 'IWC86bMNSclYKgT7G39whQ', '2Wu-wq-98j00eIRaGg2YLA', 'UdEmYOnk2iJDY9lpEPAlJQ', 'RH7HvFMbyxLhqxvKgevO5Q', 'm5sGdODCWYVu-bjvqG_OOA', 'ZYFgzHb75cfzaJ-oa3YwiQ', '5zx8W9DdrcvpC-Fw-8oaHw', 'Jol7cXrDmKKmu_V6qp4wMA', 'UY3MJUfAvWTDLM1zVdpa3w', 'lPSD63_F4Ck7N2Ccf8-Viw', '4o_x3Lo_siRJVuTU96WbHw', '1VNNQ9Q84vPM3jNxntoeig', '11PZaYWrnnWIzrQmnmGfiQ', 'Vsw8Xp-4h6DjOYUNr1uyvg', 'AnOb3EDRIwfVayPWddr78g', '5diHqpk_JSC4p8tIo4APow', '4-ut9noMzEf0is9W-8CPnQ', 'KFAJsmQ6GnHxyfmv16s9VA', 'qT6LOpHLPjbJkU5lduXo_A', 'klrjGDIymLl0xdiCP9piBg', 'VJO_AQDv8SneUYGEn_8OAw', 'CBYlr6bksWM1WA_pTumeeg', 'CV0knwCFA-x-8jJHot6Few', '00CfT5fx0fhVbntT83CKsA', 'KfxPrJ5PzgFRm2XltnbBLQ', 'GeZuxJDRqZDnTWUdHqq7wQ', 'xvcGZGoLwWpmDMMY1VN-OA', 'vw-7c5CjIMyXN1_JbZtcJQ', 'CLwwfGV6SJ50fl3ZCK6C3g', '-s_3V_7IrkVBcsi-gWxKog', 'wJY74R0zAgjxvBf-d4gm9g', 'AsJpz3mT9qIYj2vqhau0Fw', 'uyAz_YWYQ2DIVWF2O2erLQ', 'c50qgYbD3c_3t5eoVJkI6A', '2ZP6g9nLAo_B7HL-MnPvCA', 'yGUieVhfGHxnxdcLuBsenw', 'R0FVMp6Acx0Rl_HRmS1Twg', 'D3dAx-QW_uuClz4MambeHA', 'wrhPNdPh0FfSv3DMS0obhw', 'YcgddEm2VxCiqvfh6sYFuA', 'VKEy2rsHMS9w0dx7zgp1sg', 'seYOavuhdAX5XECqWA9jMA', 'BjaeeB0J7bEmrUz3fN6ddQ', '0Hz_6Fu9Oaxk1Way4MjZvQ', 'T1jicY-vxpCOTl5SIdVLxg', '7Z77qUEZYkXQctHfTQRvqw', 'ttzHVh4PCqY9ywvZf5e41g', 'mnwRtuVQEsIUomBchu0gwg', 'lX2N9IYRSi03dgzb6cRW6g', 'p7qQhxZdVGSTKb7nRGoDrQ', '28SA8CuSHHLvPuvAorrANQ', 'HKkjRr54mqohea5V1eBh2Q', '74Myfl8pOGeKcmkVTimsvg', 'lxQv93VhDjS52rJ1DQDBDQ', 'SVMR0kRmdd-bbSNTTECJBA', 'xBoXm64NVdhRcsa8uJpbgA', 'FWuPUuptb1FJQns5r666wg', 'qpcZSHPLb8gTCI2T0XSYsA', 'mK19GgwhVQ0YWlUy4ZYGDw', '6vdnm2zSvhydaG33EMtDYg', 'U1_FNuI9Jrsx3qJcq7HH_A', '_mqUzNXs_sJ1EJYgYZYszg', '__dUOXQ2Pa149eLgsL-tHA', 'pJlf8Ly1lXxwPSp0UaHMWQ', 'WRlcASYWlNYmMr9lHOYw1Q', 'ArmAaGCdCVAlkhdtaT6RzQ', 'y1VInN5m3RbHU59kiQbmxA', 'eDlgbI0Qg_mmI-Osvci0gw', '46hnat0aLao-qYWZkN9aBg', 'BJLhJdmhUxV95BHAxZluzA', 'ujgpePdD8Q-fP1mPFnw0Qw', 'FOJ3t6bjLftuqNR65d9zjw', 'eTmy0-h4tTEpfbDVAue0MA', 'kgUlckbRyHvMD_78NoXE9w', 'xvIKjbhFydKRzrnibKuBDA', 'VjoZbiVsbYgZ75-vYjFkag', 'kswHHWKiuq7nKtSOeIOk3A', 's_FrYHDeHFsQ6I8fBGOaLg', '-4TMQnQJW1yd6NqGRDvAeA', '2RQuRcchOgTvFVrSARMHMQ', 'tj3YzWsjMbPU_ivDkyOE3w', 'hb96ToDVKWQkAj5h-UB5Ow', 'B_VuHS52Xg_Rp76cKrGLzA', 'XfUoM-27iPHkbewPXepmFQ', 'FkzNVY9zCeTLR57qrLV9-w', 'uuHQK3KUOkuuMTjJ2tL0Xg', '1GKoDNt26Icmww3dd7PcOg', 'qdd1DHfeKHE72_djJxCJdQ', 'Zgoo9dDm38WVXu4I5_WTbg', 'iE71iwcSljg3xm2GB2Y9aA', '1llMwtT_zB2cTbiW80OvdA', 'O1VzSavrxsZsHHwDtf3sPA', 'QesDcfDUyN8rF_GWvWWNqg', 'LHVfdNRDiQfRpDyHyzvI5A', 'bwZUw2ABFwgztXzPio8yLg', 'e8EWCYnDaVcQ5hxLmGzz4w', 'jodq00HbltESTzcpy1cvuw', 'oQwFLohuwcJYMd0WhCph-Q', 'r5PLDU-4mSbde5XekTXSCA', 'LrwvXGiGPAg7mEAppVW-dQ', 'd10IxZPirVJlOSpdRZJczA', 'm2XTPegLMLCS0wVW6Hpk2g', '1-L3RfFTq4tA0kl73K1l0g', 'ADO8dCEIKKL28YZ5g0WSaQ', '4KhzlD8bt54p5afAPiiTiw', 'TkiJPESR2YSaVSlsIqtVuQ', 'zMAUjZrZPYmqvJfCl7C7YA', 'I_a74zmgR-X03LsKISWPcg', 'rbZgyYEawUszQdOyN3b9qg', 'bCUCWesDtBkiD7zML22Niw', 'D8bX6JoVEZoksfuvHqjYyA', 'eWJR_4jFbb6Tf5n_Do33hQ', 'u6biYZCSOwyQ-WmXqQbbQA', 'shfUvQ_vwnvCgfYaB1gb1A', 'tWiFat101ID5w_wgAPMXhA', 'j9cs_sWakmhReSGX4cK_Ag', '6yUKYC9z0o6NEgylo8_RPg', 'ZpkPAjF1Py_oM6PafEwJAQ', 'dF9x3o06lXZ9W0fHHcqdRQ', 'BIPHzxOIx8mW87aqO3UXIA', 'nyEbeb6EwKn4zlZDok4KIg', 'gOYgSEbE-Z7cqGsgGW3LBg', 'lBzCbSf9ekDP4iao-5Sb0Q', 'UYx74_29WV8dbBQgWPozDA', 'rUmJ5moQLQaWA2s99P2MEA', 'V9xCRaWVXyOR1M-Jz0nLLQ', '_JZ7hXqOZ_MngjPWFgER0w', 'XIRiKM4FOk-EkLQdJfjylw', 'JEEYFXLbKy-KpbTT-BHb6A', 'KqYPw_V3OFNcoU9lhSeA5w', '5f-ru6sXfNLfkGEsOL47RQ', '7idw1gKx_dN_suwln7GXjw', 'CSrq168peLxtoKYDrCkDYA', 'Ra7HvJ421CV_uYJFfgVPbQ', 'DtnH690w5H1Yb681egz5wA', 'vK1_qKEG7zHvjiTOsN0CRg', 'dX4GwpPNdHCq2NCWj8ilAg', 'D7H1TLjMEDIpy6xWj4tR4w', '-4pGdGL_M0zGctI5jeqjAQ', 'p7G52FVg45LF2YCESQka6w', 'y6LaF7MNMHZozL-kUSK37g', 'YWwUw29j51_6mMw6XiF0kA', 'pMF-NXnnBtF2QHtm43v85w', 'qEK3cxDYSf-rEhWJEZdu7g', '3UA89mI2pN2KphXN3QXPIQ', 'RZUGrWB5EiNwaXHi6ZH7fw', 'C6LV0p8L6IfBfh1YFRkWzQ', 'RO78oDy7vbEcOJU8anY5MQ', 'qnn9E-e9orYf_wK37yLTYw', 'fdK6g-0ynhxPmUNFn8fKFQ', '-amU7LifraSNgbUh2lzCMg', 'G4iDIrTiyyOEfrK3qT1r9w', 'yet0Pww_ouW49T7V41ecSw', 'y64KXd7gywsR5BkdIAjEog', 'SCNlX_q7vVRkoR1OgNpyPg', 'dRNwgGoiEHCOfWudcNI9MQ', '80gdzmn-E3IaXK7Z6qzC6A', 'Vlssq9KlNYZEr1YxL6VFFw', 'oAOVwrLLbJA-b9RXs1ViBg', 'gdqFSUw1vOI9lIQyZTYWAQ', '7MoltZiDMdPrGuv0ceOUhQ', '36GvUjLg3drdOB3jgpqTOQ', 'bD3FWAYGLQgJKye1HWvEOg', 'Tl2nqtPXlLbAG3qkUYVM2g', 'uLZrLibA4G-4syX7aoKe4A', 'n6IWvkVMWB9OIRZBXh5tHw', 'NgzjMWD6g2M2qtgkMqjUdg', 'evY3McQj_AMSF3wbFGO-mg', 'ytne_BpcI4lInmJhAp6uqA', 'hGm_xuka1I6_Jp_VZCOixg', '5FBHctgtqVugn4Zb-XSdFg', 'SvAoD-toWGUgBuWeyvl_Og', 'Jy40ercZIQaNcz2qV3qgow', 'krLnUW1pmvUUdCdD_wGSAg', 'xctAROfJz2CF3gg1reDCCg', 'l0swEUXKiZpxAGn7kEAqsA', 'a2NSxkmX0_eqvdwJ2rjPVg', 'RmTjXHc2wF645_XlCo2ofw', 'Dxx9L6_wyfjiZieJJurptw', 'jY-5sJ72eEoxxxG8LmEFGw', '0pMsVlUu_MbFqmvbA8F79Q', 'JfHXzulF6yIKgA22YYPedw', 'I-VD-o4JDGSG5GHQ2EbrVA', 'YdRSx-i6uidsAO04GRMQVw', 'nN9e_iBceqRpy1vPTsNLjg', 'UwIsqUFQBDMNofkTrAP_pw', '5HecXMeh0r2f57o-yvBsSg', 'R5tLqS4RZrDnBf9LoSjA2Q', 'U0PtdIN508sn8RVJ4Mcs6w', 'eJ-bDf7E1ph07vF7WbF8dA', 's9kjuJKYXRDNtzM3lUeUdg', 'TQ1ddpjftd7-viE_CV8dqw', 'fyxMChwdIb_RYqsSumPx2g', 'IFTodpraPKAuGAEzWPFrog', 'mOz960MmySbNQRD1GMxdrg', 'TcBM3LCFnEYZubbD0k7Z8Q', 'N-5j18ODfZKH_Q5p__MoSw', 'mqqTdJHy4pksWkthSMdtaw', 'hs4Bviz_gaeOlnQW5JZ9_g', 'AL6j9HDaVzk6z1ivPUHPZQ', 'jwOQaWKD9oqBGVbBjJ7POA', 'yqYtY3-Po4OVPafA9Z-Xyw', 'YvCIHmADAMDP_JV7vSBAHQ', 'Y3aGrZR8QBlj8C2l7oEvDg', '6_3U6hch4b0zpi58PuvvAQ', '3HYKsOE6zcHNFN1nAYBPxw', 'lDnzvy3Eg7CGeb4lPe7xcw', 't_pqKIK3OAugaCAZAWHahg', 'IZaWH5nva6mXn_MVxMHtlw', 'hX9qzoU8xjdEhkZCTKlz5w', 'dU-KoGAFBTsSAEjwQWNFYg', 'RyJIi1IP0UQ5qGbwazgsIA', '6I1KT1SCGbAaTzTIMqF_eQ', 'ryUt5vS7nAcsXVhC0jbO_A', 'w1CzRQ4dMme1qoKB1aesBg', 'Nfd4XjbW-sqtfEAHitrYBg', '_2pPJnMdF_zltZ0D6j5MOQ', 'gSSQvqV1q-gAckB7Goywrg', '2Fcw-oZpfuktTURLfbkMmQ', 'U30HnYk0SVtXHf4MrKuuiw', 'jY2RWYyP42EhEtmhfQrnPQ', 'TGo6H2hP6myp1tFgDsbP0g', '6kemDNgt4FJXa4szg_sH_A', 'CQokoa1vN8j6OP7dyizJDw', 'ovn7FzjCDBm6qtI_GRreaA', 'prh-RlduJU3z3ynA5lU3Wg', 'XaPJUDiidOOdAMhTTIlTxw', 'DCZM9vP-3PwIDNPEvDnDlw', '7SP3bG2iJc2YvZPOA-uiPg', 'z6gjzFENiQf-K3lPyV79VA', 'CgQ4WhmSiAv9nfpp8TfUZw', 'atAjzQ7CUw_wM-GNh8piSA', 'L-0p2EmtxMak8I5M_UHkQA', 'cHdJXLlKNWixBXpDwEGb_A', 'swi7mi1ixWpu5-tZO2mtsg', '15nI6GFkmdrG880vPqQZaQ', 'ww2MgTIrVgzJtf8vHldw5A', 'u9NJ9ZUIVuk18is85de0Zw', '29OVXYSJw7fvy4KHwVgfmw', '8xk1SGkqcPt_N4rIFywa9Q', 'k4_9Eb3upQbvyKA3ZGX6ZA', 'HmgOHNSuBH2T-XVb9B0Q7w', '66B7oeVnhuAifEytmAfpHw', 'xMAGTyz_3BbVjNVDix09vA', '90tknuRWT7grn4_L3Gzucg', 'KYNd_nhbb4AMImzGrwGjpA', '1rbb8ntTOpSolQv60CGcsQ', 'xgo6h63Lk1CNoSOyJNSezQ', 'sITO1M6O-tSYFvw9ciq-jw', 'FuSn5ZxN2NV_PpK03gwcsg', 'uFH3_cjq0OV1SMOe8ADsRQ', '7sINoM0DBcHfAhH2qXz5Kg', 'cZAU9Gs-rIv8DvsVp3qUTw', 'uxSL4FHWiO-fr2iae_d3Bw', '3pMczoCBOSKBcqMhVim3ow', 'CP9eZekUy6mzwomMqXBzgw', '9-BuUslaWcCL6yLRTagYfw', 'EBnv9_03eNqxQqRQJH4SUw', '9sAkeAr_Tx71wdLjSQuQxw', 'OdfdbmaWOBU4kZTtxaGzmA', 'sxAqe5Ae24sc-ZvJgPKuCg', 'QQ5A2-e_wG62NSHU-J0P0A', 'lmCRn3mZ89THvtozQ3gtaw', 'v4qyBRpTBvOO55M4IAqNNg', '90bL34o2KEes9pUnCOm7pQ', 'SNQcE_Bc0QAbxFu5F1dTzw', '313pOZvjvoi6QI5oXgtRHA', 'e6ohubwGsdCD4-x6RZnwUg', 'QlJztL2aGEXgejgi5JM9Xg', 'egzA9JSQH3lQSS_k3l8bUQ', 'FlP1OKt3-nSN4bcp-ik_2w', 'z9niQCt1dHnzWr75ZbSYmQ', 'dc6sPg9kNliz_Cy2yX19tw', 'EkPAv_2w2-6vKk5JCS58Hg', 'Vp9TrF9P4ifIRAMcte-ycw', 'Noi53T0PWNEN9mQRS3-Ncg', 'S0b8_tFfOJjfERP4_bPMpQ', 'DgZO2UiUoAJQ5pw5vnJhlA', 'ChWFX5QrRn1H6VYa-9eKHg', 'IAPGit0LwvhR1fe07rK7bA', 'd_mOy_mQYhZiC1bjSu014A', '2T9WN6Cf-IFYTO_l7fLGBA', 'W2K94WPhkHNHXMiaAIA7Jg', 'Z890syqhhoShqFnIyIu9EA', 'CZHFDuUVWdb9eYQ_ix4nsQ', 'mX2hIE2e1AAzPUcmOF7MBQ', 'qn1HGmLGm3iwI0lxIdKdQQ', 'ZxkCf-SgNR0afhB9_sWvVg', 'M0nwzn9JH-UY2QC8gYr0yQ', 'CJrne0dGHKtDBIt_tZp4Fg', 'NbV82B3fDXfcRuoUsf3zJA', 'boYRJ1VOX3iNmsGmJ0Mswg', 'BK3CTGXxDOSiDbVmNOCiQQ', 'UNv2xtLw64-iaBPv5RSNTA', '2ibHw8fEk3o8E7STU4VBaA', 'tGgTIueZy1JNTzQD9rkZLQ', 'wrWdywCI7uLbDb6v07KpKg', 'umxki_So2--o08q9bkXK6Q', 'EFdfBcpAkBIvDW4RolgEiw', 'Ycn-l-X6joxbVQzgxjXpRQ', 'UdAbNi2gDZ4giwUviGwI_g', 'Q78B1wsKHEA7Rq7KGWFSTg', '0859wfd1BQHG46Zpwhc0ZQ', 'SB6gMH-rywdK4uRoALYoUg', 'ft-vfIiZQBzVI2DhSBedYw', 'Fi9YxOSkjns2FQUDmltNYg', 'DYnFGGYU3SkrKT_G4djpYQ', 'eY5EPi4AKCLDOZBnL2Hu1A', '1x9eXxQHJn4yYf20SVkNdg', 'vpFzsr7_ub_bpEPRHTthNA', '1CNknfCMVOaF9F7n9u8BZw', '8E2Uc0Mn4cn_yEY0xFv-9A', 'UXGu9_7uVFWyfmBzA4ScuQ', 'GNw2XXJOJ4wUvWnpo9B04w', 'TtUjRD8NCpeK5-loAvii8w', 'S6NV39MCXIzA01LermOv_w', 'isP7L3QvK50n3FDlRKRtOQ', '7VfktTKK-ixMGdS2K71Urw', 'IjeyNYr4kefZ2uZfrtJqZg', '-JNkd8sGT3vYbMLnKsP2ZQ', 'x1GM1mzeDx4ARUGKV8n98Q', 'l-Cu_WkJt5R1v71ecYeqsA', 'ElWzx5_fU8S2G45OnM-HpA', 'WDPTxKq7gh0G_5wTIuFvfg', 'zDDU8FJ-Lya9Fk9o1ZmX4g', 'oL5yzRNi3Cos8M2RjAdN_g', '-z8j0hKr1CyUf8wO_icqUQ', 'Kf0wzOlW5vdcY0oKct1Hxg', 'cUX_icvdDmkPL8R5FlK5MQ', 'q5SoWYsF-u7zrlYWGnkdjw', 'NGXwBI0YkVugwCqyKW2vrg', 'iXykyJ1oUUmjsLmNY9EtlQ', 'xP2amtgZImIWoz7zraP52g', '2JouO0aCzXugmDn6RDr8WQ', 'cEfE7wuA68LBEH6581osNA', 'Yg7F6mK68820Z6fJzDdALA', '7MeMGh0SUlF-GuTyruwtcw', 'Wag4bnx38zJ4ihDn8-7--A', 'FOF4Fvgc8siuzT7oqJzZYg', 'I4EmpNOW7zCcx7fUnQ9ixg', 'oJ15i4iUESgBkDwcTK-fMQ', '0p-3PlHw6FoWAs2ezJw3mA', 'juLlBJ6SQMyMLxPLczZxNA', 'j56G3m8vYtA_2Io6FcISBg', '-ZBfr1BHvArFp1d6XH8jOQ', 'fV9dnQcFDdA0nAQ-Aa9QTA', 'E9IPxXY6pS2gTW2FBkAJmg', 'Pfi812k1E6TMnC1NRzH3Pg', 'uMeSBbQaP0waX2750AX-8w', '8nP8ghEpT6WFcM6tfqAaGA', 'O0UhNI9KHdY1wOdhEtT2vg', 'j1jfBboDzNsyEXQYIVtchw', 'DI6WQYe8tSigjzlmMYMpkw', '0HgLKI1T9WT3hJXskDtUrQ', 'EM4Qo0Tm40H8Nfk3s8Dy0g', 'u0xUP1Pn0iDGjauKufaZLw', 'EEGajOchS2BIZNvJcPK3uw', 'yijfT6p3ZDafgtWWHsjbwg', 'fl8UupXFZOrt9gSyOkKySA', 'YyvpjiXO_lQuZxn6wqoPJw', 'SojIRi6FIp1WaLGHSodZeg', 'hgv4QjA9vQ_t04LFWl693Q', 'M5utj1jX8HbZxUh4IFGSXw', 'dz-TXPja9tn9iaJdhCi7pQ', 'WPmOztfJVgOq04rwPIQTUg', '2MmSdcu9xXoy_l1OeSXr2Q', 'XLgSCbhm_GVaPeKgdzirlQ', '3qAudxedWMgIboNlKlr58w', '5f7cIwjjnHF_A6vrl6tdhg', 'aopx4di_M3dRJxBM8N1VZw', 'kcvA7Dw8dp0XI7xLcwElYg', 'x5iQFVJkFl7fSXC6uVjwPw', 'WNyEsqvftBesC2OEfjxpDg', 'dTvSNwReGeKoYhcTj1GxOQ', 'puPY7gVy7RCz8bK1zkzdoQ', 'UC2J3v00-n8WE34BGs2HEw', 'JRo3APL5f4-TEkuI-SoDcA', 'prFx0Kg92PfPkoU8OY4KxA', 'XMhXynPjnN5Jiy0Qa1JbBw', 'LePtRp2N-BhzEZ6drrS6cw', 'cQRD-iKRToOo2LySL8X8Dw', 'fPRMjWUHLnNeL4xjrMV9CQ', 'VqPGYmAqzugiT_kV8Q1q2w', 'iPa__LOhse-hobC2Xmp-Kw', 'oHFNwZQ8G57TIrdx14-cLw', 'jcw_vtqfZSTLP15DJmvfIA', 'rvnByzxDiNR8adwg8UJaMg', 'fOe2cAYRsLTO9JAG5tpF0A', '5rCUU24Diytw66HNkOFr6Q', 'DY8AIxVaIJCtWGItgYkSig', 'X3qrbOkhdCjm0NTBX7T80Q', 'KkcZm_wksg-hb5_ZSZXkTg', 'BCTZaCW9fspmFmgZ0tcL1w', 'nzV7HlERvD_v1DEfL_oiGQ', '8pY0ma-sZf2T2OdaTW0EKA', 'Lt50AtTGYjWIWLNPD2aFQw', 'bRLY-5MeAw2oSmpNjg9shw', 'DV_Bf6g1XlWMHm3B9PlRdw', 'vvVID0iQJaixAHoQIyTovQ', 'kGGapvfP1SZH2ZOikdSpNA', 'T_lfLVtFSPTaqXIOPE9Sjw', 'pDfc2RILCn6ZwZjyUAeD4w', '3NHaBo3yBACkJUauIZuvHg', 'xr_zP_1T4e1jongw5faR0g', 'aI64Ct90gUCixiOpcIK5SQ', 'ifn1cWyI6v0EC3bn2yhVvA', '_QkQMs5ZsM0jS5er75yrCg', 'is88paciJufGT9u4cEfaYw', 'h45wk6em0f4Niwb8Rjiw8w', 'QSepZEqX_zFjkHxo2b4KBA', 'aXiXvy5cBMeb6m2j7WFuzg', 'MpM1gD0aOzzhf5ZKWLtR3Q', '8vwou_6FzOkhY8DfoJfqzQ', 'rwscnQMpddjkVNaJQhNuHw', '__coGeYC9iki1e9MVyOvew', 'mNSLx_rjYGPGGj9duWcijA', 'kCC1fX-Nheg7GNCjH45OXA', 'hH8002bWtOFYtLgarFZBsg', 'EtZacHzJ2gw0V9Sdm2rLQA', 'WKIHo_r-vky8foJo9FRQ-w', 'ia5kvJxYR8gPItl9O4W0Mg', 'bwG5hcJbLIk_VLoWde5iQA', 'uIE9H0cz2AvxorEqy5cZ0w', 'AsSz6hfCcgICRCBOaot3Rw', 'sMmHXkNWQo8pk3z6lMuz3g', 'vkvxUYIrwIV3r5o4dFF5Mg', 'X8GzHpCI-EGWkiIadHOx3g', 'dyhTHLIf6eWBvU78Y3T06A', 'Mp50uBWoZAXqSjaIZB7iow', 'jOERvhmK6_lo_XGUBPws_w', 'QZPBG42r9RQKoUC0dAj1nA', '6yvd8lkA4xdii8HQnz97Jw', '-YR7K3rw6VAQ1-MjslvsoQ', 'lmraXKtr93Pdl2s09kJ_Hw', 'LelAlfuj5oVRF9CQdWLsNQ', 'X48EY69VIZID2blXTM2rlg', 'wFEZPY0JjUIJ8tNWx62vmg', 'p2OOk46G_AOO0nCWl-eVlg', 'PVPSSklLTxmgYF27UVyOMg', '_ejh-FvJUswycDlXwuy5lg', 'qDyLTnp8EfC3wYLuXH03Dw', 'TB7bScfRFBJehXSu_1MMSw', 'vUgCHg2pWUrbg_xrJZz6Lg', 'Fo3TzqHCUue89po8GBpf5Q', 't--vCuDNjKHcTFZiYVk0zQ', 'S33IUieqzZpVDZMwEvHQNw', 'L23kc6nmQ34iWC1QTQQ4ig', 'VBJwRxOAtvjy7taLXEjmfg', 'hBilPpw8kU0Q0MokOjOw3w', '8IazTvugyAhORTqYzYtH3Q', 'IzAuLLI49vgqsGrA0GgYsA', 'CvI7J7zu3BA6zZLREvOdYQ', 'EQhvDWngsoGtBXW8TZ9saA', 'mTXT5aVQZgHw18lEtFWORA', 'K0bgKpDtf4W6as8WTFPYWQ', '9_HgBRUXUg_vKjTT-GSulA', '_zR_YufhDeXs4c020eWWOA', 'RV8LgMFquzLqNNZENnP0SQ', 'AfN3Z1U6QPEgAb5F2CQm8w', 's95vx3xjemGYd5qdZgRX4w', 'Y11HdXxK4C2sYVsbE6AzAA', 'hz2ak-AmOvqW36F4Yx8Gdg', 'Yi0aEnxXjH1tqwpL1pMwtw', 'Ej5X2a-IeYRmGGWcAegw4g', 'WPEZrwh_2qkzxCl9CMswIg', 'o2FbUvgG9MJIxYo8SIH7dg', 'tYdVqMv76L6UykoHSOE8Cw', 'w3k4afCJEih9-kPL6ZI0Og', 'r84VYMFrJIgs3C_yi96UxQ', 'qHdnwBp_EIQWNt8GdpHcjg', 'YIl7bWVL6yHYy4GuDSkyTQ', 'Pk4-5ZCH6y-1Jp23Ed6HKw', 'NWKGKnPDsgS_lMfWO3WXCg', 'RIH4l6K4udm--9iLqK9-Qw', 'gTyYAA_kMok-YrNDKbZwMg', 'p0mrAI9F5obInFizyfc_0A', 'FvnH5hw4halHa_8dKylMeA', 'Lz6QUlFkVKtnzSISk0WUPw', 'SWhHaWFuijy_KDs0zVCJog', 'vwde4Eh_8ajpMgE2W-hkhA', 'YsFDwXZy2u9jYffdr0Yy_g', '0h5yI6np7weAVH0jsjHqPw', 'YTx9W9aBsIs6Jv77DSYUpQ', 'lXW6DxoAk6yXUG9DNB6adg', '5wm5MZ6KQF6yBRa67vVSZQ', 'SIBaomIYVvsMU0GTuqX4vQ', 'wERcL1KznuTgfltSKQt_jg', 'PMzXqeHOp3cZ1KAd_45MJQ', 'ekRk6Mvhuuk02GoGuXB5Yg', 'vPr-KsosYalg8ZPr4CwXlQ', 'cH6GzRVyFEaJQxvojJ8pbQ', 'Jbd1x8jj3EgOkQMZ3RImKw', '80Cft5LXrb8hDNOIdmscVg', '4uJXindoZlYPawRRJp4LZQ', '5phtJLYyWMYJP0LN8gkOnA', 'fKlr9qNoV37WQJwQ826POg', '6J16PG5AJPPglpK3Cyn7Ig', 'o53qYN7co-1hu5LgZmsP4w', 'ijIgdh2bRkBNJa_puVpBoQ', 'kHpXJ2vciumu2KhNHg0hYA', 'JCmyrBoNl2qfZ-f8I5RA3A', '9kRlPh_4e7IAbR_lA-8wjw', 'Y1-nbySEHec051ix7beSGw', 'XqMZRloiKtoTVOjnrXDeeA', 'GTw-6VmePjDclOl50VKvRg', 'pTZ4u-sEQr-yHq2Cl4EMEw', 'Oq_NXf50o4U-cTFWlVkyGQ', '3_NOo26lt3VArKiLcK17qQ', 'xWvvjmxm1nzzUxzJ4cCbBg', '8o2035AiV8egxfQIxR7dPA', 'PYzQkqlpv7ncEcolDWLGDw', 'YyvWg2ZqMmHu0h6w8gz9OQ', 'tnG4_L5bZiffTbaFru9EBg', 'I0b_i8mcTSxdQTbesbMbkA', '_S_nsQxbWI5hpSdR_71WPQ', 'viwKpVVaOhWur77Sh4L4cw', '366FaRQ1MWEHBhaEKTcriQ', 'mHcfv-cdbx1LtR3n3FoooA', '4fbH3Yr1D5r5-QD-HReDlg', 'UjIuMBv7yQXwKAYLFUxWqw', 'OQlZEPAxAzsNrC-tLi_5DQ', 'ZUz_qc4z8bTOGUoa644eQQ', 'Mc-28MJn3ZfvaX1A3NaKwA', 'VEe-_Yc1fbEtUjkACEjLpA', 'EdeCgDn9XfSulY0DmSwVCA', 'NFBybiHT2SSyMkhdxyXeIA', 'fYLCKglfKHjgzcOeo4ZDaw', 'IzuJGTqVB1YbU5jVHEl66Q', 'HxWDCU-kKido3ErM31msGQ', 'm3sXL7qrQYhYPKf3di8cuA', 'N5B7OBTyNGgwU_Y2fwNcyw', 'sZf_KrF9ZLC7z4jiLGgVOw', 'Hx1TGt8KZBPMk-YgVMwxsA', 'khAOr10a_lJbv7V8P5NWyA', 'uO7KbFyiMhhgFJNEDX_new', 'iYNR-5H4i9eaAGQgayaXaA', 'D2ljL5ejuqpa4f8fnZ1qjw', 'mmt4E7OEtuE98Eu0j-_bVA', 'ociVXyUzlpNZmnSQGVTStw', 'eHk_vZvIUdZPH-7-I-Oybw', 'WtTwQyjVMvmxCkSx27Vgtg', 'AYHRCHExEZ4kCd0sYUpeeQ', 'eonH3arYH-80eBcoCmoUhg', 'AOcBQ6FZAfeHX6P7JvwRcA', 'ETSHD1lX0xcd2qInwiXxzA', 'OeEYlfsgBwk1_IRvGQSsdQ', 'PfpRvMAESbC2bC8FUIMdNg', '7cK9uEV09iPmsTqOqmY3kQ', 'a4k5QEQ6ak4N2JiOZSl3eg', 'PYWsZ8SLjZLTZx54cVeU_w', '-bd4BQcl1ekgo7avaFngIw', 'pDNZEFFTcoEjsRtW9DC2mw', 'm0dOAvhS5G_pEQIrGC9AbA', 'XGOyiBZ67eaF11DXY-Xtyg', 'N7qer0hBB8ouQ6_NW_ojDg', 'n2ScOmBZkCC8_jBTNN9pbw', 'KkNMWtECxm8_XQZVRG6mKw', '1WMkREeVSBvXZ6QON44ucA', 'midS4e50ZmuOeGyNm3aoUg', 'M22zgFsTTQ_enDRKd47fEg', '116AVKourTNRaX_b_2ar_Q', 'UYNjeVKLZ-JCDHhYGIGGTw', 'Sxx0E2KvnNCSqlIhbD0l_g', '6W20fKnjqPTSU2irnSVmSQ', '7cZu3nlvlw9VSNh6cp9pag', 'DvI4mT9_mPAwiwk7ourmEA', 't3fpherOTOeSFVHIZ2Jnuw', 'kkCrPen_Mbr5WolRqZU5Yg', 'p3cBYY8Tov5TOaXV2aY-wA', '4taCjfBtzLvfmTxcZogrgQ', 'j4ouGADJ-kLSA-wlAxTyZg', '4j0WfdS_lHG9uSH7cd1PFg', 'v6hmyGUzShSswB3aeNE7bQ', '5nZVVPO_cYH9aQeClTP9zA', 'TIMCeRsXpIPAy4qPWjuzqA', 'PHdAUrqexe-BpJzVIdJ-Ww', 'eDqH7Gr6Pqo7adfZwfQetg', 'JrFjl81gD5EnaliOsHVz7w', 'nvS8QmE2kfGxtnvfxDCcjw', '16Q5ov8EqWXKbtghM7ymvw', 'Vw9u6qar1I2QlkQOV6KNVA', 'd28TmFBzazMaWHxV-R9c0A', 'Xwf022IffmZPq6V25iomDg', 'JkzqS4JDOpoHrj534rzvAA', '-2qfXy3hcWG0GEcE8QUKQw', 'c7lAaz-pW58i1h1rSlyqcw', 'w7ivcXcJYWOQ3Icq1xLBxQ', '1d6c6Q2j2jwVzBfX_dLHlg', 'C3VnuPP_flttZPokgU2mLw', 'j-JE8jELAHBbg6MKeAGanw', 'x6rtZF3nU_l61FNhmtgc_w', 'ZXSNzKI638WQ3x5iKgM-ug', 'tVyWCbcDqu7E__KBuLR0UQ', 'bFeRYpzZ81w4y-VazDWdBA', 'bczUjT7jrfU7rzuuVsUsCw', 'iQEb2vPjGLZH4Yk687mIHA', '4UHF1QZSjG3avCAc5ZGt_Q', 'jgENWQxDYqijUJ2gSxnXdA', '5eX4r2rrfNengRlXGLsbmw', 'UAcLxK1T-sAIPZ1JR7nOsw', '9RZZV1tPV6baIJXXTMpgYA', 'WKz2Jmmt1B_VbHlAbfQNzQ', '5h2DIYpfzc7KDTFg18uuew', 'wxRWW55QRUmwXvoVtsOefg', 't18QrgUT9BF30D6gxxbzlw', 'G4ASg6mSW739ru0eKs5Y5Q', 'iwzVhM5CirzkNS5wTxwZeA', 'qNs71Qs7fOGQ-Mod-8ZL1A', '4zXNTSHNR7tZkqdOcXgNNA', 'hE1mG_hzS4nlp4_UmHe-eA', 'Ytif5baie8HtNzxnRzaqEg', 'lC2hnEYBN_97HXDQnpGpZA', 'ibuFkg04Hc8MkRy6JRTY6A', 'G4Qec-LF1JCPEb3nrS3F9w', 'Pu8jqsoCB-ZXCZ9tkfrFHQ', 'P8IsTiHq5Hesa6UPL604ww', 'Ai-GviVpPlti74NtM8y9QQ', 'T_s4IcIJf5ZHyy8zC28UGw', 'XDoS2eETLrG53caNkchd3g', '8zN3nV0zbtE377_XhlvabA', 'pY8vU54-LTfC9KvwCR5yVQ', 'SY41K848TzGOt8noeOt8_g', 'H1Cen8kHTLKDgL94KYOZiQ', 'sfXm_MLu54GHiFVfgrWl8g', 'HSr8j9sRX69TE5qevlOPxA', 't5nyOtnEv455rShOS_g3RA', 'AE80fzfVnsyeHiiVhwSGMw', '9jivURdGBHoUBpy4_kR_gw', 'R9mey8o-d1tWt4CsXSXO2A', 'swX3Vj3dQsz1YlCRmwNQEQ', 'sCyyxkPmxbEPkyPY1LvvGQ', 'q8IZS8ZP_Wj4roaaxEovWQ', 'DgSIKs5i1wtM2ZO1RmdqNA', 'vAcY5_-czVxLCfSEu903JQ', 'dQtAC58AB8qpiDPs3FAoWQ', '_e3rChyednoh47n2cjGv2w', '6oJzbP6dqPYoaSuCNKaITw', 'VqBSNxY9nbGdUGZ5fnhudA', '4ZPsMEiCfCf1yd71rpmPKg', 'H2OOtYbFxIzHRKNAK9tqbw', 'H2IfmfB2Jj8283LY7G4aBg', '7WAfwPNbp_pUsIRUGfZegQ', '1_aWNbm6gEgV_Lme_lZ3NQ', 'GNOX8PWWmaeKO1_3UlTygg', 'DO3T3Vvpv6wA_vwRMt_hgw', '1baRq3IhkAQnJsYdZBST2w', 'Cfwd9CQWgze5lCaPf9xt8g', 'UzpzAUMVNQJykE70MqoEfQ', 'EC1pufZs8M-3Vzv75nE-Vg', 'NUhHkT1wfXsTLxt_tWwVXw', '16AtfpzlifcwWi3HSLIDzw', 'DgHXVoAZ4XzbcQMahuJCbw', 'm4KhJ-IRbrpXPEYDWxkQqA', 'bSbAq9ylam6RInhbm2aZKA', '3HZFPjyiMQ93vESx13fJhQ', 'quj11YViwxKmYIW-o7nEow', 'mVomtOMgBxbGvdPSaF2HjQ', 'JY9MHa3PdjIYp_D7E4GAIw', 'c5x6HWB8MTZvlTgabihaSw', 'X7Szd0p_DxLk6Dxx0NrzxA', 'CZx8modWTarvS2zkRHuKBg', 'KpgY70ENZ298nhjnuTasOA', 'ml916FaOdF870Jrk0ZQETA', '-NxFVegsDrKFQix-lNwmyQ', '-Sd4da8EMbsS5xKEK75yOA', 'Tvx_0sVkHK05ZuNx4nt1ng', 'zpmpuyj-BgOVGu0C4Z8zgg', '-vhMieXWbQzQ_RM-8zZvcg', 'gojqK2LbOCCQhGACXeTAsA', 'w0Tg08rY5jl6rycI0qT1NA', 'rjJm_KgfHmvo0pAmFe3Oww', 'CwTCfRUuJb6N-WbfZWflHQ', '2aONsfo6bi9BWR6-MF1g3A', 'J__5TVwnEtNNAWOndZtJig', '5BKP0DY4K79h9sd7THpeBw', 'wa8QgXQu1ZxwPgdRl9lYlg', 'b8spqCueLZKhuDvdeNzEdg', '_9vGmNrEcLWFOnUzeUdfag', 'FcVQPI-ulgIXJcl5580YeA', '55-DnfWgwI75ozYLnrB5kw', 'Ufx3fCH8iQ_34_WRfzxkJA', 'OTorVPuQve9nM7LKmkbCwg', 'VZPhSOMmruVJEgNnIxZTRQ', 'H_yoEB8N8CeABPuLMFWEzQ', 'eil9rqZ7-f0vYd56zNytkQ', 'w8cKyRlYVM44MrmwIjdgJQ', 'j-GL2_KWknRRNfTrh7Zgaw', 'zaeY8osE2LoqiW0ZJD6QMw', 'BcpifF2q7cyzxYq-8ebEWw', 'ph7AHCiuQPa1q-kFxt7V0g', 'igy-EDfo3OlJM0ko3UFHpQ', 'OMogRbncMoeMDgQU__F3VA', 'Av689kh7q6pyXMI4l2hd2Q', '44YFU284Z3KDEy25QyVoUw', 'qO6CWdRFfbOqDJ2UOulpaA', '63bHLJUomC22Xdm3IjgBtw', 'QLHY9a4w4Kx3SFQQ9_y-PA', 'wMOioy2KAoI2AnpbqwxdOg', 'lvzVuPBCjPDgJS8AmBpaDg', 'OSRlPIWxzXTYGA3ECBcY6A', 'CNgaSnkaUbnM5WM6xpJ8Mg', 'eYuUKFjbN5rteJTGF9Xe7Q', 'BxH_gbJN7HJhnSeqsHbydg', 'Ev-6GOZ0q3BHKK3HlUtx5A', 'M-lS6AzGfoVB76at4c0Z7A', 'To-Q2f-3DdYtrfBMd4iIpw', 'kPaqBMv4mU-N80Fzd8vU3A', '0Buxoc0cRqjpvkezo3bqog', 'S8jYh-eEtKcPpLg0HdpNIw', 'QMaaLfedGzNhHz6PZKAUkw', '8stEvxEJbz5PRHJlpqYlnA', 'rPwuhhK1toCroMixhIe-VQ', 'hxUxeY8DG9lhyjCVo_s-pw', 'NhkSBVWOyf6r60zqURDNqA', '5jWaMozd4Ffi9YGwCC3QQw', 'Dj8MfG5-UGbjp9GxaNnGxQ', 'Jr-bTnChd-aTzMxb42avHg', '6C_8Mh4lmLc_QEs3hHleBg', 'pou3BbKsIozfH50rxmnMew', '1F6imE4hNPEEcsb9VHRUoA', '7yIHC8KsR5OaE_7MgEBVhw', '9PkfORI3UkszCa9dgJ3zew', 'myw0csRck6XG4w5Z-EFyqg', 'v4YmJDtKzG2Dlh-vGB241w', 'vtnzIOaw9MNXYU193EWVfg', 'g_6gQKZxj9HHbTa1OaUtnQ', 'kKoHGtf6q9qmKFmB4iLBzw', 'KS5KePCURrez5QYuB0Hk7A', '8uWjN6PZK29_8ar1a1JUAw', '3xhIAIzNPhFAp24U3oCB1Q', 'OoU3pBErd1mXQxmEpcXhrQ', '2H2mj0pJtzAqWL2zJ4m3Jw', 'GmSoeD2ye8_Iwa8SsxS97g', 'f-8BKEVPqiqRaNNmhjAU8Q', 'SrsrKY0lbbHjB_ossW3YNA', 'QkhtomJ76_O8HnTnEQ8E-w', '47lZIUShHGesiZypN6y7Bw', 'VLZPqnPatkdsz-w9aTGFNA', '2GmGT-7QjowR1ihup3FbVA', '3mfOGv0puI7a4dU_iRXYxg', 'HEPrkKU49mePo8ZmYvO4Yw', 'gykgVwcTzqIf-zv9XWVHiA', 'YAODkC2s68TbF_kB9rFmMQ', 'NGrKLmpS5wXT1MNqk1lZsg', 'C6MG3vrloHF8h9PPvZNiJA', 'pt7p4klGicvPZe04mhhVGQ', 'wWhq9cKLCrZHcp-ezp-hPQ', '6t98--hqg8suYkm_37re8w', 'S37sKRRfkhFZRpxaYzWo_A', 'IJl9k66ubI9V0udM5ORtlg', 'r3Xx9Qk3xAMzYGIGFBcKpQ', 'M4a0gqJ4mhM6bUV_y-Gkcg', 'JS-v0cz1JB8ebMvi0y5IXg', 'qpEfzxwrr7lYZyXua594IQ', 'Jm0o88tqhL0VvrJ83IZAow', '4GNI7HWuzQkkPmPsgHxOtw', 'LzGhzxV-e8fQ-vNqLGLsuw', 'xD4rcgDRH6dVtAa8iPevlg', '6-VJLO3Phc8uenJaLH54Og', '4AcoF4VeKal1eOfyf3Qg-Q', 'E4japyqPsMiaNjD7R3NMSQ', 'OZQHKGTTC9H4Bjxo6sDfdw', 'p51t568ahZRzPsK6dFvSMQ', 'AkbfeCmcICFT9MAA8VcwgQ', 'BvAEwQmvhXgRutQ_7LJWfQ', 'hcpDtcyZ3bcKBgQeHkayvQ', 'fT6Uwl6abRQfiNgxre_qbg', '75CuAwTs4Mt05DDPr5IgAA', 'l8ewXyH88N5Y_BOPXKAQZw', '-VPbztwxZfQOnL6gar8Fvw', 'ytAsW7DYezxMMzqoO_-nIQ', 'eDIZLFUfBundx--8uu3CjA', 'n-m449doCYEPAb5ux3dmVg', 'CY-TarXhp1OIiOt1-gmCrQ', 'ajI-NWPHNswiDDTDEtliqg', '-ITj6Pu8Gdw8MmLf0XBEKQ', 'AsLqWQH86sie035iDtQPOA', 'XSHzNZSd0-ucMpk1E_sX3Q', 'wdCH53icp_R2jJDrCZk42g', 'gqR3oAfAD-jeNxmlJRQAuw', 'sINu0nClY2tr0WJULj444w', 'Eg5niduTCVnaIBzGmoLiVQ', '0xyqLvtr0Zbr4G-gML-QmQ', 'g0iS1O1ufyH6HmPb7fQ-Ig', 'jEjMfYBBFnhcuT1WU4Y-2A', '9HDI6A7i_vZ6pWMMqjrPaA', 'M8Gtdxk23L4ztJpb7hPw1w', 't61eGISz7qMOxEe7o3vwEw', 'gCy1IYvVXJszKRGGTwrM8A', 'fBmyj1okdO1p-GUzfQQohg', 'JiqOrVPK-Av_c5Nu5-Xqzg', '0QBFtNNj9RIggZGeivcbEg', 'pkEYhukWbbnvfhcx5B_qmg', 'PxxK4ixquiB8hrnT-sj0uQ', 'MAmijW4ooUzujkufYYLMeQ', '-Dnh48f029YNugtMKkkI-Q', '6IhssoagVtfNMnNjU71Q1A', 'TuUnmfo3rOCqPekT2fPMpg', 'QtcLnUHm_FJ2aJfjDHzNow', 'mjQRSQhWCL0Qwa671zPYCg', '3n9g3tGFG9dCuQyWfO4RiQ', 'nuGAd48mGzVLlJLPkST0BA', 'ZnYRKsvbH37XF-W63tDuLA', 'EnavS07qtZKKAezT5O2jRA', 'hWqbpp-Eg8VY26RttaqT0w', 'liW0jGb9O9g0Hgwce7XgVQ', 'DqFODQFzEacXRVxk2IeG0Q', 'egcYHY7nXSog504CdOI8-w', 'iOt7ebp4Zy-5YUjHL1rbmQ', 'EV1jAj7NFNmNIqOnwZ4Acw', 'qDCMUmZktIft-UQwuuP6yQ', 'iOR5mdeMaR36VbA76IGbMQ', 'NZ75J8fzTU4fbJKecWcEUA', 'KNbby8RsGgDnDTKPlgpLPA', 'JiNtFt02pLvjXkqxZL737Q', 'F8a5QmWONZwVPiOOPoxfiA', '5zRWlhkwYvikQlt73abWYg', '60_lsQJ8JEGfZeXcTgKn8Q', 'ZCzey5aPhd7jYIoHsUfjmQ', 'R4R7ttLXfKKWM0VEMoaW4w', 'E8pITzuX6OVHTYQlm7SQtw', 'a2ZBDIXmwBm7IWnXR6LK-g', 'lGf7jNmaHuWZTxpmHSf1iA', 'TcQW4DNawqXGACLawaieyg', 'Yl05MqCs9xRzrJFkGWLpgA', 'Z9Qw9C78qu3JC_qEcUh8aw', 'fZfaAPXwdahCuz-kgvt0xg', 'IwANarOOVt2s7LKEidXQEg', 'AXmG9gxDCBCruzP9CCpEkQ', 'sW93DGmIFtEoaIHmP2L6Kw', 'bCh7vrbbxSKx0mtZnOvQoQ', 'ZSONEY8fvrMHyK7vzK4yPA', 'KVLzCULHK08cuiNeQlATmA', 'iIBPfjz7X2CECtvUhUroag', 'IT0IODInyhKbG4a_ka71MQ', 'pM8czbYepXR2VJeKt9EAjQ', 'CQDJ2y9sLxc0HfwNO5R3Ew', 'ERM603jbIbNqX2c7Ww1Qiw', 'XOx4qMPPyo_mKhAzQ-uZkw', 'HaNUXh5nYR0r7FrbFJSHXw', '3y-xDOE1stHSFo9PBHfbog', '-kIscN8I29eXMPkvyyxmRQ', 'VuCZEIRXIh82TuKezSZKoA', 'bS0NXQ-rhEjdN0zG0KbLWg', 'UlK7QxD_pGsh2T1_Ubziyg', 'Bq6dxl4gDdDc3HNssSWgWg', 'W39H8GlLXXj6X8E6fgrQ-A', 'yY9XOQ1Baozl8HGK4mN76w', 'WBsHFsotj_z5IDRcCffulA', 'stELNI9yN8wsgWWt0Im_kw', 'XKyZl13UllDWJKM59qRIYg', 'kTW_loryGxw4wI8Tw64Bqw', 'GboED0r-cvfwdDWkiLTkbQ', '2jGdAERlSxIxgmGh9sYs-g', 'FogTa-wmjhVnJCoTiaxvZA', 'ao7eQKhopKM3gB7nJGioTA', 'wc79RHhGnm8gJnpVj6tA4g', 'rqqiD4e38JMyDAD4zrGZxA', 'Xj0O2l0bp633ebmG468aZw', 'tagZJMyvcvGkSac-UqrykQ', 'xD4bjFpAcvKOWh_inZvkWg', 't_bg7nSlatCs6O--CVCuQQ', 'oBWcHgBk7qVj33LUdQa-rg', 'lCJVMG5Ef3Y_1t0AX2voSw', 'yQ8BbqjcdNmmcWMJTOYmvQ', 'gFCCMOaqwDaTYHOfx6dm2A', 'rYuJd6T8JcNVfuyvmHmNJQ', 'Qx19UyKaOhTg0ndT3-qiNA', 'CtfCmOhJvpnTFcKm_MyQwA', 'oaaEXgQ3x51cXE3GTXrT1Q', 'V7AHAZGNg1b1CTSVr2-B7w', '2_5pixk-jQllDCR0W4hDXg', 'OY0-hYJ2q6WiAqhYnCZZ0w', 'DnXxWlLh6wy3jHpD-6IXxg', '_FXa_6j-6UDsxWo-KX7WvQ', 'uEUcekJzmouqIv3w36BCMQ', 'UbqsBfbUsl0FWAxDMu2cEQ', '1R6D0HVeg--AXRwbW3wo_A', 'HAcRdfqNaIu1Gujz08gCaQ', 'uufubBI9EcKwFW7x_o9j8w', 'MgHWbwuxxb_txhI3lK_bKg', 'okkUQMfVzwDARZp6qKrmkA', 'dM4yy45rYyc4nXAapnDOwQ', 'BTArsODyfpXqFxxXgJULsA', '5qGPZMCVTIn7FQHzz19Onw', 'GLVahCssTKPBY_06LzUGQA', 'Z5TU-NXb1MHLPgbcLe3bYA', 'Bv13-l4HTz-pt5kS22y9LQ', 'Upv3A5f9VVRaDSmU9M-KmQ', 'UZbbfcINqH4iTc417SgoYA', '_DWzEDXeEyg0VakA09vOTg', 'XJ2dT7pwmutxM4ceQnTVUg', 'pxv5jBUOgsg6Rf6Z88e4mg', 'NAZACW3LsoO6_yreSzkz2A', 'tUuKnJZiCmqfmnbIlBVZog', 'YV9kZtyM7naRHJZWslMG7w', 'MvKz-7CpBjlL-O7itzA_2A', 'DgxP_qdE0-OChQjiUGHC3Q', 'CXpehfN6ifLsm699RDywhg', 'yzak7NrnM0IgsVVjQzSXlQ', 'AoIqYDqqIk2pL5eS_abpCg', '2AVLEVL5n2Ju9c3WTTN-eA', '2G8YLx7J8du260jFNjIjZQ', 'FaDLsN7VzLmtZVl-6deqwQ', 'aJXQZLfSvSUviLjcsYyX7g', '7O_Xe6KJjt4WolX77OImJg', 'jxl1GXU0MI6DJSbh9907sg', 'IhGfmjCVXm-rA4UgOU00UA', 'q-zpdCg2DybrJ4rR0ic2XQ', 'qdHFUvFhZjvNie3cZiJb9w', 'EphJxfsA3cZh1SQLrBJkRA', 'jAas8FWuEPeBo6zaxnhiHQ', '3HwJ6-9KmYP1TammxZSO9g', 'oo-kGk1BEWpuDvSE4gfmgQ', 'Tl2fg_dHf-skxmFD_KXUKQ', 'IS-jwE9elsIZ0o1l3a1ILw', 'WiuGKJjIODYNsY9qT-XG9g', '5l9NSEbIqvKcyvApsmj4tg', 'teo01Ceud4v4BcaJcJ_67A', 'T4M_GZ9zA9dKqME5s7TzBg', '5diYVdX217HdekCV-2LiRA', 'hub8W7bCuG6EmoVLwcDzSQ', '3LMtnGWAFE-Y-jhUlDEq-Q', 'lGUJVBaRBV-tQ66rePslYg', 'w8NFFDomI_JFaTYGHzGsSQ', 'AD5_nFjcfIpVRpOTFqT00A', 'kwcuAxQTdxzlGY7z8CAPpQ', '2jx_SaBzvIdIwul4JoY9IA', 'pmOAOjeUVfnBf1sWM5GNPQ', 'hHT24jTMBtV3Af1QDerahg', '4NaYT5QRi6ZzqyG_1JPLfg', '-eoeNEsPZ5-Fookdtr8vBw', 'ko3OlU4MhJnWgRhGXnYoMg', '9g1GP5prqzQKw4zMpvkuQw', 'FzVJ7hLieHIhKgK2T3O6EQ', 'E_eZJP4DEj2euBT0VuO2tQ', 'ccuRU2f5HkXHKLPmbQ8XEA', 'rGhZ9iEWyVcb0D_ia4EpgQ', 'FpNnsxD37wBfLGk6rHAO1A', 'o9DYSlFm9pQwiurVs8U5ig', 'wWDNwNb6ygJorKujOuifhA', 'eSMmU_lSLk8o-pe1Z0ozww', 'LP_qCvggkvRuLaMS5W-G7Q', 'qcZvV6eWhOJ97LtArnk7SQ', 'GHs7grPeyVPwmiVKhhfMvg', 'I1RZII1OmmhF8d6tHDrlBg', 'YPjz8wGG1GhiWfI0sHgb9A', 'k_WVfZAKpjF6YflTFDzUIQ', '-inp099-1gsJF3KPaS-mbg', 'H7x9sZ0aXkI6zU1yy6NuEw', 'RSSq-gNzbSD_yWpdtxdMQQ', 'I8er1euxiCsUUJd42XEP0Q', 'oKWVVqPWVzq5s6nS4O8sEA', 'FxPU00s1t02gsSgNm57gyA', '2veF10Ye3c_B0l8xmHyhQQ', 'y3GPcx547BhFbdXcfFrdQA', '-CfFjcCcGGDM9MVH_d42RQ', 'Xy_jLP2AbHMRkxuFoD4kzw', 'o6_PGbG9qPKHKRk0LdBusA', 'YgVC9NdMji-VV05w7-E1DQ', '--ttCFj_csKJhxnaMRNuiw', 'TF9eVTIQm--1VIQcf9CU2w', 'Ejldt4p3QUVYJFz-0dbFuQ', 'DlnFfb2xoIDE2mgbnPGkYg', 'LGXZ3Pa9CimKkoqyfWtv-g', 'Iak9dFVLw37CLFzk2DPPrA', 'ukzz9hN_ygvNi71w7NsujQ', 'OoyQYSeYNyRVOmdO3tsxYA', 'Qtir1B_R9G_9uiINbr_wrw', '8h5C4aF_MIwlLBc9JtaD7Q', 'eHmlxL9Jme-CvuV5SqQVwA', 'E9yJ-dGaCuBV6fLF6MNkVg', 'NftDx7ER0iz2o8zP9jpkyA', 'WaBujxNpUKos0F9ByBQ65A', 'agtg-WGEmE46sZpvjOx1Mw', 'jG1jcAeDw0pZTHCNC5kw_w', 'fjTLDsIjr5uNQUjdJosEfg', 'tuIg103yDqCEcTk5J_h8ow', 'mFaW7Ud-4kZNs1mdiOX-Zg', 'fS9a8AGrcwWPf_9vfn5wPQ', 'R0KVWeN9xR-F6j4z5k9wXQ', '4m5pjrXEtlAfcsAAh9th9g', '19f_Hyq38r6ycACRw-JG6w', 'VrIskBdLuRxS0HsSimJOhA', '1hpafheVIWMm4n8cRpLM0Q', 'Cp-clhAJs3NJRwXpXk_saw', 'L1I7JZ4IMAPYTkkdSyEbsg', '3l54GTr8-E3XPbIxnF_sAA', 'aS6EofTMUaJOiMIXeCnyIg', 'qlhjaj5c6eSwqFnYizezCQ', 'GRQeDtlWc1LLbwMuxFESKw', 'LBAkHJJfCoDj9aa5sc0Mxw', 'OX6Zae0cz-J3f40yMDvf1w', 'XLGgliAown151yxQxAOOWw', 'Lk70TsLeGBYSXsnr5q-cXg', 'AT9lx0byNSPKTpCEvdLMRg', 'C8D_GU9cDDjbOJfCaGXxDQ', 'DSQNYvzwZqMsMYHjC0YV-A', 'B6y5vmAqT0apwgUSuQgz9A', '0mvmUHuGQL2kRRkX14CkTw', 'iBCMaNm_hv9IlCDa7AWPig', 'Edswiodxm2r7lW6ddPZreQ', 'Qgsc-8vEZqh9UHzu2mjUUw', 'NL-5n8YGz3AqZANLd6wvsA', '8ybZDBHM4-r_O2F7J8zz-w', 'miljIfPlKimRv5ds7pMMtg', 'GyVQmBDD63ARsr6op0_Rig', 'OT3RrmI-HNqKo8P6ahCaZA', '1zkRozedrepwlAHK9KS6PQ', '-oSII3bw90cvyLmgsHgmpg', 'zcCEjj_IjSBkLq1UPLizww', 'VB9qkY2XKPlXRanyp4YJtw', 'rDWca586GLNzf_x2brlHYQ', 'c0exbGNQvCDJZLorPeYY7Q', 'EU2NuOU_Lc6S1SgdhpNZ8g', 'P284CFD8Z1MZruMQyjEJnw', 'lWwlPEbkR-yUt057Oc_wjA', 'B611UQ8utColarHTW29vDQ', '0MEPdoC5XcphVxesfCnmPg', 'RzgGm4s4hw6gRmg064nAFw', 'JQRXbJ0Z9mvgu8OF4L5GbQ', 'hI7LDDh6GIgh9Y_T73hDwA', 'jCY_nUGmElQsERJsovVEDQ', 'w-BFOwYmhQfp1ItoNM4ogw', 'LBnRV9n-fR9Vd3OcHOYXFg', 'PNPACQjbVTQL5l-b18vXEA', '6CP6hEn7YQeEuowKcRnoaA', 'Xj84gtoPSNv1C_JAfbyW6g', 'y9ZhenRSG_CsIjuMlyhuCQ', 'NzB6gU_r4bFek0iKWvdNEQ', 'QMZhObocnRnQXHFok-4jWQ', 'ZcwLnR_VGfgLmuJ_7tnAjQ', 'JSG_FhQyK1Psg0nDtklt7A', 'xQybo8lNKT-_86LP5G0WUQ', 'NXstUH8IPeci_8KKxRJ8tQ', 'L3IOpl6SO5nVkQOiT1-_hg', 'kQC8c5iBWrQ4s2iZKqHraQ', 'xWSh5HbQ6qANX2ITTBXJiA', 'VOh-vGJlUJnaAb3tgPreQg', '-oKpcbPXwRW6OZeZc84JxQ', 'oUJXPurI_LFTZhRCZcRNcg', 'w8i7Ge5YCdHr6aqCD-y5uw', 'LG-FOXQL0zUcRQuqkhq-Zg', 'JT3A6T_7whMToRxTmy0Zrw', '9VLv4NZCIpX2JBTfAV-vSA', '1g9ZG4x82MoFgs87B1nrlw', 'PrwXfYk-EZpiw5aehyBzzg', 'JQtbpbrZjxPZC8j5MgMGzQ', 'n3QBi5tyepG9B0EMVSS8Eg', 'uRV8o0qdmzNr4AVN-3BgDQ', 'zbrFk-4ejesAJD8EwcdHxg', 'CUMaqXDakJeMTkUjpI8FxA', 'GUl5nbc3G_oC5gLw1ioCAA', 'edFXHf-eCLhVA3AHbENOYg', 'I7sKHO0zbp3Qf3rU6lnNkQ', '2OtKt_7AZkfPXioU317R7g', 'ikTlMObBu3aI4xNmE9X4mA', '3zvUuyWZgwkP4wivcSZ-6w', '8kPI0A8t4ZAkmfV8wMMlig', '6nvtwu0Zf_8U-dKmzzTKLg', 'WfLSfwsw6iuXxpm4U6nVZQ', 'FUu-XrtZYDpLiL4wuVzNaQ', 'TvVl0npJ4HaAAUN165FjOA', 'EhtkBlyI5tT4OnrglONgmw', 'i4oedRhY3yfeA5yg2YjpQQ', '29umLuZ1gHdIDg5BdNSnEg'])\n",
      "set(['2zqSXXGVGmTWZ86mAq-69w', '5mMelXvzDS7dTzLOa14TdA'])\n",
      "set(['46wwNRiBGIAJuPlk8TOP_g', 'skQ-HIR664Ivp2-A4kOfnA'])\n",
      "set(['IXUoO2QcFergBHdR4wPf9g', 'o_4NBrBts2WcTelOEajOMA'])\n",
      "set(['d5GfHugs2pUN1KA7EQR2Mw', 'WK0hq9797ZlTUFYidPNnqw'])\n",
      "set(['W0ZNXoa93cjnKphZ1C2mpA', 'sqfOkWTB6D2hmZkxr3FzSg'])\n",
      "set(['BInTUTyqlqZz2eYEbQuGKQ', '1HvleSOY1dn7KtHPv2xCTQ', 'eqav5CqqFPgqEjCTUVH_nQ', 'zG4sdiMWE7CZAsfrM4j6GA', 'VLDFjeqpUgWhnVuB_8GuEg'])\n",
      "set(['hlE_n9e48MO5wYhAFGg4Kg', 'U7ao7nZmmM1ranEONC3hgg'])\n",
      "set(['MhnihE0alud0ereVInSt8Q', 'Muuk7TjVG_-pek8VzJc0NA'])\n",
      "set(['OUSHMxGGyGXpah3qVPyBdw', 'CM-Ek0aj6r1x7M1MJP-iCw'])\n",
      "set(['KC_xSxWjWUVEznSX8ObaRw', 'sF_cT9_jMwWJsb5z2KXPHQ'])\n",
      "set(['bTRftYtmCvCYrek8UAIcVA', 'EvkFWt1SH8n435WtNpnaVA'])\n",
      "set(['VO-p1uczeMbzH8bEAv-RgA', 'fn7gU92_4FWDMcZZMgXN_w'])\n",
      "set(['O3fzOdRgcd5UFjymimyJjQ', 't69jIYaNIBTaINev54J94A'])\n",
      "set(['lqCJiHlxzRpuYt-u_XQUvg', 'O1PIjD8-wtHkTIhof-1sIw'])\n",
      "set(['fPU1NHyQT-jqLvam_wqslw', 'BngaEGNRonNnd-Q9PiSjPw'])\n"
     ]
    }
   ],
   "source": [
    "comp = nx.algorithms.community.centrality.girvan_newman(G)\n",
    "#to view the community\n",
    "\n",
    "for c in next(comp):\n",
    "    print(c)"
   ]
  },
  {
   "cell_type": "code",
   "execution_count": 71,
   "metadata": {},
   "outputs": [
    {
     "name": "stdout",
     "output_type": "stream",
     "text": [
      "number of communities20\n",
      "{0: 1167, 1: 2, 2: 7, 3: 2, 4: 2, 5: 3, 6: 2, 7: 3, 8: 2, 9: 5, 10: 5, 11: 2, 12: 2, 13: 2, 14: 2, 15: 2, 16: 2, 17: 2, 18: 2, 19: 2}\n"
     ]
    }
   ],
   "source": [
    "cnt=0\n",
    "d={}\n",
    "for c in next(comp):\n",
    "    #print(c)\n",
    "    d[cnt]=len(c)\n",
    "    #print(len(c))\n",
    "    #print(\"\\n\")\n",
    "    cnt+=1\n",
    "print(\"number of communities\"+str(cnt))    \n",
    "print(d)\n",
    "    "
   ]
  },
  {
   "cell_type": "code",
   "execution_count": 72,
   "metadata": {},
   "outputs": [],
   "source": [
    "G = nx.from_pandas_edgelist(data, \"user1\", \"user2\")"
   ]
  },
  {
   "cell_type": "code",
   "execution_count": 73,
   "metadata": {},
   "outputs": [
    {
     "data": {
      "image/png": "[encoded data removed]",
      "text/plain": [
       "<Figure size 432x288 with 1 Axes>"
      ]
     },
     "metadata": {},
     "output_type": "display_data"
    }
   ],
   "source": [
    "nx.draw(G)\n",
    "plt.show()"
   ]
  },
  {
   "cell_type": "code",
   "execution_count": 74,
   "metadata": {},
   "outputs": [],
   "source": [
    "comp = nx.algorithms.community.centrality.girvan_newman(G)"
   ]
  },
  {
   "cell_type": "code",
   "execution_count": 1,
   "metadata": {},
   "outputs": [],
   "source": [
    "#For the entire 40k user dataset"
   ]
  },
  {
   "cell_type": "code",
   "execution_count": 2,
   "metadata": {},
   "outputs": [],
   "source": [
    "import pandas as pd\n",
    "import matplotlib.pyplot as plt\n",
    "import networkx as nx\n",
    "from networkx import edge_betweenness_centrality as betweenness"
   ]
  },
  {
   "cell_type": "code",
   "execution_count": 18,
   "metadata": {},
   "outputs": [],
   "source": [
    "data = pd.read_csv(\"/Users/apple/Desktop/DataMining/project/user_user_pearson_40k.csv\", sep='\\s+',names = [\"user1\", \"user2\", \"pearson_similarity\"]) "
   ]
  },
  {
   "cell_type": "code",
   "execution_count": 19,
   "metadata": {},
   "outputs": [
    {
     "data": {
      "text/html": [
       "<div>\n",
       "<style scoped>\n",
       "    .dataframe tbody tr th:only-of-type {\n",
       "        vertical-align: middle;\n",
       "    }\n",
       "\n",
       "    .dataframe tbody tr th {\n",
       "        vertical-align: top;\n",
       "    }\n",
       "\n",
       "    .dataframe thead th {\n",
       "        text-align: right;\n",
       "    }\n",
       "</style>\n",
       "<table border=\"1\" class=\"dataframe\">\n",
       "  <thead>\n",
       "    <tr style=\"text-align: right;\">\n",
       "      <th></th>\n",
       "      <th>user1</th>\n",
       "      <th>user2</th>\n",
       "      <th>pearson_similarity</th>\n",
       "    </tr>\n",
       "  </thead>\n",
       "  <tbody>\n",
       "    <tr>\n",
       "      <th>0</th>\n",
       "      <td>user1</td>\n",
       "      <td>user2</td>\n",
       "      <td>0.000000</td>\n",
       "    </tr>\n",
       "    <tr>\n",
       "      <th>1</th>\n",
       "      <td>_-COrcfb061akiNl9uCxzA</td>\n",
       "      <td>ijIgdh2bRkBNJa_puVpBoQ</td>\n",
       "      <td>-0.707107</td>\n",
       "    </tr>\n",
       "    <tr>\n",
       "      <th>2</th>\n",
       "      <td>OhZCZ40TBkaN2ssY2lKGFQ</td>\n",
       "      <td>s8zbUEaXHkfDk_URBAIauA</td>\n",
       "      <td>0.894427</td>\n",
       "    </tr>\n",
       "    <tr>\n",
       "      <th>3</th>\n",
       "      <td>VKEy2rsHMS9w0dx7zgp1sg</td>\n",
       "      <td>U2ZwdiUSZlK4PAhcQugLgA</td>\n",
       "      <td>0.894427</td>\n",
       "    </tr>\n",
       "    <tr>\n",
       "      <th>4</th>\n",
       "      <td>VKEy2rsHMS9w0dx7zgp1sg</td>\n",
       "      <td>VZKasnB7CiPwrwjBGfSJlg</td>\n",
       "      <td>-0.080582</td>\n",
       "    </tr>\n",
       "    <tr>\n",
       "      <th>5</th>\n",
       "      <td>VKEy2rsHMS9w0dx7zgp1sg</td>\n",
       "      <td>N5B7OBTyNGgwU_Y2fwNcyw</td>\n",
       "      <td>-0.816497</td>\n",
       "    </tr>\n",
       "    <tr>\n",
       "      <th>6</th>\n",
       "      <td>VKEy2rsHMS9w0dx7zgp1sg</td>\n",
       "      <td>CLwwfGV6SJ50fl3ZCK6C3g</td>\n",
       "      <td>-0.316228</td>\n",
       "    </tr>\n",
       "    <tr>\n",
       "      <th>7</th>\n",
       "      <td>VKEy2rsHMS9w0dx7zgp1sg</td>\n",
       "      <td>Y1-nbySEHec051ix7beSGw</td>\n",
       "      <td>0.426401</td>\n",
       "    </tr>\n",
       "    <tr>\n",
       "      <th>8</th>\n",
       "      <td>VKEy2rsHMS9w0dx7zgp1sg</td>\n",
       "      <td>fPRMjWUHLnNeL4xjrMV9CQ</td>\n",
       "      <td>-0.707107</td>\n",
       "    </tr>\n",
       "    <tr>\n",
       "      <th>9</th>\n",
       "      <td>VKEy2rsHMS9w0dx7zgp1sg</td>\n",
       "      <td>YKy08OxfF3I4x5WQy7lwZg</td>\n",
       "      <td>0.763763</td>\n",
       "    </tr>\n",
       "  </tbody>\n",
       "</table>\n",
       "</div>"
      ],
      "text/plain": [
       "                    user1                   user2  pearson_similarity\n",
       "0                   user1                   user2            0.000000\n",
       "1  _-COrcfb061akiNl9uCxzA  ijIgdh2bRkBNJa_puVpBoQ           -0.707107\n",
       "2  OhZCZ40TBkaN2ssY2lKGFQ  s8zbUEaXHkfDk_URBAIauA            0.894427\n",
       "3  VKEy2rsHMS9w0dx7zgp1sg  U2ZwdiUSZlK4PAhcQugLgA            0.894427\n",
       "4  VKEy2rsHMS9w0dx7zgp1sg  VZKasnB7CiPwrwjBGfSJlg           -0.080582\n",
       "5  VKEy2rsHMS9w0dx7zgp1sg  N5B7OBTyNGgwU_Y2fwNcyw           -0.816497\n",
       "6  VKEy2rsHMS9w0dx7zgp1sg  CLwwfGV6SJ50fl3ZCK6C3g           -0.316228\n",
       "7  VKEy2rsHMS9w0dx7zgp1sg  Y1-nbySEHec051ix7beSGw            0.426401\n",
       "8  VKEy2rsHMS9w0dx7zgp1sg  fPRMjWUHLnNeL4xjrMV9CQ           -0.707107\n",
       "9  VKEy2rsHMS9w0dx7zgp1sg  YKy08OxfF3I4x5WQy7lwZg            0.763763"
      ]
     },
     "execution_count": 19,
     "metadata": {},
     "output_type": "execute_result"
    }
   ],
   "source": [
    "data.head(10)"
   ]
  },
  {
   "cell_type": "code",
   "execution_count": 20,
   "metadata": {},
   "outputs": [
    {
     "data": {
      "text/plain": [
       "user1                 9227\n",
       "user2                 9227\n",
       "pearson_similarity    9227\n",
       "dtype: int64"
      ]
     },
     "execution_count": 20,
     "metadata": {},
     "output_type": "execute_result"
    }
   ],
   "source": [
    "data.count()"
   ]
  },
  {
   "cell_type": "code",
   "execution_count": 21,
   "metadata": {},
   "outputs": [],
   "source": [
    "data = data.drop(0, axis=0)"
   ]
  },
  {
   "cell_type": "code",
   "execution_count": 22,
   "metadata": {},
   "outputs": [
    {
     "data": {
      "text/html": [
       "<div>\n",
       "<style scoped>\n",
       "    .dataframe tbody tr th:only-of-type {\n",
       "        vertical-align: middle;\n",
       "    }\n",
       "\n",
       "    .dataframe tbody tr th {\n",
       "        vertical-align: top;\n",
       "    }\n",
       "\n",
       "    .dataframe thead th {\n",
       "        text-align: right;\n",
       "    }\n",
       "</style>\n",
       "<table border=\"1\" class=\"dataframe\">\n",
       "  <thead>\n",
       "    <tr style=\"text-align: right;\">\n",
       "      <th></th>\n",
       "      <th>user1</th>\n",
       "      <th>user2</th>\n",
       "      <th>pearson_similarity</th>\n",
       "    </tr>\n",
       "  </thead>\n",
       "  <tbody>\n",
       "    <tr>\n",
       "      <th>1</th>\n",
       "      <td>_-COrcfb061akiNl9uCxzA</td>\n",
       "      <td>ijIgdh2bRkBNJa_puVpBoQ</td>\n",
       "      <td>-7.071068e-01</td>\n",
       "    </tr>\n",
       "    <tr>\n",
       "      <th>2</th>\n",
       "      <td>OhZCZ40TBkaN2ssY2lKGFQ</td>\n",
       "      <td>s8zbUEaXHkfDk_URBAIauA</td>\n",
       "      <td>8.944272e-01</td>\n",
       "    </tr>\n",
       "    <tr>\n",
       "      <th>3</th>\n",
       "      <td>VKEy2rsHMS9w0dx7zgp1sg</td>\n",
       "      <td>U2ZwdiUSZlK4PAhcQugLgA</td>\n",
       "      <td>8.944272e-01</td>\n",
       "    </tr>\n",
       "    <tr>\n",
       "      <th>4</th>\n",
       "      <td>VKEy2rsHMS9w0dx7zgp1sg</td>\n",
       "      <td>VZKasnB7CiPwrwjBGfSJlg</td>\n",
       "      <td>-8.058230e-02</td>\n",
       "    </tr>\n",
       "    <tr>\n",
       "      <th>5</th>\n",
       "      <td>VKEy2rsHMS9w0dx7zgp1sg</td>\n",
       "      <td>N5B7OBTyNGgwU_Y2fwNcyw</td>\n",
       "      <td>-8.164966e-01</td>\n",
       "    </tr>\n",
       "    <tr>\n",
       "      <th>6</th>\n",
       "      <td>VKEy2rsHMS9w0dx7zgp1sg</td>\n",
       "      <td>CLwwfGV6SJ50fl3ZCK6C3g</td>\n",
       "      <td>-3.162278e-01</td>\n",
       "    </tr>\n",
       "    <tr>\n",
       "      <th>7</th>\n",
       "      <td>VKEy2rsHMS9w0dx7zgp1sg</td>\n",
       "      <td>Y1-nbySEHec051ix7beSGw</td>\n",
       "      <td>4.264014e-01</td>\n",
       "    </tr>\n",
       "    <tr>\n",
       "      <th>8</th>\n",
       "      <td>VKEy2rsHMS9w0dx7zgp1sg</td>\n",
       "      <td>fPRMjWUHLnNeL4xjrMV9CQ</td>\n",
       "      <td>-7.071068e-01</td>\n",
       "    </tr>\n",
       "    <tr>\n",
       "      <th>9</th>\n",
       "      <td>VKEy2rsHMS9w0dx7zgp1sg</td>\n",
       "      <td>YKy08OxfF3I4x5WQy7lwZg</td>\n",
       "      <td>7.637626e-01</td>\n",
       "    </tr>\n",
       "    <tr>\n",
       "      <th>10</th>\n",
       "      <td>VKEy2rsHMS9w0dx7zgp1sg</td>\n",
       "      <td>YgVC9NdMji-VV05w7-E1DQ</td>\n",
       "      <td>-2.943923e-16</td>\n",
       "    </tr>\n",
       "  </tbody>\n",
       "</table>\n",
       "</div>"
      ],
      "text/plain": [
       "                     user1                   user2  pearson_similarity\n",
       "1   _-COrcfb061akiNl9uCxzA  ijIgdh2bRkBNJa_puVpBoQ       -7.071068e-01\n",
       "2   OhZCZ40TBkaN2ssY2lKGFQ  s8zbUEaXHkfDk_URBAIauA        8.944272e-01\n",
       "3   VKEy2rsHMS9w0dx7zgp1sg  U2ZwdiUSZlK4PAhcQugLgA        8.944272e-01\n",
       "4   VKEy2rsHMS9w0dx7zgp1sg  VZKasnB7CiPwrwjBGfSJlg       -8.058230e-02\n",
       "5   VKEy2rsHMS9w0dx7zgp1sg  N5B7OBTyNGgwU_Y2fwNcyw       -8.164966e-01\n",
       "6   VKEy2rsHMS9w0dx7zgp1sg  CLwwfGV6SJ50fl3ZCK6C3g       -3.162278e-01\n",
       "7   VKEy2rsHMS9w0dx7zgp1sg  Y1-nbySEHec051ix7beSGw        4.264014e-01\n",
       "8   VKEy2rsHMS9w0dx7zgp1sg  fPRMjWUHLnNeL4xjrMV9CQ       -7.071068e-01\n",
       "9   VKEy2rsHMS9w0dx7zgp1sg  YKy08OxfF3I4x5WQy7lwZg        7.637626e-01\n",
       "10  VKEy2rsHMS9w0dx7zgp1sg  YgVC9NdMji-VV05w7-E1DQ       -2.943923e-16"
      ]
     },
     "execution_count": 22,
     "metadata": {},
     "output_type": "execute_result"
    }
   ],
   "source": [
    "data.head(10)"
   ]
  },
  {
   "cell_type": "code",
   "execution_count": 23,
   "metadata": {},
   "outputs": [
    {
     "data": {
      "text/plain": [
       "count    9226.000000\n",
       "mean        0.101862\n",
       "std         0.631072\n",
       "min        -1.000000\n",
       "25%        -0.447214\n",
       "50%         0.181108\n",
       "75%         0.686622\n",
       "max         1.000000\n",
       "Name: pearson_similarity, dtype: float64"
      ]
     },
     "execution_count": 23,
     "metadata": {},
     "output_type": "execute_result"
    }
   ],
   "source": [
    "data['pearson_similarity'].describe()"
   ]
  },
  {
   "cell_type": "code",
   "execution_count": 24,
   "metadata": {},
   "outputs": [
    {
     "data": {
      "image/png": "[encoded data removed]",
      "text/plain": [
       "<Figure size 432x288 with 1 Axes>"
      ]
     },
     "metadata": {
      "needs_background": "light"
     },
     "output_type": "display_data"
    }
   ],
   "source": [
    "data[\"pearson_similarity\"].value_counts().plot.pie()\n",
    "plt.gca().set_aspect(\"equal\")\n"
   ]
  },
  {
   "cell_type": "code",
   "execution_count": 25,
   "metadata": {},
   "outputs": [
    {
     "data": {
      "image/png": "[encoded data removed]",
      "text/plain": [
       "<Figure size 432x288 with 1 Axes>"
      ]
     },
     "metadata": {
      "needs_background": "light"
     },
     "output_type": "display_data"
    }
   ],
   "source": [
    "boxplot = data.boxplot(column=['pearson_similarity'])"
   ]
  },
  {
   "cell_type": "code",
   "execution_count": 26,
   "metadata": {},
   "outputs": [],
   "source": [
    "data = data[data.pearson_similarity > 0.5]\n"
   ]
  },
  {
   "cell_type": "code",
   "execution_count": 27,
   "metadata": {},
   "outputs": [
    {
     "data": {
      "text/plain": [
       "user1                 2853\n",
       "user2                 2853\n",
       "pearson_similarity    2853\n",
       "dtype: int64"
      ]
     },
     "execution_count": 27,
     "metadata": {},
     "output_type": "execute_result"
    }
   ],
   "source": [
    "data.count()"
   ]
  },
  {
   "cell_type": "code",
   "execution_count": 28,
   "metadata": {},
   "outputs": [],
   "source": [
    "G = nx.from_pandas_edgelist(data, \"user1\", \"user2\", [\"pearson_similarity\"])"
   ]
  },
  {
   "cell_type": "code",
   "execution_count": 29,
   "metadata": {},
   "outputs": [
    {
     "data": {
      "image/png": "[encoded data removed]",
      "text/plain": [
       "<Figure size 432x288 with 1 Axes>"
      ]
     },
     "metadata": {},
     "output_type": "display_data"
    }
   ],
   "source": [
    "nx.draw(G)\n",
    "plt.show()"
   ]
  },
  {
   "cell_type": "code",
   "execution_count": 17,
   "metadata": {},
   "outputs": [
    {
     "data": {
      "image/png": "[encoded data removed]",
      "text/plain": [
       "<Figure size 432x288 with 1 Axes>"
      ]
     },
     "metadata": {
      "needs_background": "light"
     },
     "output_type": "display_data"
    }
   ],
   "source": [
    "boxplot = data.boxplot(column=['pearson_similarity'])"
   ]
  },
  {
   "cell_type": "code",
   "execution_count": 34,
   "metadata": {},
   "outputs": [
    {
     "data": {
      "text/plain": [
       "0.00237655927861888"
      ]
     },
     "execution_count": 34,
     "metadata": {},
     "output_type": "execute_result"
    }
   ],
   "source": [
    "#density of the graph\n",
    "nx.classes.function.density(G)"
   ]
  },
  {
   "cell_type": "code",
   "execution_count": 35,
   "metadata": {},
   "outputs": [],
   "source": [
    "comp = nx.algorithms.community.centrality.girvan_newman(G)"
   ]
  },
  {
   "cell_type": "code",
   "execution_count": 36,
   "metadata": {},
   "outputs": [
    {
     "name": "stdout",
     "output_type": "stream",
     "text": [
      "number of communities48\n",
      "{0: 1449, 1: 5, 2: 2, 3: 2, 4: 2, 5: 2, 6: 2, 7: 2, 8: 2, 9: 2, 10: 2, 11: 2, 12: 2, 13: 2, 14: 2, 15: 2, 16: 2, 17: 2, 18: 2, 19: 2, 20: 2, 21: 2, 22: 2, 23: 2, 24: 3, 25: 2, 26: 2, 27: 2, 28: 2, 29: 2, 30: 2, 31: 2, 32: 3, 33: 2, 34: 2, 35: 2, 36: 2, 37: 2, 38: 2, 39: 2, 40: 2, 41: 2, 42: 3, 43: 2, 44: 2, 45: 2, 46: 3, 47: 2}\n"
     ]
    }
   ],
   "source": [
    "cnt=0\n",
    "d={}\n",
    "for c in next(comp):\n",
    "    #print(c)\n",
    "    d[cnt]=len(c)\n",
    "    #print(len(c))\n",
    "    #print(\"\\n\")\n",
    "    cnt+=1\n",
    "print(\"number of communities\"+str(cnt))    \n",
    "print(d)\n",
    "    "
   ]
  },
  {
   "cell_type": "code",
   "execution_count": null,
   "metadata": {},
   "outputs": [],
   "source": []
  }
 ],
 "metadata": {
  "kernelspec": {
   "display_name": "Python 2",
   "language": "python",
   "name": "python2"
  },
  "language_info": {
   "codemirror_mode": {
    "name": "ipython",
    "version": 2
   },
   "file_extension": ".py",
   "mimetype": "text/x-python",
   "name": "python",
   "nbconvert_exporter": "python",
   "pygments_lexer": "ipython2",
   "version": "2.7.15"
  }
 },
 "nbformat": 4,
 "nbformat_minor": 2
}
