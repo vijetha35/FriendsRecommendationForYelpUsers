{
 "cells": [
  {
   "cell_type": "code",
   "execution_count": 1,
   "metadata": {},
   "outputs": [],
   "source": [
    "import pyspark\n",
    "from pyspark.sql import SQLContext\n",
    "from pyspark.sql.functions import col, split\n",
    "\n",
    "sc = pyspark.SparkContext('local[*]')\n",
    "\n",
    "sqlContext = SQLContext(sc)\n"
   ]
  },
  {
   "cell_type": "code",
   "execution_count": 2,
   "metadata": {},
   "outputs": [
    {
     "data": {
      "text/plain": [
       "['user_id',\n",
       " 'average_stars',\n",
       " 'compliment_cool',\n",
       " 'compliment_cute',\n",
       " 'compliment_funny',\n",
       " 'compliment_hot',\n",
       " 'compliment_list',\n",
       " 'compliment_more',\n",
       " 'compliment_note',\n",
       " 'compliment_photos',\n",
       " 'compliment_plain',\n",
       " 'compliment_profile',\n",
       " 'compliment_writer',\n",
       " 'cool',\n",
       " 'fans',\n",
       " 'funny',\n",
       " 'review_count',\n",
       " 'useful',\n",
       " 'yelping_since_years',\n",
       " 'friends_count',\n",
       " 'elite_count']"
      ]
     },
     "execution_count": 2,
     "metadata": {},
     "output_type": "execute_result"
    }
   ],
   "source": [
    "df = sqlContext.read.format('com.databricks.spark.csv').options(header='true', inferschema='true').load('/Users/monisha/Desktop/Arizona_10users.csv')\n",
    "df.columns"
   ]
  },
  {
   "cell_type": "code",
   "execution_count": 16,
   "metadata": {},
   "outputs": [
    {
     "data": {
      "text/plain": [
       "15"
      ]
     },
     "execution_count": 16,
     "metadata": {},
     "output_type": "execute_result"
    }
   ],
   "source": [
    "df.count()"
   ]
  },
  {
   "cell_type": "code",
   "execution_count": 22,
   "metadata": {},
   "outputs": [
    {
     "name": "stdout",
     "output_type": "stream",
     "text": [
      "+-------+------------------+------------------+-----------------+------------------+------------------+\n",
      "|summary|     average_stars|   compliment_cool|  compliment_cute|  compliment_funny|    compliment_hot|\n",
      "+-------+------------------+------------------+-----------------+------------------+------------------+\n",
      "|  count|                15|                15|               15|                15|                15|\n",
      "|   mean|3.7213333333333334|105.06666666666666|6.733333333333333|105.06666666666666|63.266666666666666|\n",
      "| stddev|0.9597162279003301| 401.9538826899472|26.07808786446327| 401.9538826899472| 243.0977071839536|\n",
      "|    min|              2.29|                 0|                0|                 0|                 0|\n",
      "|    max|               5.0|              1558|              101|              1558|               942|\n",
      "+-------+------------------+------------------+-----------------+------------------+------------------+\n",
      "\n"
     ]
    }
   ],
   "source": [
    "df['average_stars','compliment_cool','compliment_cute','compliment_funny','compliment_hot'].describe().show()"
   ]
  },
  {
   "cell_type": "code",
   "execution_count": 23,
   "metadata": {},
   "outputs": [
    {
     "name": "stdout",
     "output_type": "stream",
     "text": [
      "+-------+------------------+-----------------+------------------+------------------+------------------+\n",
      "|summary|   compliment_list|  compliment_more|   compliment_note| compliment_photos|  compliment_plain|\n",
      "+-------+------------------+-----------------+------------------+------------------+------------------+\n",
      "|  count|                15|               15|                15|                15|                15|\n",
      "|   mean| 7.533333333333333|              7.4|              56.4| 75.13333333333334| 53.53333333333333|\n",
      "| stddev|29.176474541429208|27.04440792474481|213.75981180487867|289.60881662454034|201.83687425622654|\n",
      "|    min|                 0|                0|                 0|                 0|                 0|\n",
      "|    max|               113|              105|               829|              1122|               783|\n",
      "+-------+------------------+-----------------+------------------+------------------+------------------+\n",
      "\n"
     ]
    }
   ],
   "source": [
    "df['compliment_list','compliment_more','compliment_note','compliment_photos','compliment_plain'].describe().show()"
   ]
  },
  {
   "cell_type": "code",
   "execution_count": 25,
   "metadata": {},
   "outputs": [
    {
     "name": "stdout",
     "output_type": "stream",
     "text": [
      "+-------+------------------+------------------+---------------+------------------+------------------+\n",
      "|summary|compliment_profile| compliment_writer|           cool|              fans|             funny|\n",
      "+-------+------------------+------------------+---------------+------------------+------------------+\n",
      "|  count|                15|                15|             15|                15|                15|\n",
      "|   mean|               7.2| 42.93333333333333|          388.4|              45.6|             390.2|\n",
      "| stddev| 27.33704968928223|163.26160718598962|1488.7894315277|170.01756211806895|1500.7336396385795|\n",
      "|    min|                 0|                 0|              0|                 0|                 0|\n",
      "|    max|               106|               633|           5770|               660|              5815|\n",
      "+-------+------------------+------------------+---------------+------------------+------------------+\n",
      "\n"
     ]
    }
   ],
   "source": [
    "df['compliment_profile','compliment_writer','cool','fans','funny'].describe().show()"
   ]
  },
  {
   "cell_type": "code",
   "execution_count": 33,
   "metadata": {},
   "outputs": [
    {
     "name": "stdout",
     "output_type": "stream",
     "text": [
      "+-------+------------------+-----------------+-------------------+-----------------+------------------+\n",
      "|summary|      review_count|           useful|yelping_since_years|    friends_count|       elite_count|\n",
      "+-------+------------------+-----------------+-------------------+-----------------+------------------+\n",
      "|  count|                15|               15|                 15|               15|                15|\n",
      "|   mean|123.53333333333333|402.3333333333333|  5.933333333333334|322.1333333333333|               1.0|\n",
      "| stddev|330.18217193947146|1517.073765353488| 2.1201976547572383|863.0848217433843|2.4784787961282104|\n",
      "|    min|                 7|                0|                  2|                1|                 0|\n",
      "|    max|              1293|             5886|                 11|             3409|                 8|\n",
      "+-------+------------------+-----------------+-------------------+-----------------+------------------+\n",
      "\n"
     ]
    }
   ],
   "source": [
    "df['review_count','useful','yelping_since_years','friends_count','elite_count'].describe().show()\n",
    "\n",
    "#new = first_five.rdd.map(lambda x: (x[0],x[1],x[2]))"
   ]
  },
  {
   "cell_type": "code",
   "execution_count": 39,
   "metadata": {},
   "outputs": [],
   "source": [
    "normalized_rdd = df.rdd.map(lambda x: (x[0],((x[1] - 14.3)/9.01),((x[2] - 6.73)/26.08),((x[3] - 105.07)/401.95),\n",
    "                              ((x[4] - 63.27)/243.1),((x[5] - 7.53)/29.18),((x[6] - 7.4)/27.04),((x[7] - 56.4)/213.76),\n",
    "                              ((x[8] - 75.13)/289.61),((x[9] - 53.54)/201.84),((x[10] - 7.2)/27.34),((x[11] - 42.93)/163.26),\n",
    "                              ((x[12] - 388.4)/1488.79),((x[13] - 45.6)/170.02),((x[14] - 390.2)/1500.73),\n",
    "                              ((x[15] - 123.53)/330.18),((x[16] - 402.33)/1517.07),((x[17] - 5.93)/2.12),\n",
    "                              ((x[18] - 322.13)/863.08), ((x[19] - 1.0)/2.48)))"
   ]
  },
  {
   "cell_type": "code",
   "execution_count": 41,
   "metadata": {},
   "outputs": [],
   "source": [
    "first_user = normalized_rdd.first()\n",
    "filtered_norm_users = normalized_rdd.filter(lambda x: x != first_user)"
   ]
  },
  {
   "cell_type": "code",
   "execution_count": 48,
   "metadata": {},
   "outputs": [],
   "source": [
    "#first_user"
   ]
  },
  {
   "cell_type": "code",
   "execution_count": 43,
   "metadata": {},
   "outputs": [],
   "source": [
    "import math\n",
    "\n",
    "def cosine_sim(user):\n",
    "    user = list(user)\n",
    "    num = 0\n",
    "    den1 = 0\n",
    "    den2 = 0\n",
    "    for i in range(1,len(user)):\n",
    "        num += user[i] * first_user[i]\n",
    "        den1 += user[i] * user[i]\n",
    "        den2 += first_user[i] * first_user[i]\n",
    "    den1 = math.sqrt(den1)\n",
    "    den2 = math.sqrt(den2)\n",
    "    cos_sim = num / float(den1 * den2)\n",
    "    return cos_sim\n",
    "\n",
    "corr = filtered_norm_users.map(lambda x : (x[0], cosine_sim(x)))"
   ]
  },
  {
   "cell_type": "code",
   "execution_count": 46,
   "metadata": {},
   "outputs": [
    {
     "data": {
      "text/plain": [
       "[(u'46wwNRiBGIAJuPlk8TOP_g', 0.9980377108593387),\n",
       " (u'1Q-tjPYDBaFZJouj8Ynl2g', 0.9979256248942056),\n",
       " (u'2OtKt_7AZkfPXioU317R7g', 0.9952932215548542),\n",
       " (u'3g-2-nE22LxldS3Rx5IzNg', 0.987455788787846),\n",
       " (u'1jtr65gmv4A3uqCDaaXcxQ', 0.9848218182586048),\n",
       " (u'3iybu6gnFbiJW3kskPl8-Q', 0.9614866079710036),\n",
       " (u'0JaDPuKP812uXA6VIDMPZA', 0.8027076957545067),\n",
       " (u'2zqSXXGVGmTWZ86mAq-69w', 0.7362731521937882),\n",
       " (u'3pMczoCBOSKBcqMhVim3ow', 0.7255219910612999),\n",
       " (u'4ZfcCa4m5RWvO4EFzfYm1A', 0.5621999679286984),\n",
       " (u'1M5EuCw_7tJjJVmmnLmR9g', 0.2283144326188378),\n",
       " (u'-inp099-1gsJF3KPaS-mbg', 0.16045897468392017),\n",
       " (u'3UA89mI2pN2KphXN3QXPIQ', 0.1412629208658512),\n",
       " (u'3qz_dfwbFwTQeDRzy46G8A', 0.02091567642927863)]"
      ]
     },
     "execution_count": 46,
     "metadata": {},
     "output_type": "execute_result"
    }
   ],
   "source": [
    "corr.sortBy(lambda x: -x[1]).collect()"
   ]
  },
  {
   "cell_type": "code",
   "execution_count": null,
   "metadata": {},
   "outputs": [],
   "source": []
  }
 ],
 "metadata": {
  "kernelspec": {
   "display_name": "Python 2",
   "language": "python",
   "name": "python2"
  },
  "language_info": {
   "codemirror_mode": {
    "name": "ipython",
    "version": 2
   },
   "file_extension": ".py",
   "mimetype": "text/x-python",
   "name": "python",
   "nbconvert_exporter": "python",
   "pygments_lexer": "ipython2",
   "version": "2.7.15"
  }
 },
 "nbformat": 4,
 "nbformat_minor": 2
}
