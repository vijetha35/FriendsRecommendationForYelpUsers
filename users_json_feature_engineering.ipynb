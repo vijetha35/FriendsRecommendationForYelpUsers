{
 "cells": [
  {
   "cell_type": "code",
   "execution_count": 67,
   "metadata": {},
   "outputs": [
    {
     "ename": "ValueError",
     "evalue": "Cannot run multiple SparkContexts at once; existing SparkContext(app=pyspark-shell, master=local[*]) created by __init__ at <ipython-input-1-f4c2851cfeba>:5 ",
     "output_type": "error",
     "traceback": [
      "\u001b[0;31m---------------------------------------------------------------------------\u001b[0m",
      "\u001b[0;31mValueError\u001b[0m                                Traceback (most recent call last)",
      "\u001b[0;32m<ipython-input-67-f4c2851cfeba>\u001b[0m in \u001b[0;36m<module>\u001b[0;34m()\u001b[0m\n\u001b[1;32m      3\u001b[0m \u001b[0;32mfrom\u001b[0m \u001b[0mpyspark\u001b[0m\u001b[0;34m.\u001b[0m\u001b[0msql\u001b[0m\u001b[0;34m.\u001b[0m\u001b[0mfunctions\u001b[0m \u001b[0;32mimport\u001b[0m \u001b[0mcol\u001b[0m\u001b[0;34m,\u001b[0m \u001b[0msplit\u001b[0m\u001b[0;34m\u001b[0m\u001b[0m\n\u001b[1;32m      4\u001b[0m \u001b[0;34m\u001b[0m\u001b[0m\n\u001b[0;32m----> 5\u001b[0;31m \u001b[0msc\u001b[0m \u001b[0;34m=\u001b[0m \u001b[0mpyspark\u001b[0m\u001b[0;34m.\u001b[0m\u001b[0mSparkContext\u001b[0m\u001b[0;34m(\u001b[0m\u001b[0;34m'local[*]'\u001b[0m\u001b[0;34m)\u001b[0m\u001b[0;34m\u001b[0m\u001b[0m\n\u001b[0m\u001b[1;32m      6\u001b[0m \u001b[0;34m\u001b[0m\u001b[0m\n\u001b[1;32m      7\u001b[0m \u001b[0msqlContext\u001b[0m \u001b[0;34m=\u001b[0m \u001b[0mSQLContext\u001b[0m\u001b[0;34m(\u001b[0m\u001b[0msc\u001b[0m\u001b[0;34m)\u001b[0m\u001b[0;34m\u001b[0m\u001b[0m\n",
      "\u001b[0;32m/Users/shravya/data_mining/assignment/hw1/spark-2.3.1-bin-hadoop2.7/python/pyspark/context.pyc\u001b[0m in \u001b[0;36m__init__\u001b[0;34m(self, master, appName, sparkHome, pyFiles, environment, batchSize, serializer, conf, gateway, jsc, profiler_cls)\u001b[0m\n\u001b[1;32m    113\u001b[0m         \"\"\"\n\u001b[1;32m    114\u001b[0m         \u001b[0mself\u001b[0m\u001b[0;34m.\u001b[0m\u001b[0m_callsite\u001b[0m \u001b[0;34m=\u001b[0m \u001b[0mfirst_spark_call\u001b[0m\u001b[0;34m(\u001b[0m\u001b[0;34m)\u001b[0m \u001b[0;32mor\u001b[0m \u001b[0mCallSite\u001b[0m\u001b[0;34m(\u001b[0m\u001b[0mNone\u001b[0m\u001b[0;34m,\u001b[0m \u001b[0mNone\u001b[0m\u001b[0;34m,\u001b[0m \u001b[0mNone\u001b[0m\u001b[0;34m)\u001b[0m\u001b[0;34m\u001b[0m\u001b[0m\n\u001b[0;32m--> 115\u001b[0;31m         \u001b[0mSparkContext\u001b[0m\u001b[0;34m.\u001b[0m\u001b[0m_ensure_initialized\u001b[0m\u001b[0;34m(\u001b[0m\u001b[0mself\u001b[0m\u001b[0;34m,\u001b[0m \u001b[0mgateway\u001b[0m\u001b[0;34m=\u001b[0m\u001b[0mgateway\u001b[0m\u001b[0;34m,\u001b[0m \u001b[0mconf\u001b[0m\u001b[0;34m=\u001b[0m\u001b[0mconf\u001b[0m\u001b[0;34m)\u001b[0m\u001b[0;34m\u001b[0m\u001b[0m\n\u001b[0m\u001b[1;32m    116\u001b[0m         \u001b[0;32mtry\u001b[0m\u001b[0;34m:\u001b[0m\u001b[0;34m\u001b[0m\u001b[0m\n\u001b[1;32m    117\u001b[0m             self._do_init(master, appName, sparkHome, pyFiles, environment, batchSize, serializer,\n",
      "\u001b[0;32m/Users/shravya/data_mining/assignment/hw1/spark-2.3.1-bin-hadoop2.7/python/pyspark/context.pyc\u001b[0m in \u001b[0;36m_ensure_initialized\u001b[0;34m(cls, instance, gateway, conf)\u001b[0m\n\u001b[1;32m    306\u001b[0m                         \u001b[0;34m\" created by %s at %s:%s \"\u001b[0m\u001b[0;34m\u001b[0m\u001b[0m\n\u001b[1;32m    307\u001b[0m                         % (currentAppName, currentMaster,\n\u001b[0;32m--> 308\u001b[0;31m                             callsite.function, callsite.file, callsite.linenum))\n\u001b[0m\u001b[1;32m    309\u001b[0m                 \u001b[0;32melse\u001b[0m\u001b[0;34m:\u001b[0m\u001b[0;34m\u001b[0m\u001b[0m\n\u001b[1;32m    310\u001b[0m                     \u001b[0mSparkContext\u001b[0m\u001b[0;34m.\u001b[0m\u001b[0m_active_spark_context\u001b[0m \u001b[0;34m=\u001b[0m \u001b[0minstance\u001b[0m\u001b[0;34m\u001b[0m\u001b[0m\n",
      "\u001b[0;31mValueError\u001b[0m: Cannot run multiple SparkContexts at once; existing SparkContext(app=pyspark-shell, master=local[*]) created by __init__ at <ipython-input-1-f4c2851cfeba>:5 "
     ]
    }
   ],
   "source": [
    "import pyspark\n",
    "from pyspark.sql import SQLContext\n",
    "from pyspark.sql.functions import col, split\n",
    "\n",
    "sc = pyspark.SparkContext('local[*]')\n",
    "\n",
    "sqlContext = SQLContext(sc)\n",
    "df = sqlContext.read.format('com.databricks.spark.csv').options(header='true', inferschema='true').load('users_from_arizona.csv')\n"
   ]
  },
  {
   "cell_type": "code",
   "execution_count": 68,
   "metadata": {},
   "outputs": [
    {
     "name": "stdout",
     "output_type": "stream",
     "text": [
      "StructType(List(StructField(business_id,StringType,true),StructField(cool,LongType,true),StructField(date,StringType,true),StructField(funny,LongType,true),StructField(review_id,StringType,true),StructField(stars,LongType,true),StructField(text,StringType,true),StructField(useful,LongType,true),StructField(user_id,StringType,true)))\n"
     ]
    }
   ],
   "source": [
    "from pyspark.sql import SparkSession\n",
    "spark = SparkSession.builder.appName(\"Tip\").getOrCreate()\n",
    "\n",
    "#tip_df = spark.read.json('/Users/shravya/data_mining/project/yelp_dataset/yelp_academic_dataset_tip.json')\n",
    "reviews_df =spark.read.json('/Users/shravya/data_mining/project/yelp_dataset/yelp_academic_dataset_review.json')\n",
    "#business_df =spark.read.json('/Users/shravya/data_mining/project/yelp_dataset/yelp_academic_dataset_business.json')\n",
    "users_df =spark.read.json('/Users/shravya/data_mining/project/yelp_dataset/yelp_academic_dataset_user.json')\n",
    "#checkin_df =spark.read.json('/Users/shravya/data_mining/project/yelp_dataset/yelp_academic_dataset_checkin.json')\n",
    "\n",
    "print reviews_df.schema"
   ]
  },
  {
   "cell_type": "code",
   "execution_count": 69,
   "metadata": {},
   "outputs": [
    {
     "data": {
      "text/plain": [
       "[Row(stars=2, text_count=449, useful=0),\n",
       " Row(stars=5, text_count=317, useful=0),\n",
       " Row(stars=1, text_count=156, useful=3),\n",
       " Row(stars=2, text_count=901, useful=2),\n",
       " Row(stars=5, text_count=165, useful=0)]"
      ]
     },
     "execution_count": 69,
     "metadata": {},
     "output_type": "execute_result"
    }
   ],
   "source": [
    "from pyspark.sql.types import IntegerType\n",
    "from pyspark.sql.functions import udf\n",
    "\n",
    "size_ = udf(lambda xs: len(xs), IntegerType())\n",
    "newDf = reviews_df.select(col(\"stars\"), size_(col(\"text\")).alias(\"text_count\"), col(\"useful\"))\n",
    "newDf.head(5)\n"
   ]
  },
  {
   "cell_type": "code",
   "execution_count": 71,
   "metadata": {},
   "outputs": [
    {
     "data": {
      "text/plain": [
       "[Row(average_stars=3.89, compliment_cool=0, compliment_cute=0, compliment_funny=0, compliment_hot=0, compliment_list=0, compliment_more=0, compliment_note=0, compliment_photos=0, compliment_plain=0, compliment_profile=0, compliment_writer=0, cool=0, elite=u'None', fans=0, friends=u'YwaKGmRNnSa3R3N4Hf9jLw, NDjDKV7IWeqS_kvdlNS9zw, eArNPOynylyfcXxQqXag-g, 7NAKCkRMw8Qwke3BWOgE8A, syA7uYoDjohc7gWBWaEZmw, bvOicnFbku4B1mK12fIP6Q, wGcbKPOJYpnAB-Oi86_AtQ, ysvphNWLP0ZkXPOLrXw7Tg, gPnezUoB9AcxE_qeBR_Dsw, edJEj384w4_09sivk6VblA, rS91MRNTRGikL4_acEfdNQ, bMSePKFYwjslP18fFmeHnA, EOIrXIWKMFcdn_7CPBacDQ, SZTscGkXeemMSGz1hN369Q, 1H1Cn5utCE5jxI5BXfpxgw, qqx5YwBV8OlHlpU2yPFPnA, ZxYgNB6Nuj6R50gXewLw5w, OcpxS8U7evLWyfw1K2pwng, 3Ua7O424qU24smW7QcmFbw, sa4wUK8fbCLqiUq4rC0h9A, 4F0BijndBJDS0hQEmqfm_A, 44IPobgBDnZuFJoGD3LrUQ, ismGKdAF86dKAqMnrA9ehw, alUUlKTAKiNh-32E7k22eQ, RYkinABdGJ2t0zIEvyMtkg, Y9oNrUa4jWjAVVgDeEf43w, 9clBVewke08oNI85nZWqEg, R47JPwtASV1o6OOAkeyNPw, KcwRRhds7XQxYeWxVp4Azw, F4oZPZacaqhlXUDQl4xBHQ, Uwt1-D5elADZQcrMc1vrUw, y11itP1bR1vOPQO_AWtDdg, vpqgTC91x4LdXWtwlkMNXA, L4uxvvEuc146Qo8wRipp6Q, shYLM4g_3C5LU4Jb7KW0eQ, PmTaA51J5EItUIST-PGCgA, EEwZgv8HU54yu-uFQ8RLEw, 5DuZbOCtUECYoWX7HPfMoA, NsuHPkhUQDht1_JBBu1gtQ, lUTdfcu2YMGuYuvBv1aoNw, JKONHsq59h7haSOafAw8Pw, cf5MBGjn-oNlvDIE7lC7wA, 6BLQWXu_1Ab5MyHpIBdPXw, XdLQep9R3V7EHwW2fjgK-g, 9XQZ3rBx7IgsUZkvY-6X-w, 8knws-sivtjAnrdbXSy5Jg, 686rS4I2WN3fLIeO31CwdQ, BsOHtPtVWsPj3cfJJJShtA, p3OjUSV9ueh33BkZHhVlhQ, ZgtZoGSo9JqS0a5C8xrl2A, mFe__wm3YmrUKmBTDHqE7A, LOZTPW1E6bb2iyATrEP7hw, U50S7xOcJ3R007HnLme2oA, 2wu9uDIDJxrz4RuKo99KDw, EX0-svXSfdwDyWCDuH-2yA, itWMQYbL5UVccVHgTrMloQ, lRHKneipYlS2D87Qz-16aA, yP6Ubn-tRtmJWnyxOfyCbQ, QZleAB0LVYrim9kT8liFLg, crFFYb94H7LHwl75VQMqhw, l1BRmIVQqvzHS7G0Txo01A, yGii2g8t_Ozznr-Qzh2kHw, VIEmJc9r5bGg3OOJiZTZiw, jG0JWOmHLTdEg65TvqtrqQ, 2JDxKJRvkeePPOMy4k8q3g, oRB5MHOl3Elh7DZqm4_htQ, SQVq_HoU4C4FNwDoU2HEqw, J9GsaMkJ0IPnqmDM1iBlVA, p9P8B1cDy4svagBPuXsjUA, y8lWDU5yJetM4-4tObZY-w, RKxrUwZsW2Tm_4BiACvQUw, bzUGParP-Ni0R4jaCgtLmg, pTFH0iIHOtytKGlAxUlm3A, LTmt7jG8_LI5BHUnmAfl2w, hUNHMxt_5B5x8vN7TwXVDw, TnObNPw4-Yj_9vJ6LyiUog, sFrEFoAMUg4IaCqDxFCtCg, n4TZSTUWKfKNsFHMxpAtOQ, 9pbzuhA56lf7waTdh7Yyeg, _CoXUxu-hyx18k6COX-TkQ, LGiWb-5i-Sy138BovnBuFA, ddw3f2HvJpBfJXtYWNIGsg, bvTHByyhpmH3Vp4Nrk1sNw, --iNdHx-d8k8GXYTFxPvKg, kKyx3G4I2ejhLFcXKVZaUw, ZF-1QU2jweLa59a5gYQptA, UZd_TFUcSgO0gRzLPZ8eIg, 0MHru-F6FwqHsZKsuZ90xA, wlVV8Nv2fKtUJzPqrKHmKg, Q8gGSIRekib09y_tmxiKvw, 2EZWKjv9Jj9wpGHD-1XXcA, qRVhPlSg2IpgA49_U-UK5g, bh8Tji4pyXx-kgL5Xl0Tfw, FbaJ4QOm6pJH_8mfemnxcw, zm-s_qmf9frZ1BRBhjIzSA, 2jeUyneKVMVeuMCQfLwQfg, ABnWrv303wCbVQMM0IbsrA', funny=0, name=u'Yolie', review_count=8, useful=6, user_id=u'B3xwUPXMlCb7_5IEDlq4Uw', yelping_since=u'2012-01-02'),\n",
       " Row(average_stars=4.25, compliment_cool=0, compliment_cute=0, compliment_funny=0, compliment_hot=0, compliment_list=0, compliment_more=0, compliment_note=0, compliment_photos=0, compliment_plain=0, compliment_profile=0, compliment_writer=0, cool=0, elite=u'None', fans=0, friends=u'PhZlPdJsoaEX2SWKPnfTvw', funny=1, name=u'Anthony', review_count=8, useful=1, user_id=u'Pc5vc0RuoCa8YU6hD-y3Ow', yelping_since=u'2009-04-18'),\n",
       " Row(average_stars=1.0, compliment_cool=0, compliment_cute=0, compliment_funny=0, compliment_hot=0, compliment_list=0, compliment_more=0, compliment_note=0, compliment_photos=0, compliment_plain=0, compliment_profile=0, compliment_writer=0, cool=0, elite=u'None', fans=0, friends=u'RVyNRipJXhEQko_eztWYyg, SaGyqyKgE06i7Kzi3rF5gA, fFLzv22ysXyCwvu3fYL9KQ, el0G07xxFAzsJW5kEHcAFw, hsWC3kV9SfnXfkCgRnie_g, IYseKQJkPo7-X4NvqsJttA, eLtPXPJ-SmQJq2x5JUUJeg, 4WYBQcGc3vXw7cfbUFVLjw, s-kqtvWyJzhXHaIt0uwufg, 7c9p46MngeLnyXdF3QIKCA, TX0Pu9PmgAzLUvJrexc9tQ, RJhDHkBRHYIoDyV2GqoUVg, SWtF3HSTvZtr-DYpKbhoow, dLTsoxRJtX4tu5y1tPf1Xg, tkVR3zWfLCJrzNXfEnp9nw, 8N29AVED7P9hHvM3NQk25g, -OkuJa7OvbqzCR3tM4NKYA, 1KA-KIBspOGunoe_WeWEvw, RvDC_CmXOdev3ZXRAvzMoQ, O4MMkFMWvFU8g0F0xz4cTQ, EVfLNawtP6ULyoo3VFHySw, RUwDBISkeZVJm3cCoaVGtw, ukNtaGypA7JGmEbRl6v-ZA, 0PbwusGaFv-ZMaIpTeK75w, U68VhTTsVjil9x1uWbTNnQ, EhJL2y0haFH1F3prnFrUHA, jZzaeuJwKqpzKByYO-IeyA, Wi9Ft_4xCNO8HeWbIvxFAQ, TV0P57VCShZkiRVdXh2XNQ, -8UzLBxjwivdgH-j3lH17Q, gRoj26zvTaQOWdRMHLgAMw, vCiRHIH8RPTdbbIQf5GRMA, 2qLa5CmPtconAzU8bSS0mg, s2Foj0vrfyYjHkHZ2HC91g, 8QPsgcaojwSA0SPMorj4WA, ff9673x7ssT74ozEEpfK_A, -GalKLUKnN--L3FKPRjltQ, mTQ6xy1bavcHnyDNKY7VTw, eYSjZg-nK8gH3dLR6cswEQ, _J__yuWW8Pr13bQB3hYy7w, OeMQPvXGo56C9dis53UZkA, 9MPikdsQDlvWCNJwTdMZNg, _9H-pMysl0bdeIMmSDttUg, ni4eCMNIbjdYAkFUM_Xw3g, DtPsjzdTfq6EHjHd-gjUdQ, vUZ30PZcxYV4sIBOTVNcVw, K_WZWRbgm5qjWLb-yfl_dw, jsmAQJJ9sHQNRvKQn_LbJg, uxk_w6wEEf-BgQWOaKFqVg, FdnNc_zBnz_wFExmqD7CVA, c1hWqDqUn3v95F2ITtV2TA, 8swKMwWr8ZsFPbKyY-kYIw, 7iffOr1bUWjLlOMXU9gNhw, XMi8jQGoKTbo3bpnDJMW7g, adccNwNG8Yolf-CyR0W-Og, -j31OGvNQYh8MzHa6VUxlQ, d3J59tf8haqb3RYbdLr4Qw, gNcHDTEYUiOB-GcpdEe09Q, i0okbMfHoRHx_gEfs8kNlw, UoQKJLqvJIN4s_yhA89W_A, oJnaG0IAmRji9BxKCk4MyQ, gWv15naBNmLJCY5OBpytdQ, KeU5_LYB76VG3KrKNNsX4w', funny=0, name=u'Tisharra', review_count=1, useful=2, user_id=u'dz1RKDdHziTy0uw7VtXeXQ', yelping_since=u'2015-01-08'),\n",
       " Row(average_stars=5.0, compliment_cool=0, compliment_cute=1, compliment_funny=0, compliment_hot=1, compliment_list=0, compliment_more=0, compliment_note=0, compliment_photos=0, compliment_plain=0, compliment_profile=0, compliment_writer=0, cool=1, elite=u'None', fans=0, friends=u'zudO7GgOaNbqlGDUhNQVgQ, gDy6k3AqlkcN4cEIkWnx_A, MnrQ-F2ROhy_utqxMqPvwQ, FvxKFy6N9_N-0E70oIjNhQ, 454B6XgX81gXMmR0CzG1bA, PHHBHfl3we1x4wMnYP5i2A, GRK_ujL4bH3Y2Bh_LKOTsQ, d32Pgwzo7xt3jFrqInZ4-g, 0Tw0hZ4Wi0rBAzwxE8vvAw, gMOB92qCnBO46CtdtgzRgw, ObPq6xiJ0Dm0BOHGCWqBeA, KJPJpfb5V7G49qWMKeWnmQ, k_DsKlu2zAX8_20p0nEdjw, vJ9_TkTG6jXmcReL2LE6TQ, zTdopcK9rn2Ub7_kbmzBYw, 9uTBgSzBPKLuUgC6KHgxTw, 8euCyEtOwwtPw_sJ2VEeRg, GZrHX0WzhiHn104MKkyLdw, bX0_kjpoNnXGa4bFQUCuYA, DskMAWgN9X2CGNX1WCSCMg, JwXwD_h9rJVINzRgQvO7Rw, WR9rSkLDL7epruIHSIurlQ, SJyaJNXZe7iyp_hJx75XKQ, QDNeYCCUrcNH9cTJPIAOIw, AH7JnMsQkgntNewkqHI7ww, nIIEEZcy0LLihBl4528X0A, JwMYA-8X-C5Emh_mC0Oe3A, LSQcCqkCWJRDc73CXPJy5w, -azkIejAHxNdzJ43Pke-MQ, OahhukD2J05LIrwpwoyZeA, 0iCrB76T7nZa7H_UDijLog, VCKv4Y56Qthsy4V3cKTX_Q', funny=0, name=u'Colleen', review_count=2, useful=0, user_id=u'6OmHL9dwt5RmKwhGFgjvAA', yelping_since=u'2011-01-17'),\n",
       " Row(average_stars=4.5, compliment_cool=0, compliment_cute=0, compliment_funny=0, compliment_hot=0, compliment_list=0, compliment_more=0, compliment_note=0, compliment_photos=0, compliment_plain=0, compliment_profile=0, compliment_writer=0, cool=1, elite=u'None', fans=0, friends=u'gMxSAPGVR-ubiG9wMUYSKg, WHy102b0fS_UTwmYFoNBHQ, 9npOcP9p3UyQD4iXtXEXuA, e5vurPnxdqpG3-ROi1SdjA, cLdKgHE2_rZlGprE2zRwMA, JyWjokEzmdW6w5e8xizpLw, SY-hmCyiAOSHwFo-NwOvrg, 1GDRgm2VY8t1Ofwgl8zPRA, oOvfXv-rkjZs-xWjsYJapQ, vTzJsg2HarN-NoXk1HLoGg, oktohqIGhMQxOP7h5ugHlg, WPN6xDHq2ksd9bNCOu7Jag, OaHLT_UMtNbhpTooX0qVpg, MjIrcDSRAFZnnLym4aT5MA, 2-gMqp9WnP-0bQbdLaL6nA, x0nAEjrCOtZtqkiA_u_jVg, FFNuFgqSiEdYpjkCQZBSzQ, w0bBIpFAmfw-l_lQfTjIBQ, tMxT5Ih7LmjjAAuBVAE4Rg, QxbGLPIDFUSyyqfv8CA7Rw, Yz90p1tkfWpZSFOmEe14Cw, OIobezHG4_6vlzGEN9Oq4Q, m_Rxl0H8K0MYtPWYaaOeOA, j7YvG_xFhQS7TBLY4dUxkg, fJnoXl1BE7qK7JKtm3Et0Q, dEZguCIbZci7ALFP5YXzig, gMeY1fVHY3TWBGoVV2bIuw, m78HGuo_4CU6DXCq987x9g, 2DvCShlt9ruEQymBoI1c8Q, UwlIBKrWTGGmCuCw7clNYQ, NvrSm770B8hjLai5wgYZ_w, waEcICj7noKoRgBE9n68_w, y6e2hWoGhITqiEYVCHtb9g, katWyceENWvFlssMusU_hg, AA20U2xCrUjrSp9Wncll0A, 41QSrc2DrOM5oRqsh0YyRg, zGGArx7EV6pTkSBngHld2w, Ww1EosnqX_NQ_tJKYSFOww, ZFxqssKvXekJQdtIDh4x4w, Uxo6vbOLUKtN5AHEYJckRQ, AEQJOYL7qebf1sj5pjdh0g, 1btivP9Z0uphJzmgoCDJbg, rdmOeJ69vzxsBRN6XV5Dhg, pmLT4jeh_kFM5WG653Pz-g, -CP5VWi76TPiCMN42YP2nA, p5iQCa1lhdZKHfQMzJo88g, he3Qj7NVrHD5SpjDnqoQ1w', funny=0, name=u'Aaron', review_count=5, useful=4, user_id=u'tGbVIKlZAPGrt3VjTn7gRA', yelping_since=u'2013-04-26')]"
      ]
     },
     "execution_count": 71,
     "metadata": {},
     "output_type": "execute_result"
    }
   ],
   "source": [
    "users_df = users_df.filter(col('friends') != 'None')\n",
    "users_df.head(5)"
   ]
  },
  {
   "cell_type": "code",
   "execution_count": 72,
   "metadata": {},
   "outputs": [
    {
     "name": "stdout",
     "output_type": "stream",
     "text": [
      "StructType(List(StructField(stars,LongType,true),StructField(text_count,IntegerType,true),StructField(useful,LongType,true)))\n"
     ]
    },
    {
     "data": {
      "text/plain": [
       "-0.19298746326688193"
      ]
     },
     "execution_count": 72,
     "metadata": {},
     "output_type": "execute_result"
    }
   ],
   "source": [
    "print newDf.schema\n",
    "newDf.stat.corr(str('text_count'),str('stars'))"
   ]
  },
  {
   "cell_type": "code",
   "execution_count": 73,
   "metadata": {},
   "outputs": [
    {
     "data": {
      "text/plain": [
       "0.557153081527723"
      ]
     },
     "execution_count": 73,
     "metadata": {},
     "output_type": "execute_result"
    }
   ],
   "source": [
    "users_df.stat.corr(str('review_count'), str('fans'))"
   ]
  },
  {
   "cell_type": "code",
   "execution_count": 74,
   "metadata": {},
   "outputs": [
    {
     "data": {
      "text/plain": [
       "-0.002956915413456407"
      ]
     },
     "execution_count": 74,
     "metadata": {},
     "output_type": "execute_result"
    }
   ],
   "source": [
    "users_df.stat.corr(str('review_count'), str('average_stars'))"
   ]
  },
  {
   "cell_type": "code",
   "execution_count": null,
   "metadata": {},
   "outputs": [],
   "source": [
    "users_df.stat.corr(str('average_stars'), str('fans'))"
   ]
  },
  {
   "cell_type": "code",
   "execution_count": null,
   "metadata": {},
   "outputs": [],
   "source": [
    "users_df = users_df.withColumn(\"year\", split(col('yelping_since'),\"-\")[0])\n",
    "users_df.head(5)"
   ]
  },
  {
   "cell_type": "code",
   "execution_count": null,
   "metadata": {},
   "outputs": [],
   "source": [
    "from pyspark.sql.types import *\n",
    "import pyspark.sql.functions as funcs\n",
    "import datetime\n",
    "\n",
    "users_df = users_df.withColumn('yelping_since_year', (2018 - funcs.col(\"year\")))\n",
    "users_df.head(1)"
   ]
  },
  {
   "cell_type": "code",
   "execution_count": null,
   "metadata": {},
   "outputs": [],
   "source": [
    "users_df.head(1)\n"
   ]
  },
  {
   "cell_type": "code",
   "execution_count": null,
   "metadata": {},
   "outputs": [],
   "source": [
    "#users_df = users_df.withColumn(split(col(\"friends\"), \",\\s*\").alias(\"friends\"))\n",
    "users_df = users_df.withColumn(\"friends_count\",size(split(col(\"friends\"), \",\\s*\")))\n",
    "users_df = users_df.withColumn(\"elite_count\",size(split(col(\"elite\"), \",\\s*\")))\n",
    "users_df.head(1)"
   ]
  },
  {
   "cell_type": "code",
   "execution_count": null,
   "metadata": {},
   "outputs": [],
   "source": [
    "\n",
    "from pyspark.sql.functions import size\n",
    "\n",
    "users_df = users_df.select(col('review_count'),col('average_stars'),col('fans'),\n",
    "                              col('yelping_since_year'), col('friends_count'), col('elite_count'))\n",
    "users_df.head(1)"
   ]
  },
  {
   "cell_type": "code",
   "execution_count": null,
   "metadata": {},
   "outputs": [],
   "source": [
    "users_df = users_df.filter(col('friends') != 'None')"
   ]
  },
  {
   "cell_type": "code",
   "execution_count": null,
   "metadata": {},
   "outputs": [],
   "source": []
  }
 ],
 "metadata": {
  "kernelspec": {
   "display_name": "Python 2",
   "language": "python",
   "name": "python2"
  },
  "language_info": {
   "codemirror_mode": {
    "name": "ipython",
    "version": 2
   },
   "file_extension": ".py",
   "mimetype": "text/x-python",
   "name": "python",
   "nbconvert_exporter": "python",
   "pygments_lexer": "ipython2",
   "version": "2.7.15"
  }
 },
 "nbformat": 4,
 "nbformat_minor": 2
}
